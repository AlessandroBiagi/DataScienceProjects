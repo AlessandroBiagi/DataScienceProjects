{
 "cells": [
  {
   "cell_type": "code",
   "execution_count": 92,
   "metadata": {},
   "outputs": [],
   "source": [
    "# We import some custom functions\n",
    "from custom_functions import *\n",
    "\n",
    "# We import the libraries\n",
    "import pandas as pd\n",
    "import pickle\n",
    "from sklearn.model_selection import StratifiedKFold, train_test_split"
   ]
  },
  {
   "cell_type": "code",
   "execution_count": 2,
   "metadata": {},
   "outputs": [],
   "source": [
    "df_original = pd.read_csv('sales_train.csv')"
   ]
  },
  {
   "cell_type": "code",
   "execution_count": 3,
   "metadata": {},
   "outputs": [
    {
     "data": {
      "text/plain": [
       "(2935849, 6)"
      ]
     },
     "execution_count": 3,
     "metadata": {},
     "output_type": "execute_result"
    }
   ],
   "source": [
    "df_original.shape"
   ]
  },
  {
   "cell_type": "code",
   "execution_count": 4,
   "metadata": {},
   "outputs": [
    {
     "data": {
      "text/html": [
       "<div>\n",
       "<style scoped>\n",
       "    .dataframe tbody tr th:only-of-type {\n",
       "        vertical-align: middle;\n",
       "    }\n",
       "\n",
       "    .dataframe tbody tr th {\n",
       "        vertical-align: top;\n",
       "    }\n",
       "\n",
       "    .dataframe thead th {\n",
       "        text-align: right;\n",
       "    }\n",
       "</style>\n",
       "<table border=\"1\" class=\"dataframe\">\n",
       "  <thead>\n",
       "    <tr style=\"text-align: right;\">\n",
       "      <th></th>\n",
       "      <th>date</th>\n",
       "      <th>date_block_num</th>\n",
       "      <th>shop_id</th>\n",
       "      <th>item_id</th>\n",
       "      <th>item_price</th>\n",
       "      <th>item_cnt_day</th>\n",
       "    </tr>\n",
       "  </thead>\n",
       "  <tbody>\n",
       "    <tr>\n",
       "      <th>0</th>\n",
       "      <td>02.01.2013</td>\n",
       "      <td>0</td>\n",
       "      <td>59</td>\n",
       "      <td>22154</td>\n",
       "      <td>999.00</td>\n",
       "      <td>1.0</td>\n",
       "    </tr>\n",
       "    <tr>\n",
       "      <th>1</th>\n",
       "      <td>03.01.2013</td>\n",
       "      <td>0</td>\n",
       "      <td>25</td>\n",
       "      <td>2552</td>\n",
       "      <td>899.00</td>\n",
       "      <td>1.0</td>\n",
       "    </tr>\n",
       "    <tr>\n",
       "      <th>2</th>\n",
       "      <td>05.01.2013</td>\n",
       "      <td>0</td>\n",
       "      <td>25</td>\n",
       "      <td>2552</td>\n",
       "      <td>899.00</td>\n",
       "      <td>-1.0</td>\n",
       "    </tr>\n",
       "    <tr>\n",
       "      <th>3</th>\n",
       "      <td>06.01.2013</td>\n",
       "      <td>0</td>\n",
       "      <td>25</td>\n",
       "      <td>2554</td>\n",
       "      <td>1709.05</td>\n",
       "      <td>1.0</td>\n",
       "    </tr>\n",
       "    <tr>\n",
       "      <th>4</th>\n",
       "      <td>15.01.2013</td>\n",
       "      <td>0</td>\n",
       "      <td>25</td>\n",
       "      <td>2555</td>\n",
       "      <td>1099.00</td>\n",
       "      <td>1.0</td>\n",
       "    </tr>\n",
       "  </tbody>\n",
       "</table>\n",
       "</div>"
      ],
      "text/plain": [
       "         date  date_block_num  shop_id  item_id  item_price  item_cnt_day\n",
       "0  02.01.2013               0       59    22154      999.00           1.0\n",
       "1  03.01.2013               0       25     2552      899.00           1.0\n",
       "2  05.01.2013               0       25     2552      899.00          -1.0\n",
       "3  06.01.2013               0       25     2554     1709.05           1.0\n",
       "4  15.01.2013               0       25     2555     1099.00           1.0"
      ]
     },
     "execution_count": 4,
     "metadata": {},
     "output_type": "execute_result"
    }
   ],
   "source": [
    "df_original.head()"
   ]
  },
  {
   "cell_type": "markdown",
   "metadata": {},
   "source": [
    "# Merges"
   ]
  },
  {
   "cell_type": "markdown",
   "metadata": {},
   "source": [
    "To recover all the useful information, we merge the fact table **sales_train** with the other dimensions"
   ]
  },
  {
   "cell_type": "code",
   "execution_count": 5,
   "metadata": {},
   "outputs": [],
   "source": [
    "# We read all the dataframes\n",
    "df_sales = df_original.copy()"
   ]
  },
  {
   "cell_type": "code",
   "execution_count": 6,
   "metadata": {},
   "outputs": [],
   "source": [
    "df_shops = pd.read_csv('shops.csv')\n",
    "df_categories = pd.read_csv('item_categories.csv')\n",
    "df_items = pd.read_csv('items.csv')"
   ]
  },
  {
   "cell_type": "code",
   "execution_count": 7,
   "metadata": {},
   "outputs": [],
   "source": [
    "# We join the information between the categories and the items\n",
    "df_categories_items = df_categories.merge(df_items, how='left', left_on='item_category_id', right_on='item_category_id')"
   ]
  },
  {
   "cell_type": "code",
   "execution_count": 8,
   "metadata": {},
   "outputs": [],
   "source": [
    "# Firstly, we recover the information from the shops dimension, secondly from the categories and the items dimensions\n",
    "df = df_sales.merge(df_shops, how='left', left_on='shop_id', right_on='shop_id')\n",
    "df = df.merge(df_categories_items, how='left', left_on='item_id', right_on='item_id')"
   ]
  },
  {
   "cell_type": "code",
   "execution_count": 9,
   "metadata": {},
   "outputs": [
    {
     "data": {
      "text/html": [
       "<div>\n",
       "<style scoped>\n",
       "    .dataframe tbody tr th:only-of-type {\n",
       "        vertical-align: middle;\n",
       "    }\n",
       "\n",
       "    .dataframe tbody tr th {\n",
       "        vertical-align: top;\n",
       "    }\n",
       "\n",
       "    .dataframe thead th {\n",
       "        text-align: right;\n",
       "    }\n",
       "</style>\n",
       "<table border=\"1\" class=\"dataframe\">\n",
       "  <thead>\n",
       "    <tr style=\"text-align: right;\">\n",
       "      <th></th>\n",
       "      <th>date</th>\n",
       "      <th>date_block_num</th>\n",
       "      <th>shop_id</th>\n",
       "      <th>item_id</th>\n",
       "      <th>item_price</th>\n",
       "      <th>item_cnt_day</th>\n",
       "      <th>shop_name</th>\n",
       "      <th>item_category_name</th>\n",
       "      <th>item_category_id</th>\n",
       "      <th>item_name</th>\n",
       "    </tr>\n",
       "  </thead>\n",
       "  <tbody>\n",
       "    <tr>\n",
       "      <th>0</th>\n",
       "      <td>02.01.2013</td>\n",
       "      <td>0</td>\n",
       "      <td>59</td>\n",
       "      <td>22154</td>\n",
       "      <td>999.00</td>\n",
       "      <td>1.0</td>\n",
       "      <td>Ярославль ТЦ \"Альтаир\"</td>\n",
       "      <td>Кино - Blu-Ray</td>\n",
       "      <td>37</td>\n",
       "      <td>ЯВЛЕНИЕ 2012 (BD)</td>\n",
       "    </tr>\n",
       "    <tr>\n",
       "      <th>1</th>\n",
       "      <td>03.01.2013</td>\n",
       "      <td>0</td>\n",
       "      <td>25</td>\n",
       "      <td>2552</td>\n",
       "      <td>899.00</td>\n",
       "      <td>1.0</td>\n",
       "      <td>Москва ТРК \"Атриум\"</td>\n",
       "      <td>Музыка - Винил</td>\n",
       "      <td>58</td>\n",
       "      <td>DEEP PURPLE  The House Of Blue Light  LP</td>\n",
       "    </tr>\n",
       "    <tr>\n",
       "      <th>2</th>\n",
       "      <td>05.01.2013</td>\n",
       "      <td>0</td>\n",
       "      <td>25</td>\n",
       "      <td>2552</td>\n",
       "      <td>899.00</td>\n",
       "      <td>-1.0</td>\n",
       "      <td>Москва ТРК \"Атриум\"</td>\n",
       "      <td>Музыка - Винил</td>\n",
       "      <td>58</td>\n",
       "      <td>DEEP PURPLE  The House Of Blue Light  LP</td>\n",
       "    </tr>\n",
       "    <tr>\n",
       "      <th>3</th>\n",
       "      <td>06.01.2013</td>\n",
       "      <td>0</td>\n",
       "      <td>25</td>\n",
       "      <td>2554</td>\n",
       "      <td>1709.05</td>\n",
       "      <td>1.0</td>\n",
       "      <td>Москва ТРК \"Атриум\"</td>\n",
       "      <td>Музыка - Винил</td>\n",
       "      <td>58</td>\n",
       "      <td>DEEP PURPLE  Who Do You Think We Are  LP</td>\n",
       "    </tr>\n",
       "    <tr>\n",
       "      <th>4</th>\n",
       "      <td>15.01.2013</td>\n",
       "      <td>0</td>\n",
       "      <td>25</td>\n",
       "      <td>2555</td>\n",
       "      <td>1099.00</td>\n",
       "      <td>1.0</td>\n",
       "      <td>Москва ТРК \"Атриум\"</td>\n",
       "      <td>Музыка - CD фирменного производства</td>\n",
       "      <td>56</td>\n",
       "      <td>DEEP PURPLE 30 Very Best Of 2CD (Фирм.)</td>\n",
       "    </tr>\n",
       "  </tbody>\n",
       "</table>\n",
       "</div>"
      ],
      "text/plain": [
       "         date  date_block_num  shop_id  item_id  item_price  item_cnt_day  \\\n",
       "0  02.01.2013               0       59    22154      999.00           1.0   \n",
       "1  03.01.2013               0       25     2552      899.00           1.0   \n",
       "2  05.01.2013               0       25     2552      899.00          -1.0   \n",
       "3  06.01.2013               0       25     2554     1709.05           1.0   \n",
       "4  15.01.2013               0       25     2555     1099.00           1.0   \n",
       "\n",
       "                shop_name                   item_category_name  \\\n",
       "0  Ярославль ТЦ \"Альтаир\"                       Кино - Blu-Ray   \n",
       "1     Москва ТРК \"Атриум\"                       Музыка - Винил   \n",
       "2     Москва ТРК \"Атриум\"                       Музыка - Винил   \n",
       "3     Москва ТРК \"Атриум\"                       Музыка - Винил   \n",
       "4     Москва ТРК \"Атриум\"  Музыка - CD фирменного производства   \n",
       "\n",
       "   item_category_id                                 item_name  \n",
       "0                37                         ЯВЛЕНИЕ 2012 (BD)  \n",
       "1                58  DEEP PURPLE  The House Of Blue Light  LP  \n",
       "2                58  DEEP PURPLE  The House Of Blue Light  LP  \n",
       "3                58  DEEP PURPLE  Who Do You Think We Are  LP  \n",
       "4                56   DEEP PURPLE 30 Very Best Of 2CD (Фирм.)  "
      ]
     },
     "execution_count": 9,
     "metadata": {},
     "output_type": "execute_result"
    }
   ],
   "source": [
    "df.head()"
   ]
  },
  {
   "cell_type": "code",
   "execution_count": 10,
   "metadata": {},
   "outputs": [],
   "source": [
    "df = df.drop_duplicates()"
   ]
  },
  {
   "cell_type": "code",
   "execution_count": 11,
   "metadata": {},
   "outputs": [
    {
     "data": {
      "text/plain": [
       "(2935843, 10)"
      ]
     },
     "execution_count": 11,
     "metadata": {},
     "output_type": "execute_result"
    }
   ],
   "source": [
    "df.shape"
   ]
  },
  {
   "cell_type": "markdown",
   "metadata": {},
   "source": [
    "Now that we have all the potential useful features for the fact table, we can start to explore it. Of course, we already observe that many descriptions are in Cyrillic, which is confusing"
   ]
  },
  {
   "cell_type": "markdown",
   "metadata": {},
   "source": [
    "# Exploratory Data Analysis I (EDA I)"
   ]
  },
  {
   "cell_type": "code",
   "execution_count": 12,
   "metadata": {},
   "outputs": [
    {
     "name": "stdout",
     "output_type": "stream",
     "text": [
      "<class 'pandas.core.frame.DataFrame'>\n",
      "Int64Index: 2935843 entries, 0 to 2935848\n",
      "Data columns (total 10 columns):\n",
      " #   Column              Dtype  \n",
      "---  ------              -----  \n",
      " 0   date                object \n",
      " 1   date_block_num      int64  \n",
      " 2   shop_id             int64  \n",
      " 3   item_id             int64  \n",
      " 4   item_price          float64\n",
      " 5   item_cnt_day        float64\n",
      " 6   shop_name           object \n",
      " 7   item_category_name  object \n",
      " 8   item_category_id    int64  \n",
      " 9   item_name           object \n",
      "dtypes: float64(2), int64(4), object(4)\n",
      "memory usage: 246.4+ MB\n"
     ]
    }
   ],
   "source": [
    "df.info()"
   ]
  },
  {
   "cell_type": "code",
   "execution_count": 13,
   "metadata": {},
   "outputs": [
    {
     "data": {
      "text/html": [
       "<div>\n",
       "<style scoped>\n",
       "    .dataframe tbody tr th:only-of-type {\n",
       "        vertical-align: middle;\n",
       "    }\n",
       "\n",
       "    .dataframe tbody tr th {\n",
       "        vertical-align: top;\n",
       "    }\n",
       "\n",
       "    .dataframe thead th {\n",
       "        text-align: right;\n",
       "    }\n",
       "</style>\n",
       "<table border=\"1\" class=\"dataframe\">\n",
       "  <thead>\n",
       "    <tr style=\"text-align: right;\">\n",
       "      <th></th>\n",
       "      <th>date_block_num</th>\n",
       "      <th>shop_id</th>\n",
       "      <th>item_id</th>\n",
       "      <th>item_price</th>\n",
       "      <th>item_cnt_day</th>\n",
       "      <th>item_category_id</th>\n",
       "    </tr>\n",
       "  </thead>\n",
       "  <tbody>\n",
       "    <tr>\n",
       "      <th>count</th>\n",
       "      <td>2.93584e+06</td>\n",
       "      <td>2.93584e+06</td>\n",
       "      <td>2.93584e+06</td>\n",
       "      <td>2.93584e+06</td>\n",
       "      <td>2.93584e+06</td>\n",
       "      <td>2.93584e+06</td>\n",
       "    </tr>\n",
       "    <tr>\n",
       "      <th>mean</th>\n",
       "      <td>14.5699</td>\n",
       "      <td>33.0017</td>\n",
       "      <td>10197.2</td>\n",
       "      <td>890.853</td>\n",
       "      <td>1.24264</td>\n",
       "      <td>40.0014</td>\n",
       "    </tr>\n",
       "    <tr>\n",
       "      <th>std</th>\n",
       "      <td>9.42299</td>\n",
       "      <td>16.227</td>\n",
       "      <td>6324.29</td>\n",
       "      <td>1729.8</td>\n",
       "      <td>2.61884</td>\n",
       "      <td>17.1008</td>\n",
       "    </tr>\n",
       "    <tr>\n",
       "      <th>min</th>\n",
       "      <td>0</td>\n",
       "      <td>0</td>\n",
       "      <td>0</td>\n",
       "      <td>-1</td>\n",
       "      <td>-22</td>\n",
       "      <td>0</td>\n",
       "    </tr>\n",
       "    <tr>\n",
       "      <th>25%</th>\n",
       "      <td>7</td>\n",
       "      <td>22</td>\n",
       "      <td>4476</td>\n",
       "      <td>249</td>\n",
       "      <td>1</td>\n",
       "      <td>28</td>\n",
       "    </tr>\n",
       "    <tr>\n",
       "      <th>50%</th>\n",
       "      <td>14</td>\n",
       "      <td>31</td>\n",
       "      <td>9343</td>\n",
       "      <td>399</td>\n",
       "      <td>1</td>\n",
       "      <td>40</td>\n",
       "    </tr>\n",
       "    <tr>\n",
       "      <th>75%</th>\n",
       "      <td>23</td>\n",
       "      <td>47</td>\n",
       "      <td>15684</td>\n",
       "      <td>999</td>\n",
       "      <td>1</td>\n",
       "      <td>55</td>\n",
       "    </tr>\n",
       "    <tr>\n",
       "      <th>max</th>\n",
       "      <td>33</td>\n",
       "      <td>59</td>\n",
       "      <td>22169</td>\n",
       "      <td>307980</td>\n",
       "      <td>2169</td>\n",
       "      <td>83</td>\n",
       "    </tr>\n",
       "  </tbody>\n",
       "</table>\n",
       "</div>"
      ],
      "text/plain": [
       "      date_block_num      shop_id      item_id   item_price item_cnt_day  \\\n",
       "count    2.93584e+06  2.93584e+06  2.93584e+06  2.93584e+06  2.93584e+06   \n",
       "mean         14.5699      33.0017      10197.2      890.853      1.24264   \n",
       "std          9.42299       16.227      6324.29       1729.8      2.61884   \n",
       "min                0            0            0           -1          -22   \n",
       "25%                7           22         4476          249            1   \n",
       "50%               14           31         9343          399            1   \n",
       "75%               23           47        15684          999            1   \n",
       "max               33           59        22169       307980         2169   \n",
       "\n",
       "      item_category_id  \n",
       "count      2.93584e+06  \n",
       "mean           40.0014  \n",
       "std            17.1008  \n",
       "min                  0  \n",
       "25%                 28  \n",
       "50%                 40  \n",
       "75%                 55  \n",
       "max                 83  "
      ]
     },
     "execution_count": 13,
     "metadata": {},
     "output_type": "execute_result"
    }
   ],
   "source": [
    "df.describe().apply(lambda s: s.apply(lambda x: format(x, 'g')))"
   ]
  },
  {
   "cell_type": "markdown",
   "metadata": {},
   "source": [
    "We take a look at the date column according to the description of date_block_num that we found on the Kaggle webpage"
   ]
  },
  {
   "cell_type": "code",
   "execution_count": 14,
   "metadata": {},
   "outputs": [
    {
     "data": {
      "text/plain": [
       "0         02.01.2013\n",
       "1         03.01.2013\n",
       "2         05.01.2013\n",
       "3         06.01.2013\n",
       "4         15.01.2013\n",
       "             ...    \n",
       "115685    19.01.2013\n",
       "115686    18.01.2013\n",
       "115687    26.01.2013\n",
       "115688    31.01.2013\n",
       "115689    07.01.2013\n",
       "Name: date, Length: 115689, dtype: object"
      ]
     },
     "execution_count": 14,
     "metadata": {},
     "output_type": "execute_result"
    }
   ],
   "source": [
    "df[df['date_block_num']==0]['date']"
   ]
  },
  {
   "cell_type": "code",
   "execution_count": 15,
   "metadata": {},
   "outputs": [
    {
     "data": {
      "text/plain": [
       "2882335    23.10.2015\n",
       "2882336    05.10.2015\n",
       "2882337    02.10.2015\n",
       "2882338    12.10.2015\n",
       "2882339    04.10.2015\n",
       "              ...    \n",
       "2935844    10.10.2015\n",
       "2935845    09.10.2015\n",
       "2935846    14.10.2015\n",
       "2935847    22.10.2015\n",
       "2935848    03.10.2015\n",
       "Name: date, Length: 53514, dtype: object"
      ]
     },
     "execution_count": 15,
     "metadata": {},
     "output_type": "execute_result"
    }
   ],
   "source": [
    "df[df['date_block_num']==33]['date']"
   ]
  },
  {
   "cell_type": "markdown",
   "metadata": {},
   "source": [
    "We also take a look at the item_price"
   ]
  },
  {
   "cell_type": "code",
   "execution_count": 16,
   "metadata": {},
   "outputs": [
    {
     "data": {
      "text/plain": [
       "1"
      ]
     },
     "execution_count": 16,
     "metadata": {},
     "output_type": "execute_result"
    }
   ],
   "source": [
    "len(df[df['item_price']==-1])"
   ]
  },
  {
   "cell_type": "code",
   "execution_count": 17,
   "metadata": {},
   "outputs": [],
   "source": [
    "value_counts_csv(df)"
   ]
  },
  {
   "cell_type": "code",
   "execution_count": 18,
   "metadata": {},
   "outputs": [],
   "source": [
    "count_nulls(df)"
   ]
  },
  {
   "cell_type": "code",
   "execution_count": 19,
   "metadata": {},
   "outputs": [],
   "source": [
    "cols_names = [col for col in df.columns if col not in ['shop_name', 'item_name', 'item_category_name']]\n",
    "hist_boxplot(df[cols_names])"
   ]
  },
  {
   "cell_type": "markdown",
   "metadata": {},
   "source": [
    "## - First Remarks and ideas for each column: individual features"
   ]
  },
  {
   "cell_type": "markdown",
   "metadata": {},
   "source": [
    "- First of all, there are **no null values** in this dataset"
   ]
  },
  {
   "cell_type": "markdown",
   "metadata": {},
   "source": [
    "- **date**: 34 consecutive possible months for each item. The minimum (month, year) is Octuber 2013 and the maximum is Octuber 2015.\n",
    "- **date_block_num**: minimum is 0 and maximum 33. By the definition of this column, this is strictly connected to the date column. We observe that for each value we can have a minimum of 50k items and a maximum of 143k\n",
    "- **shop_id**: there are 60 different shops with sales data. We observe that the number of observations per shop goes from 0.3k to 235k. This suggests that some particular shops are able to manage many products (maybe they are bigger shops actually)\n",
    "- **item_id**: we have 21807 different items. We observe that the item_id 20949 is more popular than the others by far. It is about the 1% of our observations\n",
    "- **item_price**: for sure, looking at the boxplot, it is evident that there are some outliers. Indeed the mean which is 890 is very different from the median (390) and moreover the maximum value is bigger than 300k. There is also an observation with price equal to -1 \n",
    "- **item_cnt_day**: almost the 90% of our observations has item_cnt_day equal to 1. Looking at the charts, we see that we have a lot of outliers and some negative values\n",
    "- **item_category_id**: we have 84 distinct categories. Among them, there are three much more popular than the others. The category_id 40 has almost the 20% of the total observations. \n",
    "- **shop_name**: all the names are in Cyrillic. We could think of translating them to English to get some insights. We have the feeling that the name of the shop always contains the name of the city\n",
    "- **item_name**: many names are in Cyrillic. Also in this case, we could think of translating them to English to get some insights"
   ]
  },
  {
   "cell_type": "markdown",
   "metadata": {},
   "source": [
    "# Feature Engineering I"
   ]
  },
  {
   "cell_type": "code",
   "execution_count": 20,
   "metadata": {},
   "outputs": [
    {
     "data": {
      "text/html": [
       "<div>\n",
       "<style scoped>\n",
       "    .dataframe tbody tr th:only-of-type {\n",
       "        vertical-align: middle;\n",
       "    }\n",
       "\n",
       "    .dataframe tbody tr th {\n",
       "        vertical-align: top;\n",
       "    }\n",
       "\n",
       "    .dataframe thead th {\n",
       "        text-align: right;\n",
       "    }\n",
       "</style>\n",
       "<table border=\"1\" class=\"dataframe\">\n",
       "  <thead>\n",
       "    <tr style=\"text-align: right;\">\n",
       "      <th></th>\n",
       "      <th>date</th>\n",
       "      <th>date_block_num</th>\n",
       "      <th>shop_id</th>\n",
       "      <th>item_id</th>\n",
       "      <th>item_price</th>\n",
       "      <th>item_cnt_day</th>\n",
       "      <th>shop_name</th>\n",
       "      <th>item_category_name</th>\n",
       "      <th>item_category_id</th>\n",
       "      <th>item_name</th>\n",
       "    </tr>\n",
       "  </thead>\n",
       "  <tbody>\n",
       "    <tr>\n",
       "      <th>484683</th>\n",
       "      <td>15.05.2013</td>\n",
       "      <td>4</td>\n",
       "      <td>32</td>\n",
       "      <td>2973</td>\n",
       "      <td>-1.0</td>\n",
       "      <td>1.0</td>\n",
       "      <td>Москва ТЦ \"Серебряный Дом\"</td>\n",
       "      <td>Игры - PS3</td>\n",
       "      <td>19</td>\n",
       "      <td>DmC Devil May Cry [PS3, русские субтитры]</td>\n",
       "    </tr>\n",
       "  </tbody>\n",
       "</table>\n",
       "</div>"
      ],
      "text/plain": [
       "              date  date_block_num  shop_id  item_id  item_price  \\\n",
       "484683  15.05.2013               4       32     2973        -1.0   \n",
       "\n",
       "        item_cnt_day                   shop_name item_category_name  \\\n",
       "484683           1.0  Москва ТЦ \"Серебряный Дом\"         Игры - PS3   \n",
       "\n",
       "        item_category_id                                  item_name  \n",
       "484683                19  DmC Devil May Cry [PS3, русские субтитры]  "
      ]
     },
     "execution_count": 20,
     "metadata": {},
     "output_type": "execute_result"
    }
   ],
   "source": [
    "# item_price with negative values\n",
    "df[df['item_price']<=0]"
   ]
  },
  {
   "cell_type": "markdown",
   "metadata": {},
   "source": [
    "- Luckily, it is just one raw in the entire dataset. Clearly it is an error due to the registration of the price on that day. We take a look at the prices for this item during other days in the same shop"
   ]
  },
  {
   "cell_type": "code",
   "execution_count": 21,
   "metadata": {},
   "outputs": [
    {
     "data": {
      "text/html": [
       "<div>\n",
       "<style scoped>\n",
       "    .dataframe tbody tr th:only-of-type {\n",
       "        vertical-align: middle;\n",
       "    }\n",
       "\n",
       "    .dataframe tbody tr th {\n",
       "        vertical-align: top;\n",
       "    }\n",
       "\n",
       "    .dataframe thead th {\n",
       "        text-align: right;\n",
       "    }\n",
       "</style>\n",
       "<table border=\"1\" class=\"dataframe\">\n",
       "  <thead>\n",
       "    <tr style=\"text-align: right;\">\n",
       "      <th></th>\n",
       "      <th>item_price</th>\n",
       "      <th>date</th>\n",
       "    </tr>\n",
       "  </thead>\n",
       "  <tbody>\n",
       "    <tr>\n",
       "      <th>67427</th>\n",
       "      <td>2499.0</td>\n",
       "      <td>29.01.2013</td>\n",
       "    </tr>\n",
       "    <tr>\n",
       "      <th>67428</th>\n",
       "      <td>2499.0</td>\n",
       "      <td>25.01.2013</td>\n",
       "    </tr>\n",
       "    <tr>\n",
       "      <th>67429</th>\n",
       "      <td>2499.0</td>\n",
       "      <td>22.01.2013</td>\n",
       "    </tr>\n",
       "    <tr>\n",
       "      <th>67430</th>\n",
       "      <td>2499.0</td>\n",
       "      <td>21.01.2013</td>\n",
       "    </tr>\n",
       "    <tr>\n",
       "      <th>67431</th>\n",
       "      <td>2499.0</td>\n",
       "      <td>18.01.2013</td>\n",
       "    </tr>\n",
       "    <tr>\n",
       "      <th>67432</th>\n",
       "      <td>2499.0</td>\n",
       "      <td>17.01.2013</td>\n",
       "    </tr>\n",
       "    <tr>\n",
       "      <th>67433</th>\n",
       "      <td>2499.0</td>\n",
       "      <td>15.01.2013</td>\n",
       "    </tr>\n",
       "    <tr>\n",
       "      <th>187844</th>\n",
       "      <td>2499.0</td>\n",
       "      <td>05.02.2013</td>\n",
       "    </tr>\n",
       "    <tr>\n",
       "      <th>187845</th>\n",
       "      <td>2499.0</td>\n",
       "      <td>14.02.2013</td>\n",
       "    </tr>\n",
       "    <tr>\n",
       "      <th>484682</th>\n",
       "      <td>1249.0</td>\n",
       "      <td>23.05.2013</td>\n",
       "    </tr>\n",
       "    <tr>\n",
       "      <th>484684</th>\n",
       "      <td>2499.0</td>\n",
       "      <td>06.05.2013</td>\n",
       "    </tr>\n",
       "    <tr>\n",
       "      <th>555026</th>\n",
       "      <td>1249.5</td>\n",
       "      <td>05.06.2013</td>\n",
       "    </tr>\n",
       "  </tbody>\n",
       "</table>\n",
       "</div>"
      ],
      "text/plain": [
       "        item_price        date\n",
       "67427       2499.0  29.01.2013\n",
       "67428       2499.0  25.01.2013\n",
       "67429       2499.0  22.01.2013\n",
       "67430       2499.0  21.01.2013\n",
       "67431       2499.0  18.01.2013\n",
       "67432       2499.0  17.01.2013\n",
       "67433       2499.0  15.01.2013\n",
       "187844      2499.0  05.02.2013\n",
       "187845      2499.0  14.02.2013\n",
       "484682      1249.0  23.05.2013\n",
       "484684      2499.0  06.05.2013\n",
       "555026      1249.5  05.06.2013"
      ]
     },
     "execution_count": 21,
     "metadata": {},
     "output_type": "execute_result"
    }
   ],
   "source": [
    "df[(df['item_id']==2973) & (df['shop_id']==32) & (df['item_price']>0)][['item_price', 'date']]"
   ]
  },
  {
   "cell_type": "markdown",
   "metadata": {},
   "source": [
    "- Only in two obcasions that price has been cutted at the half, probably for a special 50% discount\n",
    "- Since a discount like this seems to be as something very rare and special, we decide to replace the negative value with the full price"
   ]
  },
  {
   "cell_type": "code",
   "execution_count": 22,
   "metadata": {},
   "outputs": [],
   "source": [
    "df['item_price'] = np.where(df['item_price']==-1, \n",
    "                            2499.0, \n",
    "                            df['item_price'])"
   ]
  },
  {
   "cell_type": "code",
   "execution_count": 23,
   "metadata": {},
   "outputs": [
    {
     "data": {
      "text/html": [
       "<div>\n",
       "<style scoped>\n",
       "    .dataframe tbody tr th:only-of-type {\n",
       "        vertical-align: middle;\n",
       "    }\n",
       "\n",
       "    .dataframe tbody tr th {\n",
       "        vertical-align: top;\n",
       "    }\n",
       "\n",
       "    .dataframe thead th {\n",
       "        text-align: right;\n",
       "    }\n",
       "</style>\n",
       "<table border=\"1\" class=\"dataframe\">\n",
       "  <thead>\n",
       "    <tr style=\"text-align: right;\">\n",
       "      <th></th>\n",
       "      <th>date</th>\n",
       "      <th>date_block_num</th>\n",
       "      <th>shop_id</th>\n",
       "      <th>item_id</th>\n",
       "      <th>item_price</th>\n",
       "      <th>item_cnt_day</th>\n",
       "      <th>shop_name</th>\n",
       "      <th>item_category_name</th>\n",
       "      <th>item_category_id</th>\n",
       "      <th>item_name</th>\n",
       "    </tr>\n",
       "  </thead>\n",
       "  <tbody>\n",
       "    <tr>\n",
       "      <th>1163158</th>\n",
       "      <td>13.12.2013</td>\n",
       "      <td>11</td>\n",
       "      <td>12</td>\n",
       "      <td>6066</td>\n",
       "      <td>307980.0</td>\n",
       "      <td>1.0</td>\n",
       "      <td>Интернет-магазин ЧС</td>\n",
       "      <td>Программы - Для дома и офиса</td>\n",
       "      <td>75</td>\n",
       "      <td>Radmin 3  - 522 лиц.</td>\n",
       "    </tr>\n",
       "  </tbody>\n",
       "</table>\n",
       "</div>"
      ],
      "text/plain": [
       "               date  date_block_num  shop_id  item_id  item_price  \\\n",
       "1163158  13.12.2013              11       12     6066    307980.0   \n",
       "\n",
       "         item_cnt_day            shop_name            item_category_name  \\\n",
       "1163158           1.0  Интернет-магазин ЧС  Программы - Для дома и офиса   \n",
       "\n",
       "         item_category_id             item_name  \n",
       "1163158                75  Radmin 3  - 522 лиц.  "
      ]
     },
     "execution_count": 23,
     "metadata": {},
     "output_type": "execute_result"
    }
   ],
   "source": [
    "# item_price with outlier > 300k\n",
    "df[df['item_price']>300000]"
   ]
  },
  {
   "cell_type": "code",
   "execution_count": 24,
   "metadata": {},
   "outputs": [
    {
     "data": {
      "text/html": [
       "<div>\n",
       "<style scoped>\n",
       "    .dataframe tbody tr th:only-of-type {\n",
       "        vertical-align: middle;\n",
       "    }\n",
       "\n",
       "    .dataframe tbody tr th {\n",
       "        vertical-align: top;\n",
       "    }\n",
       "\n",
       "    .dataframe thead th {\n",
       "        text-align: right;\n",
       "    }\n",
       "</style>\n",
       "<table border=\"1\" class=\"dataframe\">\n",
       "  <thead>\n",
       "    <tr style=\"text-align: right;\">\n",
       "      <th></th>\n",
       "      <th>item_price</th>\n",
       "      <th>date</th>\n",
       "    </tr>\n",
       "  </thead>\n",
       "  <tbody>\n",
       "  </tbody>\n",
       "</table>\n",
       "</div>"
      ],
      "text/plain": [
       "Empty DataFrame\n",
       "Columns: [item_price, date]\n",
       "Index: []"
      ]
     },
     "execution_count": 24,
     "metadata": {},
     "output_type": "execute_result"
    }
   ],
   "source": [
    "df[(df['item_id']==6066) & (df['shop_id']==12) & (df['item_price']<300000)][['item_price', 'date']]"
   ]
  },
  {
   "cell_type": "code",
   "execution_count": 25,
   "metadata": {},
   "outputs": [
    {
     "data": {
      "text/html": [
       "<div>\n",
       "<style scoped>\n",
       "    .dataframe tbody tr th:only-of-type {\n",
       "        vertical-align: middle;\n",
       "    }\n",
       "\n",
       "    .dataframe tbody tr th {\n",
       "        vertical-align: top;\n",
       "    }\n",
       "\n",
       "    .dataframe thead th {\n",
       "        text-align: right;\n",
       "    }\n",
       "</style>\n",
       "<table border=\"1\" class=\"dataframe\">\n",
       "  <thead>\n",
       "    <tr style=\"text-align: right;\">\n",
       "      <th></th>\n",
       "      <th>item_price</th>\n",
       "      <th>date</th>\n",
       "    </tr>\n",
       "  </thead>\n",
       "  <tbody>\n",
       "  </tbody>\n",
       "</table>\n",
       "</div>"
      ],
      "text/plain": [
       "Empty DataFrame\n",
       "Columns: [item_price, date]\n",
       "Index: []"
      ]
     },
     "execution_count": 25,
     "metadata": {},
     "output_type": "execute_result"
    }
   ],
   "source": [
    "df[(df['item_id']==6066) & (df['item_price']<300000)][['item_price', 'date']]"
   ]
  },
  {
   "cell_type": "markdown",
   "metadata": {},
   "source": [
    "- This item has been sold in one shop only once with a price that seems to be not reasonable\n",
    "- Therefore, we proceed to eliminate this row from the dataset"
   ]
  },
  {
   "cell_type": "code",
   "execution_count": 26,
   "metadata": {},
   "outputs": [],
   "source": [
    "df = df[df['item_id'] != 6066]"
   ]
  },
  {
   "cell_type": "code",
   "execution_count": 27,
   "metadata": {},
   "outputs": [
    {
     "data": {
      "text/plain": [
       "<matplotlib.axes._subplots.AxesSubplot at 0x1a23bcdc18>"
      ]
     },
     "execution_count": 27,
     "metadata": {},
     "output_type": "execute_result"
    },
    {
     "data": {
      "image/png": "[encoded data removed]",
      "text/plain": [
       "<Figure size 432x288 with 1 Axes>"
      ]
     },
     "metadata": {
      "needs_background": "light"
     },
     "output_type": "display_data"
    }
   ],
   "source": [
    "df.boxplot(column='item_price')"
   ]
  },
  {
   "cell_type": "code",
   "execution_count": 28,
   "metadata": {},
   "outputs": [
    {
     "data": {
      "text/plain": [
       "59200.0    1\n",
       "50999.0    1\n",
       "49782.0    1\n",
       "Name: item_price, dtype: int64"
      ]
     },
     "execution_count": 28,
     "metadata": {},
     "output_type": "execute_result"
    }
   ],
   "source": [
    "df[df['item_price']>45000]['item_price'].value_counts().sort_index(ascending=False)"
   ]
  },
  {
   "cell_type": "markdown",
   "metadata": {},
   "source": [
    "- Looking at the boxplot, we can deduce that there are 3 isolated outliers above 45k. It seems like they do not represent the real price strategy of the company that we are analizing. Probably someone made a mistake registering that price or it is a strange product with a very flexible range price\n",
    "- Therefore, without additional information, we decide to eliminate them"
   ]
  },
  {
   "cell_type": "code",
   "execution_count": 29,
   "metadata": {},
   "outputs": [],
   "source": [
    "df = df[df['item_price']<=45000]"
   ]
  },
  {
   "cell_type": "code",
   "execution_count": 30,
   "metadata": {},
   "outputs": [
    {
     "data": {
      "text/plain": [
       "(2935839, 10)"
      ]
     },
     "execution_count": 30,
     "metadata": {},
     "output_type": "execute_result"
    }
   ],
   "source": [
    "df.shape"
   ]
  },
  {
   "cell_type": "code",
   "execution_count": 31,
   "metadata": {},
   "outputs": [
    {
     "data": {
      "text/plain": [
       "-1.0     7252\n",
       "-2.0       78\n",
       "-3.0       14\n",
       "-5.0        4\n",
       "-4.0        3\n",
       "-6.0        2\n",
       "-9.0        1\n",
       "-16.0       1\n",
       "-22.0       1\n",
       "Name: item_cnt_day, dtype: int64"
      ]
     },
     "execution_count": 31,
     "metadata": {},
     "output_type": "execute_result"
    }
   ],
   "source": [
    "# item_cnt_day negative\n",
    "df[df['item_cnt_day']<0]['item_cnt_day'].value_counts()"
   ]
  },
  {
   "cell_type": "markdown",
   "metadata": {},
   "source": [
    "- We interpret the negative values in item_cnt_day as the number of returned copies for that specific item, in that specific shop and on that specific day \n",
    "- According to this, we decide to keep those values and not to treat them as outliers. The monthly amount of sold copies for a particular item will be the algebraic sum of item_cnt_day"
   ]
  },
  {
   "cell_type": "code",
   "execution_count": 32,
   "metadata": {},
   "outputs": [
    {
     "data": {
      "text/html": [
       "<div>\n",
       "<style scoped>\n",
       "    .dataframe tbody tr th:only-of-type {\n",
       "        vertical-align: middle;\n",
       "    }\n",
       "\n",
       "    .dataframe tbody tr th {\n",
       "        vertical-align: top;\n",
       "    }\n",
       "\n",
       "    .dataframe thead th {\n",
       "        text-align: right;\n",
       "    }\n",
       "</style>\n",
       "<table border=\"1\" class=\"dataframe\">\n",
       "  <thead>\n",
       "    <tr style=\"text-align: right;\">\n",
       "      <th></th>\n",
       "      <th>date</th>\n",
       "      <th>date_block_num</th>\n",
       "      <th>shop_id</th>\n",
       "      <th>item_id</th>\n",
       "      <th>item_price</th>\n",
       "      <th>item_cnt_day</th>\n",
       "      <th>shop_name</th>\n",
       "      <th>item_category_name</th>\n",
       "      <th>item_category_id</th>\n",
       "      <th>item_name</th>\n",
       "    </tr>\n",
       "  </thead>\n",
       "  <tbody>\n",
       "    <tr>\n",
       "      <th>2326930</th>\n",
       "      <td>15.01.2015</td>\n",
       "      <td>24</td>\n",
       "      <td>12</td>\n",
       "      <td>20949</td>\n",
       "      <td>4.000000</td>\n",
       "      <td>1000.0</td>\n",
       "      <td>Интернет-магазин ЧС</td>\n",
       "      <td>Подарки - Сумки, Альбомы, Коврики д/мыши</td>\n",
       "      <td>71</td>\n",
       "      <td>Фирменный пакет майка 1С Интерес белый (34*42)...</td>\n",
       "    </tr>\n",
       "    <tr>\n",
       "      <th>2909818</th>\n",
       "      <td>28.10.2015</td>\n",
       "      <td>33</td>\n",
       "      <td>12</td>\n",
       "      <td>11373</td>\n",
       "      <td>0.908714</td>\n",
       "      <td>2169.0</td>\n",
       "      <td>Интернет-магазин ЧС</td>\n",
       "      <td>Доставка товара</td>\n",
       "      <td>9</td>\n",
       "      <td>Доставка до пункта выдачи (Boxberry)</td>\n",
       "    </tr>\n",
       "  </tbody>\n",
       "</table>\n",
       "</div>"
      ],
      "text/plain": [
       "               date  date_block_num  shop_id  item_id  item_price  \\\n",
       "2326930  15.01.2015              24       12    20949    4.000000   \n",
       "2909818  28.10.2015              33       12    11373    0.908714   \n",
       "\n",
       "         item_cnt_day            shop_name  \\\n",
       "2326930        1000.0  Интернет-магазин ЧС   \n",
       "2909818        2169.0  Интернет-магазин ЧС   \n",
       "\n",
       "                               item_category_name  item_category_id  \\\n",
       "2326930  Подарки - Сумки, Альбомы, Коврики д/мыши                71   \n",
       "2909818                           Доставка товара                 9   \n",
       "\n",
       "                                                 item_name  \n",
       "2326930  Фирменный пакет майка 1С Интерес белый (34*42)...  \n",
       "2909818               Доставка до пункта выдачи (Boxberry)  "
      ]
     },
     "execution_count": 32,
     "metadata": {},
     "output_type": "execute_result"
    }
   ],
   "source": [
    "# item_cnt_day outliers\n",
    "df[df['item_cnt_day']>900]"
   ]
  },
  {
   "cell_type": "markdown",
   "metadata": {},
   "source": [
    "- Looking at the boxplot, we observe that there are two values above 1000 of item_cnt_day that are isolated. \n",
    "- We took the corresponing item_name and using Google translate we found the following meanings: \"Фирменный пакет майка 1С Интерес белый\" means \"Corporate package T-shirt 1C Interest white\" and \"Доставка товара\" means \"delivery of goods\"\n",
    "- This gives us an idea that these rows represent very particular orders during some particular events\n",
    "- Therefore, we decide to eliminate them"
   ]
  },
  {
   "cell_type": "code",
   "execution_count": 33,
   "metadata": {},
   "outputs": [],
   "source": [
    "df = df[df['item_cnt_day']<=900]"
   ]
  },
  {
   "cell_type": "markdown",
   "metadata": {},
   "source": [
    "- Finally, we observe that the first word before either \"-\" or a white space or a \"!\" in the shop_name column represents the name of a city.\n",
    "- Because of this, we create a column city"
   ]
  },
  {
   "cell_type": "code",
   "execution_count": 34,
   "metadata": {},
   "outputs": [],
   "source": [
    "df['city'] = df['shop_name'].str.split(\" \").str[0]\n",
    "df['city'] = df['city'].str.split(\"-\").str[0]\n",
    "df['city'] = df['city'].str.split(\"!\").str[-1]"
   ]
  },
  {
   "cell_type": "code",
   "execution_count": 35,
   "metadata": {},
   "outputs": [
    {
     "data": {
      "text/plain": [
       "Москва          996633\n",
       "Якутск          204404\n",
       "СПб             148534\n",
       "Воронеж         144151\n",
       "Химки           143479\n",
       "Тюмень          125453\n",
       "Уфа              96423\n",
       "Красноярск       76177\n",
       "Самара           75421\n",
       "Чехов            69573\n",
       "Сергиев          66321\n",
       "Н.Новгород       64197\n",
       "Курск            63911\n",
       "РостовНаДону     59664\n",
       "Калуга           59511\n",
       "Сургут           56695\n",
       "Казань           54803\n",
       "Коломна          52734\n",
       "Омск             46013\n",
       "Ярославль        42108\n",
       "Новосибирск      39944\n",
       "Волжский         38242\n",
       "Вологда          38179\n",
       "Цифровой         34769\n",
       "Интернет         34689\n",
       "Адыгея           25991\n",
       "Балашиха         25532\n",
       "Жуковский        21896\n",
       "Томск            21612\n",
       "Мытищи            5027\n",
       "Выездная          3751\n",
       "Name: city, dtype: int64"
      ]
     },
     "execution_count": 35,
     "metadata": {},
     "output_type": "execute_result"
    }
   ],
   "source": [
    "# We check the names of the cities\n",
    "df['city'].value_counts()"
   ]
  },
  {
   "cell_type": "markdown",
   "metadata": {},
   "source": [
    "# EDA II: Study of the pairs (shop_id, item_id)"
   ]
  },
  {
   "cell_type": "markdown",
   "metadata": {},
   "source": [
    "- We check if all the pairs (shop_id, item_id) that we have on the test.csv actually exist in our dataframe and if also the converse is true or not"
   ]
  },
  {
   "cell_type": "code",
   "execution_count": 36,
   "metadata": {},
   "outputs": [
    {
     "data": {
      "text/html": [
       "<div>\n",
       "<style scoped>\n",
       "    .dataframe tbody tr th:only-of-type {\n",
       "        vertical-align: middle;\n",
       "    }\n",
       "\n",
       "    .dataframe tbody tr th {\n",
       "        vertical-align: top;\n",
       "    }\n",
       "\n",
       "    .dataframe thead th {\n",
       "        text-align: right;\n",
       "    }\n",
       "</style>\n",
       "<table border=\"1\" class=\"dataframe\">\n",
       "  <thead>\n",
       "    <tr style=\"text-align: right;\">\n",
       "      <th></th>\n",
       "      <th>ID</th>\n",
       "      <th>shop_id</th>\n",
       "      <th>item_id</th>\n",
       "    </tr>\n",
       "  </thead>\n",
       "  <tbody>\n",
       "    <tr>\n",
       "      <th>0</th>\n",
       "      <td>0</td>\n",
       "      <td>5</td>\n",
       "      <td>5037</td>\n",
       "    </tr>\n",
       "    <tr>\n",
       "      <th>1</th>\n",
       "      <td>1</td>\n",
       "      <td>5</td>\n",
       "      <td>5320</td>\n",
       "    </tr>\n",
       "    <tr>\n",
       "      <th>2</th>\n",
       "      <td>2</td>\n",
       "      <td>5</td>\n",
       "      <td>5233</td>\n",
       "    </tr>\n",
       "    <tr>\n",
       "      <th>3</th>\n",
       "      <td>3</td>\n",
       "      <td>5</td>\n",
       "      <td>5232</td>\n",
       "    </tr>\n",
       "    <tr>\n",
       "      <th>4</th>\n",
       "      <td>4</td>\n",
       "      <td>5</td>\n",
       "      <td>5268</td>\n",
       "    </tr>\n",
       "  </tbody>\n",
       "</table>\n",
       "</div>"
      ],
      "text/plain": [
       "   ID  shop_id  item_id\n",
       "0   0        5     5037\n",
       "1   1        5     5320\n",
       "2   2        5     5233\n",
       "3   3        5     5232\n",
       "4   4        5     5268"
      ]
     },
     "execution_count": 36,
     "metadata": {},
     "output_type": "execute_result"
    }
   ],
   "source": [
    "df_test = pd.read_csv('test.csv')\n",
    "df_test.head()"
   ]
  },
  {
   "cell_type": "code",
   "execution_count": 37,
   "metadata": {},
   "outputs": [],
   "source": [
    "df_test = df_test[['shop_id', 'item_id']]"
   ]
  },
  {
   "cell_type": "code",
   "execution_count": 38,
   "metadata": {},
   "outputs": [],
   "source": [
    "df_test['joined_fields'] = df_test['shop_id'].astype(str) + \"_\" + df_test['item_id'].astype(str)"
   ]
  },
  {
   "cell_type": "code",
   "execution_count": 39,
   "metadata": {},
   "outputs": [],
   "source": [
    "df['joined_fields'] = df['shop_id'].astype(str) + \"_\" + df['item_id'].astype(str)"
   ]
  },
  {
   "cell_type": "code",
   "execution_count": 40,
   "metadata": {},
   "outputs": [],
   "source": [
    "df_values = set(df['joined_fields'])\n",
    "df_test['Match'] = df_test['joined_fields'].isin(df_values)"
   ]
  },
  {
   "cell_type": "code",
   "execution_count": 41,
   "metadata": {},
   "outputs": [
    {
     "data": {
      "text/plain": [
       "True     111404\n",
       "False    102796\n",
       "Name: Match, dtype: int64"
      ]
     },
     "execution_count": 41,
     "metadata": {},
     "output_type": "execute_result"
    }
   ],
   "source": [
    "df_test['Match'].value_counts()"
   ]
  },
  {
   "cell_type": "markdown",
   "metadata": {},
   "source": [
    "- So actually we will need to predict item_cnt_day for a lot of pairs (shop_id, item_id) that our model will see for the first time"
   ]
  },
  {
   "cell_type": "code",
   "execution_count": 42,
   "metadata": {},
   "outputs": [
    {
     "data": {
      "text/html": [
       "<div>\n",
       "<style scoped>\n",
       "    .dataframe tbody tr th:only-of-type {\n",
       "        vertical-align: middle;\n",
       "    }\n",
       "\n",
       "    .dataframe tbody tr th {\n",
       "        vertical-align: top;\n",
       "    }\n",
       "\n",
       "    .dataframe thead th {\n",
       "        text-align: right;\n",
       "    }\n",
       "</style>\n",
       "<table border=\"1\" class=\"dataframe\">\n",
       "  <thead>\n",
       "    <tr style=\"text-align: right;\">\n",
       "      <th></th>\n",
       "      <th>shop_id</th>\n",
       "      <th>item_id</th>\n",
       "      <th>joined_fields</th>\n",
       "      <th>Match</th>\n",
       "    </tr>\n",
       "  </thead>\n",
       "  <tbody>\n",
       "    <tr>\n",
       "      <th>0</th>\n",
       "      <td>5</td>\n",
       "      <td>5037</td>\n",
       "      <td>5_5037</td>\n",
       "      <td>True</td>\n",
       "    </tr>\n",
       "    <tr>\n",
       "      <th>1</th>\n",
       "      <td>5</td>\n",
       "      <td>5320</td>\n",
       "      <td>5_5320</td>\n",
       "      <td>False</td>\n",
       "    </tr>\n",
       "    <tr>\n",
       "      <th>2</th>\n",
       "      <td>5</td>\n",
       "      <td>5233</td>\n",
       "      <td>5_5233</td>\n",
       "      <td>True</td>\n",
       "    </tr>\n",
       "    <tr>\n",
       "      <th>3</th>\n",
       "      <td>5</td>\n",
       "      <td>5232</td>\n",
       "      <td>5_5232</td>\n",
       "      <td>True</td>\n",
       "    </tr>\n",
       "    <tr>\n",
       "      <th>4</th>\n",
       "      <td>5</td>\n",
       "      <td>5268</td>\n",
       "      <td>5_5268</td>\n",
       "      <td>False</td>\n",
       "    </tr>\n",
       "  </tbody>\n",
       "</table>\n",
       "</div>"
      ],
      "text/plain": [
       "   shop_id  item_id joined_fields  Match\n",
       "0        5     5037        5_5037   True\n",
       "1        5     5320        5_5320  False\n",
       "2        5     5233        5_5233   True\n",
       "3        5     5232        5_5232   True\n",
       "4        5     5268        5_5268  False"
      ]
     },
     "execution_count": 42,
     "metadata": {},
     "output_type": "execute_result"
    }
   ],
   "source": [
    "df_test.head()"
   ]
  },
  {
   "cell_type": "code",
   "execution_count": 43,
   "metadata": {},
   "outputs": [
    {
     "data": {
      "text/html": [
       "<div>\n",
       "<style scoped>\n",
       "    .dataframe tbody tr th:only-of-type {\n",
       "        vertical-align: middle;\n",
       "    }\n",
       "\n",
       "    .dataframe tbody tr th {\n",
       "        vertical-align: top;\n",
       "    }\n",
       "\n",
       "    .dataframe thead th {\n",
       "        text-align: right;\n",
       "    }\n",
       "</style>\n",
       "<table border=\"1\" class=\"dataframe\">\n",
       "  <thead>\n",
       "    <tr style=\"text-align: right;\">\n",
       "      <th></th>\n",
       "      <th>date</th>\n",
       "      <th>date_block_num</th>\n",
       "      <th>shop_id</th>\n",
       "      <th>item_id</th>\n",
       "      <th>item_price</th>\n",
       "      <th>item_cnt_day</th>\n",
       "      <th>shop_name</th>\n",
       "      <th>item_category_name</th>\n",
       "      <th>item_category_id</th>\n",
       "      <th>item_name</th>\n",
       "      <th>city</th>\n",
       "      <th>joined_fields</th>\n",
       "    </tr>\n",
       "  </thead>\n",
       "  <tbody>\n",
       "  </tbody>\n",
       "</table>\n",
       "</div>"
      ],
      "text/plain": [
       "Empty DataFrame\n",
       "Columns: [date, date_block_num, shop_id, item_id, item_price, item_cnt_day, shop_name, item_category_name, item_category_id, item_name, city, joined_fields]\n",
       "Index: []"
      ]
     },
     "execution_count": 43,
     "metadata": {},
     "output_type": "execute_result"
    }
   ],
   "source": [
    "df[(df['shop_id']==5) & (df['item_id']==5320)]"
   ]
  },
  {
   "cell_type": "code",
   "execution_count": 44,
   "metadata": {},
   "outputs": [],
   "source": [
    "df_test_values = set(df_test['joined_fields'])\n",
    "df['Match'] = df['joined_fields'].isin(df_values)"
   ]
  },
  {
   "cell_type": "code",
   "execution_count": 45,
   "metadata": {},
   "outputs": [
    {
     "data": {
      "text/plain": [
       "True    2935837\n",
       "Name: Match, dtype: int64"
      ]
     },
     "execution_count": 45,
     "metadata": {},
     "output_type": "execute_result"
    }
   ],
   "source": [
    "df['Match'].value_counts()"
   ]
  },
  {
   "cell_type": "code",
   "execution_count": 46,
   "metadata": {},
   "outputs": [],
   "source": [
    "df.drop('Match', axis = 1, inplace=True)"
   ]
  },
  {
   "cell_type": "markdown",
   "metadata": {},
   "source": [
    "# EDA III: Feature relations"
   ]
  },
  {
   "cell_type": "code",
   "execution_count": 47,
   "metadata": {},
   "outputs": [],
   "source": [
    "df['month'] = df['date'].str.split(\".\").str[1]\n",
    "df['year'] = df['date'].str.split(\".\").str[2]\n",
    "df.drop('date', axis=1, inplace=True)"
   ]
  },
  {
   "cell_type": "code",
   "execution_count": 48,
   "metadata": {},
   "outputs": [
    {
     "data": {
      "text/html": [
       "<div>\n",
       "<style scoped>\n",
       "    .dataframe tbody tr th:only-of-type {\n",
       "        vertical-align: middle;\n",
       "    }\n",
       "\n",
       "    .dataframe tbody tr th {\n",
       "        vertical-align: top;\n",
       "    }\n",
       "\n",
       "    .dataframe thead th {\n",
       "        text-align: right;\n",
       "    }\n",
       "</style>\n",
       "<table border=\"1\" class=\"dataframe\">\n",
       "  <thead>\n",
       "    <tr style=\"text-align: right;\">\n",
       "      <th></th>\n",
       "      <th>date_block_num</th>\n",
       "      <th>shop_id</th>\n",
       "      <th>item_id</th>\n",
       "      <th>shop_name</th>\n",
       "      <th>item_category_name</th>\n",
       "      <th>item_category_id</th>\n",
       "      <th>item_name</th>\n",
       "      <th>city</th>\n",
       "      <th>joined_fields</th>\n",
       "      <th>month</th>\n",
       "      <th>year</th>\n",
       "      <th>item_cnt_day</th>\n",
       "      <th>item_price</th>\n",
       "    </tr>\n",
       "  </thead>\n",
       "  <tbody>\n",
       "    <tr>\n",
       "      <th>0</th>\n",
       "      <td>0</td>\n",
       "      <td>0</td>\n",
       "      <td>32</td>\n",
       "      <td>!Якутск Орджоникидзе, 56 фран</td>\n",
       "      <td>Кино - DVD</td>\n",
       "      <td>40</td>\n",
       "      <td>1+1</td>\n",
       "      <td>Якутск</td>\n",
       "      <td>0_32</td>\n",
       "      <td>01</td>\n",
       "      <td>2013</td>\n",
       "      <td>6.0</td>\n",
       "      <td>221.0</td>\n",
       "    </tr>\n",
       "    <tr>\n",
       "      <th>1</th>\n",
       "      <td>0</td>\n",
       "      <td>0</td>\n",
       "      <td>33</td>\n",
       "      <td>!Якутск Орджоникидзе, 56 фран</td>\n",
       "      <td>Кино - Blu-Ray</td>\n",
       "      <td>37</td>\n",
       "      <td>1+1 (BD)</td>\n",
       "      <td>Якутск</td>\n",
       "      <td>0_33</td>\n",
       "      <td>01</td>\n",
       "      <td>2013</td>\n",
       "      <td>3.0</td>\n",
       "      <td>347.0</td>\n",
       "    </tr>\n",
       "    <tr>\n",
       "      <th>2</th>\n",
       "      <td>0</td>\n",
       "      <td>0</td>\n",
       "      <td>35</td>\n",
       "      <td>!Якутск Орджоникидзе, 56 фран</td>\n",
       "      <td>Кино - DVD</td>\n",
       "      <td>40</td>\n",
       "      <td>10 ЛЕТ СПУСТЯ</td>\n",
       "      <td>Якутск</td>\n",
       "      <td>0_35</td>\n",
       "      <td>01</td>\n",
       "      <td>2013</td>\n",
       "      <td>1.0</td>\n",
       "      <td>247.0</td>\n",
       "    </tr>\n",
       "    <tr>\n",
       "      <th>3</th>\n",
       "      <td>0</td>\n",
       "      <td>0</td>\n",
       "      <td>43</td>\n",
       "      <td>!Якутск Орджоникидзе, 56 фран</td>\n",
       "      <td>Кино - DVD</td>\n",
       "      <td>40</td>\n",
       "      <td>100 МИЛЛИОНОВ ЕВРО</td>\n",
       "      <td>Якутск</td>\n",
       "      <td>0_43</td>\n",
       "      <td>01</td>\n",
       "      <td>2013</td>\n",
       "      <td>1.0</td>\n",
       "      <td>221.0</td>\n",
       "    </tr>\n",
       "    <tr>\n",
       "      <th>4</th>\n",
       "      <td>0</td>\n",
       "      <td>0</td>\n",
       "      <td>51</td>\n",
       "      <td>!Якутск Орджоникидзе, 56 фран</td>\n",
       "      <td>Музыка - MP3</td>\n",
       "      <td>57</td>\n",
       "      <td>100 лучших произведений классики (mp3-CD) (Dig...</td>\n",
       "      <td>Якутск</td>\n",
       "      <td>0_51</td>\n",
       "      <td>01</td>\n",
       "      <td>2013</td>\n",
       "      <td>2.0</td>\n",
       "      <td>128.5</td>\n",
       "    </tr>\n",
       "  </tbody>\n",
       "</table>\n",
       "</div>"
      ],
      "text/plain": [
       "   date_block_num  shop_id  item_id                      shop_name  \\\n",
       "0               0        0       32  !Якутск Орджоникидзе, 56 фран   \n",
       "1               0        0       33  !Якутск Орджоникидзе, 56 фран   \n",
       "2               0        0       35  !Якутск Орджоникидзе, 56 фран   \n",
       "3               0        0       43  !Якутск Орджоникидзе, 56 фран   \n",
       "4               0        0       51  !Якутск Орджоникидзе, 56 фран   \n",
       "\n",
       "  item_category_name  item_category_id  \\\n",
       "0         Кино - DVD                40   \n",
       "1     Кино - Blu-Ray                37   \n",
       "2         Кино - DVD                40   \n",
       "3         Кино - DVD                40   \n",
       "4       Музыка - MP3                57   \n",
       "\n",
       "                                           item_name    city joined_fields  \\\n",
       "0                                                1+1  Якутск          0_32   \n",
       "1                                           1+1 (BD)  Якутск          0_33   \n",
       "2                                      10 ЛЕТ СПУСТЯ  Якутск          0_35   \n",
       "3                                 100 МИЛЛИОНОВ ЕВРО  Якутск          0_43   \n",
       "4  100 лучших произведений классики (mp3-CD) (Dig...  Якутск          0_51   \n",
       "\n",
       "  month  year  item_cnt_day  item_price  \n",
       "0    01  2013           6.0       221.0  \n",
       "1    01  2013           3.0       347.0  \n",
       "2    01  2013           1.0       247.0  \n",
       "3    01  2013           1.0       221.0  \n",
       "4    01  2013           2.0       128.5  "
      ]
     },
     "execution_count": 48,
     "metadata": {},
     "output_type": "execute_result"
    }
   ],
   "source": [
    "agg_dict = {'item_cnt_day': 'sum', 'item_price': np.median}\n",
    "\n",
    "cols_to_exclude = ['item_price', 'item_cnt_day']\n",
    "df = df.groupby([x for x in df.columns.tolist() if x not in cols_to_exclude], as_index=False).agg(agg_dict)\n",
    "\n",
    "df.head()"
   ]
  },
  {
   "cell_type": "code",
   "execution_count": 49,
   "metadata": {},
   "outputs": [],
   "source": [
    "df.drop(['month', 'year'], axis=1, inplace=True)"
   ]
  },
  {
   "cell_type": "markdown",
   "metadata": {},
   "source": [
    "# Feature Engineering II"
   ]
  },
  {
   "cell_type": "markdown",
   "metadata": {},
   "source": [
    "If an item does not appear in a shop druing a month, we create a new observation filling that row with item_cnt_day equal to 0 and item_price equal to the price of the month before"
   ]
  },
  {
   "cell_type": "code",
   "execution_count": 50,
   "metadata": {},
   "outputs": [],
   "source": [
    "#df['month_year'] = df['year'] + \"-\" + df['month']\n",
    "cols_to_exclude = ['item_price', 'month', 'year', 'date_block_num', 'item_cnt_day']\n",
    "\n",
    "df_pivoted_stacked = df.drop(['item_price'], axis=1).pivot_table([\"item_cnt_day\"], [x for x in df.columns.tolist() if x not in cols_to_exclude], 'date_block_num').stack(1, dropna=False)\n",
    "\n",
    "df_pivoted_stacked = df_pivoted_stacked.reset_index()\n",
    "\n",
    "df_pivoted_stacked.head(10)\n",
    "\n",
    "df_merged = df_pivoted_stacked.merge(df, on=df_pivoted_stacked.columns.tolist(), how='left')\n",
    "\n",
    "df_merged.head(10)\n",
    "\n",
    "med = df_merged.groupby('joined_fields')['item_price'].transform('median')\n",
    "\n",
    "med\n",
    "\n",
    "df_merged.shape\n",
    "\n",
    "df_merged['item_price'].fillna(med, inplace=True)\n",
    "\n",
    "df_merged.head()\n",
    "\n",
    "df_merged['item_cnt_day'].fillna(0, inplace=True)"
   ]
  },
  {
   "cell_type": "code",
   "execution_count": 51,
   "metadata": {},
   "outputs": [
    {
     "data": {
      "text/html": [
       "<div>\n",
       "<style scoped>\n",
       "    .dataframe tbody tr th:only-of-type {\n",
       "        vertical-align: middle;\n",
       "    }\n",
       "\n",
       "    .dataframe tbody tr th {\n",
       "        vertical-align: top;\n",
       "    }\n",
       "\n",
       "    .dataframe thead th {\n",
       "        text-align: right;\n",
       "    }\n",
       "</style>\n",
       "<table border=\"1\" class=\"dataframe\">\n",
       "  <thead>\n",
       "    <tr style=\"text-align: right;\">\n",
       "      <th></th>\n",
       "      <th>shop_id</th>\n",
       "      <th>item_id</th>\n",
       "      <th>shop_name</th>\n",
       "      <th>item_category_name</th>\n",
       "      <th>item_category_id</th>\n",
       "      <th>item_name</th>\n",
       "      <th>city</th>\n",
       "      <th>joined_fields</th>\n",
       "      <th>date_block_num</th>\n",
       "      <th>item_cnt_day</th>\n",
       "      <th>item_price</th>\n",
       "    </tr>\n",
       "  </thead>\n",
       "  <tbody>\n",
       "    <tr>\n",
       "      <th>0</th>\n",
       "      <td>0</td>\n",
       "      <td>30</td>\n",
       "      <td>!Якутск Орджоникидзе, 56 фран</td>\n",
       "      <td>Кино - DVD</td>\n",
       "      <td>40</td>\n",
       "      <td>007: КООРДИНАТЫ «СКАЙФОЛЛ»</td>\n",
       "      <td>Якутск</td>\n",
       "      <td>0_30</td>\n",
       "      <td>0</td>\n",
       "      <td>0.0</td>\n",
       "      <td>265.0</td>\n",
       "    </tr>\n",
       "    <tr>\n",
       "      <th>1</th>\n",
       "      <td>0</td>\n",
       "      <td>30</td>\n",
       "      <td>!Якутск Орджоникидзе, 56 фран</td>\n",
       "      <td>Кино - DVD</td>\n",
       "      <td>40</td>\n",
       "      <td>007: КООРДИНАТЫ «СКАЙФОЛЛ»</td>\n",
       "      <td>Якутск</td>\n",
       "      <td>0_30</td>\n",
       "      <td>1</td>\n",
       "      <td>31.0</td>\n",
       "      <td>265.0</td>\n",
       "    </tr>\n",
       "    <tr>\n",
       "      <th>2</th>\n",
       "      <td>0</td>\n",
       "      <td>30</td>\n",
       "      <td>!Якутск Орджоникидзе, 56 фран</td>\n",
       "      <td>Кино - DVD</td>\n",
       "      <td>40</td>\n",
       "      <td>007: КООРДИНАТЫ «СКАЙФОЛЛ»</td>\n",
       "      <td>Якутск</td>\n",
       "      <td>0_30</td>\n",
       "      <td>2</td>\n",
       "      <td>0.0</td>\n",
       "      <td>265.0</td>\n",
       "    </tr>\n",
       "    <tr>\n",
       "      <th>3</th>\n",
       "      <td>0</td>\n",
       "      <td>30</td>\n",
       "      <td>!Якутск Орджоникидзе, 56 фран</td>\n",
       "      <td>Кино - DVD</td>\n",
       "      <td>40</td>\n",
       "      <td>007: КООРДИНАТЫ «СКАЙФОЛЛ»</td>\n",
       "      <td>Якутск</td>\n",
       "      <td>0_30</td>\n",
       "      <td>3</td>\n",
       "      <td>0.0</td>\n",
       "      <td>265.0</td>\n",
       "    </tr>\n",
       "    <tr>\n",
       "      <th>4</th>\n",
       "      <td>0</td>\n",
       "      <td>30</td>\n",
       "      <td>!Якутск Орджоникидзе, 56 фран</td>\n",
       "      <td>Кино - DVD</td>\n",
       "      <td>40</td>\n",
       "      <td>007: КООРДИНАТЫ «СКАЙФОЛЛ»</td>\n",
       "      <td>Якутск</td>\n",
       "      <td>0_30</td>\n",
       "      <td>4</td>\n",
       "      <td>0.0</td>\n",
       "      <td>265.0</td>\n",
       "    </tr>\n",
       "    <tr>\n",
       "      <th>5</th>\n",
       "      <td>0</td>\n",
       "      <td>30</td>\n",
       "      <td>!Якутск Орджоникидзе, 56 фран</td>\n",
       "      <td>Кино - DVD</td>\n",
       "      <td>40</td>\n",
       "      <td>007: КООРДИНАТЫ «СКАЙФОЛЛ»</td>\n",
       "      <td>Якутск</td>\n",
       "      <td>0_30</td>\n",
       "      <td>5</td>\n",
       "      <td>0.0</td>\n",
       "      <td>265.0</td>\n",
       "    </tr>\n",
       "    <tr>\n",
       "      <th>6</th>\n",
       "      <td>0</td>\n",
       "      <td>30</td>\n",
       "      <td>!Якутск Орджоникидзе, 56 фран</td>\n",
       "      <td>Кино - DVD</td>\n",
       "      <td>40</td>\n",
       "      <td>007: КООРДИНАТЫ «СКАЙФОЛЛ»</td>\n",
       "      <td>Якутск</td>\n",
       "      <td>0_30</td>\n",
       "      <td>6</td>\n",
       "      <td>0.0</td>\n",
       "      <td>265.0</td>\n",
       "    </tr>\n",
       "    <tr>\n",
       "      <th>7</th>\n",
       "      <td>0</td>\n",
       "      <td>30</td>\n",
       "      <td>!Якутск Орджоникидзе, 56 фран</td>\n",
       "      <td>Кино - DVD</td>\n",
       "      <td>40</td>\n",
       "      <td>007: КООРДИНАТЫ «СКАЙФОЛЛ»</td>\n",
       "      <td>Якутск</td>\n",
       "      <td>0_30</td>\n",
       "      <td>7</td>\n",
       "      <td>0.0</td>\n",
       "      <td>265.0</td>\n",
       "    </tr>\n",
       "    <tr>\n",
       "      <th>8</th>\n",
       "      <td>0</td>\n",
       "      <td>30</td>\n",
       "      <td>!Якутск Орджоникидзе, 56 фран</td>\n",
       "      <td>Кино - DVD</td>\n",
       "      <td>40</td>\n",
       "      <td>007: КООРДИНАТЫ «СКАЙФОЛЛ»</td>\n",
       "      <td>Якутск</td>\n",
       "      <td>0_30</td>\n",
       "      <td>8</td>\n",
       "      <td>0.0</td>\n",
       "      <td>265.0</td>\n",
       "    </tr>\n",
       "    <tr>\n",
       "      <th>9</th>\n",
       "      <td>0</td>\n",
       "      <td>30</td>\n",
       "      <td>!Якутск Орджоникидзе, 56 фран</td>\n",
       "      <td>Кино - DVD</td>\n",
       "      <td>40</td>\n",
       "      <td>007: КООРДИНАТЫ «СКАЙФОЛЛ»</td>\n",
       "      <td>Якутск</td>\n",
       "      <td>0_30</td>\n",
       "      <td>9</td>\n",
       "      <td>0.0</td>\n",
       "      <td>265.0</td>\n",
       "    </tr>\n",
       "  </tbody>\n",
       "</table>\n",
       "</div>"
      ],
      "text/plain": [
       "   shop_id  item_id                      shop_name item_category_name  \\\n",
       "0        0       30  !Якутск Орджоникидзе, 56 фран         Кино - DVD   \n",
       "1        0       30  !Якутск Орджоникидзе, 56 фран         Кино - DVD   \n",
       "2        0       30  !Якутск Орджоникидзе, 56 фран         Кино - DVD   \n",
       "3        0       30  !Якутск Орджоникидзе, 56 фран         Кино - DVD   \n",
       "4        0       30  !Якутск Орджоникидзе, 56 фран         Кино - DVD   \n",
       "5        0       30  !Якутск Орджоникидзе, 56 фран         Кино - DVD   \n",
       "6        0       30  !Якутск Орджоникидзе, 56 фран         Кино - DVD   \n",
       "7        0       30  !Якутск Орджоникидзе, 56 фран         Кино - DVD   \n",
       "8        0       30  !Якутск Орджоникидзе, 56 фран         Кино - DVD   \n",
       "9        0       30  !Якутск Орджоникидзе, 56 фран         Кино - DVD   \n",
       "\n",
       "   item_category_id                   item_name    city joined_fields  \\\n",
       "0                40  007: КООРДИНАТЫ «СКАЙФОЛЛ»  Якутск          0_30   \n",
       "1                40  007: КООРДИНАТЫ «СКАЙФОЛЛ»  Якутск          0_30   \n",
       "2                40  007: КООРДИНАТЫ «СКАЙФОЛЛ»  Якутск          0_30   \n",
       "3                40  007: КООРДИНАТЫ «СКАЙФОЛЛ»  Якутск          0_30   \n",
       "4                40  007: КООРДИНАТЫ «СКАЙФОЛЛ»  Якутск          0_30   \n",
       "5                40  007: КООРДИНАТЫ «СКАЙФОЛЛ»  Якутск          0_30   \n",
       "6                40  007: КООРДИНАТЫ «СКАЙФОЛЛ»  Якутск          0_30   \n",
       "7                40  007: КООРДИНАТЫ «СКАЙФОЛЛ»  Якутск          0_30   \n",
       "8                40  007: КООРДИНАТЫ «СКАЙФОЛЛ»  Якутск          0_30   \n",
       "9                40  007: КООРДИНАТЫ «СКАЙФОЛЛ»  Якутск          0_30   \n",
       "\n",
       "   date_block_num  item_cnt_day  item_price  \n",
       "0               0           0.0       265.0  \n",
       "1               1          31.0       265.0  \n",
       "2               2           0.0       265.0  \n",
       "3               3           0.0       265.0  \n",
       "4               4           0.0       265.0  \n",
       "5               5           0.0       265.0  \n",
       "6               6           0.0       265.0  \n",
       "7               7           0.0       265.0  \n",
       "8               8           0.0       265.0  \n",
       "9               9           0.0       265.0  "
      ]
     },
     "execution_count": 51,
     "metadata": {},
     "output_type": "execute_result"
    }
   ],
   "source": [
    "df_merged.head(10)"
   ]
  },
  {
   "cell_type": "markdown",
   "metadata": {},
   "source": [
    "- For every (item, shop) we inserted a row for every month in case it was absent. The item_price has been filled with median and item_cnt_day with 0"
   ]
  },
  {
   "cell_type": "markdown",
   "metadata": {},
   "source": [
    "## Strategy I: Benchmark"
   ]
  },
  {
   "cell_type": "code",
   "execution_count": null,
   "metadata": {},
   "outputs": [],
   "source": [
    "df_predicted = df_merged[['joined_fields', 'date_block_num', 'item_cnt_day']]\n",
    "df_predicted = df_predicted[df_predicted['date_block_num'] == 32]"
   ]
  },
  {
   "cell_type": "code",
   "execution_count": null,
   "metadata": {},
   "outputs": [],
   "source": [
    "df_true_value = df_merged[['joined_fields', 'date_block_num', 'item_cnt_day']]\n",
    "df_true_value = df_true_value[df_true_value['date_block_num'] == 33]"
   ]
  },
  {
   "cell_type": "code",
   "execution_count": null,
   "metadata": {},
   "outputs": [],
   "source": [
    "df_benchmark = df_predicted.merge(df_true_value, on='joined_fields', how='inner', suffixes=['_predicted','_true_value'])"
   ]
  },
  {
   "cell_type": "code",
   "execution_count": null,
   "metadata": {},
   "outputs": [],
   "source": [
    "df_benchmark.head()"
   ]
  },
  {
   "cell_type": "code",
   "execution_count": null,
   "metadata": {},
   "outputs": [],
   "source": [
    "from sklearn.metrics import r2_score, mean_squared_error"
   ]
  },
  {
   "cell_type": "code",
   "execution_count": null,
   "metadata": {},
   "outputs": [],
   "source": [
    "# Now we evaluate the benchmark prediction\n",
    "r2_score(df_benchmark['item_cnt_day_predicted'], df_benchmark['item_cnt_day_true_value'])"
   ]
  },
  {
   "cell_type": "code",
   "execution_count": null,
   "metadata": {},
   "outputs": [],
   "source": [
    "mean_squared_error(df_benchmark['item_cnt_day_predicted'], df_benchmark['item_cnt_day_true_value'])"
   ]
  },
  {
   "cell_type": "code",
   "execution_count": null,
   "metadata": {},
   "outputs": [],
   "source": [
    "mean_squared_error(df_benchmark['item_cnt_day_predicted'], df_benchmark['item_cnt_day_true_value']) ** 0.5"
   ]
  },
  {
   "cell_type": "markdown",
   "metadata": {},
   "source": [
    "- We observe that the r2 score is extremely low\n",
    "- the RMSE on the other hand is quite acceptable"
   ]
  },
  {
   "cell_type": "code",
   "execution_count": null,
   "metadata": {},
   "outputs": [],
   "source": [
    "import matplotlib.pyplot as plt\n",
    "error_benchmark = df_benchmark['item_cnt_day_predicted'] - df_benchmark['item_cnt_day_true_value']"
   ]
  },
  {
   "cell_type": "code",
   "execution_count": null,
   "metadata": {},
   "outputs": [],
   "source": [
    "plt.hist(error_benchmark)"
   ]
  },
  {
   "cell_type": "markdown",
   "metadata": {},
   "source": [
    "- most of the errors are around 0, which is good. However, we are also skewed towards right\n",
    "- maybe in general people spend more money on September than October?"
   ]
  },
  {
   "cell_type": "code",
   "execution_count": null,
   "metadata": {},
   "outputs": [],
   "source": [
    "plt.hist(error_benchmark[abs(error_benchmark)<10], bins=50)"
   ]
  },
  {
   "cell_type": "code",
   "execution_count": null,
   "metadata": {},
   "outputs": [],
   "source": [
    "plt.scatter(df_benchmark['item_cnt_day_true_value'], df_benchmark['item_cnt_day_predicted'] - df_benchmark['item_cnt_day_true_value'])"
   ]
  },
  {
   "cell_type": "code",
   "execution_count": null,
   "metadata": {},
   "outputs": [],
   "source": [
    "# count of errors in percentages\n",
    "perc_errors_benchmark = abs(error_benchmark).value_counts().to_frame()\n",
    "perc_errors_benchmark['value'] = perc_errors_benchmark.index\n",
    "perc_errors_benchmark = perc_errors_benchmark.sort_values(by=['value'])\n",
    "perc_errors_benchmark['percentage'] = perc_errors_benchmark[0] / sum(perc_errors_benchmark[0])\n",
    "perc_errors_benchmark['cumsum'] = perc_errors_benchmark[0].cumsum()\n",
    "perc_errors_benchmark['percentage_comulative'] = perc_errors_benchmark['cumsum'] / sum(perc_errors_benchmark[0])"
   ]
  },
  {
   "cell_type": "code",
   "execution_count": null,
   "metadata": {},
   "outputs": [],
   "source": [
    "perc_errors_benchmark"
   ]
  },
  {
   "cell_type": "markdown",
   "metadata": {},
   "source": [
    " - From this table we deduce that in about 90% of our cases we predict the correct value\n",
    " - In 99%, the error is lower than 3\n",
    " - we need to investigate if the 0 errors correspond 0 values"
   ]
  },
  {
   "cell_type": "code",
   "execution_count": null,
   "metadata": {},
   "outputs": [],
   "source": [
    "df_benchmark['error'] = error_benchmark\n",
    "df_benchmark_zero_error = df_benchmark[df_benchmark['error'] == 0]"
   ]
  },
  {
   "cell_type": "code",
   "execution_count": null,
   "metadata": {},
   "outputs": [],
   "source": [
    "df_benchmark_zero_error['item_cnt_day_true_value'].value_counts()"
   ]
  },
  {
   "cell_type": "markdown",
   "metadata": {},
   "source": [
    "- We observe that most of the true values are 0. This means that these items were not sold in the last month we were considering, so probably our predictions are not so meaningful"
   ]
  },
  {
   "cell_type": "markdown",
   "metadata": {},
   "source": [
    "# Statistical Strategy: ARIMA"
   ]
  },
  {
   "cell_type": "code",
   "execution_count": null,
   "metadata": {},
   "outputs": [],
   "source": [
    "df_arima = df_merged.copy()\n",
    "df_arima_joined = df_arima.drop(['shop_id', 'item_id', 'shop_name', 'item_category_name', 'item_category_id', 'item_name', 'city', 'item_price'], axis=1)"
   ]
  },
  {
   "cell_type": "code",
   "execution_count": null,
   "metadata": {},
   "outputs": [],
   "source": [
    "df_arima_joined.head()"
   ]
  },
  {
   "cell_type": "markdown",
   "metadata": {},
   "source": [
    "- Let's look for some seasonality in our data at the level of the pairs (shop_id, item_id)"
   ]
  },
  {
   "cell_type": "code",
   "execution_count": null,
   "metadata": {},
   "outputs": [],
   "source": [
    "example = df_arima_joined['joined_fields'].sample(n = 30, random_state = 234)\n",
    "\n",
    "fig, axs = plt.subplots(30, figsize = (20,80))\n",
    "\n",
    "for i in range(0,30):\n",
    "    j = example.iloc[i]\n",
    "    df_example = df_arima_joined[df_arima_joined['joined_fields'] == j]\n",
    "    axs[i].plot(df_example['date_block_num'], df_example['item_cnt_day'])\n",
    "    axs[i].set_xticks(range(0, 34))"
   ]
  },
  {
   "cell_type": "markdown",
   "metadata": {},
   "source": [
    "- We have a lot of 0 values that do not permit find some seasonality traits. Let's look for some seasonality at the shop level"
   ]
  },
  {
   "cell_type": "code",
   "execution_count": null,
   "metadata": {},
   "outputs": [],
   "source": [
    "df_arima_shop_item = df_merged.drop(['joined_fields', 'item_id', 'shop_name', 'item_category_name', 'item_category_id', 'item_name', 'city', 'item_price'], axis=1)\n",
    "df_arima_shop_item = df_arima_shop_item.groupby([\"date_block_num\", \"shop_id\"], as_index=False).agg({\"item_cnt_day\": sum})\n",
    "example = df_arima_shop_item['shop_id'].sample(n = 30, random_state = 234)\n",
    "\n",
    "fig, axs = plt.subplots(30, figsize = (20,80))\n",
    "\n",
    "for i in range(0,30):\n",
    "    j = example.iloc[i]\n",
    "    df_example = df_arima_shop_item[df_arima_shop_item['shop_id'] == j]\n",
    "    axs[i].plot(df_example['date_block_num'], df_example['item_cnt_day'])\n",
    "    axs[i].set_xticks(range(0, 34))"
   ]
  },
  {
   "cell_type": "markdown",
   "metadata": {},
   "source": [
    "- In this case we notice some seasonalities. For example, we have some peaks in December, which is quite reasonable\n",
    "- Let's try to plot some items that do not have any zeros"
   ]
  },
  {
   "cell_type": "code",
   "execution_count": null,
   "metadata": {},
   "outputs": [],
   "source": [
    "df_no_zero = df_merged.copy()\n",
    "df_no_zero['sold'] = np.where(df_no_zero['item_cnt_day']>= 1,1,0) \n",
    "always_sold = df_no_zero[['joined_fields', 'sold']].groupby([\"joined_fields\"], as_index=False). agg({\"sold\" :sum })\n",
    "always_sold = always_sold[always_sold['sold'] >= 34]\n",
    "\n",
    "example2 = always_sold['joined_fields'] .sample(n = 30, random_state = 234)\n",
    "\n",
    "fig, axs = plt.subplots(30, figsize = (20,80))\n",
    "\n",
    "for i in range(0,30):\n",
    "    j = example2.iloc[i]\n",
    "    df_example = df_merged[df_merged['joined_fields'] == j]\n",
    "    axs[i].plot(df_example['date_block_num'], df_example['item_cnt_day'])\n",
    "    axs[i].set_xticks(range(0, 34))"
   ]
  },
  {
   "cell_type": "markdown",
   "metadata": {},
   "source": [
    "- Also in this case we can see some seasonalities but they do not seem as clear as in the previous case\n",
    "- We decide to try ARIMA anyway"
   ]
  },
  {
   "cell_type": "markdown",
   "metadata": {},
   "source": [
    "## Strategy IIa: XGBoost I"
   ]
  },
  {
   "cell_type": "code",
   "execution_count": null,
   "metadata": {},
   "outputs": [],
   "source": [
    "df_pivot = df_merged.copy()\n",
    "med = df_pivot.groupby('joined_fields')['item_price'].transform('median')\n",
    "df_pivot['median_price'] = med"
   ]
  },
  {
   "cell_type": "code",
   "execution_count": null,
   "metadata": {},
   "outputs": [],
   "source": [
    "df_pivot.head()"
   ]
  },
  {
   "cell_type": "code",
   "execution_count": null,
   "metadata": {},
   "outputs": [],
   "source": [
    "from sklearn import preprocessing\n",
    "le = preprocessing.LabelEncoder()\n",
    "le.fit(df_pivot['city'])\n",
    "city_numeric = le.transform(df_pivot['city'])"
   ]
  },
  {
   "cell_type": "code",
   "execution_count": null,
   "metadata": {},
   "outputs": [],
   "source": [
    "df_pivot['city'] = city_numeric"
   ]
  },
  {
   "cell_type": "code",
   "execution_count": null,
   "metadata": {},
   "outputs": [],
   "source": [
    "df_pivot = df_pivot.drop(['shop_name', 'item_category_name', 'item_name', 'item_price'], axis=1)\n",
    "cols_to_exclude = ['item_cnt_day', 'date_block_num']"
   ]
  },
  {
   "cell_type": "code",
   "execution_count": null,
   "metadata": {},
   "outputs": [],
   "source": [
    "df_pivot_2 = df_pivot.copy()\n",
    "df_pivot_2 = df_pivot_2.pivot_table(values='item_cnt_day', index=[x for x in df_pivot.columns if x not in cols_to_exclude], columns='date_block_num').reset_index()\n",
    "df_pivot_2 = df_pivot_2.rename_axis(None, axis=1)\n",
    "df_pivot_2.head()"
   ]
  },
  {
   "cell_type": "code",
   "execution_count": null,
   "metadata": {},
   "outputs": [],
   "source": [
    "df_xgb = df_pivot_2.copy()"
   ]
  },
  {
   "cell_type": "code",
   "execution_count": null,
   "metadata": {},
   "outputs": [],
   "source": [
    "df_xgb.columns = df_xgb.columns.astype(str)"
   ]
  },
  {
   "cell_type": "code",
   "execution_count": null,
   "metadata": {},
   "outputs": [],
   "source": [
    "X = df_xgb.drop(['joined_fields', '33'], axis=1).copy()\n",
    "y = df_xgb['33'].values\n",
    "\n",
    "# Splitting into train and test\n",
    "# It returns dataframes with proper indices\n",
    "# Observe that X_train_orig will contain a copy of y\n",
    "\n",
    "X_train_orig, X_test_orig, y_train_orig, y_test_orig = train_test_split(X, y, test_size=0.2, \n",
    "                                                                        shuffle=True, random_state=345)"
   ]
  },
  {
   "cell_type": "code",
   "execution_count": null,
   "metadata": {},
   "outputs": [],
   "source": [
    "import xgboost as xgb\n",
    "xgb_model_default = regressor_gridCV(X_train_orig, y_train_orig, xgb.XGBRegressor(),\n",
    "                                     X_test_orig, y_test_orig, model_name = \"xg_boost\")"
   ]
  },
  {
   "cell_type": "code",
   "execution_count": null,
   "metadata": {},
   "outputs": [],
   "source": [
    "import pickle\n",
    "\n",
    "# We save xgb_model_default to our directory\n",
    "filename = \"Models/CV_results/default_models/xgb_model_default.sav\"\n",
    "pickle.dump(xgb_model_default, open(filename, 'wb'))"
   ]
  },
  {
   "cell_type": "markdown",
   "metadata": {},
   "source": [
    "- For sure the XGBoost strategy outperformed by far the Benchmark strategy\n",
    "- "
   ]
  },
  {
   "cell_type": "markdown",
   "metadata": {},
   "source": [
    "# Strategy IIb: XGBoost II"
   ]
  },
  {
   "cell_type": "code",
   "execution_count": 52,
   "metadata": {},
   "outputs": [],
   "source": [
    "df_xgb_2 = df_merged.copy()"
   ]
  },
  {
   "cell_type": "code",
   "execution_count": 53,
   "metadata": {},
   "outputs": [],
   "source": [
    "df_xgb_2.drop(['shop_name', 'item_category_name', 'item_name'], axis=1, inplace=True)"
   ]
  },
  {
   "cell_type": "code",
   "execution_count": 54,
   "metadata": {},
   "outputs": [
    {
     "data": {
      "text/html": [
       "<div>\n",
       "<style scoped>\n",
       "    .dataframe tbody tr th:only-of-type {\n",
       "        vertical-align: middle;\n",
       "    }\n",
       "\n",
       "    .dataframe tbody tr th {\n",
       "        vertical-align: top;\n",
       "    }\n",
       "\n",
       "    .dataframe thead th {\n",
       "        text-align: right;\n",
       "    }\n",
       "</style>\n",
       "<table border=\"1\" class=\"dataframe\">\n",
       "  <thead>\n",
       "    <tr style=\"text-align: right;\">\n",
       "      <th></th>\n",
       "      <th>shop_id</th>\n",
       "      <th>item_id</th>\n",
       "      <th>item_category_id</th>\n",
       "      <th>city</th>\n",
       "      <th>joined_fields</th>\n",
       "      <th>date_block_num</th>\n",
       "      <th>item_cnt_day</th>\n",
       "      <th>item_price</th>\n",
       "    </tr>\n",
       "  </thead>\n",
       "  <tbody>\n",
       "    <tr>\n",
       "      <th>0</th>\n",
       "      <td>0</td>\n",
       "      <td>30</td>\n",
       "      <td>40</td>\n",
       "      <td>29</td>\n",
       "      <td>0_30</td>\n",
       "      <td>0</td>\n",
       "      <td>0.0</td>\n",
       "      <td>265.0</td>\n",
       "    </tr>\n",
       "    <tr>\n",
       "      <th>1</th>\n",
       "      <td>0</td>\n",
       "      <td>30</td>\n",
       "      <td>40</td>\n",
       "      <td>29</td>\n",
       "      <td>0_30</td>\n",
       "      <td>1</td>\n",
       "      <td>31.0</td>\n",
       "      <td>265.0</td>\n",
       "    </tr>\n",
       "    <tr>\n",
       "      <th>2</th>\n",
       "      <td>0</td>\n",
       "      <td>30</td>\n",
       "      <td>40</td>\n",
       "      <td>29</td>\n",
       "      <td>0_30</td>\n",
       "      <td>2</td>\n",
       "      <td>0.0</td>\n",
       "      <td>265.0</td>\n",
       "    </tr>\n",
       "    <tr>\n",
       "      <th>3</th>\n",
       "      <td>0</td>\n",
       "      <td>30</td>\n",
       "      <td>40</td>\n",
       "      <td>29</td>\n",
       "      <td>0_30</td>\n",
       "      <td>3</td>\n",
       "      <td>0.0</td>\n",
       "      <td>265.0</td>\n",
       "    </tr>\n",
       "    <tr>\n",
       "      <th>4</th>\n",
       "      <td>0</td>\n",
       "      <td>30</td>\n",
       "      <td>40</td>\n",
       "      <td>29</td>\n",
       "      <td>0_30</td>\n",
       "      <td>4</td>\n",
       "      <td>0.0</td>\n",
       "      <td>265.0</td>\n",
       "    </tr>\n",
       "  </tbody>\n",
       "</table>\n",
       "</div>"
      ],
      "text/plain": [
       "   shop_id  item_id  item_category_id  city joined_fields  date_block_num  \\\n",
       "0        0       30                40    29          0_30               0   \n",
       "1        0       30                40    29          0_30               1   \n",
       "2        0       30                40    29          0_30               2   \n",
       "3        0       30                40    29          0_30               3   \n",
       "4        0       30                40    29          0_30               4   \n",
       "\n",
       "   item_cnt_day  item_price  \n",
       "0           0.0       265.0  \n",
       "1          31.0       265.0  \n",
       "2           0.0       265.0  \n",
       "3           0.0       265.0  \n",
       "4           0.0       265.0  "
      ]
     },
     "execution_count": 54,
     "metadata": {},
     "output_type": "execute_result"
    }
   ],
   "source": [
    "from sklearn import preprocessing\n",
    "le = preprocessing.LabelEncoder()\n",
    "le.fit(df_xgb_2['city'])\n",
    "city_numeric = le.transform(df_xgb_2['city'])\n",
    "df_xgb_2['city'] = city_numeric\n",
    "df_xgb_lag = df_xgb_2.copy()\n",
    "df_xgb_lag.head()"
   ]
  },
  {
   "cell_type": "code",
   "execution_count": 55,
   "metadata": {},
   "outputs": [],
   "source": [
    "for i in range(1, 13):\n",
    "    df_to_merge = df_xgb_2.copy()\n",
    "    df_to_merge['date_block_num'] = df_to_merge['date_block_num'] + i\n",
    "    df_to_merge['item_cnt_day_lag_' + str(i)] = df_to_merge['item_cnt_day']\n",
    "    df_xgb_lag = df_xgb_lag.merge(df_to_merge[['item_cnt_day_lag_' + str(i), 'date_block_num', 'joined_fields']], \n",
    "                                left_on=['date_block_num', 'joined_fields'],\n",
    "                                right_on=['date_block_num', 'joined_fields'],\n",
    "                                how='left', suffixes=(None, None))\n",
    "    "
   ]
  },
  {
   "cell_type": "code",
   "execution_count": 56,
   "metadata": {},
   "outputs": [
    {
     "data": {
      "text/html": [
       "<div>\n",
       "<style scoped>\n",
       "    .dataframe tbody tr th:only-of-type {\n",
       "        vertical-align: middle;\n",
       "    }\n",
       "\n",
       "    .dataframe tbody tr th {\n",
       "        vertical-align: top;\n",
       "    }\n",
       "\n",
       "    .dataframe thead th {\n",
       "        text-align: right;\n",
       "    }\n",
       "</style>\n",
       "<table border=\"1\" class=\"dataframe\">\n",
       "  <thead>\n",
       "    <tr style=\"text-align: right;\">\n",
       "      <th></th>\n",
       "      <th>shop_id</th>\n",
       "      <th>item_id</th>\n",
       "      <th>item_category_id</th>\n",
       "      <th>city</th>\n",
       "      <th>joined_fields</th>\n",
       "      <th>date_block_num</th>\n",
       "      <th>item_cnt_day</th>\n",
       "      <th>item_price</th>\n",
       "      <th>item_cnt_day_lag_1</th>\n",
       "      <th>item_cnt_day_lag_2</th>\n",
       "      <th>item_cnt_day_lag_3</th>\n",
       "      <th>item_cnt_day_lag_4</th>\n",
       "      <th>item_cnt_day_lag_5</th>\n",
       "      <th>item_cnt_day_lag_6</th>\n",
       "      <th>item_cnt_day_lag_7</th>\n",
       "      <th>item_cnt_day_lag_8</th>\n",
       "      <th>item_cnt_day_lag_9</th>\n",
       "      <th>item_cnt_day_lag_10</th>\n",
       "      <th>item_cnt_day_lag_11</th>\n",
       "      <th>item_cnt_day_lag_12</th>\n",
       "    </tr>\n",
       "  </thead>\n",
       "  <tbody>\n",
       "    <tr>\n",
       "      <th>0</th>\n",
       "      <td>0</td>\n",
       "      <td>30</td>\n",
       "      <td>40</td>\n",
       "      <td>29</td>\n",
       "      <td>0_30</td>\n",
       "      <td>0</td>\n",
       "      <td>0.0</td>\n",
       "      <td>265.0</td>\n",
       "      <td>NaN</td>\n",
       "      <td>NaN</td>\n",
       "      <td>NaN</td>\n",
       "      <td>NaN</td>\n",
       "      <td>NaN</td>\n",
       "      <td>NaN</td>\n",
       "      <td>NaN</td>\n",
       "      <td>NaN</td>\n",
       "      <td>NaN</td>\n",
       "      <td>NaN</td>\n",
       "      <td>NaN</td>\n",
       "      <td>NaN</td>\n",
       "    </tr>\n",
       "    <tr>\n",
       "      <th>1</th>\n",
       "      <td>0</td>\n",
       "      <td>30</td>\n",
       "      <td>40</td>\n",
       "      <td>29</td>\n",
       "      <td>0_30</td>\n",
       "      <td>1</td>\n",
       "      <td>31.0</td>\n",
       "      <td>265.0</td>\n",
       "      <td>0.0</td>\n",
       "      <td>NaN</td>\n",
       "      <td>NaN</td>\n",
       "      <td>NaN</td>\n",
       "      <td>NaN</td>\n",
       "      <td>NaN</td>\n",
       "      <td>NaN</td>\n",
       "      <td>NaN</td>\n",
       "      <td>NaN</td>\n",
       "      <td>NaN</td>\n",
       "      <td>NaN</td>\n",
       "      <td>NaN</td>\n",
       "    </tr>\n",
       "    <tr>\n",
       "      <th>2</th>\n",
       "      <td>0</td>\n",
       "      <td>30</td>\n",
       "      <td>40</td>\n",
       "      <td>29</td>\n",
       "      <td>0_30</td>\n",
       "      <td>2</td>\n",
       "      <td>0.0</td>\n",
       "      <td>265.0</td>\n",
       "      <td>31.0</td>\n",
       "      <td>0.0</td>\n",
       "      <td>NaN</td>\n",
       "      <td>NaN</td>\n",
       "      <td>NaN</td>\n",
       "      <td>NaN</td>\n",
       "      <td>NaN</td>\n",
       "      <td>NaN</td>\n",
       "      <td>NaN</td>\n",
       "      <td>NaN</td>\n",
       "      <td>NaN</td>\n",
       "      <td>NaN</td>\n",
       "    </tr>\n",
       "    <tr>\n",
       "      <th>3</th>\n",
       "      <td>0</td>\n",
       "      <td>30</td>\n",
       "      <td>40</td>\n",
       "      <td>29</td>\n",
       "      <td>0_30</td>\n",
       "      <td>3</td>\n",
       "      <td>0.0</td>\n",
       "      <td>265.0</td>\n",
       "      <td>0.0</td>\n",
       "      <td>31.0</td>\n",
       "      <td>0.0</td>\n",
       "      <td>NaN</td>\n",
       "      <td>NaN</td>\n",
       "      <td>NaN</td>\n",
       "      <td>NaN</td>\n",
       "      <td>NaN</td>\n",
       "      <td>NaN</td>\n",
       "      <td>NaN</td>\n",
       "      <td>NaN</td>\n",
       "      <td>NaN</td>\n",
       "    </tr>\n",
       "    <tr>\n",
       "      <th>4</th>\n",
       "      <td>0</td>\n",
       "      <td>30</td>\n",
       "      <td>40</td>\n",
       "      <td>29</td>\n",
       "      <td>0_30</td>\n",
       "      <td>4</td>\n",
       "      <td>0.0</td>\n",
       "      <td>265.0</td>\n",
       "      <td>0.0</td>\n",
       "      <td>0.0</td>\n",
       "      <td>31.0</td>\n",
       "      <td>0.0</td>\n",
       "      <td>NaN</td>\n",
       "      <td>NaN</td>\n",
       "      <td>NaN</td>\n",
       "      <td>NaN</td>\n",
       "      <td>NaN</td>\n",
       "      <td>NaN</td>\n",
       "      <td>NaN</td>\n",
       "      <td>NaN</td>\n",
       "    </tr>\n",
       "  </tbody>\n",
       "</table>\n",
       "</div>"
      ],
      "text/plain": [
       "   shop_id  item_id  item_category_id  city joined_fields  date_block_num  \\\n",
       "0        0       30                40    29          0_30               0   \n",
       "1        0       30                40    29          0_30               1   \n",
       "2        0       30                40    29          0_30               2   \n",
       "3        0       30                40    29          0_30               3   \n",
       "4        0       30                40    29          0_30               4   \n",
       "\n",
       "   item_cnt_day  item_price  item_cnt_day_lag_1  item_cnt_day_lag_2  \\\n",
       "0           0.0       265.0                 NaN                 NaN   \n",
       "1          31.0       265.0                 0.0                 NaN   \n",
       "2           0.0       265.0                31.0                 0.0   \n",
       "3           0.0       265.0                 0.0                31.0   \n",
       "4           0.0       265.0                 0.0                 0.0   \n",
       "\n",
       "   item_cnt_day_lag_3  item_cnt_day_lag_4  item_cnt_day_lag_5  \\\n",
       "0                 NaN                 NaN                 NaN   \n",
       "1                 NaN                 NaN                 NaN   \n",
       "2                 NaN                 NaN                 NaN   \n",
       "3                 0.0                 NaN                 NaN   \n",
       "4                31.0                 0.0                 NaN   \n",
       "\n",
       "   item_cnt_day_lag_6  item_cnt_day_lag_7  item_cnt_day_lag_8  \\\n",
       "0                 NaN                 NaN                 NaN   \n",
       "1                 NaN                 NaN                 NaN   \n",
       "2                 NaN                 NaN                 NaN   \n",
       "3                 NaN                 NaN                 NaN   \n",
       "4                 NaN                 NaN                 NaN   \n",
       "\n",
       "   item_cnt_day_lag_9  item_cnt_day_lag_10  item_cnt_day_lag_11  \\\n",
       "0                 NaN                  NaN                  NaN   \n",
       "1                 NaN                  NaN                  NaN   \n",
       "2                 NaN                  NaN                  NaN   \n",
       "3                 NaN                  NaN                  NaN   \n",
       "4                 NaN                  NaN                  NaN   \n",
       "\n",
       "   item_cnt_day_lag_12  \n",
       "0                  NaN  \n",
       "1                  NaN  \n",
       "2                  NaN  \n",
       "3                  NaN  \n",
       "4                  NaN  "
      ]
     },
     "execution_count": 56,
     "metadata": {},
     "output_type": "execute_result"
    }
   ],
   "source": [
    "df_xgb_lag.head()"
   ]
  },
  {
   "cell_type": "code",
   "execution_count": 57,
   "metadata": {},
   "outputs": [
    {
     "data": {
      "text/plain": [
       "(14420114, 20)"
      ]
     },
     "execution_count": 57,
     "metadata": {},
     "output_type": "execute_result"
    }
   ],
   "source": [
    "df_xgb_lag.shape"
   ]
  },
  {
   "cell_type": "markdown",
   "metadata": {},
   "source": [
    "- We get rid of the null values in **item_cnt_day_lag_x** columns"
   ]
  },
  {
   "cell_type": "code",
   "execution_count": 58,
   "metadata": {},
   "outputs": [],
   "source": [
    "df_xgb_lag = df_xgb_lag[df_xgb_lag['item_cnt_day_lag_12'].notna()]"
   ]
  },
  {
   "cell_type": "code",
   "execution_count": 59,
   "metadata": {},
   "outputs": [
    {
     "data": {
      "text/plain": [
       "(9330662, 20)"
      ]
     },
     "execution_count": 59,
     "metadata": {},
     "output_type": "execute_result"
    }
   ],
   "source": [
    "df_xgb_lag.shape"
   ]
  },
  {
   "cell_type": "code",
   "execution_count": 60,
   "metadata": {},
   "outputs": [
    {
     "data": {
      "text/html": [
       "<div>\n",
       "<style scoped>\n",
       "    .dataframe tbody tr th:only-of-type {\n",
       "        vertical-align: middle;\n",
       "    }\n",
       "\n",
       "    .dataframe tbody tr th {\n",
       "        vertical-align: top;\n",
       "    }\n",
       "\n",
       "    .dataframe thead th {\n",
       "        text-align: right;\n",
       "    }\n",
       "</style>\n",
       "<table border=\"1\" class=\"dataframe\">\n",
       "  <thead>\n",
       "    <tr style=\"text-align: right;\">\n",
       "      <th></th>\n",
       "      <th>shop_id</th>\n",
       "      <th>item_id</th>\n",
       "      <th>item_category_id</th>\n",
       "      <th>city</th>\n",
       "      <th>joined_fields</th>\n",
       "      <th>date_block_num</th>\n",
       "      <th>item_cnt_day</th>\n",
       "      <th>item_price</th>\n",
       "      <th>item_cnt_day_lag_1</th>\n",
       "      <th>item_cnt_day_lag_2</th>\n",
       "      <th>item_cnt_day_lag_3</th>\n",
       "      <th>item_cnt_day_lag_4</th>\n",
       "      <th>item_cnt_day_lag_5</th>\n",
       "      <th>item_cnt_day_lag_6</th>\n",
       "      <th>item_cnt_day_lag_7</th>\n",
       "      <th>item_cnt_day_lag_8</th>\n",
       "      <th>item_cnt_day_lag_9</th>\n",
       "      <th>item_cnt_day_lag_10</th>\n",
       "      <th>item_cnt_day_lag_11</th>\n",
       "      <th>item_cnt_day_lag_12</th>\n",
       "    </tr>\n",
       "  </thead>\n",
       "  <tbody>\n",
       "    <tr>\n",
       "      <th>12</th>\n",
       "      <td>0</td>\n",
       "      <td>30</td>\n",
       "      <td>40</td>\n",
       "      <td>29</td>\n",
       "      <td>0_30</td>\n",
       "      <td>12</td>\n",
       "      <td>0.0</td>\n",
       "      <td>265.0</td>\n",
       "      <td>0.0</td>\n",
       "      <td>0.0</td>\n",
       "      <td>0.0</td>\n",
       "      <td>0.0</td>\n",
       "      <td>0.0</td>\n",
       "      <td>0.0</td>\n",
       "      <td>0.0</td>\n",
       "      <td>0.0</td>\n",
       "      <td>0.0</td>\n",
       "      <td>0.0</td>\n",
       "      <td>31.0</td>\n",
       "      <td>0.0</td>\n",
       "    </tr>\n",
       "    <tr>\n",
       "      <th>13</th>\n",
       "      <td>0</td>\n",
       "      <td>30</td>\n",
       "      <td>40</td>\n",
       "      <td>29</td>\n",
       "      <td>0_30</td>\n",
       "      <td>13</td>\n",
       "      <td>0.0</td>\n",
       "      <td>265.0</td>\n",
       "      <td>0.0</td>\n",
       "      <td>0.0</td>\n",
       "      <td>0.0</td>\n",
       "      <td>0.0</td>\n",
       "      <td>0.0</td>\n",
       "      <td>0.0</td>\n",
       "      <td>0.0</td>\n",
       "      <td>0.0</td>\n",
       "      <td>0.0</td>\n",
       "      <td>0.0</td>\n",
       "      <td>0.0</td>\n",
       "      <td>31.0</td>\n",
       "    </tr>\n",
       "    <tr>\n",
       "      <th>14</th>\n",
       "      <td>0</td>\n",
       "      <td>30</td>\n",
       "      <td>40</td>\n",
       "      <td>29</td>\n",
       "      <td>0_30</td>\n",
       "      <td>14</td>\n",
       "      <td>0.0</td>\n",
       "      <td>265.0</td>\n",
       "      <td>0.0</td>\n",
       "      <td>0.0</td>\n",
       "      <td>0.0</td>\n",
       "      <td>0.0</td>\n",
       "      <td>0.0</td>\n",
       "      <td>0.0</td>\n",
       "      <td>0.0</td>\n",
       "      <td>0.0</td>\n",
       "      <td>0.0</td>\n",
       "      <td>0.0</td>\n",
       "      <td>0.0</td>\n",
       "      <td>0.0</td>\n",
       "    </tr>\n",
       "    <tr>\n",
       "      <th>15</th>\n",
       "      <td>0</td>\n",
       "      <td>30</td>\n",
       "      <td>40</td>\n",
       "      <td>29</td>\n",
       "      <td>0_30</td>\n",
       "      <td>15</td>\n",
       "      <td>0.0</td>\n",
       "      <td>265.0</td>\n",
       "      <td>0.0</td>\n",
       "      <td>0.0</td>\n",
       "      <td>0.0</td>\n",
       "      <td>0.0</td>\n",
       "      <td>0.0</td>\n",
       "      <td>0.0</td>\n",
       "      <td>0.0</td>\n",
       "      <td>0.0</td>\n",
       "      <td>0.0</td>\n",
       "      <td>0.0</td>\n",
       "      <td>0.0</td>\n",
       "      <td>0.0</td>\n",
       "    </tr>\n",
       "    <tr>\n",
       "      <th>16</th>\n",
       "      <td>0</td>\n",
       "      <td>30</td>\n",
       "      <td>40</td>\n",
       "      <td>29</td>\n",
       "      <td>0_30</td>\n",
       "      <td>16</td>\n",
       "      <td>0.0</td>\n",
       "      <td>265.0</td>\n",
       "      <td>0.0</td>\n",
       "      <td>0.0</td>\n",
       "      <td>0.0</td>\n",
       "      <td>0.0</td>\n",
       "      <td>0.0</td>\n",
       "      <td>0.0</td>\n",
       "      <td>0.0</td>\n",
       "      <td>0.0</td>\n",
       "      <td>0.0</td>\n",
       "      <td>0.0</td>\n",
       "      <td>0.0</td>\n",
       "      <td>0.0</td>\n",
       "    </tr>\n",
       "  </tbody>\n",
       "</table>\n",
       "</div>"
      ],
      "text/plain": [
       "    shop_id  item_id  item_category_id  city joined_fields  date_block_num  \\\n",
       "12        0       30                40    29          0_30              12   \n",
       "13        0       30                40    29          0_30              13   \n",
       "14        0       30                40    29          0_30              14   \n",
       "15        0       30                40    29          0_30              15   \n",
       "16        0       30                40    29          0_30              16   \n",
       "\n",
       "    item_cnt_day  item_price  item_cnt_day_lag_1  item_cnt_day_lag_2  \\\n",
       "12           0.0       265.0                 0.0                 0.0   \n",
       "13           0.0       265.0                 0.0                 0.0   \n",
       "14           0.0       265.0                 0.0                 0.0   \n",
       "15           0.0       265.0                 0.0                 0.0   \n",
       "16           0.0       265.0                 0.0                 0.0   \n",
       "\n",
       "    item_cnt_day_lag_3  item_cnt_day_lag_4  item_cnt_day_lag_5  \\\n",
       "12                 0.0                 0.0                 0.0   \n",
       "13                 0.0                 0.0                 0.0   \n",
       "14                 0.0                 0.0                 0.0   \n",
       "15                 0.0                 0.0                 0.0   \n",
       "16                 0.0                 0.0                 0.0   \n",
       "\n",
       "    item_cnt_day_lag_6  item_cnt_day_lag_7  item_cnt_day_lag_8  \\\n",
       "12                 0.0                 0.0                 0.0   \n",
       "13                 0.0                 0.0                 0.0   \n",
       "14                 0.0                 0.0                 0.0   \n",
       "15                 0.0                 0.0                 0.0   \n",
       "16                 0.0                 0.0                 0.0   \n",
       "\n",
       "    item_cnt_day_lag_9  item_cnt_day_lag_10  item_cnt_day_lag_11  \\\n",
       "12                 0.0                  0.0                 31.0   \n",
       "13                 0.0                  0.0                  0.0   \n",
       "14                 0.0                  0.0                  0.0   \n",
       "15                 0.0                  0.0                  0.0   \n",
       "16                 0.0                  0.0                  0.0   \n",
       "\n",
       "    item_cnt_day_lag_12  \n",
       "12                  0.0  \n",
       "13                 31.0  \n",
       "14                  0.0  \n",
       "15                  0.0  \n",
       "16                  0.0  "
      ]
     },
     "execution_count": 60,
     "metadata": {},
     "output_type": "execute_result"
    }
   ],
   "source": [
    "df_xgb_lag.head()"
   ]
  },
  {
   "cell_type": "code",
   "execution_count": 61,
   "metadata": {},
   "outputs": [
    {
     "data": {
      "text/html": [
       "<div>\n",
       "<style scoped>\n",
       "    .dataframe tbody tr th:only-of-type {\n",
       "        vertical-align: middle;\n",
       "    }\n",
       "\n",
       "    .dataframe tbody tr th {\n",
       "        vertical-align: top;\n",
       "    }\n",
       "\n",
       "    .dataframe thead th {\n",
       "        text-align: right;\n",
       "    }\n",
       "</style>\n",
       "<table border=\"1\" class=\"dataframe\">\n",
       "  <thead>\n",
       "    <tr style=\"text-align: right;\">\n",
       "      <th></th>\n",
       "      <th>shop_id</th>\n",
       "      <th>item_id</th>\n",
       "      <th>item_category_id</th>\n",
       "      <th>city</th>\n",
       "      <th>joined_fields</th>\n",
       "      <th>date_block_num</th>\n",
       "      <th>item_cnt_day</th>\n",
       "      <th>item_price</th>\n",
       "    </tr>\n",
       "  </thead>\n",
       "  <tbody>\n",
       "    <tr>\n",
       "      <th>0</th>\n",
       "      <td>0</td>\n",
       "      <td>30</td>\n",
       "      <td>40</td>\n",
       "      <td>29</td>\n",
       "      <td>0_30</td>\n",
       "      <td>0</td>\n",
       "      <td>0.0</td>\n",
       "      <td>265.0</td>\n",
       "    </tr>\n",
       "    <tr>\n",
       "      <th>1</th>\n",
       "      <td>0</td>\n",
       "      <td>30</td>\n",
       "      <td>40</td>\n",
       "      <td>29</td>\n",
       "      <td>0_30</td>\n",
       "      <td>1</td>\n",
       "      <td>31.0</td>\n",
       "      <td>265.0</td>\n",
       "    </tr>\n",
       "    <tr>\n",
       "      <th>2</th>\n",
       "      <td>0</td>\n",
       "      <td>30</td>\n",
       "      <td>40</td>\n",
       "      <td>29</td>\n",
       "      <td>0_30</td>\n",
       "      <td>2</td>\n",
       "      <td>0.0</td>\n",
       "      <td>265.0</td>\n",
       "    </tr>\n",
       "    <tr>\n",
       "      <th>3</th>\n",
       "      <td>0</td>\n",
       "      <td>30</td>\n",
       "      <td>40</td>\n",
       "      <td>29</td>\n",
       "      <td>0_30</td>\n",
       "      <td>3</td>\n",
       "      <td>0.0</td>\n",
       "      <td>265.0</td>\n",
       "    </tr>\n",
       "    <tr>\n",
       "      <th>4</th>\n",
       "      <td>0</td>\n",
       "      <td>30</td>\n",
       "      <td>40</td>\n",
       "      <td>29</td>\n",
       "      <td>0_30</td>\n",
       "      <td>4</td>\n",
       "      <td>0.0</td>\n",
       "      <td>265.0</td>\n",
       "    </tr>\n",
       "  </tbody>\n",
       "</table>\n",
       "</div>"
      ],
      "text/plain": [
       "   shop_id  item_id  item_category_id  city joined_fields  date_block_num  \\\n",
       "0        0       30                40    29          0_30               0   \n",
       "1        0       30                40    29          0_30               1   \n",
       "2        0       30                40    29          0_30               2   \n",
       "3        0       30                40    29          0_30               3   \n",
       "4        0       30                40    29          0_30               4   \n",
       "\n",
       "   item_cnt_day  item_price  \n",
       "0           0.0       265.0  \n",
       "1          31.0       265.0  \n",
       "2           0.0       265.0  \n",
       "3           0.0       265.0  \n",
       "4           0.0       265.0  "
      ]
     },
     "execution_count": 61,
     "metadata": {},
     "output_type": "execute_result"
    }
   ],
   "source": [
    "df_xgb_2.head()"
   ]
  },
  {
   "cell_type": "markdown",
   "metadata": {},
   "source": [
    "- Now we insert as column the item_price related to the previous month"
   ]
  },
  {
   "cell_type": "code",
   "execution_count": 62,
   "metadata": {},
   "outputs": [],
   "source": [
    "df_to_merge = df_xgb_2.copy()\n",
    "df_to_merge['date_block_num'] = df_to_merge['date_block_num'] + 1\n",
    "df_to_merge['item_price_lag_1'] = df_to_merge['item_price']\n",
    "df_xgb_lag = df_xgb_lag.merge(df_to_merge[['item_price_lag_1', 'date_block_num', 'joined_fields']], \n",
    "                              left_on=['date_block_num', 'joined_fields'],\n",
    "                              right_on=['date_block_num', 'joined_fields'],\n",
    "                              how='left', suffixes=(None, None))"
   ]
  },
  {
   "cell_type": "code",
   "execution_count": 63,
   "metadata": {},
   "outputs": [],
   "source": [
    "df_xgb_lag.drop(['item_price', 'joined_fields'], axis=1, inplace=True)"
   ]
  },
  {
   "cell_type": "code",
   "execution_count": 64,
   "metadata": {},
   "outputs": [
    {
     "data": {
      "text/html": [
       "<div>\n",
       "<style scoped>\n",
       "    .dataframe tbody tr th:only-of-type {\n",
       "        vertical-align: middle;\n",
       "    }\n",
       "\n",
       "    .dataframe tbody tr th {\n",
       "        vertical-align: top;\n",
       "    }\n",
       "\n",
       "    .dataframe thead th {\n",
       "        text-align: right;\n",
       "    }\n",
       "</style>\n",
       "<table border=\"1\" class=\"dataframe\">\n",
       "  <thead>\n",
       "    <tr style=\"text-align: right;\">\n",
       "      <th></th>\n",
       "      <th>shop_id</th>\n",
       "      <th>item_id</th>\n",
       "      <th>item_category_id</th>\n",
       "      <th>city</th>\n",
       "      <th>date_block_num</th>\n",
       "      <th>item_cnt_day</th>\n",
       "      <th>item_cnt_day_lag_1</th>\n",
       "      <th>item_cnt_day_lag_2</th>\n",
       "      <th>item_cnt_day_lag_3</th>\n",
       "      <th>item_cnt_day_lag_4</th>\n",
       "      <th>item_cnt_day_lag_5</th>\n",
       "      <th>item_cnt_day_lag_6</th>\n",
       "      <th>item_cnt_day_lag_7</th>\n",
       "      <th>item_cnt_day_lag_8</th>\n",
       "      <th>item_cnt_day_lag_9</th>\n",
       "      <th>item_cnt_day_lag_10</th>\n",
       "      <th>item_cnt_day_lag_11</th>\n",
       "      <th>item_cnt_day_lag_12</th>\n",
       "      <th>item_price_lag_1</th>\n",
       "    </tr>\n",
       "  </thead>\n",
       "  <tbody>\n",
       "    <tr>\n",
       "      <th>0</th>\n",
       "      <td>0</td>\n",
       "      <td>30</td>\n",
       "      <td>40</td>\n",
       "      <td>29</td>\n",
       "      <td>12</td>\n",
       "      <td>0.0</td>\n",
       "      <td>0.0</td>\n",
       "      <td>0.0</td>\n",
       "      <td>0.0</td>\n",
       "      <td>0.0</td>\n",
       "      <td>0.0</td>\n",
       "      <td>0.0</td>\n",
       "      <td>0.0</td>\n",
       "      <td>0.0</td>\n",
       "      <td>0.0</td>\n",
       "      <td>0.0</td>\n",
       "      <td>31.0</td>\n",
       "      <td>0.0</td>\n",
       "      <td>265.0</td>\n",
       "    </tr>\n",
       "    <tr>\n",
       "      <th>1</th>\n",
       "      <td>0</td>\n",
       "      <td>30</td>\n",
       "      <td>40</td>\n",
       "      <td>29</td>\n",
       "      <td>13</td>\n",
       "      <td>0.0</td>\n",
       "      <td>0.0</td>\n",
       "      <td>0.0</td>\n",
       "      <td>0.0</td>\n",
       "      <td>0.0</td>\n",
       "      <td>0.0</td>\n",
       "      <td>0.0</td>\n",
       "      <td>0.0</td>\n",
       "      <td>0.0</td>\n",
       "      <td>0.0</td>\n",
       "      <td>0.0</td>\n",
       "      <td>0.0</td>\n",
       "      <td>31.0</td>\n",
       "      <td>265.0</td>\n",
       "    </tr>\n",
       "    <tr>\n",
       "      <th>2</th>\n",
       "      <td>0</td>\n",
       "      <td>30</td>\n",
       "      <td>40</td>\n",
       "      <td>29</td>\n",
       "      <td>14</td>\n",
       "      <td>0.0</td>\n",
       "      <td>0.0</td>\n",
       "      <td>0.0</td>\n",
       "      <td>0.0</td>\n",
       "      <td>0.0</td>\n",
       "      <td>0.0</td>\n",
       "      <td>0.0</td>\n",
       "      <td>0.0</td>\n",
       "      <td>0.0</td>\n",
       "      <td>0.0</td>\n",
       "      <td>0.0</td>\n",
       "      <td>0.0</td>\n",
       "      <td>0.0</td>\n",
       "      <td>265.0</td>\n",
       "    </tr>\n",
       "    <tr>\n",
       "      <th>3</th>\n",
       "      <td>0</td>\n",
       "      <td>30</td>\n",
       "      <td>40</td>\n",
       "      <td>29</td>\n",
       "      <td>15</td>\n",
       "      <td>0.0</td>\n",
       "      <td>0.0</td>\n",
       "      <td>0.0</td>\n",
       "      <td>0.0</td>\n",
       "      <td>0.0</td>\n",
       "      <td>0.0</td>\n",
       "      <td>0.0</td>\n",
       "      <td>0.0</td>\n",
       "      <td>0.0</td>\n",
       "      <td>0.0</td>\n",
       "      <td>0.0</td>\n",
       "      <td>0.0</td>\n",
       "      <td>0.0</td>\n",
       "      <td>265.0</td>\n",
       "    </tr>\n",
       "    <tr>\n",
       "      <th>4</th>\n",
       "      <td>0</td>\n",
       "      <td>30</td>\n",
       "      <td>40</td>\n",
       "      <td>29</td>\n",
       "      <td>16</td>\n",
       "      <td>0.0</td>\n",
       "      <td>0.0</td>\n",
       "      <td>0.0</td>\n",
       "      <td>0.0</td>\n",
       "      <td>0.0</td>\n",
       "      <td>0.0</td>\n",
       "      <td>0.0</td>\n",
       "      <td>0.0</td>\n",
       "      <td>0.0</td>\n",
       "      <td>0.0</td>\n",
       "      <td>0.0</td>\n",
       "      <td>0.0</td>\n",
       "      <td>0.0</td>\n",
       "      <td>265.0</td>\n",
       "    </tr>\n",
       "  </tbody>\n",
       "</table>\n",
       "</div>"
      ],
      "text/plain": [
       "   shop_id  item_id  item_category_id  city  date_block_num  item_cnt_day  \\\n",
       "0        0       30                40    29              12           0.0   \n",
       "1        0       30                40    29              13           0.0   \n",
       "2        0       30                40    29              14           0.0   \n",
       "3        0       30                40    29              15           0.0   \n",
       "4        0       30                40    29              16           0.0   \n",
       "\n",
       "   item_cnt_day_lag_1  item_cnt_day_lag_2  item_cnt_day_lag_3  \\\n",
       "0                 0.0                 0.0                 0.0   \n",
       "1                 0.0                 0.0                 0.0   \n",
       "2                 0.0                 0.0                 0.0   \n",
       "3                 0.0                 0.0                 0.0   \n",
       "4                 0.0                 0.0                 0.0   \n",
       "\n",
       "   item_cnt_day_lag_4  item_cnt_day_lag_5  item_cnt_day_lag_6  \\\n",
       "0                 0.0                 0.0                 0.0   \n",
       "1                 0.0                 0.0                 0.0   \n",
       "2                 0.0                 0.0                 0.0   \n",
       "3                 0.0                 0.0                 0.0   \n",
       "4                 0.0                 0.0                 0.0   \n",
       "\n",
       "   item_cnt_day_lag_7  item_cnt_day_lag_8  item_cnt_day_lag_9  \\\n",
       "0                 0.0                 0.0                 0.0   \n",
       "1                 0.0                 0.0                 0.0   \n",
       "2                 0.0                 0.0                 0.0   \n",
       "3                 0.0                 0.0                 0.0   \n",
       "4                 0.0                 0.0                 0.0   \n",
       "\n",
       "   item_cnt_day_lag_10  item_cnt_day_lag_11  item_cnt_day_lag_12  \\\n",
       "0                  0.0                 31.0                  0.0   \n",
       "1                  0.0                  0.0                 31.0   \n",
       "2                  0.0                  0.0                  0.0   \n",
       "3                  0.0                  0.0                  0.0   \n",
       "4                  0.0                  0.0                  0.0   \n",
       "\n",
       "   item_price_lag_1  \n",
       "0             265.0  \n",
       "1             265.0  \n",
       "2             265.0  \n",
       "3             265.0  \n",
       "4             265.0  "
      ]
     },
     "execution_count": 64,
     "metadata": {},
     "output_type": "execute_result"
    }
   ],
   "source": [
    "df_xgb_lag.head()"
   ]
  },
  {
   "cell_type": "markdown",
   "metadata": {},
   "source": [
    "- Before applying the XGBoost model, we perform a a Features Importance phase using Random Forest"
   ]
  },
  {
   "cell_type": "markdown",
   "metadata": {},
   "source": [
    "# Features Importance and Selection II"
   ]
  },
  {
   "cell_type": "markdown",
   "metadata": {},
   "source": [
    "- Due to our computational resources, we take a modest subsample of our dataframe (only 30%). Since item_cnt_day has some members with only 1 representative, we cannot use a stratified method. We decide to proceed anyway using sample"
   ]
  },
  {
   "cell_type": "code",
   "execution_count": 80,
   "metadata": {},
   "outputs": [
    {
     "data": {
      "text/plain": [
       "(466533, 19)"
      ]
     },
     "execution_count": 80,
     "metadata": {},
     "output_type": "execute_result"
    }
   ],
   "source": [
    "df_xgb_lag_sampled = df_xgb_lag.sample(frac=0.05, random_state=123)\n",
    "df_xgb_lag_sampled.shape"
   ]
  },
  {
   "cell_type": "code",
   "execution_count": 96,
   "metadata": {},
   "outputs": [],
   "source": [
    "from sklearn.ensemble import RandomForestRegressor\n",
    "from sklearn.feature_selection import RFECV\n",
    "from sklearn.model_selection import KFold"
   ]
  },
  {
   "cell_type": "code",
   "execution_count": 82,
   "metadata": {},
   "outputs": [],
   "source": [
    "rfc_model = RandomForestRegressor(random_state=123)\n",
    "\n",
    "z = df_xgb_lag_sampled.copy()\n",
    "y = z['item_cnt_day']\n",
    "X = z.drop('item_cnt_day', axis=1)"
   ]
  },
  {
   "cell_type": "code",
   "execution_count": 83,
   "metadata": {},
   "outputs": [
    {
     "data": {
      "text/plain": [
       "3304447    0.0\n",
       "7660138    0.0\n",
       "1366384    0.0\n",
       "1709832    0.0\n",
       "7278738    0.0\n",
       "          ... \n",
       "7318843    0.0\n",
       "6121707    0.0\n",
       "2079077    0.0\n",
       "315830     0.0\n",
       "8164621    0.0\n",
       "Name: item_cnt_day, Length: 466533, dtype: float64"
      ]
     },
     "execution_count": 83,
     "metadata": {},
     "output_type": "execute_result"
    }
   ],
   "source": [
    "y"
   ]
  },
  {
   "cell_type": "code",
   "execution_count": 97,
   "metadata": {},
   "outputs": [],
   "source": [
    "rfecv = RFECV(estimator=rfc_model, step=2, cv=KFold(n_splits=2, random_state=123, shuffle=True), \n",
    "              scoring='neg_mean_squared_error', n_jobs = -1, verbose=1)"
   ]
  },
  {
   "cell_type": "code",
   "execution_count": 98,
   "metadata": {},
   "outputs": [
    {
     "name": "stdout",
     "output_type": "stream",
     "text": [
      "Fitting estimator with 18 features.\n",
      "Fitting estimator with 16 features.\n",
      "Fitting estimator with 14 features.\n",
      "Fitting estimator with 12 features.\n",
      "Fitting estimator with 10 features.\n",
      "Fitting estimator with 8 features.\n"
     ]
    },
    {
     "data": {
      "text/plain": [
       "RFECV(cv=KFold(n_splits=2, random_state=123, shuffle=True),\n",
       "      estimator=RandomForestRegressor(bootstrap=True, ccp_alpha=0.0,\n",
       "                                      criterion='mse', max_depth=None,\n",
       "                                      max_features='auto', max_leaf_nodes=None,\n",
       "                                      max_samples=None,\n",
       "                                      min_impurity_decrease=0.0,\n",
       "                                      min_impurity_split=None,\n",
       "                                      min_samples_leaf=1, min_samples_split=2,\n",
       "                                      min_weight_fraction_leaf=0.0,\n",
       "                                      n_estimators=100, n_jobs=None,\n",
       "                                      oob_score=False, random_state=123,\n",
       "                                      verbose=0, warm_start=False),\n",
       "      min_features_to_select=1, n_jobs=-1, scoring='neg_mean_squared_error',\n",
       "      step=2, verbose=1)"
      ]
     },
     "execution_count": 98,
     "metadata": {},
     "output_type": "execute_result"
    }
   ],
   "source": [
    "rfecv.fit(X, y)"
   ]
  },
  {
   "cell_type": "code",
   "execution_count": 99,
   "metadata": {},
   "outputs": [
    {
     "name": "stdout",
     "output_type": "stream",
     "text": [
      "Optimal number of features : 6\n",
      "Best features : Index(['item_id', 'date_block_num', 'item_cnt_day_lag_1', 'item_cnt_day_lag_3',\n",
      "       'item_cnt_day_lag_7', 'item_cnt_day_lag_12'],\n",
      "      dtype='object')\n",
      "Original features : Index(['shop_id', 'item_id', 'item_category_id', 'city', 'date_block_num',\n",
      "       'item_cnt_day_lag_1', 'item_cnt_day_lag_2', 'item_cnt_day_lag_3',\n",
      "       'item_cnt_day_lag_4', 'item_cnt_day_lag_5', 'item_cnt_day_lag_6',\n",
      "       'item_cnt_day_lag_7', 'item_cnt_day_lag_8', 'item_cnt_day_lag_9',\n",
      "       'item_cnt_day_lag_10', 'item_cnt_day_lag_11', 'item_cnt_day_lag_12',\n",
      "       'item_price_lag_1'],\n",
      "      dtype='object')\n"
     ]
    },
    {
     "data": {
      "image/png": "[encoded data removed]",
      "text/plain": [
       "<Figure size 432x288 with 1 Axes>"
      ]
     },
     "metadata": {
      "needs_background": "light"
     },
     "output_type": "display_data"
    }
   ],
   "source": [
    "print(\"Optimal number of features : %d\" % rfecv.n_features_)\n",
    "print('Best features :', X.columns[rfecv.support_])\n",
    "print('Original features :', X.columns)\n",
    "plt.figure()\n",
    "plt.xlabel(\"Number of features selected\")\n",
    "plt.ylabel(\"Cross validation score \\n of number of selected features\")\n",
    "plt.plot(range(1, len(rfecv.grid_scores_) + 1), rfecv.grid_scores_)\n",
    "plt.show()"
   ]
  },
  {
   "cell_type": "code",
   "execution_count": 100,
   "metadata": {},
   "outputs": [
    {
     "name": "stdout",
     "output_type": "stream",
     "text": [
      "[-4.45726619 -4.03420437 -3.34499195 -3.19328217 -3.50973636 -3.38033993\n",
      " -3.29880219 -3.24167012 -3.28449336 -3.21866431]\n",
      "[4 1 5 4 1 1 2 1 5 6 2 1 3 7 7 6 1 3]\n",
      "6\n",
      "Index(['item_id', 'date_block_num', 'item_cnt_day_lag_1', 'item_cnt_day_lag_3',\n",
      "       'item_cnt_day_lag_7', 'item_cnt_day_lag_12'],\n",
      "      dtype='object')\n"
     ]
    },
    {
     "data": {
      "text/plain": [
       "array([0.15018611, 0.08485939, 0.18016362, 0.14377192, 0.16029711,\n",
       "       0.28072185])"
      ]
     },
     "execution_count": 100,
     "metadata": {},
     "output_type": "execute_result"
    }
   ],
   "source": [
    "print(rfecv.grid_scores_)\n",
    "print(rfecv.ranking_)\n",
    "print(rfecv.n_features_)\n",
    "print(X.columns[rfecv.support_])\n",
    "rfecv.estimator_.feature_importances_"
   ]
  },
  {
   "cell_type": "code",
   "execution_count": 102,
   "metadata": {},
   "outputs": [],
   "source": [
    "# We save rfecv to our directory\n",
    "filename = \"Models/features_importance/rfecv_xgb_2.sav\"\n",
    "pickle.dump(rfecv, open(filename, 'wb'))"
   ]
  },
  {
   "cell_type": "code",
   "execution_count": 121,
   "metadata": {},
   "outputs": [],
   "source": [
    "num_feature = rfecv.n_features_\n",
    "tab_general = pd.DataFrame ({ 'rank': rfecv.ranking_ , 'variables': X.columns.tolist()})\n",
    "tab_rank = tab_general.copy()\n",
    "tab_importances = tab_general.copy()\n",
    "\n",
    "tab_rank = pd.DataFrame(tab_general.groupby('rank')['variables'].apply(list))\n",
    "#tab_rank['score']= rfecv.grid_scores_[num_feature-1 : len(rfecv.grid_scores_)]"
   ]
  },
  {
   "cell_type": "code",
   "execution_count": 122,
   "metadata": {},
   "outputs": [
    {
     "data": {
      "text/html": [
       "<div>\n",
       "<style scoped>\n",
       "    .dataframe tbody tr th:only-of-type {\n",
       "        vertical-align: middle;\n",
       "    }\n",
       "\n",
       "    .dataframe tbody tr th {\n",
       "        vertical-align: top;\n",
       "    }\n",
       "\n",
       "    .dataframe thead th {\n",
       "        text-align: right;\n",
       "    }\n",
       "</style>\n",
       "<table border=\"1\" class=\"dataframe\">\n",
       "  <thead>\n",
       "    <tr style=\"text-align: right;\">\n",
       "      <th></th>\n",
       "      <th>variables</th>\n",
       "    </tr>\n",
       "    <tr>\n",
       "      <th>rank</th>\n",
       "      <th></th>\n",
       "    </tr>\n",
       "  </thead>\n",
       "  <tbody>\n",
       "    <tr>\n",
       "      <th>1</th>\n",
       "      <td>[item_id, date_block_num, item_cnt_day_lag_1, ...</td>\n",
       "    </tr>\n",
       "    <tr>\n",
       "      <th>2</th>\n",
       "      <td>[item_cnt_day_lag_2, item_cnt_day_lag_6]</td>\n",
       "    </tr>\n",
       "    <tr>\n",
       "      <th>3</th>\n",
       "      <td>[item_cnt_day_lag_8, item_price_lag_1]</td>\n",
       "    </tr>\n",
       "    <tr>\n",
       "      <th>4</th>\n",
       "      <td>[shop_id, city]</td>\n",
       "    </tr>\n",
       "    <tr>\n",
       "      <th>5</th>\n",
       "      <td>[item_category_id, item_cnt_day_lag_4]</td>\n",
       "    </tr>\n",
       "    <tr>\n",
       "      <th>6</th>\n",
       "      <td>[item_cnt_day_lag_5, item_cnt_day_lag_11]</td>\n",
       "    </tr>\n",
       "    <tr>\n",
       "      <th>7</th>\n",
       "      <td>[item_cnt_day_lag_9, item_cnt_day_lag_10]</td>\n",
       "    </tr>\n",
       "  </tbody>\n",
       "</table>\n",
       "</div>"
      ],
      "text/plain": [
       "                                              variables\n",
       "rank                                                   \n",
       "1     [item_id, date_block_num, item_cnt_day_lag_1, ...\n",
       "2              [item_cnt_day_lag_2, item_cnt_day_lag_6]\n",
       "3                [item_cnt_day_lag_8, item_price_lag_1]\n",
       "4                                       [shop_id, city]\n",
       "5                [item_category_id, item_cnt_day_lag_4]\n",
       "6             [item_cnt_day_lag_5, item_cnt_day_lag_11]\n",
       "7             [item_cnt_day_lag_9, item_cnt_day_lag_10]"
      ]
     },
     "execution_count": 122,
     "metadata": {},
     "output_type": "execute_result"
    }
   ],
   "source": [
    "tab_rank"
   ]
  },
  {
   "cell_type": "code",
   "execution_count": 123,
   "metadata": {},
   "outputs": [],
   "source": [
    "tab_importances = tab_importances[tab_importances['rank']==1].drop('rank', axis = 1)\n",
    "tab_importances['importances'] = rfecv.estimator_.feature_importances_\n",
    "tab_importances.sort_values(by = 'importances', ascending = False, inplace = True)\n",
    "tab_importances.reset_index(drop=True, inplace=True)"
   ]
  },
  {
   "cell_type": "code",
   "execution_count": 124,
   "metadata": {},
   "outputs": [
    {
     "data": {
      "text/html": [
       "<div>\n",
       "<style scoped>\n",
       "    .dataframe tbody tr th:only-of-type {\n",
       "        vertical-align: middle;\n",
       "    }\n",
       "\n",
       "    .dataframe tbody tr th {\n",
       "        vertical-align: top;\n",
       "    }\n",
       "\n",
       "    .dataframe thead th {\n",
       "        text-align: right;\n",
       "    }\n",
       "</style>\n",
       "<table border=\"1\" class=\"dataframe\">\n",
       "  <thead>\n",
       "    <tr style=\"text-align: right;\">\n",
       "      <th></th>\n",
       "      <th>variables</th>\n",
       "      <th>importances</th>\n",
       "    </tr>\n",
       "  </thead>\n",
       "  <tbody>\n",
       "    <tr>\n",
       "      <th>0</th>\n",
       "      <td>item_cnt_day_lag_12</td>\n",
       "      <td>0.280722</td>\n",
       "    </tr>\n",
       "    <tr>\n",
       "      <th>1</th>\n",
       "      <td>item_cnt_day_lag_1</td>\n",
       "      <td>0.180164</td>\n",
       "    </tr>\n",
       "    <tr>\n",
       "      <th>2</th>\n",
       "      <td>item_cnt_day_lag_7</td>\n",
       "      <td>0.160297</td>\n",
       "    </tr>\n",
       "    <tr>\n",
       "      <th>3</th>\n",
       "      <td>item_id</td>\n",
       "      <td>0.150186</td>\n",
       "    </tr>\n",
       "    <tr>\n",
       "      <th>4</th>\n",
       "      <td>item_cnt_day_lag_3</td>\n",
       "      <td>0.143772</td>\n",
       "    </tr>\n",
       "    <tr>\n",
       "      <th>5</th>\n",
       "      <td>date_block_num</td>\n",
       "      <td>0.084859</td>\n",
       "    </tr>\n",
       "  </tbody>\n",
       "</table>\n",
       "</div>"
      ],
      "text/plain": [
       "             variables  importances\n",
       "0  item_cnt_day_lag_12     0.280722\n",
       "1   item_cnt_day_lag_1     0.180164\n",
       "2   item_cnt_day_lag_7     0.160297\n",
       "3              item_id     0.150186\n",
       "4   item_cnt_day_lag_3     0.143772\n",
       "5       date_block_num     0.084859"
      ]
     },
     "execution_count": 124,
     "metadata": {},
     "output_type": "execute_result"
    }
   ],
   "source": [
    "tab_importances"
   ]
  },
  {
   "cell_type": "markdown",
   "metadata": {},
   "source": [
    "# Strategies"
   ]
  },
  {
   "cell_type": "markdown",
   "metadata": {},
   "source": [
    "- Benchmark\n",
    "- xgboost\n",
    "- statistical method"
   ]
  },
  {
   "cell_type": "markdown",
   "metadata": {},
   "source": [
    "# next time\n",
    "- interpretazioni outliers e negativi\n",
    "- vedere se item id del test sono gli stessi del training\n",
    "- aggruppare per shop, mese e rifare una analisi: quanti prodotti vendono, a che prezzo medio etc, quante categorie etc.\n",
    "- aggruppare per shop, mese e item e fare feature engineering vera per il modello"
   ]
  },
  {
   "cell_type": "code",
   "execution_count": null,
   "metadata": {},
   "outputs": [],
   "source": [
    "import matplotlib.pyplot as plt"
   ]
  },
  {
   "cell_type": "code",
   "execution_count": null,
   "metadata": {},
   "outputs": [],
   "source": [
    "plt.plot(df['shop_id'], '.')"
   ]
  },
  {
   "cell_type": "code",
   "execution_count": null,
   "metadata": {},
   "outputs": [],
   "source": [
    "df.index"
   ]
  },
  {
   "cell_type": "code",
   "execution_count": null,
   "metadata": {},
   "outputs": [],
   "source": [
    "plt.scatter(range(len(df['shop_id'])), df['shop_id']), c=df['item_cnt_day']"
   ]
  },
  {
   "cell_type": "code",
   "execution_count": null,
   "metadata": {},
   "outputs": [],
   "source": [
    "plt.scatter(range(len(df['shop_id'])), df['shop_id'])"
   ]
  },
  {
   "cell_type": "code",
   "execution_count": null,
   "metadata": {},
   "outputs": [],
   "source": []
  }
 ],
 "metadata": {
  "kernelspec": {
   "display_name": "Python 3",
   "language": "python",
   "name": "python3"
  },
  "language_info": {
   "codemirror_mode": {
    "name": "ipython",
    "version": 3
   },
   "file_extension": ".py",
   "mimetype": "text/x-python",
   "name": "python",
   "nbconvert_exporter": "python",
   "pygments_lexer": "ipython3",
   "version": "3.7.3"
  }
 },
 "nbformat": 4,
 "nbformat_minor": 4
}
