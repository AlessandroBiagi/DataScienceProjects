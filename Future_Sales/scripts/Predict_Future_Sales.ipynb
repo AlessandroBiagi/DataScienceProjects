{
 "cells": [
  {
   "cell_type": "code",
   "execution_count": 1,
   "metadata": {},
   "outputs": [],
   "source": [
    "# We set the working directory\n",
    "import os\n",
    "os.chdir('../')"
   ]
  },
  {
   "cell_type": "code",
   "execution_count": 2,
   "metadata": {},
   "outputs": [],
   "source": [
    "# We import some custom functions\n",
    "from scripts.Utils import *\n",
    "\n",
    "# We import the libraries\n",
    "import pandas as pd\n",
    "import matplotlib.pyplot as plt\n",
    "import pickle\n",
    "from sklearn.model_selection import StratifiedKFold, train_test_split\n",
    "from sklearn.metrics import r2_score, mean_squared_error\n",
    "from statsmodels.tsa.seasonal import seasonal_decompose\n",
    "from statsmodels.tsa.stattools import adfuller\n",
    "from statsmodels.tsa.arima_model import ARIMA\n",
    "from statsmodels.graphics.tsaplots import plot_pacf, plot_acf\n",
    "from sklearn.ensemble import RandomForestRegressor\n",
    "from sklearn.feature_selection import RFECV\n",
    "from sklearn.model_selection import KFold\n",
    "import xgboost as xgb\n",
    "from hyperopt import fmin, tpe, hp, Trials"
   ]
  },
  {
   "cell_type": "markdown",
   "metadata": {},
   "source": [
    "We start by taking a look at the original fact table"
   ]
  },
  {
   "cell_type": "code",
   "execution_count": 3,
   "metadata": {},
   "outputs": [],
   "source": [
    "df_original = pd.read_csv('src/sales_train.csv')"
   ]
  },
  {
   "cell_type": "code",
   "execution_count": 4,
   "metadata": {},
   "outputs": [
    {
     "data": {
      "text/plain": [
       "(2935849, 6)"
      ]
     },
     "execution_count": 4,
     "metadata": {},
     "output_type": "execute_result"
    }
   ],
   "source": [
    "df_original.shape"
   ]
  },
  {
   "cell_type": "code",
   "execution_count": 5,
   "metadata": {},
   "outputs": [
    {
     "data": {
      "text/html": [
       "<div>\n",
       "<style scoped>\n",
       "    .dataframe tbody tr th:only-of-type {\n",
       "        vertical-align: middle;\n",
       "    }\n",
       "\n",
       "    .dataframe tbody tr th {\n",
       "        vertical-align: top;\n",
       "    }\n",
       "\n",
       "    .dataframe thead th {\n",
       "        text-align: right;\n",
       "    }\n",
       "</style>\n",
       "<table border=\"1\" class=\"dataframe\">\n",
       "  <thead>\n",
       "    <tr style=\"text-align: right;\">\n",
       "      <th></th>\n",
       "      <th>date</th>\n",
       "      <th>date_block_num</th>\n",
       "      <th>shop_id</th>\n",
       "      <th>item_id</th>\n",
       "      <th>item_price</th>\n",
       "      <th>item_cnt_day</th>\n",
       "    </tr>\n",
       "  </thead>\n",
       "  <tbody>\n",
       "    <tr>\n",
       "      <th>0</th>\n",
       "      <td>02.01.2013</td>\n",
       "      <td>0</td>\n",
       "      <td>59</td>\n",
       "      <td>22154</td>\n",
       "      <td>999.00</td>\n",
       "      <td>1.0</td>\n",
       "    </tr>\n",
       "    <tr>\n",
       "      <th>1</th>\n",
       "      <td>03.01.2013</td>\n",
       "      <td>0</td>\n",
       "      <td>25</td>\n",
       "      <td>2552</td>\n",
       "      <td>899.00</td>\n",
       "      <td>1.0</td>\n",
       "    </tr>\n",
       "    <tr>\n",
       "      <th>2</th>\n",
       "      <td>05.01.2013</td>\n",
       "      <td>0</td>\n",
       "      <td>25</td>\n",
       "      <td>2552</td>\n",
       "      <td>899.00</td>\n",
       "      <td>-1.0</td>\n",
       "    </tr>\n",
       "    <tr>\n",
       "      <th>3</th>\n",
       "      <td>06.01.2013</td>\n",
       "      <td>0</td>\n",
       "      <td>25</td>\n",
       "      <td>2554</td>\n",
       "      <td>1709.05</td>\n",
       "      <td>1.0</td>\n",
       "    </tr>\n",
       "    <tr>\n",
       "      <th>4</th>\n",
       "      <td>15.01.2013</td>\n",
       "      <td>0</td>\n",
       "      <td>25</td>\n",
       "      <td>2555</td>\n",
       "      <td>1099.00</td>\n",
       "      <td>1.0</td>\n",
       "    </tr>\n",
       "  </tbody>\n",
       "</table>\n",
       "</div>"
      ],
      "text/plain": [
       "         date  date_block_num  shop_id  item_id  item_price  item_cnt_day\n",
       "0  02.01.2013               0       59    22154      999.00           1.0\n",
       "1  03.01.2013               0       25     2552      899.00           1.0\n",
       "2  05.01.2013               0       25     2552      899.00          -1.0\n",
       "3  06.01.2013               0       25     2554     1709.05           1.0\n",
       "4  15.01.2013               0       25     2555     1099.00           1.0"
      ]
     },
     "execution_count": 5,
     "metadata": {},
     "output_type": "execute_result"
    }
   ],
   "source": [
    "df_original.head()"
   ]
  },
  {
   "cell_type": "markdown",
   "metadata": {},
   "source": [
    "# Merges"
   ]
  },
  {
   "cell_type": "markdown",
   "metadata": {},
   "source": [
    "To recover all the useful information, we merge the fact table **sales_train** with the other dimensions"
   ]
  },
  {
   "cell_type": "code",
   "execution_count": 6,
   "metadata": {},
   "outputs": [],
   "source": [
    "# We read all the dataframes\n",
    "df_sales = df_original.copy()"
   ]
  },
  {
   "cell_type": "code",
   "execution_count": 7,
   "metadata": {},
   "outputs": [],
   "source": [
    "df_shops = pd.read_csv('src/shops.csv')\n",
    "df_categories = pd.read_csv('src/item_categories.csv')\n",
    "df_items = pd.read_csv('src/items.csv')"
   ]
  },
  {
   "cell_type": "code",
   "execution_count": 8,
   "metadata": {},
   "outputs": [],
   "source": [
    "# We join the information between the categories and the items\n",
    "df_categories_items = df_categories.merge(df_items, how='left', left_on='item_category_id', right_on='item_category_id')"
   ]
  },
  {
   "cell_type": "code",
   "execution_count": 9,
   "metadata": {},
   "outputs": [],
   "source": [
    "# Firstly, we recover the information from the shops dimension, secondly from the categories and the items dimensions\n",
    "df = df_sales.merge(df_shops, how='left', left_on='shop_id', right_on='shop_id')\n",
    "df = df.merge(df_categories_items, how='left', left_on='item_id', right_on='item_id')"
   ]
  },
  {
   "cell_type": "code",
   "execution_count": 10,
   "metadata": {},
   "outputs": [
    {
     "data": {
      "text/html": [
       "<div>\n",
       "<style scoped>\n",
       "    .dataframe tbody tr th:only-of-type {\n",
       "        vertical-align: middle;\n",
       "    }\n",
       "\n",
       "    .dataframe tbody tr th {\n",
       "        vertical-align: top;\n",
       "    }\n",
       "\n",
       "    .dataframe thead th {\n",
       "        text-align: right;\n",
       "    }\n",
       "</style>\n",
       "<table border=\"1\" class=\"dataframe\">\n",
       "  <thead>\n",
       "    <tr style=\"text-align: right;\">\n",
       "      <th></th>\n",
       "      <th>date</th>\n",
       "      <th>date_block_num</th>\n",
       "      <th>shop_id</th>\n",
       "      <th>item_id</th>\n",
       "      <th>item_price</th>\n",
       "      <th>item_cnt_day</th>\n",
       "      <th>shop_name</th>\n",
       "      <th>item_category_name</th>\n",
       "      <th>item_category_id</th>\n",
       "      <th>item_name</th>\n",
       "    </tr>\n",
       "  </thead>\n",
       "  <tbody>\n",
       "    <tr>\n",
       "      <th>0</th>\n",
       "      <td>02.01.2013</td>\n",
       "      <td>0</td>\n",
       "      <td>59</td>\n",
       "      <td>22154</td>\n",
       "      <td>999.00</td>\n",
       "      <td>1.0</td>\n",
       "      <td>Ярославль ТЦ \"Альтаир\"</td>\n",
       "      <td>Кино - Blu-Ray</td>\n",
       "      <td>37</td>\n",
       "      <td>ЯВЛЕНИЕ 2012 (BD)</td>\n",
       "    </tr>\n",
       "    <tr>\n",
       "      <th>1</th>\n",
       "      <td>03.01.2013</td>\n",
       "      <td>0</td>\n",
       "      <td>25</td>\n",
       "      <td>2552</td>\n",
       "      <td>899.00</td>\n",
       "      <td>1.0</td>\n",
       "      <td>Москва ТРК \"Атриум\"</td>\n",
       "      <td>Музыка - Винил</td>\n",
       "      <td>58</td>\n",
       "      <td>DEEP PURPLE  The House Of Blue Light  LP</td>\n",
       "    </tr>\n",
       "    <tr>\n",
       "      <th>2</th>\n",
       "      <td>05.01.2013</td>\n",
       "      <td>0</td>\n",
       "      <td>25</td>\n",
       "      <td>2552</td>\n",
       "      <td>899.00</td>\n",
       "      <td>-1.0</td>\n",
       "      <td>Москва ТРК \"Атриум\"</td>\n",
       "      <td>Музыка - Винил</td>\n",
       "      <td>58</td>\n",
       "      <td>DEEP PURPLE  The House Of Blue Light  LP</td>\n",
       "    </tr>\n",
       "    <tr>\n",
       "      <th>3</th>\n",
       "      <td>06.01.2013</td>\n",
       "      <td>0</td>\n",
       "      <td>25</td>\n",
       "      <td>2554</td>\n",
       "      <td>1709.05</td>\n",
       "      <td>1.0</td>\n",
       "      <td>Москва ТРК \"Атриум\"</td>\n",
       "      <td>Музыка - Винил</td>\n",
       "      <td>58</td>\n",
       "      <td>DEEP PURPLE  Who Do You Think We Are  LP</td>\n",
       "    </tr>\n",
       "    <tr>\n",
       "      <th>4</th>\n",
       "      <td>15.01.2013</td>\n",
       "      <td>0</td>\n",
       "      <td>25</td>\n",
       "      <td>2555</td>\n",
       "      <td>1099.00</td>\n",
       "      <td>1.0</td>\n",
       "      <td>Москва ТРК \"Атриум\"</td>\n",
       "      <td>Музыка - CD фирменного производства</td>\n",
       "      <td>56</td>\n",
       "      <td>DEEP PURPLE 30 Very Best Of 2CD (Фирм.)</td>\n",
       "    </tr>\n",
       "  </tbody>\n",
       "</table>\n",
       "</div>"
      ],
      "text/plain": [
       "         date  date_block_num  shop_id  item_id  item_price  item_cnt_day  \\\n",
       "0  02.01.2013               0       59    22154      999.00           1.0   \n",
       "1  03.01.2013               0       25     2552      899.00           1.0   \n",
       "2  05.01.2013               0       25     2552      899.00          -1.0   \n",
       "3  06.01.2013               0       25     2554     1709.05           1.0   \n",
       "4  15.01.2013               0       25     2555     1099.00           1.0   \n",
       "\n",
       "                shop_name                   item_category_name  \\\n",
       "0  Ярославль ТЦ \"Альтаир\"                       Кино - Blu-Ray   \n",
       "1     Москва ТРК \"Атриум\"                       Музыка - Винил   \n",
       "2     Москва ТРК \"Атриум\"                       Музыка - Винил   \n",
       "3     Москва ТРК \"Атриум\"                       Музыка - Винил   \n",
       "4     Москва ТРК \"Атриум\"  Музыка - CD фирменного производства   \n",
       "\n",
       "   item_category_id                                 item_name  \n",
       "0                37                         ЯВЛЕНИЕ 2012 (BD)  \n",
       "1                58  DEEP PURPLE  The House Of Blue Light  LP  \n",
       "2                58  DEEP PURPLE  The House Of Blue Light  LP  \n",
       "3                58  DEEP PURPLE  Who Do You Think We Are  LP  \n",
       "4                56   DEEP PURPLE 30 Very Best Of 2CD (Фирм.)  "
      ]
     },
     "execution_count": 10,
     "metadata": {},
     "output_type": "execute_result"
    }
   ],
   "source": [
    "df.head()"
   ]
  },
  {
   "cell_type": "code",
   "execution_count": 11,
   "metadata": {},
   "outputs": [],
   "source": [
    "df = df.drop_duplicates()"
   ]
  },
  {
   "cell_type": "code",
   "execution_count": 12,
   "metadata": {},
   "outputs": [
    {
     "data": {
      "text/plain": [
       "(2935843, 10)"
      ]
     },
     "execution_count": 12,
     "metadata": {},
     "output_type": "execute_result"
    }
   ],
   "source": [
    "df.shape"
   ]
  },
  {
   "cell_type": "markdown",
   "metadata": {},
   "source": [
    "Now that we have all the potential useful features for the fact table, we can start to explore it. Of course, we already observe that many descriptions are in Cyrillic, which is confusing"
   ]
  },
  {
   "cell_type": "markdown",
   "metadata": {},
   "source": [
    "# Exploratory Data Analysis I (EDA I)"
   ]
  },
  {
   "cell_type": "code",
   "execution_count": 13,
   "metadata": {},
   "outputs": [
    {
     "name": "stdout",
     "output_type": "stream",
     "text": [
      "<class 'pandas.core.frame.DataFrame'>\n",
      "Int64Index: 2935843 entries, 0 to 2935848\n",
      "Data columns (total 10 columns):\n",
      " #   Column              Dtype  \n",
      "---  ------              -----  \n",
      " 0   date                object \n",
      " 1   date_block_num      int64  \n",
      " 2   shop_id             int64  \n",
      " 3   item_id             int64  \n",
      " 4   item_price          float64\n",
      " 5   item_cnt_day        float64\n",
      " 6   shop_name           object \n",
      " 7   item_category_name  object \n",
      " 8   item_category_id    int64  \n",
      " 9   item_name           object \n",
      "dtypes: float64(2), int64(4), object(4)\n",
      "memory usage: 246.4+ MB\n"
     ]
    }
   ],
   "source": [
    "df.info()"
   ]
  },
  {
   "cell_type": "code",
   "execution_count": 14,
   "metadata": {},
   "outputs": [
    {
     "data": {
      "text/html": [
       "<div>\n",
       "<style scoped>\n",
       "    .dataframe tbody tr th:only-of-type {\n",
       "        vertical-align: middle;\n",
       "    }\n",
       "\n",
       "    .dataframe tbody tr th {\n",
       "        vertical-align: top;\n",
       "    }\n",
       "\n",
       "    .dataframe thead th {\n",
       "        text-align: right;\n",
       "    }\n",
       "</style>\n",
       "<table border=\"1\" class=\"dataframe\">\n",
       "  <thead>\n",
       "    <tr style=\"text-align: right;\">\n",
       "      <th></th>\n",
       "      <th>date_block_num</th>\n",
       "      <th>shop_id</th>\n",
       "      <th>item_id</th>\n",
       "      <th>item_price</th>\n",
       "      <th>item_cnt_day</th>\n",
       "      <th>item_category_id</th>\n",
       "    </tr>\n",
       "  </thead>\n",
       "  <tbody>\n",
       "    <tr>\n",
       "      <th>count</th>\n",
       "      <td>2.93584e+06</td>\n",
       "      <td>2.93584e+06</td>\n",
       "      <td>2.93584e+06</td>\n",
       "      <td>2.93584e+06</td>\n",
       "      <td>2.93584e+06</td>\n",
       "      <td>2.93584e+06</td>\n",
       "    </tr>\n",
       "    <tr>\n",
       "      <th>mean</th>\n",
       "      <td>14.5699</td>\n",
       "      <td>33.0017</td>\n",
       "      <td>10197.2</td>\n",
       "      <td>890.853</td>\n",
       "      <td>1.24264</td>\n",
       "      <td>40.0014</td>\n",
       "    </tr>\n",
       "    <tr>\n",
       "      <th>std</th>\n",
       "      <td>9.42299</td>\n",
       "      <td>16.227</td>\n",
       "      <td>6324.29</td>\n",
       "      <td>1729.8</td>\n",
       "      <td>2.61884</td>\n",
       "      <td>17.1008</td>\n",
       "    </tr>\n",
       "    <tr>\n",
       "      <th>min</th>\n",
       "      <td>0</td>\n",
       "      <td>0</td>\n",
       "      <td>0</td>\n",
       "      <td>-1</td>\n",
       "      <td>-22</td>\n",
       "      <td>0</td>\n",
       "    </tr>\n",
       "    <tr>\n",
       "      <th>25%</th>\n",
       "      <td>7</td>\n",
       "      <td>22</td>\n",
       "      <td>4476</td>\n",
       "      <td>249</td>\n",
       "      <td>1</td>\n",
       "      <td>28</td>\n",
       "    </tr>\n",
       "    <tr>\n",
       "      <th>50%</th>\n",
       "      <td>14</td>\n",
       "      <td>31</td>\n",
       "      <td>9343</td>\n",
       "      <td>399</td>\n",
       "      <td>1</td>\n",
       "      <td>40</td>\n",
       "    </tr>\n",
       "    <tr>\n",
       "      <th>75%</th>\n",
       "      <td>23</td>\n",
       "      <td>47</td>\n",
       "      <td>15684</td>\n",
       "      <td>999</td>\n",
       "      <td>1</td>\n",
       "      <td>55</td>\n",
       "    </tr>\n",
       "    <tr>\n",
       "      <th>max</th>\n",
       "      <td>33</td>\n",
       "      <td>59</td>\n",
       "      <td>22169</td>\n",
       "      <td>307980</td>\n",
       "      <td>2169</td>\n",
       "      <td>83</td>\n",
       "    </tr>\n",
       "  </tbody>\n",
       "</table>\n",
       "</div>"
      ],
      "text/plain": [
       "      date_block_num      shop_id      item_id   item_price item_cnt_day  \\\n",
       "count    2.93584e+06  2.93584e+06  2.93584e+06  2.93584e+06  2.93584e+06   \n",
       "mean         14.5699      33.0017      10197.2      890.853      1.24264   \n",
       "std          9.42299       16.227      6324.29       1729.8      2.61884   \n",
       "min                0            0            0           -1          -22   \n",
       "25%                7           22         4476          249            1   \n",
       "50%               14           31         9343          399            1   \n",
       "75%               23           47        15684          999            1   \n",
       "max               33           59        22169       307980         2169   \n",
       "\n",
       "      item_category_id  \n",
       "count      2.93584e+06  \n",
       "mean           40.0014  \n",
       "std            17.1008  \n",
       "min                  0  \n",
       "25%                 28  \n",
       "50%                 40  \n",
       "75%                 55  \n",
       "max                 83  "
      ]
     },
     "execution_count": 14,
     "metadata": {},
     "output_type": "execute_result"
    }
   ],
   "source": [
    "df.describe().apply(lambda s: s.apply(lambda x: format(x, 'g')))"
   ]
  },
  {
   "cell_type": "markdown",
   "metadata": {},
   "source": [
    "We take a look at the **date** column taking into account the description of **date_block_num** that we found on the Kaggle webpage"
   ]
  },
  {
   "cell_type": "code",
   "execution_count": 15,
   "metadata": {},
   "outputs": [
    {
     "data": {
      "text/plain": [
       "0         02.01.2013\n",
       "1         03.01.2013\n",
       "2         05.01.2013\n",
       "3         06.01.2013\n",
       "4         15.01.2013\n",
       "             ...    \n",
       "115685    19.01.2013\n",
       "115686    18.01.2013\n",
       "115687    26.01.2013\n",
       "115688    31.01.2013\n",
       "115689    07.01.2013\n",
       "Name: date, Length: 115689, dtype: object"
      ]
     },
     "execution_count": 15,
     "metadata": {},
     "output_type": "execute_result"
    }
   ],
   "source": [
    "df[df['date_block_num']==0]['date']"
   ]
  },
  {
   "cell_type": "code",
   "execution_count": 16,
   "metadata": {},
   "outputs": [
    {
     "data": {
      "text/plain": [
       "2882335    23.10.2015\n",
       "2882336    05.10.2015\n",
       "2882337    02.10.2015\n",
       "2882338    12.10.2015\n",
       "2882339    04.10.2015\n",
       "              ...    \n",
       "2935844    10.10.2015\n",
       "2935845    09.10.2015\n",
       "2935846    14.10.2015\n",
       "2935847    22.10.2015\n",
       "2935848    03.10.2015\n",
       "Name: date, Length: 53514, dtype: object"
      ]
     },
     "execution_count": 16,
     "metadata": {},
     "output_type": "execute_result"
    }
   ],
   "source": [
    "df[df['date_block_num']==33]['date']"
   ]
  },
  {
   "cell_type": "markdown",
   "metadata": {},
   "source": [
    "We also take a look at the item_price"
   ]
  },
  {
   "cell_type": "code",
   "execution_count": 17,
   "metadata": {},
   "outputs": [
    {
     "data": {
      "text/plain": [
       "1"
      ]
     },
     "execution_count": 17,
     "metadata": {},
     "output_type": "execute_result"
    }
   ],
   "source": [
    "len(df[df['item_price']==-1])"
   ]
  },
  {
   "cell_type": "markdown",
   "metadata": {},
   "source": [
    "We use our exploratory custom functions to study more in depth the statistical properties of the features"
   ]
  },
  {
   "cell_type": "code",
   "execution_count": 18,
   "metadata": {},
   "outputs": [],
   "source": [
    "value_counts_csv(df)\n",
    "count_nulls(df)\n",
    "col_names = columns_list_except(df, ['shop_name', 'item_name', 'item_category_name'])\n",
    "hist_boxplot(df[col_names])"
   ]
  },
  {
   "cell_type": "markdown",
   "metadata": {},
   "source": [
    "## - First Remarks and ideas for each column: individual features"
   ]
  },
  {
   "cell_type": "markdown",
   "metadata": {},
   "source": [
    "- First of all, there are **no null values** in this dataset"
   ]
  },
  {
   "cell_type": "markdown",
   "metadata": {},
   "source": [
    "- **date**: 34 consecutive possible months for each item. The minimum (month, year) is Octuber 2013 and the maximum is Octuber 2015.\n",
    "- **date_block_num**: minimum is 0 and maximum 33. By the definition of this column, this is strictly connected to the date column. We observe that for each value we can have a minimum of 50k items and a maximum of 143k\n",
    "- **shop_id**: there are 60 different shops with sales data. We observe that the number of observations per shop goes from 0.3k to 235k. This suggests that some particular shops are able to manage many products (maybe they are bigger shops actually)\n",
    "- **item_id**: we have 21807 different items. We observe that the item_id 20949 is more popular than the others by far. It is about the 1% of our observations\n",
    "- **item_price**: for sure, looking at the boxplot, it is evident that there are some outliers. Indeed the mean which is 890 is very different from the median (390) and moreover the maximum value is bigger than 300k. There is also an observation with price equal to -1 \n",
    "- **item_cnt_day**: almost the 90% of our observations has item_cnt_day equal to 1. Looking at the charts, we see that we have a lot of outliers and some negative values\n",
    "- **item_category_id**: we have 84 distinct categories. Among them, there are three much more popular than the others. The category_id 40 has almost the 20% of the total observations. \n",
    "- **shop_name**: all the names are in Cyrillic. We could think of translating them to English to get some insights. We have the feeling that the name of the shop always contains the name of the city\n",
    "- **item_name**: many names are in Cyrillic. Also in this case, we could think of translating them to English to get some insights"
   ]
  },
  {
   "cell_type": "markdown",
   "metadata": {},
   "source": [
    "# Feature Engineering I"
   ]
  },
  {
   "cell_type": "code",
   "execution_count": 19,
   "metadata": {},
   "outputs": [
    {
     "data": {
      "text/html": [
       "<div>\n",
       "<style scoped>\n",
       "    .dataframe tbody tr th:only-of-type {\n",
       "        vertical-align: middle;\n",
       "    }\n",
       "\n",
       "    .dataframe tbody tr th {\n",
       "        vertical-align: top;\n",
       "    }\n",
       "\n",
       "    .dataframe thead th {\n",
       "        text-align: right;\n",
       "    }\n",
       "</style>\n",
       "<table border=\"1\" class=\"dataframe\">\n",
       "  <thead>\n",
       "    <tr style=\"text-align: right;\">\n",
       "      <th></th>\n",
       "      <th>date</th>\n",
       "      <th>date_block_num</th>\n",
       "      <th>shop_id</th>\n",
       "      <th>item_id</th>\n",
       "      <th>item_price</th>\n",
       "      <th>item_cnt_day</th>\n",
       "      <th>shop_name</th>\n",
       "      <th>item_category_name</th>\n",
       "      <th>item_category_id</th>\n",
       "      <th>item_name</th>\n",
       "    </tr>\n",
       "  </thead>\n",
       "  <tbody>\n",
       "    <tr>\n",
       "      <th>484683</th>\n",
       "      <td>15.05.2013</td>\n",
       "      <td>4</td>\n",
       "      <td>32</td>\n",
       "      <td>2973</td>\n",
       "      <td>-1.0</td>\n",
       "      <td>1.0</td>\n",
       "      <td>Москва ТЦ \"Серебряный Дом\"</td>\n",
       "      <td>Игры - PS3</td>\n",
       "      <td>19</td>\n",
       "      <td>DmC Devil May Cry [PS3, русские субтитры]</td>\n",
       "    </tr>\n",
       "  </tbody>\n",
       "</table>\n",
       "</div>"
      ],
      "text/plain": [
       "              date  date_block_num  shop_id  item_id  item_price  \\\n",
       "484683  15.05.2013               4       32     2973        -1.0   \n",
       "\n",
       "        item_cnt_day                   shop_name item_category_name  \\\n",
       "484683           1.0  Москва ТЦ \"Серебряный Дом\"         Игры - PS3   \n",
       "\n",
       "        item_category_id                                  item_name  \n",
       "484683                19  DmC Devil May Cry [PS3, русские субтитры]  "
      ]
     },
     "execution_count": 19,
     "metadata": {},
     "output_type": "execute_result"
    }
   ],
   "source": [
    "# item_price with negative values\n",
    "df[df['item_price']<=0]"
   ]
  },
  {
   "cell_type": "markdown",
   "metadata": {},
   "source": [
    "- Luckily, it is just one raw in the entire dataset. Clearly it is an error due to the registration of the price on that day. We take a look at the prices for this item during other days in the same shop"
   ]
  },
  {
   "cell_type": "code",
   "execution_count": 20,
   "metadata": {},
   "outputs": [
    {
     "data": {
      "text/html": [
       "<div>\n",
       "<style scoped>\n",
       "    .dataframe tbody tr th:only-of-type {\n",
       "        vertical-align: middle;\n",
       "    }\n",
       "\n",
       "    .dataframe tbody tr th {\n",
       "        vertical-align: top;\n",
       "    }\n",
       "\n",
       "    .dataframe thead th {\n",
       "        text-align: right;\n",
       "    }\n",
       "</style>\n",
       "<table border=\"1\" class=\"dataframe\">\n",
       "  <thead>\n",
       "    <tr style=\"text-align: right;\">\n",
       "      <th></th>\n",
       "      <th>item_price</th>\n",
       "      <th>date</th>\n",
       "    </tr>\n",
       "  </thead>\n",
       "  <tbody>\n",
       "    <tr>\n",
       "      <th>67427</th>\n",
       "      <td>2499.0</td>\n",
       "      <td>29.01.2013</td>\n",
       "    </tr>\n",
       "    <tr>\n",
       "      <th>67428</th>\n",
       "      <td>2499.0</td>\n",
       "      <td>25.01.2013</td>\n",
       "    </tr>\n",
       "    <tr>\n",
       "      <th>67429</th>\n",
       "      <td>2499.0</td>\n",
       "      <td>22.01.2013</td>\n",
       "    </tr>\n",
       "    <tr>\n",
       "      <th>67430</th>\n",
       "      <td>2499.0</td>\n",
       "      <td>21.01.2013</td>\n",
       "    </tr>\n",
       "    <tr>\n",
       "      <th>67431</th>\n",
       "      <td>2499.0</td>\n",
       "      <td>18.01.2013</td>\n",
       "    </tr>\n",
       "    <tr>\n",
       "      <th>67432</th>\n",
       "      <td>2499.0</td>\n",
       "      <td>17.01.2013</td>\n",
       "    </tr>\n",
       "    <tr>\n",
       "      <th>67433</th>\n",
       "      <td>2499.0</td>\n",
       "      <td>15.01.2013</td>\n",
       "    </tr>\n",
       "    <tr>\n",
       "      <th>187844</th>\n",
       "      <td>2499.0</td>\n",
       "      <td>05.02.2013</td>\n",
       "    </tr>\n",
       "    <tr>\n",
       "      <th>187845</th>\n",
       "      <td>2499.0</td>\n",
       "      <td>14.02.2013</td>\n",
       "    </tr>\n",
       "    <tr>\n",
       "      <th>484682</th>\n",
       "      <td>1249.0</td>\n",
       "      <td>23.05.2013</td>\n",
       "    </tr>\n",
       "    <tr>\n",
       "      <th>484684</th>\n",
       "      <td>2499.0</td>\n",
       "      <td>06.05.2013</td>\n",
       "    </tr>\n",
       "    <tr>\n",
       "      <th>555026</th>\n",
       "      <td>1249.5</td>\n",
       "      <td>05.06.2013</td>\n",
       "    </tr>\n",
       "  </tbody>\n",
       "</table>\n",
       "</div>"
      ],
      "text/plain": [
       "        item_price        date\n",
       "67427       2499.0  29.01.2013\n",
       "67428       2499.0  25.01.2013\n",
       "67429       2499.0  22.01.2013\n",
       "67430       2499.0  21.01.2013\n",
       "67431       2499.0  18.01.2013\n",
       "67432       2499.0  17.01.2013\n",
       "67433       2499.0  15.01.2013\n",
       "187844      2499.0  05.02.2013\n",
       "187845      2499.0  14.02.2013\n",
       "484682      1249.0  23.05.2013\n",
       "484684      2499.0  06.05.2013\n",
       "555026      1249.5  05.06.2013"
      ]
     },
     "execution_count": 20,
     "metadata": {},
     "output_type": "execute_result"
    }
   ],
   "source": [
    "df[(df['item_id']==2973) & (df['shop_id']==32) & (df['item_price']>0)][['item_price', 'date']]"
   ]
  },
  {
   "cell_type": "markdown",
   "metadata": {},
   "source": [
    "- Only in two obcasions that price has been cutted at the half, probably for a special 50% discount\n",
    "- Since a discount like this seems to be as something very rare and special, we decide to replace the negative value with the full price"
   ]
  },
  {
   "cell_type": "code",
   "execution_count": 21,
   "metadata": {},
   "outputs": [],
   "source": [
    "df['item_price'] = np.where(df['item_price']==-1, \n",
    "                            2499.0, \n",
    "                            df['item_price'])"
   ]
  },
  {
   "cell_type": "code",
   "execution_count": 22,
   "metadata": {},
   "outputs": [
    {
     "data": {
      "text/html": [
       "<div>\n",
       "<style scoped>\n",
       "    .dataframe tbody tr th:only-of-type {\n",
       "        vertical-align: middle;\n",
       "    }\n",
       "\n",
       "    .dataframe tbody tr th {\n",
       "        vertical-align: top;\n",
       "    }\n",
       "\n",
       "    .dataframe thead th {\n",
       "        text-align: right;\n",
       "    }\n",
       "</style>\n",
       "<table border=\"1\" class=\"dataframe\">\n",
       "  <thead>\n",
       "    <tr style=\"text-align: right;\">\n",
       "      <th></th>\n",
       "      <th>date</th>\n",
       "      <th>date_block_num</th>\n",
       "      <th>shop_id</th>\n",
       "      <th>item_id</th>\n",
       "      <th>item_price</th>\n",
       "      <th>item_cnt_day</th>\n",
       "      <th>shop_name</th>\n",
       "      <th>item_category_name</th>\n",
       "      <th>item_category_id</th>\n",
       "      <th>item_name</th>\n",
       "    </tr>\n",
       "  </thead>\n",
       "  <tbody>\n",
       "    <tr>\n",
       "      <th>1163158</th>\n",
       "      <td>13.12.2013</td>\n",
       "      <td>11</td>\n",
       "      <td>12</td>\n",
       "      <td>6066</td>\n",
       "      <td>307980.0</td>\n",
       "      <td>1.0</td>\n",
       "      <td>Интернет-магазин ЧС</td>\n",
       "      <td>Программы - Для дома и офиса</td>\n",
       "      <td>75</td>\n",
       "      <td>Radmin 3  - 522 лиц.</td>\n",
       "    </tr>\n",
       "  </tbody>\n",
       "</table>\n",
       "</div>"
      ],
      "text/plain": [
       "               date  date_block_num  shop_id  item_id  item_price  \\\n",
       "1163158  13.12.2013              11       12     6066    307980.0   \n",
       "\n",
       "         item_cnt_day            shop_name            item_category_name  \\\n",
       "1163158           1.0  Интернет-магазин ЧС  Программы - Для дома и офиса   \n",
       "\n",
       "         item_category_id             item_name  \n",
       "1163158                75  Radmin 3  - 522 лиц.  "
      ]
     },
     "execution_count": 22,
     "metadata": {},
     "output_type": "execute_result"
    }
   ],
   "source": [
    "# outliers for item_price with > 300k\n",
    "df[df['item_price']>300000]"
   ]
  },
  {
   "cell_type": "code",
   "execution_count": 23,
   "metadata": {},
   "outputs": [
    {
     "data": {
      "text/html": [
       "<div>\n",
       "<style scoped>\n",
       "    .dataframe tbody tr th:only-of-type {\n",
       "        vertical-align: middle;\n",
       "    }\n",
       "\n",
       "    .dataframe tbody tr th {\n",
       "        vertical-align: top;\n",
       "    }\n",
       "\n",
       "    .dataframe thead th {\n",
       "        text-align: right;\n",
       "    }\n",
       "</style>\n",
       "<table border=\"1\" class=\"dataframe\">\n",
       "  <thead>\n",
       "    <tr style=\"text-align: right;\">\n",
       "      <th></th>\n",
       "      <th>item_price</th>\n",
       "      <th>date</th>\n",
       "    </tr>\n",
       "  </thead>\n",
       "  <tbody>\n",
       "  </tbody>\n",
       "</table>\n",
       "</div>"
      ],
      "text/plain": [
       "Empty DataFrame\n",
       "Columns: [item_price, date]\n",
       "Index: []"
      ]
     },
     "execution_count": 23,
     "metadata": {},
     "output_type": "execute_result"
    }
   ],
   "source": [
    "df[(df['item_id']==6066) & (df['shop_id']==12) & (df['item_price']<300000)][['item_price', 'date']]"
   ]
  },
  {
   "cell_type": "code",
   "execution_count": 24,
   "metadata": {},
   "outputs": [
    {
     "data": {
      "text/html": [
       "<div>\n",
       "<style scoped>\n",
       "    .dataframe tbody tr th:only-of-type {\n",
       "        vertical-align: middle;\n",
       "    }\n",
       "\n",
       "    .dataframe tbody tr th {\n",
       "        vertical-align: top;\n",
       "    }\n",
       "\n",
       "    .dataframe thead th {\n",
       "        text-align: right;\n",
       "    }\n",
       "</style>\n",
       "<table border=\"1\" class=\"dataframe\">\n",
       "  <thead>\n",
       "    <tr style=\"text-align: right;\">\n",
       "      <th></th>\n",
       "      <th>item_price</th>\n",
       "      <th>date</th>\n",
       "    </tr>\n",
       "  </thead>\n",
       "  <tbody>\n",
       "  </tbody>\n",
       "</table>\n",
       "</div>"
      ],
      "text/plain": [
       "Empty DataFrame\n",
       "Columns: [item_price, date]\n",
       "Index: []"
      ]
     },
     "execution_count": 24,
     "metadata": {},
     "output_type": "execute_result"
    }
   ],
   "source": [
    "df[(df['item_id']==6066) & (df['item_price']<300000)][['item_price', 'date']]"
   ]
  },
  {
   "cell_type": "markdown",
   "metadata": {},
   "source": [
    "- This item has been sold in one shop only once with a price that seems to be not reasonable\n",
    "- Therefore, we proceed to eliminate this row from the dataset"
   ]
  },
  {
   "cell_type": "code",
   "execution_count": 25,
   "metadata": {},
   "outputs": [],
   "source": [
    "df = df[df['item_id'] != 6066]"
   ]
  },
  {
   "cell_type": "code",
   "execution_count": 26,
   "metadata": {},
   "outputs": [
    {
     "data": {
      "text/plain": [
       "<matplotlib.axes._subplots.AxesSubplot at 0x1a25572d68>"
      ]
     },
     "execution_count": 26,
     "metadata": {},
     "output_type": "execute_result"
    },
    {
     "data": {
      "image/png": "[encoded data removed]",
      "text/plain": [
       "<Figure size 432x288 with 1 Axes>"
      ]
     },
     "metadata": {
      "needs_background": "light"
     },
     "output_type": "display_data"
    }
   ],
   "source": [
    "df.boxplot(column='item_price')"
   ]
  },
  {
   "cell_type": "code",
   "execution_count": 27,
   "metadata": {},
   "outputs": [
    {
     "data": {
      "text/plain": [
       "59200.0    1\n",
       "50999.0    1\n",
       "49782.0    1\n",
       "Name: item_price, dtype: int64"
      ]
     },
     "execution_count": 27,
     "metadata": {},
     "output_type": "execute_result"
    }
   ],
   "source": [
    "df[df['item_price']>45000]['item_price'].value_counts().sort_index(ascending=False)"
   ]
  },
  {
   "cell_type": "markdown",
   "metadata": {},
   "source": [
    "- Looking at the boxplot, we can deduce that there are 3 isolated outliers above 45k. It seems like they do not represent the real price strategy of the company that we are analizing. Probably someone made a mistake registering that price or it is a strange product with a very flexible range price\n",
    "- Therefore, without additional information, we decide to eliminate them"
   ]
  },
  {
   "cell_type": "code",
   "execution_count": 28,
   "metadata": {},
   "outputs": [],
   "source": [
    "df = df[df['item_price']<=45000]"
   ]
  },
  {
   "cell_type": "code",
   "execution_count": 29,
   "metadata": {},
   "outputs": [
    {
     "data": {
      "text/plain": [
       "(2935839, 10)"
      ]
     },
     "execution_count": 29,
     "metadata": {},
     "output_type": "execute_result"
    }
   ],
   "source": [
    "df.shape"
   ]
  },
  {
   "cell_type": "code",
   "execution_count": 30,
   "metadata": {},
   "outputs": [
    {
     "data": {
      "text/plain": [
       "-1.0     7252\n",
       "-2.0       78\n",
       "-3.0       14\n",
       "-5.0        4\n",
       "-4.0        3\n",
       "-6.0        2\n",
       "-9.0        1\n",
       "-16.0       1\n",
       "-22.0       1\n",
       "Name: item_cnt_day, dtype: int64"
      ]
     },
     "execution_count": 30,
     "metadata": {},
     "output_type": "execute_result"
    }
   ],
   "source": [
    "# item_cnt_day negative\n",
    "df[df['item_cnt_day']<0]['item_cnt_day'].value_counts()"
   ]
  },
  {
   "cell_type": "markdown",
   "metadata": {},
   "source": [
    "- We interpret the negative values in item_cnt_day as the number of returned copies for that specific item, in that specific shop and on that specific day \n",
    "- According to this, we decide to keep those values and not to treat them as outliers. The monthly amount of sold copies for a particular item will be the algebraic sum of item_cnt_day"
   ]
  },
  {
   "cell_type": "code",
   "execution_count": 31,
   "metadata": {},
   "outputs": [
    {
     "data": {
      "text/html": [
       "<div>\n",
       "<style scoped>\n",
       "    .dataframe tbody tr th:only-of-type {\n",
       "        vertical-align: middle;\n",
       "    }\n",
       "\n",
       "    .dataframe tbody tr th {\n",
       "        vertical-align: top;\n",
       "    }\n",
       "\n",
       "    .dataframe thead th {\n",
       "        text-align: right;\n",
       "    }\n",
       "</style>\n",
       "<table border=\"1\" class=\"dataframe\">\n",
       "  <thead>\n",
       "    <tr style=\"text-align: right;\">\n",
       "      <th></th>\n",
       "      <th>date</th>\n",
       "      <th>date_block_num</th>\n",
       "      <th>shop_id</th>\n",
       "      <th>item_id</th>\n",
       "      <th>item_price</th>\n",
       "      <th>item_cnt_day</th>\n",
       "      <th>shop_name</th>\n",
       "      <th>item_category_name</th>\n",
       "      <th>item_category_id</th>\n",
       "      <th>item_name</th>\n",
       "    </tr>\n",
       "  </thead>\n",
       "  <tbody>\n",
       "    <tr>\n",
       "      <th>2326930</th>\n",
       "      <td>15.01.2015</td>\n",
       "      <td>24</td>\n",
       "      <td>12</td>\n",
       "      <td>20949</td>\n",
       "      <td>4.000000</td>\n",
       "      <td>1000.0</td>\n",
       "      <td>Интернет-магазин ЧС</td>\n",
       "      <td>Подарки - Сумки, Альбомы, Коврики д/мыши</td>\n",
       "      <td>71</td>\n",
       "      <td>Фирменный пакет майка 1С Интерес белый (34*42)...</td>\n",
       "    </tr>\n",
       "    <tr>\n",
       "      <th>2909818</th>\n",
       "      <td>28.10.2015</td>\n",
       "      <td>33</td>\n",
       "      <td>12</td>\n",
       "      <td>11373</td>\n",
       "      <td>0.908714</td>\n",
       "      <td>2169.0</td>\n",
       "      <td>Интернет-магазин ЧС</td>\n",
       "      <td>Доставка товара</td>\n",
       "      <td>9</td>\n",
       "      <td>Доставка до пункта выдачи (Boxberry)</td>\n",
       "    </tr>\n",
       "  </tbody>\n",
       "</table>\n",
       "</div>"
      ],
      "text/plain": [
       "               date  date_block_num  shop_id  item_id  item_price  \\\n",
       "2326930  15.01.2015              24       12    20949    4.000000   \n",
       "2909818  28.10.2015              33       12    11373    0.908714   \n",
       "\n",
       "         item_cnt_day            shop_name  \\\n",
       "2326930        1000.0  Интернет-магазин ЧС   \n",
       "2909818        2169.0  Интернет-магазин ЧС   \n",
       "\n",
       "                               item_category_name  item_category_id  \\\n",
       "2326930  Подарки - Сумки, Альбомы, Коврики д/мыши                71   \n",
       "2909818                           Доставка товара                 9   \n",
       "\n",
       "                                                 item_name  \n",
       "2326930  Фирменный пакет майка 1С Интерес белый (34*42)...  \n",
       "2909818               Доставка до пункта выдачи (Boxberry)  "
      ]
     },
     "execution_count": 31,
     "metadata": {},
     "output_type": "execute_result"
    }
   ],
   "source": [
    "# item_cnt_day outliers\n",
    "df[df['item_cnt_day']>900]"
   ]
  },
  {
   "cell_type": "markdown",
   "metadata": {},
   "source": [
    "- Looking at the boxplot, we observe that there are two values above 1000 of item_cnt_day that are isolated. \n",
    "- We took the corresponing item_name and using Google translate we found the following meanings: \"Фирменный пакет майка 1С Интерес белый\" means \"Corporate package T-shirt 1C Interest white\" and \"Доставка товара\" means \"delivery of goods\"\n",
    "- This gives us an idea that these rows represent very particular orders during some particular events\n",
    "- Therefore, we decide to eliminate them"
   ]
  },
  {
   "cell_type": "code",
   "execution_count": 32,
   "metadata": {},
   "outputs": [],
   "source": [
    "df = df[df['item_cnt_day']<=900]"
   ]
  },
  {
   "cell_type": "markdown",
   "metadata": {},
   "source": [
    "- Finally, we observe that the first word before either \"-\" or a white space or a \"!\" in the shop_name column represents the name of a city.\n",
    "- Because of this, we create a column city"
   ]
  },
  {
   "cell_type": "code",
   "execution_count": 33,
   "metadata": {},
   "outputs": [],
   "source": [
    "df['city'] = df['shop_name'].str.split(\" \").str[0]\n",
    "df['city'] = df['city'].str.split(\"-\").str[0]\n",
    "df['city'] = df['city'].str.split(\"!\").str[-1]"
   ]
  },
  {
   "cell_type": "code",
   "execution_count": 34,
   "metadata": {},
   "outputs": [
    {
     "data": {
      "text/plain": [
       "Москва          996633\n",
       "Якутск          204404\n",
       "СПб             148534\n",
       "Воронеж         144151\n",
       "Химки           143479\n",
       "Тюмень          125453\n",
       "Уфа              96423\n",
       "Красноярск       76177\n",
       "Самара           75421\n",
       "Чехов            69573\n",
       "Сергиев          66321\n",
       "Н.Новгород       64197\n",
       "Курск            63911\n",
       "РостовНаДону     59664\n",
       "Калуга           59511\n",
       "Сургут           56695\n",
       "Казань           54803\n",
       "Коломна          52734\n",
       "Омск             46013\n",
       "Ярославль        42108\n",
       "Новосибирск      39944\n",
       "Волжский         38242\n",
       "Вологда          38179\n",
       "Цифровой         34769\n",
       "Интернет         34689\n",
       "Адыгея           25991\n",
       "Балашиха         25532\n",
       "Жуковский        21896\n",
       "Томск            21612\n",
       "Мытищи            5027\n",
       "Выездная          3751\n",
       "Name: city, dtype: int64"
      ]
     },
     "execution_count": 34,
     "metadata": {},
     "output_type": "execute_result"
    }
   ],
   "source": [
    "# We check the names of the cities\n",
    "df['city'].value_counts()"
   ]
  },
  {
   "cell_type": "markdown",
   "metadata": {},
   "source": [
    "# EDA II: Study of the pairs (shop_id, item_id)"
   ]
  },
  {
   "cell_type": "markdown",
   "metadata": {},
   "source": [
    "- We check if all the pairs (shop_id, item_id) that we have on the test.csv actually exist in our dataframe and if also the converse is true or not"
   ]
  },
  {
   "cell_type": "code",
   "execution_count": 35,
   "metadata": {},
   "outputs": [
    {
     "data": {
      "text/html": [
       "<div>\n",
       "<style scoped>\n",
       "    .dataframe tbody tr th:only-of-type {\n",
       "        vertical-align: middle;\n",
       "    }\n",
       "\n",
       "    .dataframe tbody tr th {\n",
       "        vertical-align: top;\n",
       "    }\n",
       "\n",
       "    .dataframe thead th {\n",
       "        text-align: right;\n",
       "    }\n",
       "</style>\n",
       "<table border=\"1\" class=\"dataframe\">\n",
       "  <thead>\n",
       "    <tr style=\"text-align: right;\">\n",
       "      <th></th>\n",
       "      <th>ID</th>\n",
       "      <th>shop_id</th>\n",
       "      <th>item_id</th>\n",
       "    </tr>\n",
       "  </thead>\n",
       "  <tbody>\n",
       "    <tr>\n",
       "      <th>0</th>\n",
       "      <td>0</td>\n",
       "      <td>5</td>\n",
       "      <td>5037</td>\n",
       "    </tr>\n",
       "    <tr>\n",
       "      <th>1</th>\n",
       "      <td>1</td>\n",
       "      <td>5</td>\n",
       "      <td>5320</td>\n",
       "    </tr>\n",
       "    <tr>\n",
       "      <th>2</th>\n",
       "      <td>2</td>\n",
       "      <td>5</td>\n",
       "      <td>5233</td>\n",
       "    </tr>\n",
       "    <tr>\n",
       "      <th>3</th>\n",
       "      <td>3</td>\n",
       "      <td>5</td>\n",
       "      <td>5232</td>\n",
       "    </tr>\n",
       "    <tr>\n",
       "      <th>4</th>\n",
       "      <td>4</td>\n",
       "      <td>5</td>\n",
       "      <td>5268</td>\n",
       "    </tr>\n",
       "  </tbody>\n",
       "</table>\n",
       "</div>"
      ],
      "text/plain": [
       "   ID  shop_id  item_id\n",
       "0   0        5     5037\n",
       "1   1        5     5320\n",
       "2   2        5     5233\n",
       "3   3        5     5232\n",
       "4   4        5     5268"
      ]
     },
     "execution_count": 35,
     "metadata": {},
     "output_type": "execute_result"
    }
   ],
   "source": [
    "df_test_orig = pd.read_csv('src/test.csv')\n",
    "df_test_orig.head()"
   ]
  },
  {
   "cell_type": "code",
   "execution_count": 36,
   "metadata": {},
   "outputs": [],
   "source": [
    "df_test = df_test_orig.copy()\n",
    "df_test = df_test[['shop_id', 'item_id']]"
   ]
  },
  {
   "cell_type": "code",
   "execution_count": 37,
   "metadata": {},
   "outputs": [],
   "source": [
    "# We use the custom function joining_field to represent the pairs (shop_id, item_id) in our datasets\n",
    "df_test = joining_fields(df_test, 'shop_id', 'item_id', 'joined_fields')\n",
    "df = joining_fields(df, 'shop_id', 'item_id', 'joined_fields')"
   ]
  },
  {
   "cell_type": "code",
   "execution_count": 38,
   "metadata": {},
   "outputs": [
    {
     "name": "stdout",
     "output_type": "stream",
     "text": [
      "True     111404\n",
      "False    102796\n",
      "Name: Match, dtype: int64\n"
     ]
    },
    {
     "data": {
      "text/plain": [
       "0          True\n",
       "1         False\n",
       "2          True\n",
       "3          True\n",
       "4         False\n",
       "          ...  \n",
       "214195     True\n",
       "214196    False\n",
       "214197     True\n",
       "214198    False\n",
       "214199     True\n",
       "Name: Match, Length: 214200, dtype: bool"
      ]
     },
     "execution_count": 38,
     "metadata": {},
     "output_type": "execute_result"
    }
   ],
   "source": [
    "# check if the pairs of df_test exist in df\n",
    "comparing_columns(df, df_test, 'joined_fields', 'joined_fields')"
   ]
  },
  {
   "cell_type": "markdown",
   "metadata": {},
   "source": [
    "- So actually we will need to predict item_cnt_day for a lot of pairs (shop_id, item_id) that our model will see for the first time"
   ]
  },
  {
   "cell_type": "code",
   "execution_count": 39,
   "metadata": {},
   "outputs": [
    {
     "data": {
      "text/html": [
       "<div>\n",
       "<style scoped>\n",
       "    .dataframe tbody tr th:only-of-type {\n",
       "        vertical-align: middle;\n",
       "    }\n",
       "\n",
       "    .dataframe tbody tr th {\n",
       "        vertical-align: top;\n",
       "    }\n",
       "\n",
       "    .dataframe thead th {\n",
       "        text-align: right;\n",
       "    }\n",
       "</style>\n",
       "<table border=\"1\" class=\"dataframe\">\n",
       "  <thead>\n",
       "    <tr style=\"text-align: right;\">\n",
       "      <th></th>\n",
       "      <th>shop_id</th>\n",
       "      <th>item_id</th>\n",
       "      <th>joined_fields</th>\n",
       "      <th>Match</th>\n",
       "    </tr>\n",
       "  </thead>\n",
       "  <tbody>\n",
       "    <tr>\n",
       "      <th>0</th>\n",
       "      <td>5</td>\n",
       "      <td>5037</td>\n",
       "      <td>5_5037</td>\n",
       "      <td>True</td>\n",
       "    </tr>\n",
       "    <tr>\n",
       "      <th>1</th>\n",
       "      <td>5</td>\n",
       "      <td>5320</td>\n",
       "      <td>5_5320</td>\n",
       "      <td>False</td>\n",
       "    </tr>\n",
       "    <tr>\n",
       "      <th>2</th>\n",
       "      <td>5</td>\n",
       "      <td>5233</td>\n",
       "      <td>5_5233</td>\n",
       "      <td>True</td>\n",
       "    </tr>\n",
       "    <tr>\n",
       "      <th>3</th>\n",
       "      <td>5</td>\n",
       "      <td>5232</td>\n",
       "      <td>5_5232</td>\n",
       "      <td>True</td>\n",
       "    </tr>\n",
       "    <tr>\n",
       "      <th>4</th>\n",
       "      <td>5</td>\n",
       "      <td>5268</td>\n",
       "      <td>5_5268</td>\n",
       "      <td>False</td>\n",
       "    </tr>\n",
       "  </tbody>\n",
       "</table>\n",
       "</div>"
      ],
      "text/plain": [
       "   shop_id  item_id joined_fields  Match\n",
       "0        5     5037        5_5037   True\n",
       "1        5     5320        5_5320  False\n",
       "2        5     5233        5_5233   True\n",
       "3        5     5232        5_5232   True\n",
       "4        5     5268        5_5268  False"
      ]
     },
     "execution_count": 39,
     "metadata": {},
     "output_type": "execute_result"
    }
   ],
   "source": [
    "df_test.head()"
   ]
  },
  {
   "cell_type": "code",
   "execution_count": 40,
   "metadata": {},
   "outputs": [
    {
     "data": {
      "text/html": [
       "<div>\n",
       "<style scoped>\n",
       "    .dataframe tbody tr th:only-of-type {\n",
       "        vertical-align: middle;\n",
       "    }\n",
       "\n",
       "    .dataframe tbody tr th {\n",
       "        vertical-align: top;\n",
       "    }\n",
       "\n",
       "    .dataframe thead th {\n",
       "        text-align: right;\n",
       "    }\n",
       "</style>\n",
       "<table border=\"1\" class=\"dataframe\">\n",
       "  <thead>\n",
       "    <tr style=\"text-align: right;\">\n",
       "      <th></th>\n",
       "      <th>date</th>\n",
       "      <th>date_block_num</th>\n",
       "      <th>shop_id</th>\n",
       "      <th>item_id</th>\n",
       "      <th>item_price</th>\n",
       "      <th>item_cnt_day</th>\n",
       "      <th>shop_name</th>\n",
       "      <th>item_category_name</th>\n",
       "      <th>item_category_id</th>\n",
       "      <th>item_name</th>\n",
       "      <th>city</th>\n",
       "      <th>joined_fields</th>\n",
       "    </tr>\n",
       "  </thead>\n",
       "  <tbody>\n",
       "  </tbody>\n",
       "</table>\n",
       "</div>"
      ],
      "text/plain": [
       "Empty DataFrame\n",
       "Columns: [date, date_block_num, shop_id, item_id, item_price, item_cnt_day, shop_name, item_category_name, item_category_id, item_name, city, joined_fields]\n",
       "Index: []"
      ]
     },
     "execution_count": 40,
     "metadata": {},
     "output_type": "execute_result"
    }
   ],
   "source": [
    "df[(df['shop_id']==5) & (df['item_id']==5320)]"
   ]
  },
  {
   "cell_type": "code",
   "execution_count": 41,
   "metadata": {},
   "outputs": [
    {
     "name": "stdout",
     "output_type": "stream",
     "text": [
      "False    1711406\n",
      "True     1224431\n",
      "Name: Match, dtype: int64\n"
     ]
    },
    {
     "data": {
      "text/plain": [
       "0           True\n",
       "1          False\n",
       "2          False\n",
       "3          False\n",
       "4          False\n",
       "           ...  \n",
       "2935844     True\n",
       "2935845     True\n",
       "2935846     True\n",
       "2935847     True\n",
       "2935848     True\n",
       "Name: Match, Length: 2935837, dtype: bool"
      ]
     },
     "execution_count": 41,
     "metadata": {},
     "output_type": "execute_result"
    }
   ],
   "source": [
    "# For completeness we check the converse too\n",
    "comparing_columns(df_test, df, 'joined_fields', 'joined_fields')"
   ]
  },
  {
   "cell_type": "code",
   "execution_count": 42,
   "metadata": {},
   "outputs": [],
   "source": [
    "df.drop('Match', axis = 1, inplace=True)"
   ]
  },
  {
   "cell_type": "markdown",
   "metadata": {},
   "source": [
    "# Feature Engineering II"
   ]
  },
  {
   "cell_type": "markdown",
   "metadata": {},
   "source": [
    "We want to look the data at a year-month level. Therefore, we perform a group by year-month where we sum the **item_cnt_day** and we take the median for the **item_price**"
   ]
  },
  {
   "cell_type": "code",
   "execution_count": 43,
   "metadata": {},
   "outputs": [],
   "source": [
    "df['month'] = df['date'].str.split(\".\").str[1]\n",
    "df['year'] = df['date'].str.split(\".\").str[2]\n",
    "df.drop('date', axis=1, inplace=True)"
   ]
  },
  {
   "cell_type": "code",
   "execution_count": 44,
   "metadata": {},
   "outputs": [
    {
     "data": {
      "text/html": [
       "<div>\n",
       "<style scoped>\n",
       "    .dataframe tbody tr th:only-of-type {\n",
       "        vertical-align: middle;\n",
       "    }\n",
       "\n",
       "    .dataframe tbody tr th {\n",
       "        vertical-align: top;\n",
       "    }\n",
       "\n",
       "    .dataframe thead th {\n",
       "        text-align: right;\n",
       "    }\n",
       "</style>\n",
       "<table border=\"1\" class=\"dataframe\">\n",
       "  <thead>\n",
       "    <tr style=\"text-align: right;\">\n",
       "      <th></th>\n",
       "      <th>date_block_num</th>\n",
       "      <th>shop_id</th>\n",
       "      <th>item_id</th>\n",
       "      <th>shop_name</th>\n",
       "      <th>item_category_name</th>\n",
       "      <th>item_category_id</th>\n",
       "      <th>item_name</th>\n",
       "      <th>city</th>\n",
       "      <th>joined_fields</th>\n",
       "      <th>month</th>\n",
       "      <th>year</th>\n",
       "      <th>item_cnt_day</th>\n",
       "      <th>item_price</th>\n",
       "    </tr>\n",
       "  </thead>\n",
       "  <tbody>\n",
       "    <tr>\n",
       "      <th>0</th>\n",
       "      <td>0</td>\n",
       "      <td>0</td>\n",
       "      <td>32</td>\n",
       "      <td>!Якутск Орджоникидзе, 56 фран</td>\n",
       "      <td>Кино - DVD</td>\n",
       "      <td>40</td>\n",
       "      <td>1+1</td>\n",
       "      <td>Якутск</td>\n",
       "      <td>0_32</td>\n",
       "      <td>01</td>\n",
       "      <td>2013</td>\n",
       "      <td>6.0</td>\n",
       "      <td>221.0</td>\n",
       "    </tr>\n",
       "    <tr>\n",
       "      <th>1</th>\n",
       "      <td>0</td>\n",
       "      <td>0</td>\n",
       "      <td>33</td>\n",
       "      <td>!Якутск Орджоникидзе, 56 фран</td>\n",
       "      <td>Кино - Blu-Ray</td>\n",
       "      <td>37</td>\n",
       "      <td>1+1 (BD)</td>\n",
       "      <td>Якутск</td>\n",
       "      <td>0_33</td>\n",
       "      <td>01</td>\n",
       "      <td>2013</td>\n",
       "      <td>3.0</td>\n",
       "      <td>347.0</td>\n",
       "    </tr>\n",
       "    <tr>\n",
       "      <th>2</th>\n",
       "      <td>0</td>\n",
       "      <td>0</td>\n",
       "      <td>35</td>\n",
       "      <td>!Якутск Орджоникидзе, 56 фран</td>\n",
       "      <td>Кино - DVD</td>\n",
       "      <td>40</td>\n",
       "      <td>10 ЛЕТ СПУСТЯ</td>\n",
       "      <td>Якутск</td>\n",
       "      <td>0_35</td>\n",
       "      <td>01</td>\n",
       "      <td>2013</td>\n",
       "      <td>1.0</td>\n",
       "      <td>247.0</td>\n",
       "    </tr>\n",
       "    <tr>\n",
       "      <th>3</th>\n",
       "      <td>0</td>\n",
       "      <td>0</td>\n",
       "      <td>43</td>\n",
       "      <td>!Якутск Орджоникидзе, 56 фран</td>\n",
       "      <td>Кино - DVD</td>\n",
       "      <td>40</td>\n",
       "      <td>100 МИЛЛИОНОВ ЕВРО</td>\n",
       "      <td>Якутск</td>\n",
       "      <td>0_43</td>\n",
       "      <td>01</td>\n",
       "      <td>2013</td>\n",
       "      <td>1.0</td>\n",
       "      <td>221.0</td>\n",
       "    </tr>\n",
       "    <tr>\n",
       "      <th>4</th>\n",
       "      <td>0</td>\n",
       "      <td>0</td>\n",
       "      <td>51</td>\n",
       "      <td>!Якутск Орджоникидзе, 56 фран</td>\n",
       "      <td>Музыка - MP3</td>\n",
       "      <td>57</td>\n",
       "      <td>100 лучших произведений классики (mp3-CD) (Dig...</td>\n",
       "      <td>Якутск</td>\n",
       "      <td>0_51</td>\n",
       "      <td>01</td>\n",
       "      <td>2013</td>\n",
       "      <td>2.0</td>\n",
       "      <td>128.5</td>\n",
       "    </tr>\n",
       "  </tbody>\n",
       "</table>\n",
       "</div>"
      ],
      "text/plain": [
       "   date_block_num  shop_id  item_id                      shop_name  \\\n",
       "0               0        0       32  !Якутск Орджоникидзе, 56 фран   \n",
       "1               0        0       33  !Якутск Орджоникидзе, 56 фран   \n",
       "2               0        0       35  !Якутск Орджоникидзе, 56 фран   \n",
       "3               0        0       43  !Якутск Орджоникидзе, 56 фран   \n",
       "4               0        0       51  !Якутск Орджоникидзе, 56 фран   \n",
       "\n",
       "  item_category_name  item_category_id  \\\n",
       "0         Кино - DVD                40   \n",
       "1     Кино - Blu-Ray                37   \n",
       "2         Кино - DVD                40   \n",
       "3         Кино - DVD                40   \n",
       "4       Музыка - MP3                57   \n",
       "\n",
       "                                           item_name    city joined_fields  \\\n",
       "0                                                1+1  Якутск          0_32   \n",
       "1                                           1+1 (BD)  Якутск          0_33   \n",
       "2                                      10 ЛЕТ СПУСТЯ  Якутск          0_35   \n",
       "3                                 100 МИЛЛИОНОВ ЕВРО  Якутск          0_43   \n",
       "4  100 лучших произведений классики (mp3-CD) (Dig...  Якутск          0_51   \n",
       "\n",
       "  month  year  item_cnt_day  item_price  \n",
       "0    01  2013           6.0       221.0  \n",
       "1    01  2013           3.0       347.0  \n",
       "2    01  2013           1.0       247.0  \n",
       "3    01  2013           1.0       221.0  \n",
       "4    01  2013           2.0       128.5  "
      ]
     },
     "execution_count": 44,
     "metadata": {},
     "output_type": "execute_result"
    }
   ],
   "source": [
    "agg_dict = {'item_cnt_day': 'sum', 'item_price': np.median}\n",
    "col_names = columns_list_except(df, ['item_price', 'item_cnt_day'])\n",
    "df = df.groupby(col_names, as_index=False).agg(agg_dict)\n",
    "\n",
    "df.head()"
   ]
  },
  {
   "cell_type": "code",
   "execution_count": 45,
   "metadata": {},
   "outputs": [],
   "source": [
    "df.drop(['month', 'year'], axis=1, inplace=True)"
   ]
  },
  {
   "cell_type": "markdown",
   "metadata": {},
   "source": [
    "If an item does not appear in a shop during a month, we create a new observation filling that row with **item_cnt_day** equal to 0 and **item_price** equal to the price of the month before"
   ]
  },
  {
   "cell_type": "code",
   "execution_count": 46,
   "metadata": {},
   "outputs": [],
   "source": [
    "col_names = columns_list_except(df, ['item_price', 'month', 'year', 'date_block_num', 'item_cnt_day'])\n",
    "\n",
    "df_pivoted_stacked = df.drop(['item_price'], axis=1).pivot_table([\"item_cnt_day\"], col_names, 'date_block_num').stack(1, dropna=False)\n",
    "df_pivoted_stacked = df_pivoted_stacked.reset_index()\n",
    "df_pivoted_stacked.head(10)\n",
    "\n",
    "df_merged = df_pivoted_stacked.merge(df, on=df_pivoted_stacked.columns.tolist(), how='left')\n",
    "\n",
    "\n",
    "med = df_merged.groupby('joined_fields')['item_price'].transform('median')\n",
    "df_merged.shape\n",
    "\n",
    "df_merged['item_price'].fillna(med, inplace=True)\n",
    "df_merged['item_cnt_day'].fillna(0, inplace=True)"
   ]
  },
  {
   "cell_type": "code",
   "execution_count": 47,
   "metadata": {},
   "outputs": [
    {
     "data": {
      "text/html": [
       "<div>\n",
       "<style scoped>\n",
       "    .dataframe tbody tr th:only-of-type {\n",
       "        vertical-align: middle;\n",
       "    }\n",
       "\n",
       "    .dataframe tbody tr th {\n",
       "        vertical-align: top;\n",
       "    }\n",
       "\n",
       "    .dataframe thead th {\n",
       "        text-align: right;\n",
       "    }\n",
       "</style>\n",
       "<table border=\"1\" class=\"dataframe\">\n",
       "  <thead>\n",
       "    <tr style=\"text-align: right;\">\n",
       "      <th></th>\n",
       "      <th>shop_id</th>\n",
       "      <th>item_id</th>\n",
       "      <th>shop_name</th>\n",
       "      <th>item_category_name</th>\n",
       "      <th>item_category_id</th>\n",
       "      <th>item_name</th>\n",
       "      <th>city</th>\n",
       "      <th>joined_fields</th>\n",
       "      <th>date_block_num</th>\n",
       "      <th>item_cnt_day</th>\n",
       "      <th>item_price</th>\n",
       "    </tr>\n",
       "  </thead>\n",
       "  <tbody>\n",
       "    <tr>\n",
       "      <th>0</th>\n",
       "      <td>0</td>\n",
       "      <td>30</td>\n",
       "      <td>!Якутск Орджоникидзе, 56 фран</td>\n",
       "      <td>Кино - DVD</td>\n",
       "      <td>40</td>\n",
       "      <td>007: КООРДИНАТЫ «СКАЙФОЛЛ»</td>\n",
       "      <td>Якутск</td>\n",
       "      <td>0_30</td>\n",
       "      <td>0</td>\n",
       "      <td>0.0</td>\n",
       "      <td>265.0</td>\n",
       "    </tr>\n",
       "    <tr>\n",
       "      <th>1</th>\n",
       "      <td>0</td>\n",
       "      <td>30</td>\n",
       "      <td>!Якутск Орджоникидзе, 56 фран</td>\n",
       "      <td>Кино - DVD</td>\n",
       "      <td>40</td>\n",
       "      <td>007: КООРДИНАТЫ «СКАЙФОЛЛ»</td>\n",
       "      <td>Якутск</td>\n",
       "      <td>0_30</td>\n",
       "      <td>1</td>\n",
       "      <td>31.0</td>\n",
       "      <td>265.0</td>\n",
       "    </tr>\n",
       "    <tr>\n",
       "      <th>2</th>\n",
       "      <td>0</td>\n",
       "      <td>30</td>\n",
       "      <td>!Якутск Орджоникидзе, 56 фран</td>\n",
       "      <td>Кино - DVD</td>\n",
       "      <td>40</td>\n",
       "      <td>007: КООРДИНАТЫ «СКАЙФОЛЛ»</td>\n",
       "      <td>Якутск</td>\n",
       "      <td>0_30</td>\n",
       "      <td>2</td>\n",
       "      <td>0.0</td>\n",
       "      <td>265.0</td>\n",
       "    </tr>\n",
       "    <tr>\n",
       "      <th>3</th>\n",
       "      <td>0</td>\n",
       "      <td>30</td>\n",
       "      <td>!Якутск Орджоникидзе, 56 фран</td>\n",
       "      <td>Кино - DVD</td>\n",
       "      <td>40</td>\n",
       "      <td>007: КООРДИНАТЫ «СКАЙФОЛЛ»</td>\n",
       "      <td>Якутск</td>\n",
       "      <td>0_30</td>\n",
       "      <td>3</td>\n",
       "      <td>0.0</td>\n",
       "      <td>265.0</td>\n",
       "    </tr>\n",
       "    <tr>\n",
       "      <th>4</th>\n",
       "      <td>0</td>\n",
       "      <td>30</td>\n",
       "      <td>!Якутск Орджоникидзе, 56 фран</td>\n",
       "      <td>Кино - DVD</td>\n",
       "      <td>40</td>\n",
       "      <td>007: КООРДИНАТЫ «СКАЙФОЛЛ»</td>\n",
       "      <td>Якутск</td>\n",
       "      <td>0_30</td>\n",
       "      <td>4</td>\n",
       "      <td>0.0</td>\n",
       "      <td>265.0</td>\n",
       "    </tr>\n",
       "    <tr>\n",
       "      <th>5</th>\n",
       "      <td>0</td>\n",
       "      <td>30</td>\n",
       "      <td>!Якутск Орджоникидзе, 56 фран</td>\n",
       "      <td>Кино - DVD</td>\n",
       "      <td>40</td>\n",
       "      <td>007: КООРДИНАТЫ «СКАЙФОЛЛ»</td>\n",
       "      <td>Якутск</td>\n",
       "      <td>0_30</td>\n",
       "      <td>5</td>\n",
       "      <td>0.0</td>\n",
       "      <td>265.0</td>\n",
       "    </tr>\n",
       "    <tr>\n",
       "      <th>6</th>\n",
       "      <td>0</td>\n",
       "      <td>30</td>\n",
       "      <td>!Якутск Орджоникидзе, 56 фран</td>\n",
       "      <td>Кино - DVD</td>\n",
       "      <td>40</td>\n",
       "      <td>007: КООРДИНАТЫ «СКАЙФОЛЛ»</td>\n",
       "      <td>Якутск</td>\n",
       "      <td>0_30</td>\n",
       "      <td>6</td>\n",
       "      <td>0.0</td>\n",
       "      <td>265.0</td>\n",
       "    </tr>\n",
       "    <tr>\n",
       "      <th>7</th>\n",
       "      <td>0</td>\n",
       "      <td>30</td>\n",
       "      <td>!Якутск Орджоникидзе, 56 фран</td>\n",
       "      <td>Кино - DVD</td>\n",
       "      <td>40</td>\n",
       "      <td>007: КООРДИНАТЫ «СКАЙФОЛЛ»</td>\n",
       "      <td>Якутск</td>\n",
       "      <td>0_30</td>\n",
       "      <td>7</td>\n",
       "      <td>0.0</td>\n",
       "      <td>265.0</td>\n",
       "    </tr>\n",
       "    <tr>\n",
       "      <th>8</th>\n",
       "      <td>0</td>\n",
       "      <td>30</td>\n",
       "      <td>!Якутск Орджоникидзе, 56 фран</td>\n",
       "      <td>Кино - DVD</td>\n",
       "      <td>40</td>\n",
       "      <td>007: КООРДИНАТЫ «СКАЙФОЛЛ»</td>\n",
       "      <td>Якутск</td>\n",
       "      <td>0_30</td>\n",
       "      <td>8</td>\n",
       "      <td>0.0</td>\n",
       "      <td>265.0</td>\n",
       "    </tr>\n",
       "    <tr>\n",
       "      <th>9</th>\n",
       "      <td>0</td>\n",
       "      <td>30</td>\n",
       "      <td>!Якутск Орджоникидзе, 56 фран</td>\n",
       "      <td>Кино - DVD</td>\n",
       "      <td>40</td>\n",
       "      <td>007: КООРДИНАТЫ «СКАЙФОЛЛ»</td>\n",
       "      <td>Якутск</td>\n",
       "      <td>0_30</td>\n",
       "      <td>9</td>\n",
       "      <td>0.0</td>\n",
       "      <td>265.0</td>\n",
       "    </tr>\n",
       "  </tbody>\n",
       "</table>\n",
       "</div>"
      ],
      "text/plain": [
       "   shop_id  item_id                      shop_name item_category_name  \\\n",
       "0        0       30  !Якутск Орджоникидзе, 56 фран         Кино - DVD   \n",
       "1        0       30  !Якутск Орджоникидзе, 56 фран         Кино - DVD   \n",
       "2        0       30  !Якутск Орджоникидзе, 56 фран         Кино - DVD   \n",
       "3        0       30  !Якутск Орджоникидзе, 56 фран         Кино - DVD   \n",
       "4        0       30  !Якутск Орджоникидзе, 56 фран         Кино - DVD   \n",
       "5        0       30  !Якутск Орджоникидзе, 56 фран         Кино - DVD   \n",
       "6        0       30  !Якутск Орджоникидзе, 56 фран         Кино - DVD   \n",
       "7        0       30  !Якутск Орджоникидзе, 56 фран         Кино - DVD   \n",
       "8        0       30  !Якутск Орджоникидзе, 56 фран         Кино - DVD   \n",
       "9        0       30  !Якутск Орджоникидзе, 56 фран         Кино - DVD   \n",
       "\n",
       "   item_category_id                   item_name    city joined_fields  \\\n",
       "0                40  007: КООРДИНАТЫ «СКАЙФОЛЛ»  Якутск          0_30   \n",
       "1                40  007: КООРДИНАТЫ «СКАЙФОЛЛ»  Якутск          0_30   \n",
       "2                40  007: КООРДИНАТЫ «СКАЙФОЛЛ»  Якутск          0_30   \n",
       "3                40  007: КООРДИНАТЫ «СКАЙФОЛЛ»  Якутск          0_30   \n",
       "4                40  007: КООРДИНАТЫ «СКАЙФОЛЛ»  Якутск          0_30   \n",
       "5                40  007: КООРДИНАТЫ «СКАЙФОЛЛ»  Якутск          0_30   \n",
       "6                40  007: КООРДИНАТЫ «СКАЙФОЛЛ»  Якутск          0_30   \n",
       "7                40  007: КООРДИНАТЫ «СКАЙФОЛЛ»  Якутск          0_30   \n",
       "8                40  007: КООРДИНАТЫ «СКАЙФОЛЛ»  Якутск          0_30   \n",
       "9                40  007: КООРДИНАТЫ «СКАЙФОЛЛ»  Якутск          0_30   \n",
       "\n",
       "   date_block_num  item_cnt_day  item_price  \n",
       "0               0           0.0       265.0  \n",
       "1               1          31.0       265.0  \n",
       "2               2           0.0       265.0  \n",
       "3               3           0.0       265.0  \n",
       "4               4           0.0       265.0  \n",
       "5               5           0.0       265.0  \n",
       "6               6           0.0       265.0  \n",
       "7               7           0.0       265.0  \n",
       "8               8           0.0       265.0  \n",
       "9               9           0.0       265.0  "
      ]
     },
     "execution_count": 47,
     "metadata": {},
     "output_type": "execute_result"
    }
   ],
   "source": [
    "df_merged.head(10)"
   ]
  },
  {
   "cell_type": "markdown",
   "metadata": {},
   "source": [
    "- For every (item, shop) we inserted a row for every month in case it was absent. The item_price has been filled with median and item_cnt_day with 0"
   ]
  },
  {
   "cell_type": "markdown",
   "metadata": {},
   "source": [
    "## Strategy I: Benchmark"
   ]
  },
  {
   "cell_type": "markdown",
   "metadata": {},
   "source": [
    "- As first and **naive** strategy, we are going to assume that a shop will sell an item at the same amount of the month before\n",
    "- We expect that the next strategies will **outperform** the benchmark approach by far"
   ]
  },
  {
   "cell_type": "code",
   "execution_count": 48,
   "metadata": {},
   "outputs": [],
   "source": [
    "df_predicted = df_merged[['joined_fields', 'date_block_num', 'item_cnt_day']].copy()\n",
    "df_predicted = df_predicted[df_predicted['date_block_num'] == 32]"
   ]
  },
  {
   "cell_type": "code",
   "execution_count": 49,
   "metadata": {},
   "outputs": [],
   "source": [
    "df_true_value = df_merged[['joined_fields', 'date_block_num', 'item_cnt_day']]\n",
    "df_true_value = df_true_value[df_true_value['date_block_num'] == 33]"
   ]
  },
  {
   "cell_type": "code",
   "execution_count": 50,
   "metadata": {},
   "outputs": [],
   "source": [
    "df_benchmark = df_predicted.merge(df_true_value, on='joined_fields', how='inner', suffixes=['_predicted','_true_value'])"
   ]
  },
  {
   "cell_type": "code",
   "execution_count": 51,
   "metadata": {},
   "outputs": [
    {
     "data": {
      "text/html": [
       "<div>\n",
       "<style scoped>\n",
       "    .dataframe tbody tr th:only-of-type {\n",
       "        vertical-align: middle;\n",
       "    }\n",
       "\n",
       "    .dataframe tbody tr th {\n",
       "        vertical-align: top;\n",
       "    }\n",
       "\n",
       "    .dataframe thead th {\n",
       "        text-align: right;\n",
       "    }\n",
       "</style>\n",
       "<table border=\"1\" class=\"dataframe\">\n",
       "  <thead>\n",
       "    <tr style=\"text-align: right;\">\n",
       "      <th></th>\n",
       "      <th>joined_fields</th>\n",
       "      <th>date_block_num_predicted</th>\n",
       "      <th>item_cnt_day_predicted</th>\n",
       "      <th>date_block_num_true_value</th>\n",
       "      <th>item_cnt_day_true_value</th>\n",
       "    </tr>\n",
       "  </thead>\n",
       "  <tbody>\n",
       "    <tr>\n",
       "      <th>0</th>\n",
       "      <td>0_30</td>\n",
       "      <td>32</td>\n",
       "      <td>0.0</td>\n",
       "      <td>33</td>\n",
       "      <td>0.0</td>\n",
       "    </tr>\n",
       "    <tr>\n",
       "      <th>1</th>\n",
       "      <td>0_31</td>\n",
       "      <td>32</td>\n",
       "      <td>0.0</td>\n",
       "      <td>33</td>\n",
       "      <td>0.0</td>\n",
       "    </tr>\n",
       "    <tr>\n",
       "      <th>2</th>\n",
       "      <td>0_32</td>\n",
       "      <td>32</td>\n",
       "      <td>0.0</td>\n",
       "      <td>33</td>\n",
       "      <td>0.0</td>\n",
       "    </tr>\n",
       "    <tr>\n",
       "      <th>3</th>\n",
       "      <td>0_33</td>\n",
       "      <td>32</td>\n",
       "      <td>0.0</td>\n",
       "      <td>33</td>\n",
       "      <td>0.0</td>\n",
       "    </tr>\n",
       "    <tr>\n",
       "      <th>4</th>\n",
       "      <td>0_35</td>\n",
       "      <td>32</td>\n",
       "      <td>0.0</td>\n",
       "      <td>33</td>\n",
       "      <td>0.0</td>\n",
       "    </tr>\n",
       "  </tbody>\n",
       "</table>\n",
       "</div>"
      ],
      "text/plain": [
       "  joined_fields  date_block_num_predicted  item_cnt_day_predicted  \\\n",
       "0          0_30                        32                     0.0   \n",
       "1          0_31                        32                     0.0   \n",
       "2          0_32                        32                     0.0   \n",
       "3          0_33                        32                     0.0   \n",
       "4          0_35                        32                     0.0   \n",
       "\n",
       "   date_block_num_true_value  item_cnt_day_true_value  \n",
       "0                         33                      0.0  \n",
       "1                         33                      0.0  \n",
       "2                         33                      0.0  \n",
       "3                         33                      0.0  \n",
       "4                         33                      0.0  "
      ]
     },
     "execution_count": 51,
     "metadata": {},
     "output_type": "execute_result"
    }
   ],
   "source": [
    "df_benchmark.head()"
   ]
  },
  {
   "cell_type": "code",
   "execution_count": 52,
   "metadata": {},
   "outputs": [],
   "source": [
    "# Now we evaluate the benchmark prediction\n",
    "r2 = r2_score(df_benchmark['item_cnt_day_predicted'], df_benchmark['item_cnt_day_true_value'])"
   ]
  },
  {
   "cell_type": "code",
   "execution_count": 53,
   "metadata": {},
   "outputs": [],
   "source": [
    "mse = mean_squared_error(df_benchmark['item_cnt_day_predicted'], df_benchmark['item_cnt_day_true_value'])\n",
    "rmse = mean_squared_error(df_benchmark['item_cnt_day_predicted'], df_benchmark['item_cnt_day_true_value']) ** 0.5"
   ]
  },
  {
   "cell_type": "code",
   "execution_count": 54,
   "metadata": {},
   "outputs": [
    {
     "name": "stdout",
     "output_type": "stream",
     "text": [
      "The R2 score is:  0.02676808108045603\n",
      "The mean square error is:  23.555287288297443\n",
      "The root mean square error is:  4.853378955768593\n"
     ]
    }
   ],
   "source": [
    "print('The R2 score is: ', r2)\n",
    "print('The mean square error is: ', mse)\n",
    "print('The root mean square error is: ', rmse)"
   ]
  },
  {
   "cell_type": "markdown",
   "metadata": {},
   "source": [
    "- We observe that the **r2 score** is extremely low\n",
    "- the **RMSE** on the other hand is quite acceptable"
   ]
  },
  {
   "cell_type": "code",
   "execution_count": 55,
   "metadata": {},
   "outputs": [],
   "source": [
    "error_benchmark = df_benchmark['item_cnt_day_predicted'] - df_benchmark['item_cnt_day_true_value']"
   ]
  },
  {
   "cell_type": "code",
   "execution_count": 56,
   "metadata": {},
   "outputs": [
    {
     "data": {
      "text/plain": [
       "(array([1.0000e+00, 1.7000e+01, 4.2409e+05, 4.0000e+00, 3.0000e+00,\n",
       "        3.0000e+00, 0.0000e+00, 1.0000e+00, 0.0000e+00, 2.0000e+00]),\n",
       " array([-500. , -285.6,  -71.2,  143.2,  357.6,  572. ,  786.4, 1000.8,\n",
       "        1215.2, 1429.6, 1644. ]),\n",
       " <a list of 10 Patch objects>)"
      ]
     },
     "execution_count": 56,
     "metadata": {},
     "output_type": "execute_result"
    },
    {
     "data": {
      "image/png": "[encoded data removed]",
      "text/plain": [
       "<Figure size 432x288 with 1 Axes>"
      ]
     },
     "metadata": {
      "needs_background": "light"
     },
     "output_type": "display_data"
    }
   ],
   "source": [
    "plt.hist(error_benchmark)"
   ]
  },
  {
   "cell_type": "markdown",
   "metadata": {},
   "source": [
    "- most of the errors are around 0, which is good. However, we are also skewed towards right\n",
    "- maybe in general people spend more money on September than October?"
   ]
  },
  {
   "cell_type": "code",
   "execution_count": 57,
   "metadata": {},
   "outputs": [
    {
     "data": {
      "text/plain": [
       "(array([8.10000e+01, 0.00000e+00, 7.70000e+01, 0.00000e+00, 0.00000e+00,\n",
       "        1.16000e+02, 0.00000e+00, 0.00000e+00, 1.82000e+02, 0.00000e+00,\n",
       "        0.00000e+00, 3.07000e+02, 0.00000e+00, 4.59000e+02, 0.00000e+00,\n",
       "        0.00000e+00, 1.03400e+03, 0.00000e+00, 0.00000e+00, 3.28000e+03,\n",
       "        0.00000e+00, 0.00000e+00, 1.66920e+04, 0.00000e+00, 0.00000e+00,\n",
       "        3.79707e+05, 0.00000e+00, 1.61530e+04, 0.00000e+00, 0.00000e+00,\n",
       "        3.13400e+03, 0.00000e+00, 0.00000e+00, 9.95000e+02, 0.00000e+00,\n",
       "        0.00000e+00, 4.80000e+02, 0.00000e+00, 2.53000e+02, 0.00000e+00,\n",
       "        0.00000e+00, 1.39000e+02, 0.00000e+00, 0.00000e+00, 1.02000e+02,\n",
       "        0.00000e+00, 0.00000e+00, 7.00000e+01, 0.00000e+00, 5.20000e+01]),\n",
       " array([-9.  , -8.64, -8.28, -7.92, -7.56, -7.2 , -6.84, -6.48, -6.12,\n",
       "        -5.76, -5.4 , -5.04, -4.68, -4.32, -3.96, -3.6 , -3.24, -2.88,\n",
       "        -2.52, -2.16, -1.8 , -1.44, -1.08, -0.72, -0.36,  0.  ,  0.36,\n",
       "         0.72,  1.08,  1.44,  1.8 ,  2.16,  2.52,  2.88,  3.24,  3.6 ,\n",
       "         3.96,  4.32,  4.68,  5.04,  5.4 ,  5.76,  6.12,  6.48,  6.84,\n",
       "         7.2 ,  7.56,  7.92,  8.28,  8.64,  9.  ]),\n",
       " <a list of 50 Patch objects>)"
      ]
     },
     "execution_count": 57,
     "metadata": {},
     "output_type": "execute_result"
    },
    {
     "data": {
      "image/png": "[encoded data removed]",
      "text/plain": [
       "<Figure size 432x288 with 1 Axes>"
      ]
     },
     "metadata": {
      "needs_background": "light"
     },
     "output_type": "display_data"
    }
   ],
   "source": [
    "plt.hist(error_benchmark[abs(error_benchmark)<10], bins=50)"
   ]
  },
  {
   "cell_type": "code",
   "execution_count": 58,
   "metadata": {},
   "outputs": [
    {
     "data": {
      "text/plain": [
       "<matplotlib.collections.PathCollection at 0x1a23aa3c88>"
      ]
     },
     "execution_count": 58,
     "metadata": {},
     "output_type": "execute_result"
    },
    {
     "data": {
      "image/png": "[encoded data removed]",
      "text/plain": [
       "<Figure size 432x288 with 1 Axes>"
      ]
     },
     "metadata": {
      "needs_background": "light"
     },
     "output_type": "display_data"
    }
   ],
   "source": [
    "plt.scatter(df_benchmark['item_cnt_day_true_value'], error_benchmark)"
   ]
  },
  {
   "cell_type": "code",
   "execution_count": 59,
   "metadata": {},
   "outputs": [],
   "source": [
    "# count of errors in percentages\n",
    "perc_errors_benchmark = abs(error_benchmark).value_counts().to_frame()\n",
    "perc_errors_benchmark['value'] = perc_errors_benchmark.index\n",
    "perc_errors_benchmark = perc_errors_benchmark.sort_values(by=['value'])\n",
    "perc_errors_benchmark['percentage'] = perc_errors_benchmark[0] / sum(perc_errors_benchmark[0])\n",
    "perc_errors_benchmark['cumsum'] = perc_errors_benchmark[0].cumsum()\n",
    "perc_errors_benchmark['percentage_comulative'] = perc_errors_benchmark['cumsum'] / sum(perc_errors_benchmark[0])"
   ]
  },
  {
   "cell_type": "code",
   "execution_count": 60,
   "metadata": {},
   "outputs": [
    {
     "data": {
      "text/html": [
       "<div>\n",
       "<style scoped>\n",
       "    .dataframe tbody tr th:only-of-type {\n",
       "        vertical-align: middle;\n",
       "    }\n",
       "\n",
       "    .dataframe tbody tr th {\n",
       "        vertical-align: top;\n",
       "    }\n",
       "\n",
       "    .dataframe thead th {\n",
       "        text-align: right;\n",
       "    }\n",
       "</style>\n",
       "<table border=\"1\" class=\"dataframe\">\n",
       "  <thead>\n",
       "    <tr style=\"text-align: right;\">\n",
       "      <th></th>\n",
       "      <th>0</th>\n",
       "      <th>value</th>\n",
       "      <th>percentage</th>\n",
       "      <th>cumsum</th>\n",
       "      <th>percentage_comulative</th>\n",
       "    </tr>\n",
       "  </thead>\n",
       "  <tbody>\n",
       "    <tr>\n",
       "      <th>0.0</th>\n",
       "      <td>379707</td>\n",
       "      <td>0.0</td>\n",
       "      <td>0.895280</td>\n",
       "      <td>379707</td>\n",
       "      <td>0.895280</td>\n",
       "    </tr>\n",
       "    <tr>\n",
       "      <th>1.0</th>\n",
       "      <td>32845</td>\n",
       "      <td>1.0</td>\n",
       "      <td>0.077443</td>\n",
       "      <td>412552</td>\n",
       "      <td>0.972722</td>\n",
       "    </tr>\n",
       "    <tr>\n",
       "      <th>2.0</th>\n",
       "      <td>6414</td>\n",
       "      <td>2.0</td>\n",
       "      <td>0.015123</td>\n",
       "      <td>418966</td>\n",
       "      <td>0.987845</td>\n",
       "    </tr>\n",
       "    <tr>\n",
       "      <th>3.0</th>\n",
       "      <td>2029</td>\n",
       "      <td>3.0</td>\n",
       "      <td>0.004784</td>\n",
       "      <td>420995</td>\n",
       "      <td>0.992629</td>\n",
       "    </tr>\n",
       "    <tr>\n",
       "      <th>4.0</th>\n",
       "      <td>939</td>\n",
       "      <td>4.0</td>\n",
       "      <td>0.002214</td>\n",
       "      <td>421934</td>\n",
       "      <td>0.994843</td>\n",
       "    </tr>\n",
       "    <tr>\n",
       "      <th>...</th>\n",
       "      <td>...</td>\n",
       "      <td>...</td>\n",
       "      <td>...</td>\n",
       "      <td>...</td>\n",
       "      <td>...</td>\n",
       "    </tr>\n",
       "    <tr>\n",
       "      <th>539.0</th>\n",
       "      <td>1</td>\n",
       "      <td>539.0</td>\n",
       "      <td>0.000002</td>\n",
       "      <td>424115</td>\n",
       "      <td>0.999986</td>\n",
       "    </tr>\n",
       "    <tr>\n",
       "      <th>597.0</th>\n",
       "      <td>2</td>\n",
       "      <td>597.0</td>\n",
       "      <td>0.000005</td>\n",
       "      <td>424117</td>\n",
       "      <td>0.999991</td>\n",
       "    </tr>\n",
       "    <tr>\n",
       "      <th>716.0</th>\n",
       "      <td>1</td>\n",
       "      <td>716.0</td>\n",
       "      <td>0.000002</td>\n",
       "      <td>424118</td>\n",
       "      <td>0.999993</td>\n",
       "    </tr>\n",
       "    <tr>\n",
       "      <th>1117.0</th>\n",
       "      <td>1</td>\n",
       "      <td>1117.0</td>\n",
       "      <td>0.000002</td>\n",
       "      <td>424119</td>\n",
       "      <td>0.999995</td>\n",
       "    </tr>\n",
       "    <tr>\n",
       "      <th>1644.0</th>\n",
       "      <td>2</td>\n",
       "      <td>1644.0</td>\n",
       "      <td>0.000005</td>\n",
       "      <td>424121</td>\n",
       "      <td>1.000000</td>\n",
       "    </tr>\n",
       "  </tbody>\n",
       "</table>\n",
       "<p>102 rows × 5 columns</p>\n",
       "</div>"
      ],
      "text/plain": [
       "             0   value  percentage  cumsum  percentage_comulative\n",
       "0.0     379707     0.0    0.895280  379707               0.895280\n",
       "1.0      32845     1.0    0.077443  412552               0.972722\n",
       "2.0       6414     2.0    0.015123  418966               0.987845\n",
       "3.0       2029     3.0    0.004784  420995               0.992629\n",
       "4.0        939     4.0    0.002214  421934               0.994843\n",
       "...        ...     ...         ...     ...                    ...\n",
       "539.0        1   539.0    0.000002  424115               0.999986\n",
       "597.0        2   597.0    0.000005  424117               0.999991\n",
       "716.0        1   716.0    0.000002  424118               0.999993\n",
       "1117.0       1  1117.0    0.000002  424119               0.999995\n",
       "1644.0       2  1644.0    0.000005  424121               1.000000\n",
       "\n",
       "[102 rows x 5 columns]"
      ]
     },
     "execution_count": 60,
     "metadata": {},
     "output_type": "execute_result"
    }
   ],
   "source": [
    "perc_errors_benchmark"
   ]
  },
  {
   "cell_type": "markdown",
   "metadata": {},
   "source": [
    " - From this table we deduce that in about 90% of our cases we predict the correct value\n",
    " - In 99%, the error is lower than 3\n",
    " - we need to investigate if the 0 errors correspond 0 values"
   ]
  },
  {
   "cell_type": "code",
   "execution_count": 61,
   "metadata": {},
   "outputs": [],
   "source": [
    "df_benchmark['error'] = error_benchmark\n",
    "df_benchmark_zero_error = df_benchmark[df_benchmark['error'] == 0]"
   ]
  },
  {
   "cell_type": "code",
   "execution_count": 62,
   "metadata": {},
   "outputs": [
    {
     "data": {
      "text/plain": [
       "0.0     374726\n",
       "1.0       4028\n",
       "2.0        608\n",
       "3.0        179\n",
       "4.0         68\n",
       "5.0         32\n",
       "6.0         26\n",
       "7.0         11\n",
       "8.0          7\n",
       "9.0          4\n",
       "14.0         3\n",
       "15.0         3\n",
       "10.0         2\n",
       "61.0         2\n",
       "60.0         1\n",
       "11.0         1\n",
       "82.0         1\n",
       "20.0         1\n",
       "27.0         1\n",
       "12.0         1\n",
       "18.0         1\n",
       "17.0         1\n",
       "Name: item_cnt_day_true_value, dtype: int64"
      ]
     },
     "execution_count": 62,
     "metadata": {},
     "output_type": "execute_result"
    }
   ],
   "source": [
    "df_benchmark_zero_error['item_cnt_day_true_value'].value_counts()"
   ]
  },
  {
   "cell_type": "markdown",
   "metadata": {},
   "source": [
    "- We observe that most of the true values are 0. This means that these items were not sold in the last month we were considering, so probably our predictions are not so meaningful\n",
    "\n",
    "Now, let's see how the benchmark method perform on Kaggle"
   ]
  },
  {
   "cell_type": "code",
   "execution_count": 63,
   "metadata": {},
   "outputs": [],
   "source": [
    "df_submission = df_test_orig.copy()\n",
    "df_submission = joining_fields(df_submission, 'shop_id', 'item_id', 'joined_fields')"
   ]
  },
  {
   "cell_type": "code",
   "execution_count": 64,
   "metadata": {},
   "outputs": [
    {
     "data": {
      "text/html": [
       "<div>\n",
       "<style scoped>\n",
       "    .dataframe tbody tr th:only-of-type {\n",
       "        vertical-align: middle;\n",
       "    }\n",
       "\n",
       "    .dataframe tbody tr th {\n",
       "        vertical-align: top;\n",
       "    }\n",
       "\n",
       "    .dataframe thead th {\n",
       "        text-align: right;\n",
       "    }\n",
       "</style>\n",
       "<table border=\"1\" class=\"dataframe\">\n",
       "  <thead>\n",
       "    <tr style=\"text-align: right;\">\n",
       "      <th></th>\n",
       "      <th>ID</th>\n",
       "      <th>item_cnt_month</th>\n",
       "    </tr>\n",
       "  </thead>\n",
       "  <tbody>\n",
       "    <tr>\n",
       "      <th>0</th>\n",
       "      <td>0</td>\n",
       "      <td>0.0</td>\n",
       "    </tr>\n",
       "    <tr>\n",
       "      <th>1</th>\n",
       "      <td>1</td>\n",
       "      <td>0.0</td>\n",
       "    </tr>\n",
       "    <tr>\n",
       "      <th>2</th>\n",
       "      <td>2</td>\n",
       "      <td>1.0</td>\n",
       "    </tr>\n",
       "    <tr>\n",
       "      <th>3</th>\n",
       "      <td>3</td>\n",
       "      <td>0.0</td>\n",
       "    </tr>\n",
       "    <tr>\n",
       "      <th>4</th>\n",
       "      <td>4</td>\n",
       "      <td>0.0</td>\n",
       "    </tr>\n",
       "  </tbody>\n",
       "</table>\n",
       "</div>"
      ],
      "text/plain": [
       "   ID  item_cnt_month\n",
       "0   0             0.0\n",
       "1   1             0.0\n",
       "2   2             1.0\n",
       "3   3             0.0\n",
       "4   4             0.0"
      ]
     },
     "execution_count": 64,
     "metadata": {},
     "output_type": "execute_result"
    }
   ],
   "source": [
    "df_predicted = df_merged[['joined_fields', 'date_block_num', 'item_cnt_day']].copy()\n",
    "df_predicted = df_predicted[df_predicted['date_block_num'] == 33]\n",
    "df_submission = df_submission.merge(df_predicted, on='joined_fields', how='left')\n",
    "df_submission = df_submission[['ID', 'item_cnt_day']]\n",
    "df_submission = df_submission.fillna(0)\n",
    "df_submission = df_submission.rename(columns={'item_cnt_day': 'item_cnt_month'})\n",
    "df_submission.head()"
   ]
  },
  {
   "cell_type": "code",
   "execution_count": 65,
   "metadata": {},
   "outputs": [],
   "source": [
    "df_submission.to_csv('submissions/df_to_submit_benchmark.csv', index=False)"
   ]
  },
  {
   "cell_type": "markdown",
   "metadata": {},
   "source": [
    "- We obtain an RMSE equal to 2.37068"
   ]
  },
  {
   "cell_type": "markdown",
   "metadata": {},
   "source": [
    "# Statistical Strategy: ARIMA & SARIMA"
   ]
  },
  {
   "cell_type": "markdown",
   "metadata": {},
   "source": [
    "In this case we investigate the ARIMA and SARIMA models in order to check if they can be applied to solve our problem"
   ]
  },
  {
   "cell_type": "code",
   "execution_count": 66,
   "metadata": {},
   "outputs": [],
   "source": [
    "df_arima = df_merged.copy()\n",
    "df_arima_joined = df_arima.drop(['shop_id', 'item_id', 'shop_name', 'item_category_name', 'item_category_id',\n",
    "                                 'item_name', 'city', 'item_price'], axis=1)"
   ]
  },
  {
   "cell_type": "code",
   "execution_count": 67,
   "metadata": {},
   "outputs": [
    {
     "data": {
      "text/html": [
       "<div>\n",
       "<style scoped>\n",
       "    .dataframe tbody tr th:only-of-type {\n",
       "        vertical-align: middle;\n",
       "    }\n",
       "\n",
       "    .dataframe tbody tr th {\n",
       "        vertical-align: top;\n",
       "    }\n",
       "\n",
       "    .dataframe thead th {\n",
       "        text-align: right;\n",
       "    }\n",
       "</style>\n",
       "<table border=\"1\" class=\"dataframe\">\n",
       "  <thead>\n",
       "    <tr style=\"text-align: right;\">\n",
       "      <th></th>\n",
       "      <th>joined_fields</th>\n",
       "      <th>date_block_num</th>\n",
       "      <th>item_cnt_day</th>\n",
       "    </tr>\n",
       "  </thead>\n",
       "  <tbody>\n",
       "    <tr>\n",
       "      <th>0</th>\n",
       "      <td>0_30</td>\n",
       "      <td>0</td>\n",
       "      <td>0.0</td>\n",
       "    </tr>\n",
       "    <tr>\n",
       "      <th>1</th>\n",
       "      <td>0_30</td>\n",
       "      <td>1</td>\n",
       "      <td>31.0</td>\n",
       "    </tr>\n",
       "    <tr>\n",
       "      <th>2</th>\n",
       "      <td>0_30</td>\n",
       "      <td>2</td>\n",
       "      <td>0.0</td>\n",
       "    </tr>\n",
       "    <tr>\n",
       "      <th>3</th>\n",
       "      <td>0_30</td>\n",
       "      <td>3</td>\n",
       "      <td>0.0</td>\n",
       "    </tr>\n",
       "    <tr>\n",
       "      <th>4</th>\n",
       "      <td>0_30</td>\n",
       "      <td>4</td>\n",
       "      <td>0.0</td>\n",
       "    </tr>\n",
       "  </tbody>\n",
       "</table>\n",
       "</div>"
      ],
      "text/plain": [
       "  joined_fields  date_block_num  item_cnt_day\n",
       "0          0_30               0           0.0\n",
       "1          0_30               1          31.0\n",
       "2          0_30               2           0.0\n",
       "3          0_30               3           0.0\n",
       "4          0_30               4           0.0"
      ]
     },
     "execution_count": 67,
     "metadata": {},
     "output_type": "execute_result"
    }
   ],
   "source": [
    "df_arima_joined.head()"
   ]
  },
  {
   "cell_type": "markdown",
   "metadata": {},
   "source": [
    "- Let's look for some seasonality in our data at the level of the pairs (shop_id, item_id)"
   ]
  },
  {
   "cell_type": "code",
   "execution_count": 69,
   "metadata": {},
   "outputs": [],
   "source": [
    "df_arima_joined.name = 'df_arima_joined'\n",
    "plotting_random_grid(30, df_arima_joined, df_arima_joined,\n",
    "                     'joined_fields', 'date_block_num', 'item_cnt_day', 34)"
   ]
  },
  {
   "cell_type": "markdown",
   "metadata": {},
   "source": [
    "- We have a lot of 0 values that do not permit find some seasonality traits. Let's look for some seasonality at the shop level"
   ]
  },
  {
   "cell_type": "code",
   "execution_count": 70,
   "metadata": {},
   "outputs": [],
   "source": [
    "df_arima_shop_item = df_merged.drop(['joined_fields', 'item_id', 'shop_name', 'item_category_name',\n",
    "                                     'item_category_id', 'item_name', 'city', 'item_price'], axis=1)\n",
    "df_arima_shop_item = df_arima_shop_item.groupby([\"date_block_num\", \"shop_id\"], as_index=False).agg({\"item_cnt_day\": sum})"
   ]
  },
  {
   "cell_type": "code",
   "execution_count": 71,
   "metadata": {},
   "outputs": [],
   "source": [
    "df_arima_shop_item.name = 'df_arima_shop_item'\n",
    "plotting_random_grid(30, df_arima_shop_item, df_arima_shop_item,\n",
    "                     'shop_id', 'date_block_num', 'item_cnt_day', 34)"
   ]
  },
  {
   "cell_type": "markdown",
   "metadata": {},
   "source": [
    "- In this case we notice some seasonalities. For example, we have some peaks in December, which is quite reasonable\n",
    "- Let's try to plot some pairs (shop_id, item_id) where item_cnt_day is never zero"
   ]
  },
  {
   "cell_type": "code",
   "execution_count": 72,
   "metadata": {},
   "outputs": [],
   "source": [
    "df_no_zero = df_merged.copy()\n",
    "df_no_zero['sold'] = np.where(df_no_zero['item_cnt_day']>= 1,1,0) \n",
    "always_sold = df_no_zero[['joined_fields', 'sold']].groupby([\"joined_fields\"], as_index=False). agg({\"sold\" :sum })\n",
    "always_sold = always_sold[always_sold['sold'] >= 34]"
   ]
  },
  {
   "cell_type": "code",
   "execution_count": 73,
   "metadata": {},
   "outputs": [],
   "source": [
    "always_sold.name = 'always_sold'\n",
    "df_merged.name = 'df_merged'\n",
    "plotting_random_grid(30, always_sold, df_merged, 'joined_fields', 'date_block_num', 'item_cnt_day', 34)"
   ]
  },
  {
   "cell_type": "markdown",
   "metadata": {},
   "source": [
    "- Also in this case we can see some seasonalities but they do not seem as clear as in the previous case. **Therefore, we try to proceed with ARIMA and we discard defnitely SARIMA**\n",
    "- Since we are still investigating, we choose the **joined_fields** value 52_5822 as reference"
   ]
  },
  {
   "cell_type": "code",
   "execution_count": 74,
   "metadata": {},
   "outputs": [],
   "source": [
    "series = df_merged.copy()\n",
    "series = series[series['joined_fields']=='52_5822']\n",
    "series = series[['date_block_num','item_cnt_day']]\n",
    "series = series.sort_values(by='date_block_num')\n",
    "series.set_index('date_block_num', inplace=True)\n",
    "series = series['item_cnt_day']"
   ]
  },
  {
   "cell_type": "code",
   "execution_count": 75,
   "metadata": {},
   "outputs": [
    {
     "data": {
      "text/plain": [
       "[<matplotlib.lines.Line2D at 0x1aa7fa1c88>]"
      ]
     },
     "execution_count": 75,
     "metadata": {},
     "output_type": "execute_result"
    },
    {
     "data": {
      "image/png": "[encoded data removed]",
      "text/plain": [
       "<Figure size 432x288 with 1 Axes>"
      ]
     },
     "metadata": {
      "needs_background": "light"
     },
     "output_type": "display_data"
    }
   ],
   "source": [
    "series_train = series.iloc[0: 30]\n",
    "series_test = series.iloc[30:34]\n",
    "plt.plot(series)"
   ]
  },
  {
   "cell_type": "markdown",
   "metadata": {},
   "source": [
    "- We check if the time series is stationary with the adf test (**augmented Dickey-Fuller**)."
   ]
  },
  {
   "cell_type": "code",
   "execution_count": 76,
   "metadata": {},
   "outputs": [
    {
     "data": {
      "image/png": "[encoded data removed]",
      "text/plain": [
       "<Figure size 432x288 with 6 Axes>"
      ]
     },
     "metadata": {
      "needs_background": "light"
     },
     "output_type": "display_data"
    }
   ],
   "source": [
    "adfuller(series)[1]\n",
    "fig, axes = plt.subplots(3, 2, sharex=True)\n",
    "axes[0, 0].plot(series); axes[0, 0].set_title('Original Series')\n",
    "plot_acf(series, ax=axes[0, 1])\n",
    "\n",
    "# 1st Differencing\n",
    "axes[1, 0].plot(series.diff()); axes[1, 0].set_title('1st Order Differencing')\n",
    "plot_acf(series.diff().dropna(), ax=axes[1, 1])\n",
    "\n",
    "# 2nd Differencing\n",
    "axes[2, 0].plot(series.diff().diff()); axes[2, 0].set_title('2nd Order Differencing')\n",
    "plot_acf(series.diff().diff().dropna(), ax=axes[2, 1])\n",
    "\n",
    "plt.show()"
   ]
  },
  {
   "cell_type": "code",
   "execution_count": 77,
   "metadata": {},
   "outputs": [
    {
     "data": {
      "text/plain": [
       "0.8937229830070468"
      ]
     },
     "execution_count": 77,
     "metadata": {},
     "output_type": "execute_result"
    }
   ],
   "source": [
    "adfuller(series.dropna())[1]"
   ]
  },
  {
   "cell_type": "code",
   "execution_count": 78,
   "metadata": {},
   "outputs": [
    {
     "data": {
      "text/plain": [
       "1.2031138630103627e-08"
      ]
     },
     "execution_count": 78,
     "metadata": {},
     "output_type": "execute_result"
    }
   ],
   "source": [
    "adfuller(series.diff().dropna())[1]"
   ]
  },
  {
   "cell_type": "markdown",
   "metadata": {},
   "source": [
    "- We obtain a **p-value** less than 0.05. So we can accept the alternative hypothesis, i.e the **time series is stationary**. \n",
    "- Now we are going to look at the coefficient related to the AR (autoregression model) which is usually denoted by p. "
   ]
  },
  {
   "cell_type": "code",
   "execution_count": 79,
   "metadata": {},
   "outputs": [
    {
     "name": "stdout",
     "output_type": "stream",
     "text": [
      "Figure(432x288)\n"
     ]
    },
    {
     "name": "stderr",
     "output_type": "stream",
     "text": [
      "/Users/alessandrobiagi/anaconda3/lib/python3.7/site-packages/statsmodels/regression/linear_model.py:1406: RuntimeWarning: invalid value encountered in sqrt\n",
      "  return rho, np.sqrt(sigmasq)\n"
     ]
    },
    {
     "data": {
      "image/png": "[encoded data removed]",
      "text/plain": [
       "<Figure size 432x288 with 1 Axes>"
      ]
     },
     "metadata": {
      "needs_background": "light"
     },
     "output_type": "display_data"
    }
   ],
   "source": [
    "print(plot_pacf(series.diff().dropna(), lags = 32))"
   ]
  },
  {
   "cell_type": "markdown",
   "metadata": {},
   "source": [
    "- We see that lag-1 is the only relevant value above the confidence region (the blue one). This means that a point in a time series is significantly correlated with the previous point\n",
    "- The fact that is negative tell us that the if we see a value above the mean the next value will probably be under the mean (and vice-versa)\n",
    "- Therefore, we decide to take the p coefficient equal to 1"
   ]
  },
  {
   "cell_type": "markdown",
   "metadata": {},
   "source": [
    "- Now we look at the Moving Average (MA only) model in order to find the q coefficient"
   ]
  },
  {
   "cell_type": "code",
   "execution_count": 80,
   "metadata": {},
   "outputs": [
    {
     "name": "stdout",
     "output_type": "stream",
     "text": [
      "Figure(432x288)\n"
     ]
    },
    {
     "data": {
      "image/png": "[encoded data removed]",
      "text/plain": [
       "<Figure size 432x288 with 1 Axes>"
      ]
     },
     "metadata": {
      "needs_background": "light"
     },
     "output_type": "display_data"
    }
   ],
   "source": [
    "print(plot_acf(series.diff().dropna(), lags = 32))"
   ]
  },
  {
   "cell_type": "markdown",
   "metadata": {},
   "source": [
    "- Also in this case we see that we have just one value above the blue region so we should take q = 1. \n",
    "- Considering that also the partial autocorrelation has a negative lag-1 we could also take q = 2, but we prefer being conservative in this case\n",
    "- So we will try ARIMA(1,1,1).\n",
    "- Let us plot the forcast vs the actual values."
   ]
  },
  {
   "cell_type": "code",
   "execution_count": 81,
   "metadata": {},
   "outputs": [
    {
     "name": "stdout",
     "output_type": "stream",
     "text": [
      "                             ARIMA Model Results                              \n",
      "==============================================================================\n",
      "Dep. Variable:         D.item_cnt_day   No. Observations:                   33\n",
      "Model:                 ARIMA(1, 1, 1)   Log Likelihood                 -97.076\n",
      "Method:                       css-mle   S.D. of innovations              4.549\n",
      "Date:                Sun, 02 Aug 2020   AIC                            202.152\n",
      "Time:                        22:22:25   BIC                            208.138\n",
      "Sample:                             1   HQIC                           204.166\n",
      "                                                                              \n",
      "========================================================================================\n",
      "                           coef    std err          z      P>|z|      [0.025      0.975]\n",
      "----------------------------------------------------------------------------------------\n",
      "const                   -0.0450      0.387     -0.116      0.907      -0.803       0.713\n",
      "ar.L1.D.item_cnt_day    -0.3658      0.309     -1.184      0.237      -0.972       0.240\n",
      "ma.L1.D.item_cnt_day    -0.3542      0.343     -1.031      0.302      -1.027       0.319\n",
      "                                    Roots                                    \n",
      "=============================================================================\n",
      "                  Real          Imaginary           Modulus         Frequency\n",
      "-----------------------------------------------------------------------------\n",
      "AR.1           -2.7336           +0.0000j            2.7336            0.5000\n",
      "MA.1            2.8233           +0.0000j            2.8233            0.0000\n",
      "-----------------------------------------------------------------------------\n"
     ]
    }
   ],
   "source": [
    "model = ARIMA(series, order=(1,1,1))\n",
    "model_fit = model.fit(disp=0)\n",
    "print(model_fit.summary())"
   ]
  },
  {
   "cell_type": "code",
   "execution_count": 82,
   "metadata": {},
   "outputs": [
    {
     "data": {
      "image/png": "[encoded data removed]",
      "text/plain": [
       "<Figure size 432x288 with 2 Axes>"
      ]
     },
     "metadata": {
      "needs_background": "light"
     },
     "output_type": "display_data"
    },
    {
     "data": {
      "image/png": "[encoded data removed]",
      "text/plain": [
       "<Figure size 432x288 with 1 Axes>"
      ]
     },
     "metadata": {
      "needs_background": "light"
     },
     "output_type": "display_data"
    }
   ],
   "source": [
    "# Plot residual errors\n",
    "residuals = pd.DataFrame(model_fit.resid)\n",
    "fig, ax = plt.subplots(1,2)\n",
    "residuals.plot(title=\"Residuals\", ax=ax[0])\n",
    "residuals.plot(kind='kde', title='Density', ax=ax[1])\n",
    "plt.show()\n",
    "\n",
    "# In the folllowing graph we can see for every month what the model predicts using just\n",
    "# the previous real point\n",
    "model_fit.plot_predict(dynamic=False)\n",
    "plt.show()"
   ]
  },
  {
   "cell_type": "code",
   "execution_count": 83,
   "metadata": {},
   "outputs": [
    {
     "data": {
      "image/png": "[encoded data removed]",
      "text/plain": [
       "<Figure size 1200x500 with 1 Axes>"
      ]
     },
     "metadata": {
      "needs_background": "light"
     },
     "output_type": "display_data"
    }
   ],
   "source": [
    "# Build Model\n",
    "# model = ARIMA(train, order=(3,2,1))  \n",
    "model = ARIMA(series_train, order=(1, 1, 1))  \n",
    "fitted = model.fit(disp=-1)  \n",
    "\n",
    "# Forecast for 4 points with a 95% confidence interval\n",
    "fc, se, conf = fitted.forecast(4, alpha=0.05)\n",
    "\n",
    "# Make as pandas series\n",
    "fc_series = pd.Series(fc, index=series_test.index)\n",
    "lower_series = pd.Series(conf[:, 0], index=series_test.index)\n",
    "upper_series = pd.Series(conf[:, 1], index=series_test.index)\n",
    "\n",
    "# In the folllowing graph we can see for every month what the model predicts using just\n",
    "# the previous predicted point\n",
    "plt.figure(figsize=(12,5), dpi=100)\n",
    "plt.plot(series_train, label='training')\n",
    "plt.plot(series_test, label='actual')\n",
    "plt.plot(fc_series, label='forecast')\n",
    "plt.fill_between(lower_series.index, lower_series, upper_series, \n",
    "                color='k', alpha=.15)\n",
    "plt.title('Forecast vs Actuals')\n",
    "plt.legend(loc='upper left', fontsize=8)\n",
    "plt.show()"
   ]
  },
  {
   "cell_type": "markdown",
   "metadata": {},
   "source": [
    "Note that in this case we have predict the 4 next months using the previous 29 months. "
   ]
  },
  {
   "cell_type": "code",
   "execution_count": 84,
   "metadata": {},
   "outputs": [
    {
     "data": {
      "text/plain": [
       "date_block_num\n",
       "30    3.984735\n",
       "31    3.165637\n",
       "32    3.379035\n",
       "33    3.212222\n",
       "dtype: float64"
      ]
     },
     "execution_count": 84,
     "metadata": {},
     "output_type": "execute_result"
    }
   ],
   "source": [
    "fc_series"
   ]
  },
  {
   "cell_type": "code",
   "execution_count": 85,
   "metadata": {},
   "outputs": [
    {
     "data": {
      "text/plain": [
       "date_block_num\n",
       "30    3.0\n",
       "31    3.0\n",
       "32    9.0\n",
       "33    1.0\n",
       "Name: item_cnt_day, dtype: float64"
      ]
     },
     "execution_count": 85,
     "metadata": {},
     "output_type": "execute_result"
    }
   ],
   "source": [
    "series_test"
   ]
  },
  {
   "cell_type": "code",
   "execution_count": 86,
   "metadata": {},
   "outputs": [
    {
     "name": "stdout",
     "output_type": "stream",
     "text": [
      "The RMSE is:  9.371578555787567\n"
     ]
    }
   ],
   "source": [
    "rmse = sum((t-p) ** 2 for t,p in zip(series_test, fc_series))/len(series_test)\n",
    "print('The RMSE is: ', rmse)"
   ]
  },
  {
   "cell_type": "markdown",
   "metadata": {},
   "source": [
    "- At this moment a possibility could be to try ARIMA(1,1,1) for every pair (shop_id, item_id) to really evaluate the performance, but we are not so confident that the same ARIMA model could adapt well\n",
    "- Because of this, we decide to move forward with another strategy"
   ]
  },
  {
   "cell_type": "markdown",
   "metadata": {},
   "source": [
    "- For sure this XGBoost strategy outperformed by far the Benchmark strategy since we have a **mean test score of 3.7096**\n",
    "- Let's test its performance on the test set"
   ]
  },
  {
   "cell_type": "markdown",
   "metadata": {},
   "source": [
    "# Strategy II: XGBoost"
   ]
  },
  {
   "cell_type": "markdown",
   "metadata": {},
   "source": [
    "- This is our **most promising strategy**. For every row we create new features containing the item_cnt_day values of the months before\n",
    "- With these features we train an XGBoost model. We hope that the model can learn some patterns between the amount of number of items sold in the previous months and the amount to predict."
   ]
  },
  {
   "cell_type": "code",
   "execution_count": 87,
   "metadata": {},
   "outputs": [],
   "source": [
    "df_xgb = df_merged.copy()\n",
    "df_xgb.drop(['shop_name', 'item_category_name', 'item_name'], axis=1, inplace=True)\n",
    "df_xgb = numeric_encoding(df_xgb, 'city')"
   ]
  },
  {
   "cell_type": "code",
   "execution_count": 88,
   "metadata": {},
   "outputs": [
    {
     "data": {
      "text/html": [
       "<div>\n",
       "<style scoped>\n",
       "    .dataframe tbody tr th:only-of-type {\n",
       "        vertical-align: middle;\n",
       "    }\n",
       "\n",
       "    .dataframe tbody tr th {\n",
       "        vertical-align: top;\n",
       "    }\n",
       "\n",
       "    .dataframe thead th {\n",
       "        text-align: right;\n",
       "    }\n",
       "</style>\n",
       "<table border=\"1\" class=\"dataframe\">\n",
       "  <thead>\n",
       "    <tr style=\"text-align: right;\">\n",
       "      <th></th>\n",
       "      <th>shop_id</th>\n",
       "      <th>item_id</th>\n",
       "      <th>item_category_id</th>\n",
       "      <th>city</th>\n",
       "      <th>joined_fields</th>\n",
       "      <th>date_block_num</th>\n",
       "      <th>item_cnt_day</th>\n",
       "      <th>item_price</th>\n",
       "    </tr>\n",
       "  </thead>\n",
       "  <tbody>\n",
       "    <tr>\n",
       "      <th>0</th>\n",
       "      <td>0</td>\n",
       "      <td>30</td>\n",
       "      <td>40</td>\n",
       "      <td>29</td>\n",
       "      <td>0_30</td>\n",
       "      <td>0</td>\n",
       "      <td>0.0</td>\n",
       "      <td>265.0</td>\n",
       "    </tr>\n",
       "    <tr>\n",
       "      <th>1</th>\n",
       "      <td>0</td>\n",
       "      <td>30</td>\n",
       "      <td>40</td>\n",
       "      <td>29</td>\n",
       "      <td>0_30</td>\n",
       "      <td>1</td>\n",
       "      <td>31.0</td>\n",
       "      <td>265.0</td>\n",
       "    </tr>\n",
       "    <tr>\n",
       "      <th>2</th>\n",
       "      <td>0</td>\n",
       "      <td>30</td>\n",
       "      <td>40</td>\n",
       "      <td>29</td>\n",
       "      <td>0_30</td>\n",
       "      <td>2</td>\n",
       "      <td>0.0</td>\n",
       "      <td>265.0</td>\n",
       "    </tr>\n",
       "    <tr>\n",
       "      <th>3</th>\n",
       "      <td>0</td>\n",
       "      <td>30</td>\n",
       "      <td>40</td>\n",
       "      <td>29</td>\n",
       "      <td>0_30</td>\n",
       "      <td>3</td>\n",
       "      <td>0.0</td>\n",
       "      <td>265.0</td>\n",
       "    </tr>\n",
       "    <tr>\n",
       "      <th>4</th>\n",
       "      <td>0</td>\n",
       "      <td>30</td>\n",
       "      <td>40</td>\n",
       "      <td>29</td>\n",
       "      <td>0_30</td>\n",
       "      <td>4</td>\n",
       "      <td>0.0</td>\n",
       "      <td>265.0</td>\n",
       "    </tr>\n",
       "  </tbody>\n",
       "</table>\n",
       "</div>"
      ],
      "text/plain": [
       "   shop_id  item_id  item_category_id  city joined_fields  date_block_num  \\\n",
       "0        0       30                40    29          0_30               0   \n",
       "1        0       30                40    29          0_30               1   \n",
       "2        0       30                40    29          0_30               2   \n",
       "3        0       30                40    29          0_30               3   \n",
       "4        0       30                40    29          0_30               4   \n",
       "\n",
       "   item_cnt_day  item_price  \n",
       "0           0.0       265.0  \n",
       "1          31.0       265.0  \n",
       "2           0.0       265.0  \n",
       "3           0.0       265.0  \n",
       "4           0.0       265.0  "
      ]
     },
     "execution_count": 88,
     "metadata": {},
     "output_type": "execute_result"
    }
   ],
   "source": [
    "df_xgb_lag = df_xgb.copy()\n",
    "df_xgb_lag.head()"
   ]
  },
  {
   "cell_type": "code",
   "execution_count": 89,
   "metadata": {},
   "outputs": [],
   "source": [
    "# We build the lag columns for the twelve months before\n",
    "df_xgb_lag = building_unit_lags(df=df_xgb, df_lag=df_xgb_lag, pk='joined_fields',\n",
    "                               time_col='date_block_num', value_col='item_cnt_day',\n",
    "                               lag_size = 12)"
   ]
  },
  {
   "cell_type": "code",
   "execution_count": 90,
   "metadata": {},
   "outputs": [
    {
     "data": {
      "text/html": [
       "<div>\n",
       "<style scoped>\n",
       "    .dataframe tbody tr th:only-of-type {\n",
       "        vertical-align: middle;\n",
       "    }\n",
       "\n",
       "    .dataframe tbody tr th {\n",
       "        vertical-align: top;\n",
       "    }\n",
       "\n",
       "    .dataframe thead th {\n",
       "        text-align: right;\n",
       "    }\n",
       "</style>\n",
       "<table border=\"1\" class=\"dataframe\">\n",
       "  <thead>\n",
       "    <tr style=\"text-align: right;\">\n",
       "      <th></th>\n",
       "      <th>shop_id</th>\n",
       "      <th>item_id</th>\n",
       "      <th>item_category_id</th>\n",
       "      <th>city</th>\n",
       "      <th>joined_fields</th>\n",
       "      <th>date_block_num</th>\n",
       "      <th>item_cnt_day</th>\n",
       "      <th>item_price</th>\n",
       "      <th>item_cnt_day_lag_1</th>\n",
       "      <th>item_cnt_day_lag_2</th>\n",
       "      <th>item_cnt_day_lag_3</th>\n",
       "      <th>item_cnt_day_lag_4</th>\n",
       "      <th>item_cnt_day_lag_5</th>\n",
       "      <th>item_cnt_day_lag_6</th>\n",
       "      <th>item_cnt_day_lag_7</th>\n",
       "      <th>item_cnt_day_lag_8</th>\n",
       "      <th>item_cnt_day_lag_9</th>\n",
       "      <th>item_cnt_day_lag_10</th>\n",
       "      <th>item_cnt_day_lag_11</th>\n",
       "      <th>item_cnt_day_lag_12</th>\n",
       "    </tr>\n",
       "  </thead>\n",
       "  <tbody>\n",
       "    <tr>\n",
       "      <th>0</th>\n",
       "      <td>0</td>\n",
       "      <td>30</td>\n",
       "      <td>40</td>\n",
       "      <td>29</td>\n",
       "      <td>0_30</td>\n",
       "      <td>0</td>\n",
       "      <td>0.0</td>\n",
       "      <td>265.0</td>\n",
       "      <td>NaN</td>\n",
       "      <td>NaN</td>\n",
       "      <td>NaN</td>\n",
       "      <td>NaN</td>\n",
       "      <td>NaN</td>\n",
       "      <td>NaN</td>\n",
       "      <td>NaN</td>\n",
       "      <td>NaN</td>\n",
       "      <td>NaN</td>\n",
       "      <td>NaN</td>\n",
       "      <td>NaN</td>\n",
       "      <td>NaN</td>\n",
       "    </tr>\n",
       "    <tr>\n",
       "      <th>1</th>\n",
       "      <td>0</td>\n",
       "      <td>30</td>\n",
       "      <td>40</td>\n",
       "      <td>29</td>\n",
       "      <td>0_30</td>\n",
       "      <td>1</td>\n",
       "      <td>31.0</td>\n",
       "      <td>265.0</td>\n",
       "      <td>0.0</td>\n",
       "      <td>NaN</td>\n",
       "      <td>NaN</td>\n",
       "      <td>NaN</td>\n",
       "      <td>NaN</td>\n",
       "      <td>NaN</td>\n",
       "      <td>NaN</td>\n",
       "      <td>NaN</td>\n",
       "      <td>NaN</td>\n",
       "      <td>NaN</td>\n",
       "      <td>NaN</td>\n",
       "      <td>NaN</td>\n",
       "    </tr>\n",
       "    <tr>\n",
       "      <th>2</th>\n",
       "      <td>0</td>\n",
       "      <td>30</td>\n",
       "      <td>40</td>\n",
       "      <td>29</td>\n",
       "      <td>0_30</td>\n",
       "      <td>2</td>\n",
       "      <td>0.0</td>\n",
       "      <td>265.0</td>\n",
       "      <td>31.0</td>\n",
       "      <td>0.0</td>\n",
       "      <td>NaN</td>\n",
       "      <td>NaN</td>\n",
       "      <td>NaN</td>\n",
       "      <td>NaN</td>\n",
       "      <td>NaN</td>\n",
       "      <td>NaN</td>\n",
       "      <td>NaN</td>\n",
       "      <td>NaN</td>\n",
       "      <td>NaN</td>\n",
       "      <td>NaN</td>\n",
       "    </tr>\n",
       "    <tr>\n",
       "      <th>3</th>\n",
       "      <td>0</td>\n",
       "      <td>30</td>\n",
       "      <td>40</td>\n",
       "      <td>29</td>\n",
       "      <td>0_30</td>\n",
       "      <td>3</td>\n",
       "      <td>0.0</td>\n",
       "      <td>265.0</td>\n",
       "      <td>0.0</td>\n",
       "      <td>31.0</td>\n",
       "      <td>0.0</td>\n",
       "      <td>NaN</td>\n",
       "      <td>NaN</td>\n",
       "      <td>NaN</td>\n",
       "      <td>NaN</td>\n",
       "      <td>NaN</td>\n",
       "      <td>NaN</td>\n",
       "      <td>NaN</td>\n",
       "      <td>NaN</td>\n",
       "      <td>NaN</td>\n",
       "    </tr>\n",
       "    <tr>\n",
       "      <th>4</th>\n",
       "      <td>0</td>\n",
       "      <td>30</td>\n",
       "      <td>40</td>\n",
       "      <td>29</td>\n",
       "      <td>0_30</td>\n",
       "      <td>4</td>\n",
       "      <td>0.0</td>\n",
       "      <td>265.0</td>\n",
       "      <td>0.0</td>\n",
       "      <td>0.0</td>\n",
       "      <td>31.0</td>\n",
       "      <td>0.0</td>\n",
       "      <td>NaN</td>\n",
       "      <td>NaN</td>\n",
       "      <td>NaN</td>\n",
       "      <td>NaN</td>\n",
       "      <td>NaN</td>\n",
       "      <td>NaN</td>\n",
       "      <td>NaN</td>\n",
       "      <td>NaN</td>\n",
       "    </tr>\n",
       "  </tbody>\n",
       "</table>\n",
       "</div>"
      ],
      "text/plain": [
       "   shop_id  item_id  item_category_id  city joined_fields  date_block_num  \\\n",
       "0        0       30                40    29          0_30               0   \n",
       "1        0       30                40    29          0_30               1   \n",
       "2        0       30                40    29          0_30               2   \n",
       "3        0       30                40    29          0_30               3   \n",
       "4        0       30                40    29          0_30               4   \n",
       "\n",
       "   item_cnt_day  item_price  item_cnt_day_lag_1  item_cnt_day_lag_2  \\\n",
       "0           0.0       265.0                 NaN                 NaN   \n",
       "1          31.0       265.0                 0.0                 NaN   \n",
       "2           0.0       265.0                31.0                 0.0   \n",
       "3           0.0       265.0                 0.0                31.0   \n",
       "4           0.0       265.0                 0.0                 0.0   \n",
       "\n",
       "   item_cnt_day_lag_3  item_cnt_day_lag_4  item_cnt_day_lag_5  \\\n",
       "0                 NaN                 NaN                 NaN   \n",
       "1                 NaN                 NaN                 NaN   \n",
       "2                 NaN                 NaN                 NaN   \n",
       "3                 0.0                 NaN                 NaN   \n",
       "4                31.0                 0.0                 NaN   \n",
       "\n",
       "   item_cnt_day_lag_6  item_cnt_day_lag_7  item_cnt_day_lag_8  \\\n",
       "0                 NaN                 NaN                 NaN   \n",
       "1                 NaN                 NaN                 NaN   \n",
       "2                 NaN                 NaN                 NaN   \n",
       "3                 NaN                 NaN                 NaN   \n",
       "4                 NaN                 NaN                 NaN   \n",
       "\n",
       "   item_cnt_day_lag_9  item_cnt_day_lag_10  item_cnt_day_lag_11  \\\n",
       "0                 NaN                  NaN                  NaN   \n",
       "1                 NaN                  NaN                  NaN   \n",
       "2                 NaN                  NaN                  NaN   \n",
       "3                 NaN                  NaN                  NaN   \n",
       "4                 NaN                  NaN                  NaN   \n",
       "\n",
       "   item_cnt_day_lag_12  \n",
       "0                  NaN  \n",
       "1                  NaN  \n",
       "2                  NaN  \n",
       "3                  NaN  \n",
       "4                  NaN  "
      ]
     },
     "execution_count": 90,
     "metadata": {},
     "output_type": "execute_result"
    }
   ],
   "source": [
    "df_xgb_lag.head()"
   ]
  },
  {
   "cell_type": "code",
   "execution_count": 91,
   "metadata": {},
   "outputs": [
    {
     "data": {
      "text/plain": [
       "(14420114, 20)"
      ]
     },
     "execution_count": 91,
     "metadata": {},
     "output_type": "execute_result"
    }
   ],
   "source": [
    "df_xgb_lag.shape"
   ]
  },
  {
   "cell_type": "markdown",
   "metadata": {},
   "source": [
    "- We get rid of the null values in **item_cnt_day_lag_x** columns"
   ]
  },
  {
   "cell_type": "code",
   "execution_count": 92,
   "metadata": {},
   "outputs": [],
   "source": [
    "df_xgb_lag = df_xgb_lag[df_xgb_lag['item_cnt_day_lag_12'].notna()]"
   ]
  },
  {
   "cell_type": "code",
   "execution_count": 93,
   "metadata": {},
   "outputs": [
    {
     "data": {
      "text/plain": [
       "(9330662, 20)"
      ]
     },
     "execution_count": 93,
     "metadata": {},
     "output_type": "execute_result"
    }
   ],
   "source": [
    "df_xgb_lag.shape"
   ]
  },
  {
   "cell_type": "code",
   "execution_count": 94,
   "metadata": {},
   "outputs": [
    {
     "data": {
      "text/html": [
       "<div>\n",
       "<style scoped>\n",
       "    .dataframe tbody tr th:only-of-type {\n",
       "        vertical-align: middle;\n",
       "    }\n",
       "\n",
       "    .dataframe tbody tr th {\n",
       "        vertical-align: top;\n",
       "    }\n",
       "\n",
       "    .dataframe thead th {\n",
       "        text-align: right;\n",
       "    }\n",
       "</style>\n",
       "<table border=\"1\" class=\"dataframe\">\n",
       "  <thead>\n",
       "    <tr style=\"text-align: right;\">\n",
       "      <th></th>\n",
       "      <th>shop_id</th>\n",
       "      <th>item_id</th>\n",
       "      <th>item_category_id</th>\n",
       "      <th>city</th>\n",
       "      <th>joined_fields</th>\n",
       "      <th>date_block_num</th>\n",
       "      <th>item_cnt_day</th>\n",
       "      <th>item_price</th>\n",
       "      <th>item_cnt_day_lag_1</th>\n",
       "      <th>item_cnt_day_lag_2</th>\n",
       "      <th>item_cnt_day_lag_3</th>\n",
       "      <th>item_cnt_day_lag_4</th>\n",
       "      <th>item_cnt_day_lag_5</th>\n",
       "      <th>item_cnt_day_lag_6</th>\n",
       "      <th>item_cnt_day_lag_7</th>\n",
       "      <th>item_cnt_day_lag_8</th>\n",
       "      <th>item_cnt_day_lag_9</th>\n",
       "      <th>item_cnt_day_lag_10</th>\n",
       "      <th>item_cnt_day_lag_11</th>\n",
       "      <th>item_cnt_day_lag_12</th>\n",
       "    </tr>\n",
       "  </thead>\n",
       "  <tbody>\n",
       "    <tr>\n",
       "      <th>12</th>\n",
       "      <td>0</td>\n",
       "      <td>30</td>\n",
       "      <td>40</td>\n",
       "      <td>29</td>\n",
       "      <td>0_30</td>\n",
       "      <td>12</td>\n",
       "      <td>0.0</td>\n",
       "      <td>265.0</td>\n",
       "      <td>0.0</td>\n",
       "      <td>0.0</td>\n",
       "      <td>0.0</td>\n",
       "      <td>0.0</td>\n",
       "      <td>0.0</td>\n",
       "      <td>0.0</td>\n",
       "      <td>0.0</td>\n",
       "      <td>0.0</td>\n",
       "      <td>0.0</td>\n",
       "      <td>0.0</td>\n",
       "      <td>31.0</td>\n",
       "      <td>0.0</td>\n",
       "    </tr>\n",
       "    <tr>\n",
       "      <th>13</th>\n",
       "      <td>0</td>\n",
       "      <td>30</td>\n",
       "      <td>40</td>\n",
       "      <td>29</td>\n",
       "      <td>0_30</td>\n",
       "      <td>13</td>\n",
       "      <td>0.0</td>\n",
       "      <td>265.0</td>\n",
       "      <td>0.0</td>\n",
       "      <td>0.0</td>\n",
       "      <td>0.0</td>\n",
       "      <td>0.0</td>\n",
       "      <td>0.0</td>\n",
       "      <td>0.0</td>\n",
       "      <td>0.0</td>\n",
       "      <td>0.0</td>\n",
       "      <td>0.0</td>\n",
       "      <td>0.0</td>\n",
       "      <td>0.0</td>\n",
       "      <td>31.0</td>\n",
       "    </tr>\n",
       "    <tr>\n",
       "      <th>14</th>\n",
       "      <td>0</td>\n",
       "      <td>30</td>\n",
       "      <td>40</td>\n",
       "      <td>29</td>\n",
       "      <td>0_30</td>\n",
       "      <td>14</td>\n",
       "      <td>0.0</td>\n",
       "      <td>265.0</td>\n",
       "      <td>0.0</td>\n",
       "      <td>0.0</td>\n",
       "      <td>0.0</td>\n",
       "      <td>0.0</td>\n",
       "      <td>0.0</td>\n",
       "      <td>0.0</td>\n",
       "      <td>0.0</td>\n",
       "      <td>0.0</td>\n",
       "      <td>0.0</td>\n",
       "      <td>0.0</td>\n",
       "      <td>0.0</td>\n",
       "      <td>0.0</td>\n",
       "    </tr>\n",
       "    <tr>\n",
       "      <th>15</th>\n",
       "      <td>0</td>\n",
       "      <td>30</td>\n",
       "      <td>40</td>\n",
       "      <td>29</td>\n",
       "      <td>0_30</td>\n",
       "      <td>15</td>\n",
       "      <td>0.0</td>\n",
       "      <td>265.0</td>\n",
       "      <td>0.0</td>\n",
       "      <td>0.0</td>\n",
       "      <td>0.0</td>\n",
       "      <td>0.0</td>\n",
       "      <td>0.0</td>\n",
       "      <td>0.0</td>\n",
       "      <td>0.0</td>\n",
       "      <td>0.0</td>\n",
       "      <td>0.0</td>\n",
       "      <td>0.0</td>\n",
       "      <td>0.0</td>\n",
       "      <td>0.0</td>\n",
       "    </tr>\n",
       "    <tr>\n",
       "      <th>16</th>\n",
       "      <td>0</td>\n",
       "      <td>30</td>\n",
       "      <td>40</td>\n",
       "      <td>29</td>\n",
       "      <td>0_30</td>\n",
       "      <td>16</td>\n",
       "      <td>0.0</td>\n",
       "      <td>265.0</td>\n",
       "      <td>0.0</td>\n",
       "      <td>0.0</td>\n",
       "      <td>0.0</td>\n",
       "      <td>0.0</td>\n",
       "      <td>0.0</td>\n",
       "      <td>0.0</td>\n",
       "      <td>0.0</td>\n",
       "      <td>0.0</td>\n",
       "      <td>0.0</td>\n",
       "      <td>0.0</td>\n",
       "      <td>0.0</td>\n",
       "      <td>0.0</td>\n",
       "    </tr>\n",
       "  </tbody>\n",
       "</table>\n",
       "</div>"
      ],
      "text/plain": [
       "    shop_id  item_id  item_category_id  city joined_fields  date_block_num  \\\n",
       "12        0       30                40    29          0_30              12   \n",
       "13        0       30                40    29          0_30              13   \n",
       "14        0       30                40    29          0_30              14   \n",
       "15        0       30                40    29          0_30              15   \n",
       "16        0       30                40    29          0_30              16   \n",
       "\n",
       "    item_cnt_day  item_price  item_cnt_day_lag_1  item_cnt_day_lag_2  \\\n",
       "12           0.0       265.0                 0.0                 0.0   \n",
       "13           0.0       265.0                 0.0                 0.0   \n",
       "14           0.0       265.0                 0.0                 0.0   \n",
       "15           0.0       265.0                 0.0                 0.0   \n",
       "16           0.0       265.0                 0.0                 0.0   \n",
       "\n",
       "    item_cnt_day_lag_3  item_cnt_day_lag_4  item_cnt_day_lag_5  \\\n",
       "12                 0.0                 0.0                 0.0   \n",
       "13                 0.0                 0.0                 0.0   \n",
       "14                 0.0                 0.0                 0.0   \n",
       "15                 0.0                 0.0                 0.0   \n",
       "16                 0.0                 0.0                 0.0   \n",
       "\n",
       "    item_cnt_day_lag_6  item_cnt_day_lag_7  item_cnt_day_lag_8  \\\n",
       "12                 0.0                 0.0                 0.0   \n",
       "13                 0.0                 0.0                 0.0   \n",
       "14                 0.0                 0.0                 0.0   \n",
       "15                 0.0                 0.0                 0.0   \n",
       "16                 0.0                 0.0                 0.0   \n",
       "\n",
       "    item_cnt_day_lag_9  item_cnt_day_lag_10  item_cnt_day_lag_11  \\\n",
       "12                 0.0                  0.0                 31.0   \n",
       "13                 0.0                  0.0                  0.0   \n",
       "14                 0.0                  0.0                  0.0   \n",
       "15                 0.0                  0.0                  0.0   \n",
       "16                 0.0                  0.0                  0.0   \n",
       "\n",
       "    item_cnt_day_lag_12  \n",
       "12                  0.0  \n",
       "13                 31.0  \n",
       "14                  0.0  \n",
       "15                  0.0  \n",
       "16                  0.0  "
      ]
     },
     "execution_count": 94,
     "metadata": {},
     "output_type": "execute_result"
    }
   ],
   "source": [
    "df_xgb_lag.head()"
   ]
  },
  {
   "cell_type": "markdown",
   "metadata": {},
   "source": [
    "- Now we insert as column the item_price related to the previous month"
   ]
  },
  {
   "cell_type": "code",
   "execution_count": 95,
   "metadata": {},
   "outputs": [
    {
     "data": {
      "text/html": [
       "<div>\n",
       "<style scoped>\n",
       "    .dataframe tbody tr th:only-of-type {\n",
       "        vertical-align: middle;\n",
       "    }\n",
       "\n",
       "    .dataframe tbody tr th {\n",
       "        vertical-align: top;\n",
       "    }\n",
       "\n",
       "    .dataframe thead th {\n",
       "        text-align: right;\n",
       "    }\n",
       "</style>\n",
       "<table border=\"1\" class=\"dataframe\">\n",
       "  <thead>\n",
       "    <tr style=\"text-align: right;\">\n",
       "      <th></th>\n",
       "      <th>shop_id</th>\n",
       "      <th>item_id</th>\n",
       "      <th>item_category_id</th>\n",
       "      <th>city</th>\n",
       "      <th>date_block_num</th>\n",
       "      <th>item_cnt_day</th>\n",
       "      <th>item_cnt_day_lag_1</th>\n",
       "      <th>item_cnt_day_lag_2</th>\n",
       "      <th>item_cnt_day_lag_3</th>\n",
       "      <th>item_cnt_day_lag_4</th>\n",
       "      <th>item_cnt_day_lag_5</th>\n",
       "      <th>item_cnt_day_lag_6</th>\n",
       "      <th>item_cnt_day_lag_7</th>\n",
       "      <th>item_cnt_day_lag_8</th>\n",
       "      <th>item_cnt_day_lag_9</th>\n",
       "      <th>item_cnt_day_lag_10</th>\n",
       "      <th>item_cnt_day_lag_11</th>\n",
       "      <th>item_cnt_day_lag_12</th>\n",
       "      <th>item_price_lag_1</th>\n",
       "    </tr>\n",
       "  </thead>\n",
       "  <tbody>\n",
       "    <tr>\n",
       "      <th>0</th>\n",
       "      <td>0</td>\n",
       "      <td>30</td>\n",
       "      <td>40</td>\n",
       "      <td>29</td>\n",
       "      <td>12</td>\n",
       "      <td>0.0</td>\n",
       "      <td>0.0</td>\n",
       "      <td>0.0</td>\n",
       "      <td>0.0</td>\n",
       "      <td>0.0</td>\n",
       "      <td>0.0</td>\n",
       "      <td>0.0</td>\n",
       "      <td>0.0</td>\n",
       "      <td>0.0</td>\n",
       "      <td>0.0</td>\n",
       "      <td>0.0</td>\n",
       "      <td>31.0</td>\n",
       "      <td>0.0</td>\n",
       "      <td>265.0</td>\n",
       "    </tr>\n",
       "    <tr>\n",
       "      <th>1</th>\n",
       "      <td>0</td>\n",
       "      <td>30</td>\n",
       "      <td>40</td>\n",
       "      <td>29</td>\n",
       "      <td>13</td>\n",
       "      <td>0.0</td>\n",
       "      <td>0.0</td>\n",
       "      <td>0.0</td>\n",
       "      <td>0.0</td>\n",
       "      <td>0.0</td>\n",
       "      <td>0.0</td>\n",
       "      <td>0.0</td>\n",
       "      <td>0.0</td>\n",
       "      <td>0.0</td>\n",
       "      <td>0.0</td>\n",
       "      <td>0.0</td>\n",
       "      <td>0.0</td>\n",
       "      <td>31.0</td>\n",
       "      <td>265.0</td>\n",
       "    </tr>\n",
       "    <tr>\n",
       "      <th>2</th>\n",
       "      <td>0</td>\n",
       "      <td>30</td>\n",
       "      <td>40</td>\n",
       "      <td>29</td>\n",
       "      <td>14</td>\n",
       "      <td>0.0</td>\n",
       "      <td>0.0</td>\n",
       "      <td>0.0</td>\n",
       "      <td>0.0</td>\n",
       "      <td>0.0</td>\n",
       "      <td>0.0</td>\n",
       "      <td>0.0</td>\n",
       "      <td>0.0</td>\n",
       "      <td>0.0</td>\n",
       "      <td>0.0</td>\n",
       "      <td>0.0</td>\n",
       "      <td>0.0</td>\n",
       "      <td>0.0</td>\n",
       "      <td>265.0</td>\n",
       "    </tr>\n",
       "    <tr>\n",
       "      <th>3</th>\n",
       "      <td>0</td>\n",
       "      <td>30</td>\n",
       "      <td>40</td>\n",
       "      <td>29</td>\n",
       "      <td>15</td>\n",
       "      <td>0.0</td>\n",
       "      <td>0.0</td>\n",
       "      <td>0.0</td>\n",
       "      <td>0.0</td>\n",
       "      <td>0.0</td>\n",
       "      <td>0.0</td>\n",
       "      <td>0.0</td>\n",
       "      <td>0.0</td>\n",
       "      <td>0.0</td>\n",
       "      <td>0.0</td>\n",
       "      <td>0.0</td>\n",
       "      <td>0.0</td>\n",
       "      <td>0.0</td>\n",
       "      <td>265.0</td>\n",
       "    </tr>\n",
       "    <tr>\n",
       "      <th>4</th>\n",
       "      <td>0</td>\n",
       "      <td>30</td>\n",
       "      <td>40</td>\n",
       "      <td>29</td>\n",
       "      <td>16</td>\n",
       "      <td>0.0</td>\n",
       "      <td>0.0</td>\n",
       "      <td>0.0</td>\n",
       "      <td>0.0</td>\n",
       "      <td>0.0</td>\n",
       "      <td>0.0</td>\n",
       "      <td>0.0</td>\n",
       "      <td>0.0</td>\n",
       "      <td>0.0</td>\n",
       "      <td>0.0</td>\n",
       "      <td>0.0</td>\n",
       "      <td>0.0</td>\n",
       "      <td>0.0</td>\n",
       "      <td>265.0</td>\n",
       "    </tr>\n",
       "  </tbody>\n",
       "</table>\n",
       "</div>"
      ],
      "text/plain": [
       "   shop_id  item_id  item_category_id  city  date_block_num  item_cnt_day  \\\n",
       "0        0       30                40    29              12           0.0   \n",
       "1        0       30                40    29              13           0.0   \n",
       "2        0       30                40    29              14           0.0   \n",
       "3        0       30                40    29              15           0.0   \n",
       "4        0       30                40    29              16           0.0   \n",
       "\n",
       "   item_cnt_day_lag_1  item_cnt_day_lag_2  item_cnt_day_lag_3  \\\n",
       "0                 0.0                 0.0                 0.0   \n",
       "1                 0.0                 0.0                 0.0   \n",
       "2                 0.0                 0.0                 0.0   \n",
       "3                 0.0                 0.0                 0.0   \n",
       "4                 0.0                 0.0                 0.0   \n",
       "\n",
       "   item_cnt_day_lag_4  item_cnt_day_lag_5  item_cnt_day_lag_6  \\\n",
       "0                 0.0                 0.0                 0.0   \n",
       "1                 0.0                 0.0                 0.0   \n",
       "2                 0.0                 0.0                 0.0   \n",
       "3                 0.0                 0.0                 0.0   \n",
       "4                 0.0                 0.0                 0.0   \n",
       "\n",
       "   item_cnt_day_lag_7  item_cnt_day_lag_8  item_cnt_day_lag_9  \\\n",
       "0                 0.0                 0.0                 0.0   \n",
       "1                 0.0                 0.0                 0.0   \n",
       "2                 0.0                 0.0                 0.0   \n",
       "3                 0.0                 0.0                 0.0   \n",
       "4                 0.0                 0.0                 0.0   \n",
       "\n",
       "   item_cnt_day_lag_10  item_cnt_day_lag_11  item_cnt_day_lag_12  \\\n",
       "0                  0.0                 31.0                  0.0   \n",
       "1                  0.0                  0.0                 31.0   \n",
       "2                  0.0                  0.0                  0.0   \n",
       "3                  0.0                  0.0                  0.0   \n",
       "4                  0.0                  0.0                  0.0   \n",
       "\n",
       "   item_price_lag_1  \n",
       "0             265.0  \n",
       "1             265.0  \n",
       "2             265.0  \n",
       "3             265.0  \n",
       "4             265.0  "
      ]
     },
     "execution_count": 95,
     "metadata": {},
     "output_type": "execute_result"
    }
   ],
   "source": [
    "df_xgb_lag = building_unit_lags(df=df_xgb, df_lag=df_xgb_lag, pk='joined_fields', \n",
    "                                time_col='date_block_num', value_col='item_price',\n",
    "                                lag_size=1)\n",
    "\n",
    "df_xgb_lag.drop(['item_price', 'joined_fields'], axis=1, inplace=True)\n",
    "df_xgb_lag.head()"
   ]
  },
  {
   "cell_type": "markdown",
   "metadata": {},
   "source": [
    "- Before applying the XGBoost model, we perform a a **Features Importance phase** using Random Forest"
   ]
  },
  {
   "cell_type": "markdown",
   "metadata": {},
   "source": [
    "## Features Importance and Selection"
   ]
  },
  {
   "cell_type": "markdown",
   "metadata": {},
   "source": [
    "- **Due to our computational resources**, we take a modest subsample of our dataframe (only 5%). Since **item_cnt_day** has some members with only 1 representative, we cannot use a stratified method. We decide to proceed anyway using \"sample\""
   ]
  },
  {
   "cell_type": "code",
   "execution_count": 96,
   "metadata": {},
   "outputs": [
    {
     "data": {
      "text/plain": [
       "(466533, 19)"
      ]
     },
     "execution_count": 96,
     "metadata": {},
     "output_type": "execute_result"
    }
   ],
   "source": [
    "df_xgb_lag_sampled = df_xgb_lag.sample(frac=0.05, random_state=123)\n",
    "df_xgb_lag_sampled.shape"
   ]
  },
  {
   "cell_type": "code",
   "execution_count": 97,
   "metadata": {},
   "outputs": [],
   "source": [
    "rfc_model = RandomForestRegressor(random_state=123)\n",
    "\n",
    "z = df_xgb_lag_sampled.copy()\n",
    "y = z['item_cnt_day']\n",
    "X = z.drop('item_cnt_day', axis=1)"
   ]
  },
  {
   "cell_type": "code",
   "execution_count": 98,
   "metadata": {},
   "outputs": [],
   "source": [
    "# We set our Recursive Features Elimination with Cross-Validation \n",
    "rfecv = RFECV(estimator=rfc_model, step=2, cv=KFold(n_splits=2, random_state=123, shuffle=True), \n",
    "              scoring='neg_mean_squared_error', n_jobs = -1, verbose=1)"
   ]
  },
  {
   "cell_type": "code",
   "execution_count": null,
   "metadata": {},
   "outputs": [],
   "source": [
    "# We train our Random Forest\n",
    "rfecv.fit(X, y)"
   ]
  },
  {
   "cell_type": "code",
   "execution_count": null,
   "metadata": {},
   "outputs": [],
   "source": [
    "# We save rfecv to our directory\n",
    "filename = 'models/saved_models/default_models/rfecv_xgb_2.sav'\n",
    "rfecv = pickle.dump(rfecv, open(filename, 'rb'))"
   ]
  },
  {
   "cell_type": "code",
   "execution_count": 99,
   "metadata": {},
   "outputs": [],
   "source": [
    "# We load rfecv from our directory\n",
    "filename = 'models/saved_models/default_models/rfecv_xgb.sav'\n",
    "rfecv = pickle.load(open(filename, 'rb'))"
   ]
  },
  {
   "cell_type": "code",
   "execution_count": 100,
   "metadata": {},
   "outputs": [
    {
     "name": "stdout",
     "output_type": "stream",
     "text": [
      "Optimal number of features : 6\n",
      "Best features : Index(['item_id', 'date_block_num', 'item_cnt_day_lag_1', 'item_cnt_day_lag_3',\n",
      "       'item_cnt_day_lag_7', 'item_cnt_day_lag_12'],\n",
      "      dtype='object')\n",
      "Original features : Index(['shop_id', 'item_id', 'item_category_id', 'city', 'date_block_num',\n",
      "       'item_cnt_day_lag_1', 'item_cnt_day_lag_2', 'item_cnt_day_lag_3',\n",
      "       'item_cnt_day_lag_4', 'item_cnt_day_lag_5', 'item_cnt_day_lag_6',\n",
      "       'item_cnt_day_lag_7', 'item_cnt_day_lag_8', 'item_cnt_day_lag_9',\n",
      "       'item_cnt_day_lag_10', 'item_cnt_day_lag_11', 'item_cnt_day_lag_12',\n",
      "       'item_price_lag_1'],\n",
      "      dtype='object')\n"
     ]
    },
    {
     "data": {
      "image/png": "[encoded data removed]",
      "text/plain": [
       "<Figure size 432x288 with 1 Axes>"
      ]
     },
     "metadata": {
      "needs_background": "light"
     },
     "output_type": "display_data"
    }
   ],
   "source": [
    "print(\"Optimal number of features : %d\" % rfecv.n_features_)\n",
    "print('Best features :', X.columns[rfecv.support_])\n",
    "print('Original features :', X.columns)\n",
    "plt.figure()\n",
    "plt.xlabel(\"Number of features selected\")\n",
    "plt.ylabel(\"Cross validation score \\n of number of selected features\")\n",
    "plt.plot(range(1, len(rfecv.grid_scores_) + 1), rfecv.grid_scores_)\n",
    "plt.show()"
   ]
  },
  {
   "cell_type": "code",
   "execution_count": 101,
   "metadata": {},
   "outputs": [
    {
     "name": "stdout",
     "output_type": "stream",
     "text": [
      "[-4.45726619 -4.03420437 -3.34499195 -3.19328217 -3.50973636 -3.38033993\n",
      " -3.29880219 -3.24167012 -3.28449336 -3.21866431]\n",
      "[4 1 5 4 1 1 2 1 5 6 2 1 3 7 7 6 1 3]\n",
      "6\n",
      "Index(['item_id', 'date_block_num', 'item_cnt_day_lag_1', 'item_cnt_day_lag_3',\n",
      "       'item_cnt_day_lag_7', 'item_cnt_day_lag_12'],\n",
      "      dtype='object')\n"
     ]
    },
    {
     "data": {
      "text/plain": [
       "array([0.15018611, 0.08485939, 0.18016362, 0.14377192, 0.16029711,\n",
       "       0.28072185])"
      ]
     },
     "execution_count": 101,
     "metadata": {},
     "output_type": "execute_result"
    }
   ],
   "source": [
    "print(rfecv.grid_scores_)\n",
    "print(rfecv.ranking_)\n",
    "print(rfecv.n_features_)\n",
    "print(X.columns[rfecv.support_])\n",
    "rfecv.estimator_.feature_importances_"
   ]
  },
  {
   "cell_type": "markdown",
   "metadata": {},
   "source": [
    " We look at the variables eliminated at each step"
   ]
  },
  {
   "cell_type": "code",
   "execution_count": 102,
   "metadata": {},
   "outputs": [],
   "source": [
    "num_feature = rfecv.n_features_\n",
    "tab_general = pd.DataFrame ({ 'rank': rfecv.ranking_ , 'variables': X.columns.tolist()})\n",
    "tab_rank = tab_general.copy()\n",
    "tab_importances = tab_general.copy()\n",
    "\n",
    "tab_rank = pd.DataFrame(tab_general.groupby('rank')['variables'].apply(list))"
   ]
  },
  {
   "cell_type": "code",
   "execution_count": 103,
   "metadata": {},
   "outputs": [
    {
     "data": {
      "text/html": [
       "<div>\n",
       "<style scoped>\n",
       "    .dataframe tbody tr th:only-of-type {\n",
       "        vertical-align: middle;\n",
       "    }\n",
       "\n",
       "    .dataframe tbody tr th {\n",
       "        vertical-align: top;\n",
       "    }\n",
       "\n",
       "    .dataframe thead th {\n",
       "        text-align: right;\n",
       "    }\n",
       "</style>\n",
       "<table border=\"1\" class=\"dataframe\">\n",
       "  <thead>\n",
       "    <tr style=\"text-align: right;\">\n",
       "      <th></th>\n",
       "      <th>variables</th>\n",
       "    </tr>\n",
       "    <tr>\n",
       "      <th>rank</th>\n",
       "      <th></th>\n",
       "    </tr>\n",
       "  </thead>\n",
       "  <tbody>\n",
       "    <tr>\n",
       "      <th>1</th>\n",
       "      <td>[item_id, date_block_num, item_cnt_day_lag_1, ...</td>\n",
       "    </tr>\n",
       "    <tr>\n",
       "      <th>2</th>\n",
       "      <td>[item_cnt_day_lag_2, item_cnt_day_lag_6]</td>\n",
       "    </tr>\n",
       "    <tr>\n",
       "      <th>3</th>\n",
       "      <td>[item_cnt_day_lag_8, item_price_lag_1]</td>\n",
       "    </tr>\n",
       "    <tr>\n",
       "      <th>4</th>\n",
       "      <td>[shop_id, city]</td>\n",
       "    </tr>\n",
       "    <tr>\n",
       "      <th>5</th>\n",
       "      <td>[item_category_id, item_cnt_day_lag_4]</td>\n",
       "    </tr>\n",
       "    <tr>\n",
       "      <th>6</th>\n",
       "      <td>[item_cnt_day_lag_5, item_cnt_day_lag_11]</td>\n",
       "    </tr>\n",
       "    <tr>\n",
       "      <th>7</th>\n",
       "      <td>[item_cnt_day_lag_9, item_cnt_day_lag_10]</td>\n",
       "    </tr>\n",
       "  </tbody>\n",
       "</table>\n",
       "</div>"
      ],
      "text/plain": [
       "                                              variables\n",
       "rank                                                   \n",
       "1     [item_id, date_block_num, item_cnt_day_lag_1, ...\n",
       "2              [item_cnt_day_lag_2, item_cnt_day_lag_6]\n",
       "3                [item_cnt_day_lag_8, item_price_lag_1]\n",
       "4                                       [shop_id, city]\n",
       "5                [item_category_id, item_cnt_day_lag_4]\n",
       "6             [item_cnt_day_lag_5, item_cnt_day_lag_11]\n",
       "7             [item_cnt_day_lag_9, item_cnt_day_lag_10]"
      ]
     },
     "execution_count": 103,
     "metadata": {},
     "output_type": "execute_result"
    }
   ],
   "source": [
    "tab_rank"
   ]
  },
  {
   "cell_type": "markdown",
   "metadata": {},
   "source": [
    "We look at the importances for the final selected variables"
   ]
  },
  {
   "cell_type": "code",
   "execution_count": 104,
   "metadata": {},
   "outputs": [],
   "source": [
    "tab_importances = tab_importances[tab_importances['rank']==1].drop('rank', axis = 1)\n",
    "tab_importances['importances'] = rfecv.estimator_.feature_importances_\n",
    "tab_importances.sort_values(by = 'importances', ascending = False, inplace = True)\n",
    "tab_importances.reset_index(drop=True, inplace=True)"
   ]
  },
  {
   "cell_type": "code",
   "execution_count": 105,
   "metadata": {},
   "outputs": [
    {
     "data": {
      "text/html": [
       "<div>\n",
       "<style scoped>\n",
       "    .dataframe tbody tr th:only-of-type {\n",
       "        vertical-align: middle;\n",
       "    }\n",
       "\n",
       "    .dataframe tbody tr th {\n",
       "        vertical-align: top;\n",
       "    }\n",
       "\n",
       "    .dataframe thead th {\n",
       "        text-align: right;\n",
       "    }\n",
       "</style>\n",
       "<table border=\"1\" class=\"dataframe\">\n",
       "  <thead>\n",
       "    <tr style=\"text-align: right;\">\n",
       "      <th></th>\n",
       "      <th>variables</th>\n",
       "      <th>importances</th>\n",
       "    </tr>\n",
       "  </thead>\n",
       "  <tbody>\n",
       "    <tr>\n",
       "      <th>0</th>\n",
       "      <td>item_cnt_day_lag_12</td>\n",
       "      <td>0.280722</td>\n",
       "    </tr>\n",
       "    <tr>\n",
       "      <th>1</th>\n",
       "      <td>item_cnt_day_lag_1</td>\n",
       "      <td>0.180164</td>\n",
       "    </tr>\n",
       "    <tr>\n",
       "      <th>2</th>\n",
       "      <td>item_cnt_day_lag_7</td>\n",
       "      <td>0.160297</td>\n",
       "    </tr>\n",
       "    <tr>\n",
       "      <th>3</th>\n",
       "      <td>item_id</td>\n",
       "      <td>0.150186</td>\n",
       "    </tr>\n",
       "    <tr>\n",
       "      <th>4</th>\n",
       "      <td>item_cnt_day_lag_3</td>\n",
       "      <td>0.143772</td>\n",
       "    </tr>\n",
       "    <tr>\n",
       "      <th>5</th>\n",
       "      <td>date_block_num</td>\n",
       "      <td>0.084859</td>\n",
       "    </tr>\n",
       "  </tbody>\n",
       "</table>\n",
       "</div>"
      ],
      "text/plain": [
       "             variables  importances\n",
       "0  item_cnt_day_lag_12     0.280722\n",
       "1   item_cnt_day_lag_1     0.180164\n",
       "2   item_cnt_day_lag_7     0.160297\n",
       "3              item_id     0.150186\n",
       "4   item_cnt_day_lag_3     0.143772\n",
       "5       date_block_num     0.084859"
      ]
     },
     "execution_count": 105,
     "metadata": {},
     "output_type": "execute_result"
    }
   ],
   "source": [
    "tab_importances"
   ]
  },
  {
   "cell_type": "markdown",
   "metadata": {},
   "source": [
    "## Applying XGBoost"
   ]
  },
  {
   "cell_type": "markdown",
   "metadata": {},
   "source": [
    "- Now we are ready to apply our XGBoost model\n",
    "- We are going to train the model only for those pairs of (shop_id, item_id) that actually exist in our df_test"
   ]
  },
  {
   "cell_type": "code",
   "execution_count": 106,
   "metadata": {},
   "outputs": [
    {
     "name": "stdout",
     "output_type": "stream",
     "text": [
      "False    6879774\n",
      "True     2450888\n",
      "Name: Match, dtype: int64\n"
     ]
    }
   ],
   "source": [
    "df_xgb_sel = df_xgb_lag.copy()\n",
    "df_xgb_sel = df_xgb_sel[['item_id', 'shop_id', 'date_block_num', 'item_cnt_day_lag_1', 'item_cnt_day_lag_3',\n",
    "                         'item_cnt_day_lag_7', 'item_cnt_day_lag_12', 'item_cnt_day']]\n",
    "df_xgb_sel = joining_fields(df_xgb_sel, 'shop_id', 'item_id', 'joined_fields')\n",
    "correct_rows=comparing_columns(df_test, df_xgb_sel, 'joined_fields', 'joined_fields')"
   ]
  },
  {
   "cell_type": "code",
   "execution_count": 107,
   "metadata": {},
   "outputs": [],
   "source": [
    "df_xgb_sel = df_xgb_sel[correct_rows]\n",
    "df_xgb_sel.drop('Match', axis=1, inplace=True)"
   ]
  },
  {
   "cell_type": "code",
   "execution_count": 108,
   "metadata": {},
   "outputs": [
    {
     "data": {
      "text/plain": [
       "(2450888, 9)"
      ]
     },
     "execution_count": 108,
     "metadata": {},
     "output_type": "execute_result"
    }
   ],
   "source": [
    "df_xgb_sel.shape"
   ]
  },
  {
   "cell_type": "code",
   "execution_count": 109,
   "metadata": {},
   "outputs": [
    {
     "data": {
      "text/html": [
       "<div>\n",
       "<style scoped>\n",
       "    .dataframe tbody tr th:only-of-type {\n",
       "        vertical-align: middle;\n",
       "    }\n",
       "\n",
       "    .dataframe tbody tr th {\n",
       "        vertical-align: top;\n",
       "    }\n",
       "\n",
       "    .dataframe thead th {\n",
       "        text-align: right;\n",
       "    }\n",
       "</style>\n",
       "<table border=\"1\" class=\"dataframe\">\n",
       "  <thead>\n",
       "    <tr style=\"text-align: right;\">\n",
       "      <th></th>\n",
       "      <th>item_id</th>\n",
       "      <th>shop_id</th>\n",
       "      <th>date_block_num</th>\n",
       "      <th>item_cnt_day_lag_1</th>\n",
       "      <th>item_cnt_day_lag_3</th>\n",
       "      <th>item_cnt_day_lag_7</th>\n",
       "      <th>item_cnt_day_lag_12</th>\n",
       "      <th>item_cnt_day</th>\n",
       "      <th>joined_fields</th>\n",
       "    </tr>\n",
       "  </thead>\n",
       "  <tbody>\n",
       "    <tr>\n",
       "      <th>134728</th>\n",
       "      <td>30</td>\n",
       "      <td>2</td>\n",
       "      <td>12</td>\n",
       "      <td>0.0</td>\n",
       "      <td>0.0</td>\n",
       "      <td>1.0</td>\n",
       "      <td>0.0</td>\n",
       "      <td>0.0</td>\n",
       "      <td>2_30</td>\n",
       "    </tr>\n",
       "    <tr>\n",
       "      <th>134729</th>\n",
       "      <td>30</td>\n",
       "      <td>2</td>\n",
       "      <td>13</td>\n",
       "      <td>0.0</td>\n",
       "      <td>0.0</td>\n",
       "      <td>0.0</td>\n",
       "      <td>0.0</td>\n",
       "      <td>0.0</td>\n",
       "      <td>2_30</td>\n",
       "    </tr>\n",
       "    <tr>\n",
       "      <th>134730</th>\n",
       "      <td>30</td>\n",
       "      <td>2</td>\n",
       "      <td>14</td>\n",
       "      <td>0.0</td>\n",
       "      <td>0.0</td>\n",
       "      <td>0.0</td>\n",
       "      <td>1.0</td>\n",
       "      <td>0.0</td>\n",
       "      <td>2_30</td>\n",
       "    </tr>\n",
       "    <tr>\n",
       "      <th>134731</th>\n",
       "      <td>30</td>\n",
       "      <td>2</td>\n",
       "      <td>15</td>\n",
       "      <td>0.0</td>\n",
       "      <td>0.0</td>\n",
       "      <td>0.0</td>\n",
       "      <td>0.0</td>\n",
       "      <td>1.0</td>\n",
       "      <td>2_30</td>\n",
       "    </tr>\n",
       "    <tr>\n",
       "      <th>134732</th>\n",
       "      <td>30</td>\n",
       "      <td>2</td>\n",
       "      <td>16</td>\n",
       "      <td>1.0</td>\n",
       "      <td>0.0</td>\n",
       "      <td>0.0</td>\n",
       "      <td>0.0</td>\n",
       "      <td>1.0</td>\n",
       "      <td>2_30</td>\n",
       "    </tr>\n",
       "  </tbody>\n",
       "</table>\n",
       "</div>"
      ],
      "text/plain": [
       "        item_id  shop_id  date_block_num  item_cnt_day_lag_1  \\\n",
       "134728       30        2              12                 0.0   \n",
       "134729       30        2              13                 0.0   \n",
       "134730       30        2              14                 0.0   \n",
       "134731       30        2              15                 0.0   \n",
       "134732       30        2              16                 1.0   \n",
       "\n",
       "        item_cnt_day_lag_3  item_cnt_day_lag_7  item_cnt_day_lag_12  \\\n",
       "134728                 0.0                 1.0                  0.0   \n",
       "134729                 0.0                 0.0                  0.0   \n",
       "134730                 0.0                 0.0                  1.0   \n",
       "134731                 0.0                 0.0                  0.0   \n",
       "134732                 0.0                 0.0                  0.0   \n",
       "\n",
       "        item_cnt_day joined_fields  \n",
       "134728           0.0          2_30  \n",
       "134729           0.0          2_30  \n",
       "134730           0.0          2_30  \n",
       "134731           1.0          2_30  \n",
       "134732           1.0          2_30  "
      ]
     },
     "execution_count": 109,
     "metadata": {},
     "output_type": "execute_result"
    }
   ],
   "source": [
    "df_xgb_sel.head()"
   ]
  },
  {
   "cell_type": "code",
   "execution_count": 110,
   "metadata": {},
   "outputs": [],
   "source": [
    "X_train_orig = df_xgb_sel.drop(['item_cnt_day', 'joined_fields'], axis=1).copy()\n",
    "y_train_orig = df_xgb_sel['item_cnt_day'].values"
   ]
  },
  {
   "cell_type": "code",
   "execution_count": null,
   "metadata": {},
   "outputs": [],
   "source": [
    "xgb_default = regressor_gridCV(X_train_orig, y_train_orig, xgb.XGBRegressor(),\n",
    "                                       model_name = \"xgb_default\")"
   ]
  },
  {
   "cell_type": "code",
   "execution_count": null,
   "metadata": {},
   "outputs": [],
   "source": [
    "# We save the hyperparameters of the model\n",
    "extracting_parameters_xgb(xgb_model=xgb_default.best_estimator_, model_name='xgb_default',\n",
    "                          fields=['n_estimators', 'max_depth', 'learning_rate'])\n",
    "\n",
    "# We save our model on disk\n",
    "filename = \"models/saved_models/xgb_default.sav\"\n",
    "pickle.dump(xgb_default, open(filename, 'wb'))"
   ]
  },
  {
   "cell_type": "code",
   "execution_count": 111,
   "metadata": {},
   "outputs": [],
   "source": [
    "# We load our model from disk\n",
    "filename = 'models/saved_models/default_models/xgb_default.sav'\n",
    "xgb_default = pickle.load(open(filename, 'rb'))"
   ]
  },
  {
   "cell_type": "markdown",
   "metadata": {},
   "source": [
    "We need to prepare the dataframe in the proper format in order to test our model"
   ]
  },
  {
   "cell_type": "code",
   "execution_count": 112,
   "metadata": {},
   "outputs": [],
   "source": [
    "df_submission = df_test.copy()\n",
    "df_submission = df_submission[['shop_id', 'item_id', 'joined_fields']]\n",
    "df_submission['date_block_num'] = 34"
   ]
  },
  {
   "cell_type": "code",
   "execution_count": 113,
   "metadata": {},
   "outputs": [],
   "source": [
    "for x in [33, 31, 27, 22]:\n",
    "    rename_new = 'item_cnt_day_lag_' + str(34-x)\n",
    "    df_submission = creating_submission_file(df_test=df_submission, df_xgb_sel=df_xgb_sel, month=x,\n",
    "                                            rename_old='item_cnt_day', rename_new=rename_new)"
   ]
  },
  {
   "cell_type": "code",
   "execution_count": 114,
   "metadata": {},
   "outputs": [
    {
     "data": {
      "text/html": [
       "<div>\n",
       "<style scoped>\n",
       "    .dataframe tbody tr th:only-of-type {\n",
       "        vertical-align: middle;\n",
       "    }\n",
       "\n",
       "    .dataframe tbody tr th {\n",
       "        vertical-align: top;\n",
       "    }\n",
       "\n",
       "    .dataframe thead th {\n",
       "        text-align: right;\n",
       "    }\n",
       "</style>\n",
       "<table border=\"1\" class=\"dataframe\">\n",
       "  <thead>\n",
       "    <tr style=\"text-align: right;\">\n",
       "      <th></th>\n",
       "      <th>shop_id</th>\n",
       "      <th>item_id</th>\n",
       "      <th>joined_fields</th>\n",
       "      <th>date_block_num</th>\n",
       "      <th>item_cnt_day_lag_1</th>\n",
       "      <th>item_cnt_day_lag_3</th>\n",
       "      <th>item_cnt_day_lag_7</th>\n",
       "      <th>item_cnt_day_lag_12</th>\n",
       "    </tr>\n",
       "  </thead>\n",
       "  <tbody>\n",
       "    <tr>\n",
       "      <th>0</th>\n",
       "      <td>5</td>\n",
       "      <td>5037</td>\n",
       "      <td>5_5037</td>\n",
       "      <td>34</td>\n",
       "      <td>0.0</td>\n",
       "      <td>3.0</td>\n",
       "      <td>0.0</td>\n",
       "      <td>1.0</td>\n",
       "    </tr>\n",
       "    <tr>\n",
       "      <th>1</th>\n",
       "      <td>5</td>\n",
       "      <td>5320</td>\n",
       "      <td>5_5320</td>\n",
       "      <td>34</td>\n",
       "      <td>NaN</td>\n",
       "      <td>NaN</td>\n",
       "      <td>NaN</td>\n",
       "      <td>NaN</td>\n",
       "    </tr>\n",
       "    <tr>\n",
       "      <th>2</th>\n",
       "      <td>5</td>\n",
       "      <td>5233</td>\n",
       "      <td>5_5233</td>\n",
       "      <td>34</td>\n",
       "      <td>1.0</td>\n",
       "      <td>1.0</td>\n",
       "      <td>0.0</td>\n",
       "      <td>0.0</td>\n",
       "    </tr>\n",
       "    <tr>\n",
       "      <th>3</th>\n",
       "      <td>5</td>\n",
       "      <td>5232</td>\n",
       "      <td>5_5232</td>\n",
       "      <td>34</td>\n",
       "      <td>0.0</td>\n",
       "      <td>1.0</td>\n",
       "      <td>0.0</td>\n",
       "      <td>0.0</td>\n",
       "    </tr>\n",
       "    <tr>\n",
       "      <th>4</th>\n",
       "      <td>5</td>\n",
       "      <td>5268</td>\n",
       "      <td>5_5268</td>\n",
       "      <td>34</td>\n",
       "      <td>NaN</td>\n",
       "      <td>NaN</td>\n",
       "      <td>NaN</td>\n",
       "      <td>NaN</td>\n",
       "    </tr>\n",
       "  </tbody>\n",
       "</table>\n",
       "</div>"
      ],
      "text/plain": [
       "   shop_id  item_id joined_fields  date_block_num  item_cnt_day_lag_1  \\\n",
       "0        5     5037        5_5037              34                 0.0   \n",
       "1        5     5320        5_5320              34                 NaN   \n",
       "2        5     5233        5_5233              34                 1.0   \n",
       "3        5     5232        5_5232              34                 0.0   \n",
       "4        5     5268        5_5268              34                 NaN   \n",
       "\n",
       "   item_cnt_day_lag_3  item_cnt_day_lag_7  item_cnt_day_lag_12  \n",
       "0                 3.0                 0.0                  1.0  \n",
       "1                 NaN                 NaN                  NaN  \n",
       "2                 1.0                 0.0                  0.0  \n",
       "3                 1.0                 0.0                  0.0  \n",
       "4                 NaN                 NaN                  NaN  "
      ]
     },
     "execution_count": 114,
     "metadata": {},
     "output_type": "execute_result"
    }
   ],
   "source": [
    "df_submission.head()"
   ]
  },
  {
   "cell_type": "code",
   "execution_count": 115,
   "metadata": {},
   "outputs": [],
   "source": [
    "df_submission = df_submission.drop('joined_fields', axis=1)\n",
    "df_submission = df_submission[['item_id', 'shop_id', 'date_block_num', 'item_cnt_day_lag_1',\n",
    "                              'item_cnt_day_lag_3', 'item_cnt_day_lag_7',\n",
    "                               'item_cnt_day_lag_12']]\n",
    "# We apply the model on our test dataset\n",
    "predictions = xgb_default.predict(df_submission)"
   ]
  },
  {
   "cell_type": "markdown",
   "metadata": {},
   "source": [
    "- We need to change properly the format of our test dataset to submit it on Kaggle\n",
    "- In this way Kaggle will provide us the corresponding RMSE"
   ]
  },
  {
   "cell_type": "code",
   "execution_count": 116,
   "metadata": {},
   "outputs": [],
   "source": [
    "df_submission_first = modifying_submission_format(df_submission=df_submission, predictions=predictions)[1]"
   ]
  },
  {
   "cell_type": "code",
   "execution_count": 117,
   "metadata": {},
   "outputs": [
    {
     "data": {
      "text/html": [
       "<div>\n",
       "<style scoped>\n",
       "    .dataframe tbody tr th:only-of-type {\n",
       "        vertical-align: middle;\n",
       "    }\n",
       "\n",
       "    .dataframe tbody tr th {\n",
       "        vertical-align: top;\n",
       "    }\n",
       "\n",
       "    .dataframe thead th {\n",
       "        text-align: right;\n",
       "    }\n",
       "</style>\n",
       "<table border=\"1\" class=\"dataframe\">\n",
       "  <thead>\n",
       "    <tr style=\"text-align: right;\">\n",
       "      <th></th>\n",
       "      <th>ID</th>\n",
       "      <th>item_cnt_month</th>\n",
       "    </tr>\n",
       "  </thead>\n",
       "  <tbody>\n",
       "    <tr>\n",
       "      <th>0</th>\n",
       "      <td>0</td>\n",
       "      <td>0.591816</td>\n",
       "    </tr>\n",
       "    <tr>\n",
       "      <th>1</th>\n",
       "      <td>1</td>\n",
       "      <td>0.287773</td>\n",
       "    </tr>\n",
       "    <tr>\n",
       "      <th>2</th>\n",
       "      <td>2</td>\n",
       "      <td>0.466348</td>\n",
       "    </tr>\n",
       "    <tr>\n",
       "      <th>3</th>\n",
       "      <td>3</td>\n",
       "      <td>0.274338</td>\n",
       "    </tr>\n",
       "    <tr>\n",
       "      <th>4</th>\n",
       "      <td>4</td>\n",
       "      <td>0.287773</td>\n",
       "    </tr>\n",
       "    <tr>\n",
       "      <th>...</th>\n",
       "      <td>...</td>\n",
       "      <td>...</td>\n",
       "    </tr>\n",
       "    <tr>\n",
       "      <th>214195</th>\n",
       "      <td>214195</td>\n",
       "      <td>0.387401</td>\n",
       "    </tr>\n",
       "    <tr>\n",
       "      <th>214196</th>\n",
       "      <td>214196</td>\n",
       "      <td>0.213469</td>\n",
       "    </tr>\n",
       "    <tr>\n",
       "      <th>214197</th>\n",
       "      <td>214197</td>\n",
       "      <td>0.213469</td>\n",
       "    </tr>\n",
       "    <tr>\n",
       "      <th>214198</th>\n",
       "      <td>214198</td>\n",
       "      <td>0.199072</td>\n",
       "    </tr>\n",
       "    <tr>\n",
       "      <th>214199</th>\n",
       "      <td>214199</td>\n",
       "      <td>0.146766</td>\n",
       "    </tr>\n",
       "  </tbody>\n",
       "</table>\n",
       "<p>214200 rows × 2 columns</p>\n",
       "</div>"
      ],
      "text/plain": [
       "            ID  item_cnt_month\n",
       "0            0        0.591816\n",
       "1            1        0.287773\n",
       "2            2        0.466348\n",
       "3            3        0.274338\n",
       "4            4        0.287773\n",
       "...        ...             ...\n",
       "214195  214195        0.387401\n",
       "214196  214196        0.213469\n",
       "214197  214197        0.213469\n",
       "214198  214198        0.199072\n",
       "214199  214199        0.146766\n",
       "\n",
       "[214200 rows x 2 columns]"
      ]
     },
     "execution_count": 117,
     "metadata": {},
     "output_type": "execute_result"
    }
   ],
   "source": [
    "df_submission_first"
   ]
  },
  {
   "cell_type": "code",
   "execution_count": 118,
   "metadata": {},
   "outputs": [],
   "source": [
    "df_submission_first.to_csv('submissions/df_to_submit_first.csv', index=False)"
   ]
  },
  {
   "cell_type": "markdown",
   "metadata": {},
   "source": [
    "- We get an **RMSE** of 2.32279, so we improved a bit our result with respect to the benchmark strategy, even if we were hoping for a better score"
   ]
  },
  {
   "cell_type": "markdown",
   "metadata": {},
   "source": [
    "# Hyperparameter tuning"
   ]
  },
  {
   "cell_type": "markdown",
   "metadata": {},
   "source": [
    "- The goal now is to take our xgboost model and to tune its hyperparameters to improve the performance\n",
    "- We will use a fine to coarse approach with hyperopt. We cannot take into account a lot of parameters due to our limited computational resources"
   ]
  },
  {
   "cell_type": "code",
   "execution_count": 144,
   "metadata": {},
   "outputs": [],
   "source": [
    "space = {\n",
    "    'max_depth': hp.uniform ('max_depth', 12, 21),\n",
    "    'learning_rate': hp.uniform('learning_rate', 0.12, 0.18),\n",
    "    'n_estimators': hp.uniform('n_estimators', 65, 80)\n",
    "}"
   ]
  },
  {
   "cell_type": "code",
   "execution_count": 145,
   "metadata": {},
   "outputs": [],
   "source": [
    "# We define the loss to minimize\n",
    "def objective(params):\n",
    "    params_fun = {\n",
    "        'max_depth': [int(params['max_depth'])],\n",
    "        'learning_rate': [params['learning_rate']],\n",
    "        'n_estimators': [int(params['n_estimators'])]\n",
    "    }\n",
    "    grid = GridSearchCV(xgb.XGBRegressor(), params_fun, scoring='neg_mean_squared_error', \n",
    "                        cv=StratifiedKFold(n_splits=5, shuffle=True, \n",
    "                                            random_state=42), \n",
    "                        n_jobs=-1)\n",
    "    model = grid.fit(df_xgb_sel.drop('joined_fields', axis=1), df_xgb_sel['item_cnt_day'].values)\n",
    "    mean_score = abs(model.cv_results_[\"mean_test_score\"][0])\n",
    "    return mean_score"
   ]
  },
  {
   "cell_type": "code",
   "execution_count": 146,
   "metadata": {},
   "outputs": [
    {
     "name": "stdout",
     "output_type": "stream",
     "text": [
      "Current Time = 00:26:14\n"
     ]
    }
   ],
   "source": [
    "current_time()"
   ]
  },
  {
   "cell_type": "code",
   "execution_count": 147,
   "metadata": {},
   "outputs": [
    {
     "name": "stdout",
     "output_type": "stream",
     "text": [
      "  0%|          | 0/20 [00:00<?, ?trial/s, best loss=?]"
     ]
    },
    {
     "name": "stderr",
     "output_type": "stream",
     "text": [
      "/Users/alessandrobiagi/anaconda3/lib/python3.7/site-packages/sklearn/model_selection/_split.py:667: UserWarning: The least populated class in y has only 1 members, which is less than n_splits=5.\n",
      "  % (min_groups, self.n_splits)), UserWarning)\n",
      "\n"
     ]
    },
    {
     "name": "stdout",
     "output_type": "stream",
     "text": [
      "  5%|▌         | 1/20 [10:08<3:12:36, 608.25s/trial, best loss: 0.04121973641223274]"
     ]
    },
    {
     "name": "stderr",
     "output_type": "stream",
     "text": [
      "/Users/alessandrobiagi/anaconda3/lib/python3.7/site-packages/sklearn/model_selection/_split.py:667: UserWarning: The least populated class in y has only 1 members, which is less than n_splits=5.\n",
      "  % (min_groups, self.n_splits)), UserWarning)\n",
      "\n"
     ]
    },
    {
     "name": "stdout",
     "output_type": "stream",
     "text": [
      " 10%|█         | 2/20 [21:22<3:08:24, 628.00s/trial, best loss: 0.025719213925694224]"
     ]
    },
    {
     "name": "stderr",
     "output_type": "stream",
     "text": [
      "/Users/alessandrobiagi/anaconda3/lib/python3.7/site-packages/sklearn/model_selection/_split.py:667: UserWarning: The least populated class in y has only 1 members, which is less than n_splits=5.\n",
      "  % (min_groups, self.n_splits)), UserWarning)\n",
      "\n"
     ]
    },
    {
     "name": "stdout",
     "output_type": "stream",
     "text": [
      " 15%|█▌        | 3/20 [33:06<3:04:22, 650.73s/trial, best loss: 0.025719213925694224]"
     ]
    },
    {
     "name": "stderr",
     "output_type": "stream",
     "text": [
      "/Users/alessandrobiagi/anaconda3/lib/python3.7/site-packages/sklearn/model_selection/_split.py:667: UserWarning: The least populated class in y has only 1 members, which is less than n_splits=5.\n",
      "  % (min_groups, self.n_splits)), UserWarning)\n",
      "\n"
     ]
    },
    {
     "name": "stdout",
     "output_type": "stream",
     "text": [
      " 20%|██        | 4/20 [43:31<2:51:32, 643.26s/trial, best loss: 0.025719213925694224]"
     ]
    },
    {
     "name": "stderr",
     "output_type": "stream",
     "text": [
      "/Users/alessandrobiagi/anaconda3/lib/python3.7/site-packages/sklearn/model_selection/_split.py:667: UserWarning: The least populated class in y has only 1 members, which is less than n_splits=5.\n",
      "  % (min_groups, self.n_splits)), UserWarning)\n",
      "\n"
     ]
    },
    {
     "name": "stdout",
     "output_type": "stream",
     "text": [
      " 25%|██▌       | 5/20 [54:19<2:41:09, 644.63s/trial, best loss: 0.025719213925694224]"
     ]
    },
    {
     "name": "stderr",
     "output_type": "stream",
     "text": [
      "/Users/alessandrobiagi/anaconda3/lib/python3.7/site-packages/sklearn/model_selection/_split.py:667: UserWarning: The least populated class in y has only 1 members, which is less than n_splits=5.\n",
      "  % (min_groups, self.n_splits)), UserWarning)\n",
      "\n"
     ]
    },
    {
     "name": "stdout",
     "output_type": "stream",
     "text": [
      " 30%|███       | 6/20 [1:05:30<2:32:15, 652.52s/trial, best loss: 0.025058987371743335]"
     ]
    },
    {
     "name": "stderr",
     "output_type": "stream",
     "text": [
      "/Users/alessandrobiagi/anaconda3/lib/python3.7/site-packages/sklearn/model_selection/_split.py:667: UserWarning: The least populated class in y has only 1 members, which is less than n_splits=5.\n",
      "  % (min_groups, self.n_splits)), UserWarning)\n",
      "\n"
     ]
    },
    {
     "name": "stdout",
     "output_type": "stream",
     "text": [
      " 35%|███▌      | 7/20 [1:17:29<2:25:41, 672.39s/trial, best loss: 0.025058987371743335]"
     ]
    },
    {
     "name": "stderr",
     "output_type": "stream",
     "text": [
      "/Users/alessandrobiagi/anaconda3/lib/python3.7/site-packages/sklearn/model_selection/_split.py:667: UserWarning: The least populated class in y has only 1 members, which is less than n_splits=5.\n",
      "  % (min_groups, self.n_splits)), UserWarning)\n",
      "\n"
     ]
    },
    {
     "name": "stdout",
     "output_type": "stream",
     "text": [
      " 40%|████      | 8/20 [1:28:56<2:15:22, 676.90s/trial, best loss: 0.025058987371743335]"
     ]
    },
    {
     "name": "stderr",
     "output_type": "stream",
     "text": [
      "/Users/alessandrobiagi/anaconda3/lib/python3.7/site-packages/sklearn/model_selection/_split.py:667: UserWarning: The least populated class in y has only 1 members, which is less than n_splits=5.\n",
      "  % (min_groups, self.n_splits)), UserWarning)\n",
      "\n"
     ]
    },
    {
     "name": "stdout",
     "output_type": "stream",
     "text": [
      " 45%|████▌     | 9/20 [1:40:48<2:06:02, 687.46s/trial, best loss: 0.023332544864882346]"
     ]
    },
    {
     "name": "stderr",
     "output_type": "stream",
     "text": [
      "/Users/alessandrobiagi/anaconda3/lib/python3.7/site-packages/sklearn/model_selection/_split.py:667: UserWarning: The least populated class in y has only 1 members, which is less than n_splits=5.\n",
      "  % (min_groups, self.n_splits)), UserWarning)\n",
      "\n"
     ]
    },
    {
     "name": "stdout",
     "output_type": "stream",
     "text": [
      " 50%|█████     | 10/20 [1:54:01<1:59:48, 718.90s/trial, best loss: 0.023332544864882346]"
     ]
    },
    {
     "name": "stderr",
     "output_type": "stream",
     "text": [
      "/Users/alessandrobiagi/anaconda3/lib/python3.7/site-packages/sklearn/model_selection/_split.py:667: UserWarning: The least populated class in y has only 1 members, which is less than n_splits=5.\n",
      "  % (min_groups, self.n_splits)), UserWarning)\n",
      "\n"
     ]
    },
    {
     "name": "stdout",
     "output_type": "stream",
     "text": [
      " 55%|█████▌    | 11/20 [2:04:27<1:43:40, 691.17s/trial, best loss: 0.023332544864882346]"
     ]
    },
    {
     "name": "stderr",
     "output_type": "stream",
     "text": [
      "/Users/alessandrobiagi/anaconda3/lib/python3.7/site-packages/sklearn/model_selection/_split.py:667: UserWarning: The least populated class in y has only 1 members, which is less than n_splits=5.\n",
      "  % (min_groups, self.n_splits)), UserWarning)\n",
      "\n"
     ]
    },
    {
     "name": "stdout",
     "output_type": "stream",
     "text": [
      " 60%|██████    | 12/20 [2:16:06<1:32:26, 693.37s/trial, best loss: 0.023332544864882346]"
     ]
    },
    {
     "name": "stderr",
     "output_type": "stream",
     "text": [
      "/Users/alessandrobiagi/anaconda3/lib/python3.7/site-packages/sklearn/model_selection/_split.py:667: UserWarning: The least populated class in y has only 1 members, which is less than n_splits=5.\n",
      "  % (min_groups, self.n_splits)), UserWarning)\n",
      "\n"
     ]
    },
    {
     "name": "stdout",
     "output_type": "stream",
     "text": [
      " 65%|██████▌   | 13/20 [2:28:09<1:21:57, 702.45s/trial, best loss: 0.023332544864882346]"
     ]
    },
    {
     "name": "stderr",
     "output_type": "stream",
     "text": [
      "/Users/alessandrobiagi/anaconda3/lib/python3.7/site-packages/sklearn/model_selection/_split.py:667: UserWarning: The least populated class in y has only 1 members, which is less than n_splits=5.\n",
      "  % (min_groups, self.n_splits)), UserWarning)\n",
      "\n"
     ]
    },
    {
     "name": "stdout",
     "output_type": "stream",
     "text": [
      " 70%|███████   | 14/20 [2:38:14<1:07:19, 673.26s/trial, best loss: 0.023332544864882346]"
     ]
    },
    {
     "name": "stderr",
     "output_type": "stream",
     "text": [
      "/Users/alessandrobiagi/anaconda3/lib/python3.7/site-packages/sklearn/model_selection/_split.py:667: UserWarning: The least populated class in y has only 1 members, which is less than n_splits=5.\n",
      "  % (min_groups, self.n_splits)), UserWarning)\n",
      "\n"
     ]
    },
    {
     "name": "stdout",
     "output_type": "stream",
     "text": [
      " 75%|███████▌  | 15/20 [2:50:04<57:00, 684.01s/trial, best loss: 0.023332544864882346]  "
     ]
    },
    {
     "name": "stderr",
     "output_type": "stream",
     "text": [
      "/Users/alessandrobiagi/anaconda3/lib/python3.7/site-packages/sklearn/model_selection/_split.py:667: UserWarning: The least populated class in y has only 1 members, which is less than n_splits=5.\n",
      "  % (min_groups, self.n_splits)), UserWarning)\n",
      "\n"
     ]
    },
    {
     "name": "stdout",
     "output_type": "stream",
     "text": [
      " 80%|████████  | 16/20 [3:01:02<45:05, 676.48s/trial, best loss: 0.023332544864882346]"
     ]
    },
    {
     "name": "stderr",
     "output_type": "stream",
     "text": [
      "/Users/alessandrobiagi/anaconda3/lib/python3.7/site-packages/sklearn/model_selection/_split.py:667: UserWarning: The least populated class in y has only 1 members, which is less than n_splits=5.\n",
      "  % (min_groups, self.n_splits)), UserWarning)\n",
      "\n"
     ]
    },
    {
     "name": "stdout",
     "output_type": "stream",
     "text": [
      " 85%|████████▌ | 17/20 [3:10:41<32:21, 647.20s/trial, best loss: 0.023332544864882346]"
     ]
    },
    {
     "name": "stderr",
     "output_type": "stream",
     "text": [
      "/Users/alessandrobiagi/anaconda3/lib/python3.7/site-packages/sklearn/model_selection/_split.py:667: UserWarning: The least populated class in y has only 1 members, which is less than n_splits=5.\n",
      "  % (min_groups, self.n_splits)), UserWarning)\n",
      "\n"
     ]
    },
    {
     "name": "stdout",
     "output_type": "stream",
     "text": [
      " 90%|█████████ | 18/20 [3:22:28<22:10, 665.13s/trial, best loss: 0.023283940801254736]"
     ]
    },
    {
     "name": "stderr",
     "output_type": "stream",
     "text": [
      "/Users/alessandrobiagi/anaconda3/lib/python3.7/site-packages/sklearn/model_selection/_split.py:667: UserWarning: The least populated class in y has only 1 members, which is less than n_splits=5.\n",
      "  % (min_groups, self.n_splits)), UserWarning)\n",
      "\n"
     ]
    },
    {
     "name": "stdout",
     "output_type": "stream",
     "text": [
      " 95%|█████████▌| 19/20 [3:33:27<11:03, 663.15s/trial, best loss: 0.023283940801254736]"
     ]
    },
    {
     "name": "stderr",
     "output_type": "stream",
     "text": [
      "/Users/alessandrobiagi/anaconda3/lib/python3.7/site-packages/sklearn/model_selection/_split.py:667: UserWarning: The least populated class in y has only 1 members, which is less than n_splits=5.\n",
      "  % (min_groups, self.n_splits)), UserWarning)\n",
      "\n"
     ]
    },
    {
     "name": "stdout",
     "output_type": "stream",
     "text": [
      "100%|██████████| 20/20 [3:45:00<00:00, 675.01s/trial, best loss: 0.023283940801254736]\n"
     ]
    }
   ],
   "source": [
    "# We launch the search for the optimal hyperparameters\n",
    "trials = Trials()\n",
    "best_result = fmin(\n",
    "             fn = objective,\n",
    "             space = space,\n",
    "             trials = trials,\n",
    "             max_evals = 20,\n",
    "             rstate = np.random.RandomState(42),\n",
    "             algo = tpe.suggest)"
   ]
  },
  {
   "cell_type": "code",
   "execution_count": 148,
   "metadata": {},
   "outputs": [
    {
     "name": "stdout",
     "output_type": "stream",
     "text": [
      "<hyperopt.base.Trials object at 0x1caa8d1630>\n"
     ]
    }
   ],
   "source": [
    "print(trials)"
   ]
  },
  {
   "cell_type": "code",
   "execution_count": 151,
   "metadata": {},
   "outputs": [
    {
     "data": {
      "text/plain": [
       "[{'state': 2,\n",
       "  'tid': 0,\n",
       "  'spec': None,\n",
       "  'result': {'loss': 0.04121973641223274, 'status': 'ok'},\n",
       "  'misc': {'tid': 0,\n",
       "   'cmd': ('domain_attachment', 'FMinIter_Domain'),\n",
       "   'workdir': None,\n",
       "   'idxs': {'learning_rate': [0], 'max_depth': [0], 'n_estimators': [0]},\n",
       "   'vals': {'learning_rate': [0.12414308045241625],\n",
       "    'max_depth': [19.493688290834637],\n",
       "    'n_estimators': [71.82051578332059]}},\n",
       "  'exp_key': None,\n",
       "  'owner': None,\n",
       "  'version': 0,\n",
       "  'book_time': datetime.datetime(2020, 8, 2, 22, 26, 15, 558000),\n",
       "  'refresh_time': datetime.datetime(2020, 8, 2, 22, 36, 23, 793000)},\n",
       " {'state': 2,\n",
       "  'tid': 1,\n",
       "  'spec': None,\n",
       "  'result': {'loss': 0.025719213925694224, 'status': 'ok'},\n",
       "  'misc': {'tid': 1,\n",
       "   'cmd': ('domain_attachment', 'FMinIter_Domain'),\n",
       "   'workdir': None,\n",
       "   'idxs': {'learning_rate': [1], 'max_depth': [1], 'n_estimators': [1]},\n",
       "   'vals': {'learning_rate': [0.17597207993087002],\n",
       "    'max_depth': [18.549531688595927],\n",
       "    'n_estimators': [71.1515593827997]}},\n",
       "  'exp_key': None,\n",
       "  'owner': None,\n",
       "  'version': 0,\n",
       "  'book_time': datetime.datetime(2020, 8, 2, 22, 36, 23, 805000),\n",
       "  'refresh_time': datetime.datetime(2020, 8, 2, 22, 47, 37, 891000)},\n",
       " {'state': 2,\n",
       "  'tid': 2,\n",
       "  'spec': None,\n",
       "  'result': {'loss': 0.026980060843483526, 'status': 'ok'},\n",
       "  'misc': {'tid': 2,\n",
       "   'cmd': ('domain_attachment', 'FMinIter_Domain'),\n",
       "   'workdir': None,\n",
       "   'idxs': {'learning_rate': [2], 'max_depth': [2], 'n_estimators': [2]},\n",
       "   'vals': {'learning_rate': [0.1382046065930505],\n",
       "    'max_depth': [19.949837496427758],\n",
       "    'n_estimators': [77.56082533329926]}},\n",
       "  'exp_key': None,\n",
       "  'owner': None,\n",
       "  'version': 0,\n",
       "  'book_time': datetime.datetime(2020, 8, 2, 22, 47, 37, 895000),\n",
       "  'refresh_time': datetime.datetime(2020, 8, 2, 22, 59, 21, 648000)},\n",
       " {'state': 2,\n",
       "  'tid': 3,\n",
       "  'spec': None,\n",
       "  'result': {'loss': 0.036222258012171674, 'status': 'ok'},\n",
       "  'misc': {'tid': 3,\n",
       "   'cmd': ('domain_attachment', 'FMinIter_Domain'),\n",
       "   'workdir': None,\n",
       "   'idxs': {'learning_rate': [3], 'max_depth': [3], 'n_estimators': [3]},\n",
       "   'vals': {'learning_rate': [0.1262915495131622],\n",
       "    'max_depth': [20.26850269502439],\n",
       "    'n_estimators': [71.67248768451728]}},\n",
       "  'exp_key': None,\n",
       "  'owner': None,\n",
       "  'version': 0,\n",
       "  'book_time': datetime.datetime(2020, 8, 2, 22, 59, 21, 652000),\n",
       "  'refresh_time': datetime.datetime(2020, 8, 2, 23, 9, 47, 484000)},\n",
       " {'state': 2,\n",
       "  'tid': 4,\n",
       "  'spec': None,\n",
       "  'result': {'loss': 0.039233773795278794, 'status': 'ok'},\n",
       "  'misc': {'tid': 4,\n",
       "   'cmd': ('domain_attachment', 'FMinIter_Domain'),\n",
       "   'workdir': None,\n",
       "   'idxs': {'learning_rate': [4], 'max_depth': [4], 'n_estimators': [4]},\n",
       "   'vals': {'learning_rate': [0.15588282465072767],\n",
       "    'max_depth': [13.546844052569046],\n",
       "    'n_estimators': [77.18593982536045]}},\n",
       "  'exp_key': None,\n",
       "  'owner': None,\n",
       "  'version': 0,\n",
       "  'book_time': datetime.datetime(2020, 8, 2, 23, 9, 47, 487000),\n",
       "  'refresh_time': datetime.datetime(2020, 8, 2, 23, 20, 35, 311000)},\n",
       " {'state': 2,\n",
       "  'tid': 5,\n",
       "  'spec': None,\n",
       "  'result': {'loss': 0.025058987371743335, 'status': 'ok'},\n",
       "  'misc': {'tid': 5,\n",
       "   'cmd': ('domain_attachment', 'FMinIter_Domain'),\n",
       "   'workdir': None,\n",
       "   'idxs': {'learning_rate': [5], 'max_depth': [5], 'n_estimators': [5]},\n",
       "   'vals': {'learning_rate': [0.15159721422766154],\n",
       "    'max_depth': [15.942262677968309],\n",
       "    'n_estimators': [76.99330162410759]}},\n",
       "  'exp_key': None,\n",
       "  'owner': None,\n",
       "  'version': 0,\n",
       "  'book_time': datetime.datetime(2020, 8, 2, 23, 20, 35, 314000),\n",
       "  'refresh_time': datetime.datetime(2020, 8, 2, 23, 31, 46, 252000)},\n",
       " {'state': 2,\n",
       "  'tid': 6,\n",
       "  'spec': None,\n",
       "  'result': {'loss': 0.027782881168274626, 'status': 'ok'},\n",
       "  'misc': {'tid': 6,\n",
       "   'cmd': ('domain_attachment', 'FMinIter_Domain'),\n",
       "   'workdir': None,\n",
       "   'idxs': {'learning_rate': [6], 'max_depth': [6], 'n_estimators': [6]},\n",
       "   'vals': {'learning_rate': [0.129816430718313],\n",
       "    'max_depth': [20.454327638424942],\n",
       "    'n_estimators': [76.01042026978352]}},\n",
       "  'exp_key': None,\n",
       "  'owner': None,\n",
       "  'version': 0,\n",
       "  'book_time': datetime.datetime(2020, 8, 2, 23, 31, 46, 255000),\n",
       "  'refresh_time': datetime.datetime(2020, 8, 2, 23, 43, 44, 988000)},\n",
       " {'state': 2,\n",
       "  'tid': 7,\n",
       "  'spec': None,\n",
       "  'result': {'loss': 0.038437687844391735, 'status': 'ok'},\n",
       "  'misc': {'tid': 7,\n",
       "   'cmd': ('domain_attachment', 'FMinIter_Domain'),\n",
       "   'workdir': None,\n",
       "   'idxs': {'learning_rate': [7], 'max_depth': [7], 'n_estimators': [7]},\n",
       "   'vals': {'learning_rate': [0.14154137591528423],\n",
       "    'max_depth': [18.97827940945094],\n",
       "    'n_estimators': [74.25619037753475]}},\n",
       "  'exp_key': None,\n",
       "  'owner': None,\n",
       "  'version': 0,\n",
       "  'book_time': datetime.datetime(2020, 8, 2, 23, 43, 44, 991000),\n",
       "  'refresh_time': datetime.datetime(2020, 8, 2, 23, 55, 12, 425000)},\n",
       " {'state': 2,\n",
       "  'tid': 8,\n",
       "  'spec': None,\n",
       "  'result': {'loss': 0.023332544864882346, 'status': 'ok'},\n",
       "  'misc': {'tid': 8,\n",
       "   'cmd': ('domain_attachment', 'FMinIter_Domain'),\n",
       "   'workdir': None,\n",
       "   'idxs': {'learning_rate': [8], 'max_depth': [8], 'n_estimators': [8]},\n",
       "   'vals': {'learning_rate': [0.149788002215803],\n",
       "    'max_depth': [20.280083037935846],\n",
       "    'n_estimators': [73.1510460153547]}},\n",
       "  'exp_key': None,\n",
       "  'owner': None,\n",
       "  'version': 0,\n",
       "  'book_time': datetime.datetime(2020, 8, 2, 23, 55, 12, 428000),\n",
       "  'refresh_time': datetime.datetime(2020, 8, 3, 0, 7, 4, 509000)},\n",
       " {'state': 2,\n",
       "  'tid': 9,\n",
       "  'spec': None,\n",
       "  'result': {'loss': 0.02590566689509179, 'status': 'ok'},\n",
       "  'misc': {'tid': 9,\n",
       "   'cmd': ('domain_attachment', 'FMinIter_Domain'),\n",
       "   'workdir': None,\n",
       "   'idxs': {'learning_rate': [9], 'max_depth': [9], 'n_estimators': [9]},\n",
       "   'vals': {'learning_rate': [0.17229911570779288],\n",
       "    'max_depth': [18.305593001592293],\n",
       "    'n_estimators': [79.33216979464892]}},\n",
       "  'exp_key': None,\n",
       "  'owner': None,\n",
       "  'version': 0,\n",
       "  'book_time': datetime.datetime(2020, 8, 3, 0, 7, 4, 512000),\n",
       "  'refresh_time': datetime.datetime(2020, 8, 3, 0, 20, 16, 763000)},\n",
       " {'state': 2,\n",
       "  'tid': 10,\n",
       "  'spec': None,\n",
       "  'result': {'loss': 0.025014021684060132, 'status': 'ok'},\n",
       "  'misc': {'tid': 10,\n",
       "   'cmd': ('domain_attachment', 'FMinIter_Domain'),\n",
       "   'workdir': None,\n",
       "   'idxs': {'learning_rate': [10], 'max_depth': [10], 'n_estimators': [10]},\n",
       "   'vals': {'learning_rate': [0.16447696466208162],\n",
       "    'max_depth': [19.360470176973763],\n",
       "    'n_estimators': [65.05445460882115]}},\n",
       "  'exp_key': None,\n",
       "  'owner': None,\n",
       "  'version': 0,\n",
       "  'book_time': datetime.datetime(2020, 8, 3, 0, 20, 16, 767000),\n",
       "  'refresh_time': datetime.datetime(2020, 8, 3, 0, 30, 43, 226000)},\n",
       " {'state': 2,\n",
       "  'tid': 11,\n",
       "  'spec': None,\n",
       "  'result': {'loss': 0.02420917835702405, 'status': 'ok'},\n",
       "  'misc': {'tid': 11,\n",
       "   'cmd': ('domain_attachment', 'FMinIter_Domain'),\n",
       "   'workdir': None,\n",
       "   'idxs': {'learning_rate': [11], 'max_depth': [11], 'n_estimators': [11]},\n",
       "   'vals': {'learning_rate': [0.1491908279023511],\n",
       "    'max_depth': [15.226333703160277],\n",
       "    'n_estimators': [78.18703830797068]}},\n",
       "  'exp_key': None,\n",
       "  'owner': None,\n",
       "  'version': 0,\n",
       "  'book_time': datetime.datetime(2020, 8, 3, 0, 30, 43, 229000),\n",
       "  'refresh_time': datetime.datetime(2020, 8, 3, 0, 42, 21, 744000)},\n",
       " {'state': 2,\n",
       "  'tid': 12,\n",
       "  'spec': None,\n",
       "  'result': {'loss': 0.040638882937893035, 'status': 'ok'},\n",
       "  'misc': {'tid': 12,\n",
       "   'cmd': ('domain_attachment', 'FMinIter_Domain'),\n",
       "   'workdir': None,\n",
       "   'idxs': {'learning_rate': [12], 'max_depth': [12], 'n_estimators': [12]},\n",
       "   'vals': {'learning_rate': [0.17761252787529624],\n",
       "    'max_depth': [14.765323474998654],\n",
       "    'n_estimators': [78.22217626449412]}},\n",
       "  'exp_key': None,\n",
       "  'owner': None,\n",
       "  'version': 0,\n",
       "  'book_time': datetime.datetime(2020, 8, 3, 0, 42, 21, 747000),\n",
       "  'refresh_time': datetime.datetime(2020, 8, 3, 0, 54, 25, 374000)},\n",
       " {'state': 2,\n",
       "  'tid': 13,\n",
       "  'spec': None,\n",
       "  'result': {'loss': 0.03009217548358174, 'status': 'ok'},\n",
       "  'misc': {'tid': 13,\n",
       "   'cmd': ('domain_attachment', 'FMinIter_Domain'),\n",
       "   'workdir': None,\n",
       "   'idxs': {'learning_rate': [13], 'max_depth': [13], 'n_estimators': [13]},\n",
       "   'vals': {'learning_rate': [0.17100813443624985],\n",
       "    'max_depth': [12.118647320740685],\n",
       "    'n_estimators': [72.90664711619911]}},\n",
       "  'exp_key': None,\n",
       "  'owner': None,\n",
       "  'version': 0,\n",
       "  'book_time': datetime.datetime(2020, 8, 3, 0, 54, 25, 377000),\n",
       "  'refresh_time': datetime.datetime(2020, 8, 3, 1, 4, 30, 535000)},\n",
       " {'state': 2,\n",
       "  'tid': 14,\n",
       "  'spec': None,\n",
       "  'result': {'loss': 0.026990232056851183, 'status': 'ok'},\n",
       "  'misc': {'tid': 14,\n",
       "   'cmd': ('domain_attachment', 'FMinIter_Domain'),\n",
       "   'workdir': None,\n",
       "   'idxs': {'learning_rate': [14], 'max_depth': [14], 'n_estimators': [14]},\n",
       "   'vals': {'learning_rate': [0.13427902614842055],\n",
       "    'max_depth': [20.288835555293193],\n",
       "    'n_estimators': [74.5555104713619]}},\n",
       "  'exp_key': None,\n",
       "  'owner': None,\n",
       "  'version': 0,\n",
       "  'book_time': datetime.datetime(2020, 8, 3, 1, 4, 30, 538000),\n",
       "  'refresh_time': datetime.datetime(2020, 8, 3, 1, 16, 19, 609000)},\n",
       " {'state': 2,\n",
       "  'tid': 15,\n",
       "  'spec': None,\n",
       "  'result': {'loss': 0.03821557328656363, 'status': 'ok'},\n",
       "  'misc': {'tid': 15,\n",
       "   'cmd': ('domain_attachment', 'FMinIter_Domain'),\n",
       "   'workdir': None,\n",
       "   'idxs': {'learning_rate': [15], 'max_depth': [15], 'n_estimators': [15]},\n",
       "   'vals': {'learning_rate': [0.14215969958300234],\n",
       "    'max_depth': [17.760090014166224],\n",
       "    'n_estimators': [73.75053928462744]}},\n",
       "  'exp_key': None,\n",
       "  'owner': None,\n",
       "  'version': 0,\n",
       "  'book_time': datetime.datetime(2020, 8, 3, 1, 16, 19, 612000),\n",
       "  'refresh_time': datetime.datetime(2020, 8, 3, 1, 27, 18, 512000)},\n",
       " {'state': 2,\n",
       "  'tid': 16,\n",
       "  'spec': None,\n",
       "  'result': {'loss': 0.026893122312232075, 'status': 'ok'},\n",
       "  'misc': {'tid': 16,\n",
       "   'cmd': ('domain_attachment', 'FMinIter_Domain'),\n",
       "   'workdir': None,\n",
       "   'idxs': {'learning_rate': [16], 'max_depth': [16], 'n_estimators': [16]},\n",
       "   'vals': {'learning_rate': [0.13744571747394554],\n",
       "    'max_depth': [13.122305933450837],\n",
       "    'n_estimators': [72.73748167895594]}},\n",
       "  'exp_key': None,\n",
       "  'owner': None,\n",
       "  'version': 0,\n",
       "  'book_time': datetime.datetime(2020, 8, 3, 1, 27, 18, 515000),\n",
       "  'refresh_time': datetime.datetime(2020, 8, 3, 1, 36, 57, 409000)},\n",
       " {'state': 2,\n",
       "  'tid': 17,\n",
       "  'spec': None,\n",
       "  'result': {'loss': 0.023283940801254736, 'status': 'ok'},\n",
       "  'misc': {'tid': 17,\n",
       "   'cmd': ('domain_attachment', 'FMinIter_Domain'),\n",
       "   'workdir': None,\n",
       "   'idxs': {'learning_rate': [17], 'max_depth': [17], 'n_estimators': [17]},\n",
       "   'vals': {'learning_rate': [0.1497186685159135],\n",
       "    'max_depth': [18.129352121946425],\n",
       "    'n_estimators': [75.38165678106904]}},\n",
       "  'exp_key': None,\n",
       "  'owner': None,\n",
       "  'version': 0,\n",
       "  'book_time': datetime.datetime(2020, 8, 3, 1, 36, 57, 412000),\n",
       "  'refresh_time': datetime.datetime(2020, 8, 3, 1, 48, 44, 378000)},\n",
       " {'state': 2,\n",
       "  'tid': 18,\n",
       "  'spec': None,\n",
       "  'result': {'loss': 0.02509323912712023, 'status': 'ok'},\n",
       "  'misc': {'tid': 18,\n",
       "   'cmd': ('domain_attachment', 'FMinIter_Domain'),\n",
       "   'workdir': None,\n",
       "   'idxs': {'learning_rate': [18], 'max_depth': [18], 'n_estimators': [18]},\n",
       "   'vals': {'learning_rate': [0.16864753334199056],\n",
       "    'max_depth': [18.25220670946844],\n",
       "    'n_estimators': [69.32207615422222]}},\n",
       "  'exp_key': None,\n",
       "  'owner': None,\n",
       "  'version': 0,\n",
       "  'book_time': datetime.datetime(2020, 8, 3, 1, 48, 44, 382000),\n",
       "  'refresh_time': datetime.datetime(2020, 8, 3, 1, 59, 42, 916000)},\n",
       " {'state': 2,\n",
       "  'tid': 19,\n",
       "  'spec': None,\n",
       "  'result': {'loss': 0.02458510143652934, 'status': 'ok'},\n",
       "  'misc': {'tid': 19,\n",
       "   'cmd': ('domain_attachment', 'FMinIter_Domain'),\n",
       "   'workdir': None,\n",
       "   'idxs': {'learning_rate': [19], 'max_depth': [19], 'n_estimators': [19]},\n",
       "   'vals': {'learning_rate': [0.17039298071704084],\n",
       "    'max_depth': [19.87600708641634],\n",
       "    'n_estimators': [70.96678803997888]}},\n",
       "  'exp_key': None,\n",
       "  'owner': None,\n",
       "  'version': 0,\n",
       "  'book_time': datetime.datetime(2020, 8, 3, 1, 59, 42, 919000),\n",
       "  'refresh_time': datetime.datetime(2020, 8, 3, 2, 11, 15, 665000)}]"
      ]
     },
     "execution_count": 151,
     "metadata": {},
     "output_type": "execute_result"
    }
   ],
   "source": [
    "trials.trials"
   ]
  },
  {
   "cell_type": "code",
   "execution_count": 154,
   "metadata": {},
   "outputs": [],
   "source": [
    "filename = \"submissions/trials_trials_2.txt\"\n",
    "pickle.dump(trials.trials[0], open(filename, 'wb'))"
   ]
  },
  {
   "cell_type": "code",
   "execution_count": 169,
   "metadata": {},
   "outputs": [
    {
     "name": "stdout",
     "output_type": "stream",
     "text": [
      "[{\"state\": 2, \"tid\": 0, \"spec\": null, \"result\": {\"loss\": 0.04121973641223274, \"status\": \"ok\"}, \"misc\": {\"tid\": 0, \"cmd\": [\"domain_attachment\", \"FMinIter_Domain\"], \"workdir\": null, \"idxs\": {\"learning_rate\": [0], \"max_depth\": [0], \"n_estimators\": [0]}, \"vals\": {\"learning_rate\": [0.12414308045241625], \"max_depth\": [19.493688290834637], \"n_estimators\": [71.82051578332059]}}, \"exp_key\": null, \"owner\": null, \"version\": 0, \"book_time\": {\"$date\": 1596407175558}, \"refresh_time\": {\"$date\": 1596407783793}}, {\"state\": 2, \"tid\": 1, \"spec\": null, \"result\": {\"loss\": 0.025719213925694224, \"status\": \"ok\"}, \"misc\": {\"tid\": 1, \"cmd\": [\"domain_attachment\", \"FMinIter_Domain\"], \"workdir\": null, \"idxs\": {\"learning_rate\": [1], \"max_depth\": [1], \"n_estimators\": [1]}, \"vals\": {\"learning_rate\": [0.17597207993087002], \"max_depth\": [18.549531688595927], \"n_estimators\": [71.1515593827997]}}, \"exp_key\": null, \"owner\": null, \"version\": 0, \"book_time\": {\"$date\": 1596407783805}, \"refresh_time\": {\"$date\": 1596408457891}}, {\"state\": 2, \"tid\": 2, \"spec\": null, \"result\": {\"loss\": 0.026980060843483526, \"status\": \"ok\"}, \"misc\": {\"tid\": 2, \"cmd\": [\"domain_attachment\", \"FMinIter_Domain\"], \"workdir\": null, \"idxs\": {\"learning_rate\": [2], \"max_depth\": [2], \"n_estimators\": [2]}, \"vals\": {\"learning_rate\": [0.1382046065930505], \"max_depth\": [19.949837496427758], \"n_estimators\": [77.56082533329926]}}, \"exp_key\": null, \"owner\": null, \"version\": 0, \"book_time\": {\"$date\": 1596408457895}, \"refresh_time\": {\"$date\": 1596409161648}}, {\"state\": 2, \"tid\": 3, \"spec\": null, \"result\": {\"loss\": 0.036222258012171674, \"status\": \"ok\"}, \"misc\": {\"tid\": 3, \"cmd\": [\"domain_attachment\", \"FMinIter_Domain\"], \"workdir\": null, \"idxs\": {\"learning_rate\": [3], \"max_depth\": [3], \"n_estimators\": [3]}, \"vals\": {\"learning_rate\": [0.1262915495131622], \"max_depth\": [20.26850269502439], \"n_estimators\": [71.67248768451728]}}, \"exp_key\": null, \"owner\": null, \"version\": 0, \"book_time\": {\"$date\": 1596409161652}, \"refresh_time\": {\"$date\": 1596409787484}}, {\"state\": 2, \"tid\": 4, \"spec\": null, \"result\": {\"loss\": 0.039233773795278794, \"status\": \"ok\"}, \"misc\": {\"tid\": 4, \"cmd\": [\"domain_attachment\", \"FMinIter_Domain\"], \"workdir\": null, \"idxs\": {\"learning_rate\": [4], \"max_depth\": [4], \"n_estimators\": [4]}, \"vals\": {\"learning_rate\": [0.15588282465072767], \"max_depth\": [13.546844052569046], \"n_estimators\": [77.18593982536045]}}, \"exp_key\": null, \"owner\": null, \"version\": 0, \"book_time\": {\"$date\": 1596409787487}, \"refresh_time\": {\"$date\": 1596410435311}}, {\"state\": 2, \"tid\": 5, \"spec\": null, \"result\": {\"loss\": 0.025058987371743335, \"status\": \"ok\"}, \"misc\": {\"tid\": 5, \"cmd\": [\"domain_attachment\", \"FMinIter_Domain\"], \"workdir\": null, \"idxs\": {\"learning_rate\": [5], \"max_depth\": [5], \"n_estimators\": [5]}, \"vals\": {\"learning_rate\": [0.15159721422766154], \"max_depth\": [15.942262677968309], \"n_estimators\": [76.99330162410759]}}, \"exp_key\": null, \"owner\": null, \"version\": 0, \"book_time\": {\"$date\": 1596410435314}, \"refresh_time\": {\"$date\": 1596411106252}}, {\"state\": 2, \"tid\": 6, \"spec\": null, \"result\": {\"loss\": 0.027782881168274626, \"status\": \"ok\"}, \"misc\": {\"tid\": 6, \"cmd\": [\"domain_attachment\", \"FMinIter_Domain\"], \"workdir\": null, \"idxs\": {\"learning_rate\": [6], \"max_depth\": [6], \"n_estimators\": [6]}, \"vals\": {\"learning_rate\": [0.129816430718313], \"max_depth\": [20.454327638424942], \"n_estimators\": [76.01042026978352]}}, \"exp_key\": null, \"owner\": null, \"version\": 0, \"book_time\": {\"$date\": 1596411106255}, \"refresh_time\": {\"$date\": 1596411824988}}, {\"state\": 2, \"tid\": 7, \"spec\": null, \"result\": {\"loss\": 0.038437687844391735, \"status\": \"ok\"}, \"misc\": {\"tid\": 7, \"cmd\": [\"domain_attachment\", \"FMinIter_Domain\"], \"workdir\": null, \"idxs\": {\"learning_rate\": [7], \"max_depth\": [7], \"n_estimators\": [7]}, \"vals\": {\"learning_rate\": [0.14154137591528423], \"max_depth\": [18.97827940945094], \"n_estimators\": [74.25619037753475]}}, \"exp_key\": null, \"owner\": null, \"version\": 0, \"book_time\": {\"$date\": 1596411824991}, \"refresh_time\": {\"$date\": 1596412512425}}, {\"state\": 2, \"tid\": 8, \"spec\": null, \"result\": {\"loss\": 0.023332544864882346, \"status\": \"ok\"}, \"misc\": {\"tid\": 8, \"cmd\": [\"domain_attachment\", \"FMinIter_Domain\"], \"workdir\": null, \"idxs\": {\"learning_rate\": [8], \"max_depth\": [8], \"n_estimators\": [8]}, \"vals\": {\"learning_rate\": [0.149788002215803], \"max_depth\": [20.280083037935846], \"n_estimators\": [73.1510460153547]}}, \"exp_key\": null, \"owner\": null, \"version\": 0, \"book_time\": {\"$date\": 1596412512428}, \"refresh_time\": {\"$date\": 1596413224509}}, {\"state\": 2, \"tid\": 9, \"spec\": null, \"result\": {\"loss\": 0.02590566689509179, \"status\": \"ok\"}, \"misc\": {\"tid\": 9, \"cmd\": [\"domain_attachment\", \"FMinIter_Domain\"], \"workdir\": null, \"idxs\": {\"learning_rate\": [9], \"max_depth\": [9], \"n_estimators\": [9]}, \"vals\": {\"learning_rate\": [0.17229911570779288], \"max_depth\": [18.305593001592293], \"n_estimators\": [79.33216979464892]}}, \"exp_key\": null, \"owner\": null, \"version\": 0, \"book_time\": {\"$date\": 1596413224512}, \"refresh_time\": {\"$date\": 1596414016763}}, {\"state\": 2, \"tid\": 10, \"spec\": null, \"result\": {\"loss\": 0.025014021684060132, \"status\": \"ok\"}, \"misc\": {\"tid\": 10, \"cmd\": [\"domain_attachment\", \"FMinIter_Domain\"], \"workdir\": null, \"idxs\": {\"learning_rate\": [10], \"max_depth\": [10], \"n_estimators\": [10]}, \"vals\": {\"learning_rate\": [0.16447696466208162], \"max_depth\": [19.360470176973763], \"n_estimators\": [65.05445460882115]}}, \"exp_key\": null, \"owner\": null, \"version\": 0, \"book_time\": {\"$date\": 1596414016767}, \"refresh_time\": {\"$date\": 1596414643226}}, {\"state\": 2, \"tid\": 11, \"spec\": null, \"result\": {\"loss\": 0.02420917835702405, \"status\": \"ok\"}, \"misc\": {\"tid\": 11, \"cmd\": [\"domain_attachment\", \"FMinIter_Domain\"], \"workdir\": null, \"idxs\": {\"learning_rate\": [11], \"max_depth\": [11], \"n_estimators\": [11]}, \"vals\": {\"learning_rate\": [0.1491908279023511], \"max_depth\": [15.226333703160277], \"n_estimators\": [78.18703830797068]}}, \"exp_key\": null, \"owner\": null, \"version\": 0, \"book_time\": {\"$date\": 1596414643229}, \"refresh_time\": {\"$date\": 1596415341744}}, {\"state\": 2, \"tid\": 12, \"spec\": null, \"result\": {\"loss\": 0.040638882937893035, \"status\": \"ok\"}, \"misc\": {\"tid\": 12, \"cmd\": [\"domain_attachment\", \"FMinIter_Domain\"], \"workdir\": null, \"idxs\": {\"learning_rate\": [12], \"max_depth\": [12], \"n_estimators\": [12]}, \"vals\": {\"learning_rate\": [0.17761252787529624], \"max_depth\": [14.765323474998654], \"n_estimators\": [78.22217626449412]}}, \"exp_key\": null, \"owner\": null, \"version\": 0, \"book_time\": {\"$date\": 1596415341747}, \"refresh_time\": {\"$date\": 1596416065374}}, {\"state\": 2, \"tid\": 13, \"spec\": null, \"result\": {\"loss\": 0.03009217548358174, \"status\": \"ok\"}, \"misc\": {\"tid\": 13, \"cmd\": [\"domain_attachment\", \"FMinIter_Domain\"], \"workdir\": null, \"idxs\": {\"learning_rate\": [13], \"max_depth\": [13], \"n_estimators\": [13]}, \"vals\": {\"learning_rate\": [0.17100813443624985], \"max_depth\": [12.118647320740685], \"n_estimators\": [72.90664711619911]}}, \"exp_key\": null, \"owner\": null, \"version\": 0, \"book_time\": {\"$date\": 1596416065377}, \"refresh_time\": {\"$date\": 1596416670535}}, {\"state\": 2, \"tid\": 14, \"spec\": null, \"result\": {\"loss\": 0.026990232056851183, \"status\": \"ok\"}, \"misc\": {\"tid\": 14, \"cmd\": [\"domain_attachment\", \"FMinIter_Domain\"], \"workdir\": null, \"idxs\": {\"learning_rate\": [14], \"max_depth\": [14], \"n_estimators\": [14]}, \"vals\": {\"learning_rate\": [0.13427902614842055], \"max_depth\": [20.288835555293193], \"n_estimators\": [74.5555104713619]}}, \"exp_key\": null, \"owner\": null, \"version\": 0, \"book_time\": {\"$date\": 1596416670538}, \"refresh_time\": {\"$date\": 1596417379609}}, {\"state\": 2, \"tid\": 15, \"spec\": null, \"result\": {\"loss\": 0.03821557328656363, \"status\": \"ok\"}, \"misc\": {\"tid\": 15, \"cmd\": [\"domain_attachment\", \"FMinIter_Domain\"], \"workdir\": null, \"idxs\": {\"learning_rate\": [15], \"max_depth\": [15], \"n_estimators\": [15]}, \"vals\": {\"learning_rate\": [0.14215969958300234], \"max_depth\": [17.760090014166224], \"n_estimators\": [73.75053928462744]}}, \"exp_key\": null, \"owner\": null, \"version\": 0, \"book_time\": {\"$date\": 1596417379612}, \"refresh_time\": {\"$date\": 1596418038512}}, {\"state\": 2, \"tid\": 16, \"spec\": null, \"result\": {\"loss\": 0.026893122312232075, \"status\": \"ok\"}, \"misc\": {\"tid\": 16, \"cmd\": [\"domain_attachment\", \"FMinIter_Domain\"], \"workdir\": null, \"idxs\": {\"learning_rate\": [16], \"max_depth\": [16], \"n_estimators\": [16]}, \"vals\": {\"learning_rate\": [0.13744571747394554], \"max_depth\": [13.122305933450837], \"n_estimators\": [72.73748167895594]}}, \"exp_key\": null, \"owner\": null, \"version\": 0, \"book_time\": {\"$date\": 1596418038515}, \"refresh_time\": {\"$date\": 1596418617409}}, {\"state\": 2, \"tid\": 17, \"spec\": null, \"result\": {\"loss\": 0.023283940801254736, \"status\": \"ok\"}, \"misc\": {\"tid\": 17, \"cmd\": [\"domain_attachment\", \"FMinIter_Domain\"], \"workdir\": null, \"idxs\": {\"learning_rate\": [17], \"max_depth\": [17], \"n_estimators\": [17]}, \"vals\": {\"learning_rate\": [0.1497186685159135], \"max_depth\": [18.129352121946425], \"n_estimators\": [75.38165678106904]}}, \"exp_key\": null, \"owner\": null, \"version\": 0, \"book_time\": {\"$date\": 1596418617412}, \"refresh_time\": {\"$date\": 1596419324378}}, {\"state\": 2, \"tid\": 18, \"spec\": null, \"result\": {\"loss\": 0.02509323912712023, \"status\": \"ok\"}, \"misc\": {\"tid\": 18, \"cmd\": [\"domain_attachment\", \"FMinIter_Domain\"], \"workdir\": null, \"idxs\": {\"learning_rate\": [18], \"max_depth\": [18], \"n_estimators\": [18]}, \"vals\": {\"learning_rate\": [0.16864753334199056], \"max_depth\": [18.25220670946844], \"n_estimators\": [69.32207615422222]}}, \"exp_key\": null, \"owner\": null, \"version\": 0, \"book_time\": {\"$date\": 1596419324382}, \"refresh_time\": {\"$date\": 1596419982916}}, {\"state\": 2, \"tid\": 19, \"spec\": null, \"result\": {\"loss\": 0.02458510143652934, \"status\": \"ok\"}, \"misc\": {\"tid\": 19, \"cmd\": [\"domain_attachment\", \"FMinIter_Domain\"], \"workdir\": null, \"idxs\": {\"learning_rate\": [19], \"max_depth\": [19], \"n_estimators\": [19]}, \"vals\": {\"learning_rate\": [0.17039298071704084], \"max_depth\": [19.87600708641634], \"n_estimators\": [70.96678803997888]}}, \"exp_key\": null, \"owner\": null, \"version\": 0, \"book_time\": {\"$date\": 1596419982919}, \"refresh_time\": {\"$date\": 1596420675665}}]\n"
     ]
    }
   ],
   "source": [
    "import json\n",
    "from bson import json_util\n",
    "trials_json = json.dumps(trials.trials, default=json_util.default)\n",
    "\n",
    "with open('submissions/data_2.json', 'w') as f:\n",
    "    json.dump(trials_json, f)\n",
    "\n",
    "trials_dict = json.loads(trials_json, object_hook=json_util.object_hook)\n",
    "print(trials_json)"
   ]
  },
  {
   "cell_type": "code",
   "execution_count": 160,
   "metadata": {},
   "outputs": [],
   "source": [
    "filename = \"submissions/trials_trials_2\"\n",
    "pickle.dump(json.dumps(trials.trials[0], default=json_util.default), open(filename, 'wb'))"
   ]
  },
  {
   "cell_type": "code",
   "execution_count": null,
   "metadata": {},
   "outputs": [],
   "source": [
    "[{'state': 2,\n",
    "  'tid': 0,\n",
    "  'spec': None,\n",
    "  'result': {'loss': 0.04121973641223274, 'status': 'ok'},\n",
    "  'misc': {'tid': 0,\n",
    "   'cmd': ('domain_attachment', 'FMinIter_Domain'),\n",
    "   'workdir': None,\n",
    "   'idxs': {'learning_rate': [0], 'max_depth': [0], 'n_estimators': [0]},\n",
    "   'vals': {'learning_rate': [0.12414308045241625],\n",
    "    'max_depth': [19.493688290834637],\n",
    "    'n_estimators': [71.82051578332059]}},\n",
    "  'exp_key': None,\n",
    "  'owner': None,\n",
    "  'version': 0,\n",
    "  'book_time': datetime.datetime(2020, 8, 2, 22, 26, 15, 558000),\n",
    "  'refresh_time': datetime.datetime(2020, 8, 2, 22, 36, 23, 793000)},\n",
    " {'state': 2,\n",
    "  'tid': 1,\n",
    "  'spec': None,\n",
    "  'result': {'loss': 0.025719213925694224, 'status': 'ok'},\n",
    "  'misc': {'tid': 1,\n",
    "   'cmd': ('domain_attachment', 'FMinIter_Domain'),\n",
    "   'workdir': None,\n",
    "   'idxs': {'learning_rate': [1], 'max_depth': [1], 'n_estimators': [1]},\n",
    "   'vals': {'learning_rate': [0.17597207993087002],\n",
    "    'max_depth': [18.549531688595927],\n",
    "    'n_estimators': [71.1515593827997]}},\n",
    "  'exp_key': None,\n",
    "  'owner': None,\n",
    "  'version': 0,\n",
    "  'book_time': datetime.datetime(2020, 8, 2, 22, 36, 23, 805000),\n",
    "  'refresh_time': datetime.datetime(2020, 8, 2, 22, 47, 37, 891000)},\n",
    " {'state': 2,\n",
    "  'tid': 2,\n",
    "  'spec': None,\n",
    "  'result': {'loss': 0.026980060843483526, 'status': 'ok'},\n",
    "  'misc': {'tid': 2,\n",
    "   'cmd': ('domain_attachment', 'FMinIter_Domain'),\n",
    "   'workdir': None,\n",
    "   'idxs': {'learning_rate': [2], 'max_depth': [2], 'n_estimators': [2]},\n",
    "   'vals': {'learning_rate': [0.1382046065930505],\n",
    "    'max_depth': [19.949837496427758],\n",
    "    'n_estimators': [77.56082533329926]}},\n",
    "  'exp_key': None,\n",
    "  'owner': None,\n",
    "  'version': 0,\n",
    "  'book_time': datetime.datetime(2020, 8, 2, 22, 47, 37, 895000),\n",
    "  'refresh_time': datetime.datetime(2020, 8, 2, 22, 59, 21, 648000)},\n",
    " {'state': 2,\n",
    "  'tid': 3,\n",
    "  'spec': None,\n",
    "  'result': {'loss': 0.036222258012171674, 'status': 'ok'},\n",
    "  'misc': {'tid': 3,\n",
    "   'cmd': ('domain_attachment', 'FMinIter_Domain'),\n",
    "   'workdir': None,\n",
    "   'idxs': {'learning_rate': [3], 'max_depth': [3], 'n_estimators': [3]},\n",
    "   'vals': {'learning_rate': [0.1262915495131622],\n",
    "    'max_depth': [20.26850269502439],\n",
    "    'n_estimators': [71.67248768451728]}},\n",
    "  'exp_key': None,\n",
    "  'owner': None,\n",
    "  'version': 0,\n",
    "  'book_time': datetime.datetime(2020, 8, 2, 22, 59, 21, 652000),\n",
    "  'refresh_time': datetime.datetime(2020, 8, 2, 23, 9, 47, 484000)},\n",
    " {'state': 2,\n",
    "  'tid': 4,\n",
    "  'spec': None,\n",
    "  'result': {'loss': 0.039233773795278794, 'status': 'ok'},\n",
    "  'misc': {'tid': 4,\n",
    "   'cmd': ('domain_attachment', 'FMinIter_Domain'),\n",
    "   'workdir': None,\n",
    "   'idxs': {'learning_rate': [4], 'max_depth': [4], 'n_estimators': [4]},\n",
    "   'vals': {'learning_rate': [0.15588282465072767],\n",
    "    'max_depth': [13.546844052569046],\n",
    "    'n_estimators': [77.18593982536045]}},\n",
    "  'exp_key': None,\n",
    "  'owner': None,\n",
    "  'version': 0,\n",
    "  'book_time': datetime.datetime(2020, 8, 2, 23, 9, 47, 487000),\n",
    "  'refresh_time': datetime.datetime(2020, 8, 2, 23, 20, 35, 311000)},\n",
    " {'state': 2,\n",
    "  'tid': 5,\n",
    "  'spec': None,\n",
    "  'result': {'loss': 0.025058987371743335, 'status': 'ok'},\n",
    "  'misc': {'tid': 5,\n",
    "   'cmd': ('domain_attachment', 'FMinIter_Domain'),\n",
    "   'workdir': None,\n",
    "   'idxs': {'learning_rate': [5], 'max_depth': [5], 'n_estimators': [5]},\n",
    "   'vals': {'learning_rate': [0.15159721422766154],\n",
    "    'max_depth': [15.942262677968309],\n",
    "    'n_estimators': [76.99330162410759]}},\n",
    "  'exp_key': None,\n",
    "  'owner': None,\n",
    "  'version': 0,\n",
    "  'book_time': datetime.datetime(2020, 8, 2, 23, 20, 35, 314000),\n",
    "  'refresh_time': datetime.datetime(2020, 8, 2, 23, 31, 46, 252000)},\n",
    " {'state': 2,\n",
    "  'tid': 6,\n",
    "  'spec': None,\n",
    "  'result': {'loss': 0.027782881168274626, 'status': 'ok'},\n",
    "  'misc': {'tid': 6,\n",
    "   'cmd': ('domain_attachment', 'FMinIter_Domain'),\n",
    "   'workdir': None,\n",
    "   'idxs': {'learning_rate': [6], 'max_depth': [6], 'n_estimators': [6]},\n",
    "   'vals': {'learning_rate': [0.129816430718313],\n",
    "    'max_depth': [20.454327638424942],\n",
    "    'n_estimators': [76.01042026978352]}},\n",
    "  'exp_key': None,\n",
    "  'owner': None,\n",
    "  'version': 0,\n",
    "  'book_time': datetime.datetime(2020, 8, 2, 23, 31, 46, 255000),\n",
    "  'refresh_time': datetime.datetime(2020, 8, 2, 23, 43, 44, 988000)},\n",
    " {'state': 2,\n",
    "  'tid': 7,\n",
    "  'spec': None,\n",
    "  'result': {'loss': 0.038437687844391735, 'status': 'ok'},\n",
    "  'misc': {'tid': 7,\n",
    "   'cmd': ('domain_attachment', 'FMinIter_Domain'),\n",
    "   'workdir': None,\n",
    "   'idxs': {'learning_rate': [7], 'max_depth': [7], 'n_estimators': [7]},\n",
    "   'vals': {'learning_rate': [0.14154137591528423],\n",
    "    'max_depth': [18.97827940945094],\n",
    "    'n_estimators': [74.25619037753475]}},\n",
    "  'exp_key': None,\n",
    "  'owner': None,\n",
    "  'version': 0,\n",
    "  'book_time': datetime.datetime(2020, 8, 2, 23, 43, 44, 991000),\n",
    "  'refresh_time': datetime.datetime(2020, 8, 2, 23, 55, 12, 425000)},\n",
    " {'state': 2,\n",
    "  'tid': 8,\n",
    "  'spec': None,\n",
    "  'result': {'loss': 0.023332544864882346, 'status': 'ok'},\n",
    "  'misc': {'tid': 8,\n",
    "   'cmd': ('domain_attachment', 'FMinIter_Domain'),\n",
    "   'workdir': None,\n",
    "   'idxs': {'learning_rate': [8], 'max_depth': [8], 'n_estimators': [8]},\n",
    "   'vals': {'learning_rate': [0.149788002215803],\n",
    "    'max_depth': [20.280083037935846],\n",
    "    'n_estimators': [73.1510460153547]}},\n",
    "  'exp_key': None,\n",
    "  'owner': None,\n",
    "  'version': 0,\n",
    "  'book_time': datetime.datetime(2020, 8, 2, 23, 55, 12, 428000),\n",
    "  'refresh_time': datetime.datetime(2020, 8, 3, 0, 7, 4, 509000)},\n",
    " {'state': 2,\n",
    "  'tid': 9,\n",
    "  'spec': None,\n",
    "  'result': {'loss': 0.02590566689509179, 'status': 'ok'},\n",
    "  'misc': {'tid': 9,\n",
    "   'cmd': ('domain_attachment', 'FMinIter_Domain'),\n",
    "   'workdir': None,\n",
    "   'idxs': {'learning_rate': [9], 'max_depth': [9], 'n_estimators': [9]},\n",
    "   'vals': {'learning_rate': [0.17229911570779288],\n",
    "    'max_depth': [18.305593001592293],\n",
    "    'n_estimators': [79.33216979464892]}},\n",
    "  'exp_key': None,\n",
    "  'owner': None,\n",
    "  'version': 0,\n",
    "  'book_time': datetime.datetime(2020, 8, 3, 0, 7, 4, 512000),\n",
    "  'refresh_time': datetime.datetime(2020, 8, 3, 0, 20, 16, 763000)},\n",
    " {'state': 2,\n",
    "  'tid': 10,\n",
    "  'spec': None,\n",
    "  'result': {'loss': 0.025014021684060132, 'status': 'ok'},\n",
    "  'misc': {'tid': 10,\n",
    "   'cmd': ('domain_attachment', 'FMinIter_Domain'),\n",
    "   'workdir': None,\n",
    "   'idxs': {'learning_rate': [10], 'max_depth': [10], 'n_estimators': [10]},\n",
    "   'vals': {'learning_rate': [0.16447696466208162],\n",
    "    'max_depth': [19.360470176973763],\n",
    "    'n_estimators': [65.05445460882115]}},\n",
    "  'exp_key': None,\n",
    "  'owner': None,\n",
    "  'version': 0,\n",
    "  'book_time': datetime.datetime(2020, 8, 3, 0, 20, 16, 767000),\n",
    "  'refresh_time': datetime.datetime(2020, 8, 3, 0, 30, 43, 226000)},\n",
    " {'state': 2,\n",
    "  'tid': 11,\n",
    "  'spec': None,\n",
    "  'result': {'loss': 0.02420917835702405, 'status': 'ok'},\n",
    "  'misc': {'tid': 11,\n",
    "   'cmd': ('domain_attachment', 'FMinIter_Domain'),\n",
    "   'workdir': None,\n",
    "   'idxs': {'learning_rate': [11], 'max_depth': [11], 'n_estimators': [11]},\n",
    "   'vals': {'learning_rate': [0.1491908279023511],\n",
    "    'max_depth': [15.226333703160277],\n",
    "    'n_estimators': [78.18703830797068]}},\n",
    "  'exp_key': None,\n",
    "  'owner': None,\n",
    "  'version': 0,\n",
    "  'book_time': datetime.datetime(2020, 8, 3, 0, 30, 43, 229000),\n",
    "  'refresh_time': datetime.datetime(2020, 8, 3, 0, 42, 21, 744000)},\n",
    " {'state': 2,\n",
    "  'tid': 12,\n",
    "  'spec': None,\n",
    "  'result': {'loss': 0.040638882937893035, 'status': 'ok'},\n",
    "  'misc': {'tid': 12,\n",
    "   'cmd': ('domain_attachment', 'FMinIter_Domain'),\n",
    "   'workdir': None,\n",
    "   'idxs': {'learning_rate': [12], 'max_depth': [12], 'n_estimators': [12]},\n",
    "   'vals': {'learning_rate': [0.17761252787529624],\n",
    "    'max_depth': [14.765323474998654],\n",
    "    'n_estimators': [78.22217626449412]}},\n",
    "  'exp_key': None,\n",
    "  'owner': None,\n",
    "  'version': 0,\n",
    "  'book_time': datetime.datetime(2020, 8, 3, 0, 42, 21, 747000),\n",
    "  'refresh_time': datetime.datetime(2020, 8, 3, 0, 54, 25, 374000)},\n",
    " {'state': 2,\n",
    "  'tid': 13,\n",
    "  'spec': None,\n",
    "  'result': {'loss': 0.03009217548358174, 'status': 'ok'},\n",
    "  'misc': {'tid': 13,\n",
    "   'cmd': ('domain_attachment', 'FMinIter_Domain'),\n",
    "   'workdir': None,\n",
    "   'idxs': {'learning_rate': [13], 'max_depth': [13], 'n_estimators': [13]},\n",
    "   'vals': {'learning_rate': [0.17100813443624985],\n",
    "    'max_depth': [12.118647320740685],\n",
    "    'n_estimators': [72.90664711619911]}},\n",
    "  'exp_key': None,\n",
    "  'owner': None,\n",
    "  'version': 0,\n",
    "  'book_time': datetime.datetime(2020, 8, 3, 0, 54, 25, 377000),\n",
    "  'refresh_time': datetime.datetime(2020, 8, 3, 1, 4, 30, 535000)},\n",
    " {'state': 2,\n",
    "  'tid': 14,\n",
    "  'spec': None,\n",
    "  'result': {'loss': 0.026990232056851183, 'status': 'ok'},\n",
    "  'misc': {'tid': 14,\n",
    "   'cmd': ('domain_attachment', 'FMinIter_Domain'),\n",
    "   'workdir': None,\n",
    "   'idxs': {'learning_rate': [14], 'max_depth': [14], 'n_estimators': [14]},\n",
    "   'vals': {'learning_rate': [0.13427902614842055],\n",
    "    'max_depth': [20.288835555293193],\n",
    "    'n_estimators': [74.5555104713619]}},\n",
    "  'exp_key': None,\n",
    "  'owner': None,\n",
    "  'version': 0,\n",
    "  'book_time': datetime.datetime(2020, 8, 3, 1, 4, 30, 538000),\n",
    "  'refresh_time': datetime.datetime(2020, 8, 3, 1, 16, 19, 609000)},\n",
    " {'state': 2,\n",
    "  'tid': 15,\n",
    "  'spec': None,\n",
    "  'result': {'loss': 0.03821557328656363, 'status': 'ok'},\n",
    "  'misc': {'tid': 15,\n",
    "   'cmd': ('domain_attachment', 'FMinIter_Domain'),\n",
    "   'workdir': None,\n",
    "   'idxs': {'learning_rate': [15], 'max_depth': [15], 'n_estimators': [15]},\n",
    "   'vals': {'learning_rate': [0.14215969958300234],\n",
    "    'max_depth': [17.760090014166224],\n",
    "    'n_estimators': [73.75053928462744]}},\n",
    "  'exp_key': None,\n",
    "  'owner': None,\n",
    "  'version': 0,\n",
    "  'book_time': datetime.datetime(2020, 8, 3, 1, 16, 19, 612000),\n",
    "  'refresh_time': datetime.datetime(2020, 8, 3, 1, 27, 18, 512000)},\n",
    " {'state': 2,\n",
    "  'tid': 16,\n",
    "  'spec': None,\n",
    "  'result': {'loss': 0.026893122312232075, 'status': 'ok'},\n",
    "  'misc': {'tid': 16,\n",
    "   'cmd': ('domain_attachment', 'FMinIter_Domain'),\n",
    "   'workdir': None,\n",
    "   'idxs': {'learning_rate': [16], 'max_depth': [16], 'n_estimators': [16]},\n",
    "   'vals': {'learning_rate': [0.13744571747394554],\n",
    "    'max_depth': [13.122305933450837],\n",
    "    'n_estimators': [72.73748167895594]}},\n",
    "  'exp_key': None,\n",
    "  'owner': None,\n",
    "  'version': 0,\n",
    "  'book_time': datetime.datetime(2020, 8, 3, 1, 27, 18, 515000),\n",
    "  'refresh_time': datetime.datetime(2020, 8, 3, 1, 36, 57, 409000)},\n",
    " {'state': 2,\n",
    "  'tid': 17,\n",
    "  'spec': None,\n",
    "  'result': {'loss': 0.023283940801254736, 'status': 'ok'},\n",
    "  'misc': {'tid': 17,\n",
    "   'cmd': ('domain_attachment', 'FMinIter_Domain'),\n",
    "   'workdir': None,\n",
    "   'idxs': {'learning_rate': [17], 'max_depth': [17], 'n_estimators': [17]},\n",
    "   'vals': {'learning_rate': [0.1497186685159135],\n",
    "    'max_depth': [18.129352121946425],\n",
    "    'n_estimators': [75.38165678106904]}},\n",
    "  'exp_key': None,\n",
    "  'owner': None,\n",
    "  'version': 0,\n",
    "  'book_time': datetime.datetime(2020, 8, 3, 1, 36, 57, 412000),\n",
    "  'refresh_time': datetime.datetime(2020, 8, 3, 1, 48, 44, 378000)},\n",
    " {'state': 2,\n",
    "  'tid': 18,\n",
    "  'spec': None,\n",
    "  'result': {'loss': 0.02509323912712023, 'status': 'ok'},\n",
    "  'misc': {'tid': 18,\n",
    "   'cmd': ('domain_attachment', 'FMinIter_Domain'),\n",
    "   'workdir': None,\n",
    "   'idxs': {'learning_rate': [18], 'max_depth': [18], 'n_estimators': [18]},\n",
    "   'vals': {'learning_rate': [0.16864753334199056],\n",
    "    'max_depth': [18.25220670946844],\n",
    "    'n_estimators': [69.32207615422222]}},\n",
    "  'exp_key': None,\n",
    "  'owner': None,\n",
    "  'version': 0,\n",
    "  'book_time': datetime.datetime(2020, 8, 3, 1, 48, 44, 382000),\n",
    "  'refresh_time': datetime.datetime(2020, 8, 3, 1, 59, 42, 916000)},\n",
    " {'state': 2,\n",
    "  'tid': 19,\n",
    "  'spec': None,\n",
    "  'result': {'loss': 0.02458510143652934, 'status': 'ok'},\n",
    "  'misc': {'tid': 19,\n",
    "   'cmd': ('domain_attachment', 'FMinIter_Domain'),\n",
    "   'workdir': None,\n",
    "   'idxs': {'learning_rate': [19], 'max_depth': [19], 'n_estimators': [19]},\n",
    "   'vals': {'learning_rate': [0.17039298071704084],\n",
    "    'max_depth': [19.87600708641634],\n",
    "    'n_estimators': [70.96678803997888]}},\n",
    "  'exp_key': None,\n",
    "  'owner': None,\n",
    "  'version': 0,\n",
    "  'book_time': datetime.datetime(2020, 8, 3, 1, 59, 42, 919000),\n",
    "  'refresh_time': datetime.datetime(2020, 8, 3, 2, 11, 15, 665000)}]"
   ]
  },
  {
   "cell_type": "code",
   "execution_count": 150,
   "metadata": {},
   "outputs": [
    {
     "name": "stdout",
     "output_type": "stream",
     "text": [
      "Current Time = 04:11:15\n"
     ]
    }
   ],
   "source": [
    "current_time()"
   ]
  },
  {
   "cell_type": "code",
   "execution_count": null,
   "metadata": {},
   "outputs": [],
   "source": [
    "# learning_rate chart\n",
    "parsing_trials_hp(trials=trials, field='learning_rate')"
   ]
  },
  {
   "cell_type": "code",
   "execution_count": null,
   "metadata": {},
   "outputs": [],
   "source": [
    "# n_estimators chart\n",
    "parsing_trials_hp(trials=trials, field='n_estimators')"
   ]
  },
  {
   "cell_type": "code",
   "execution_count": null,
   "metadata": {},
   "outputs": [],
   "source": [
    "# max_depth chart\n",
    "parsing_trials_hp(trials=trials, field='max_depth')"
   ]
  },
  {
   "cell_type": "markdown",
   "metadata": {},
   "source": [
    "- The results are not so inspiring, probably we should take a larger space, but this is not feasible for computational resource\n",
    "- The only thing appears to be clear is that a good value for the learning_rate is 0.15"
   ]
  },
  {
   "cell_type": "code",
   "execution_count": null,
   "metadata": {},
   "outputs": [],
   "source": [
    "depth = [t['misc']['vals']['max_depth'] for t in trials.trials]\n",
    "trees = [t['misc']['vals']['n_estimators'] for t in trials.trials]\n",
    "learning_rates = [t['misc']['vals']['learning_rate'] for t in trials.trials]\n",
    "loss = [t['result']['loss'] for t in trials.trials] * 100"
   ]
  },
  {
   "cell_type": "code",
   "execution_count": null,
   "metadata": {},
   "outputs": [],
   "source": [
    "# We save the parameters\n",
    "best_parameters_hp = pd.DataFrame({'max_depth':depth, 'n_estimators':trees, \n",
    "                                   'learning_rate':learning_rates, 'loss':loss}).sort_values(by='loss', ascending= True)\n",
    "best_parameters_hp.to_csv('models/hyperparameters/best_parameters_hp', index=False)"
   ]
  },
  {
   "cell_type": "code",
   "execution_count": null,
   "metadata": {},
   "outputs": [],
   "source": [
    "best_parameters_hp = pd.read_csv('models/hyperparameters/best_parameters_hp')\n",
    "print(best_parameters_hp.iloc[0])"
   ]
  },
  {
   "cell_type": "code",
   "execution_count": 123,
   "metadata": {},
   "outputs": [],
   "source": [
    "parameters = {\n",
    "    'learning_rate':[0.15],\n",
    "    'n_estimators':[75, 70],\n",
    "    'max_depth':[19, 18, 17]\n",
    "    \n",
    "}"
   ]
  },
  {
   "cell_type": "code",
   "execution_count": 124,
   "metadata": {},
   "outputs": [
    {
     "name": "stdout",
     "output_type": "stream",
     "text": [
      "Current Time = 22:25:47\n"
     ]
    }
   ],
   "source": [
    "current_time()"
   ]
  },
  {
   "cell_type": "code",
   "execution_count": null,
   "metadata": {},
   "outputs": [],
   "source": [
    "xgb_hyperopt = regressor_gridCV(X_train_orig, y_train_orig, xgb.XGBRegressor(),\n",
    "                                       model_name = \"xgb_hyperopt\", params=parameters)"
   ]
  },
  {
   "cell_type": "code",
   "execution_count": 125,
   "metadata": {},
   "outputs": [
    {
     "name": "stdout",
     "output_type": "stream",
     "text": [
      "Current Time = 22:25:47\n"
     ]
    }
   ],
   "source": [
    "current_time()"
   ]
  },
  {
   "cell_type": "code",
   "execution_count": null,
   "metadata": {},
   "outputs": [],
   "source": [
    "filename = \"models/saved_models/xgb_hyperopt.sav\"\n",
    "pickle.dump(xgb_hyperopt, open(filename, 'wb'))"
   ]
  },
  {
   "cell_type": "code",
   "execution_count": 126,
   "metadata": {},
   "outputs": [],
   "source": [
    "filename = \"models/saved_models/tuned_models/xgb_hyperopt.sav\"\n",
    "xgb_hyperopt = pickle.load(open(filename, 'rb'))"
   ]
  },
  {
   "cell_type": "code",
   "execution_count": 127,
   "metadata": {},
   "outputs": [],
   "source": [
    "df_submission_second = df_submission.copy()\n",
    "df_submission_second.drop('item_cnt_month', axis=1, inplace=True)\n",
    "df_submission_second = df_submission_second[['item_id', 'shop_id', 'date_block_num', 'item_cnt_day_lag_1', \n",
    "                                             'item_cnt_day_lag_3', 'item_cnt_day_lag_7',\n",
    "                                             'item_cnt_day_lag_12']]"
   ]
  },
  {
   "cell_type": "code",
   "execution_count": 128,
   "metadata": {},
   "outputs": [],
   "source": [
    "predictions = xgb_hyperopt.predict(df_submission_second)"
   ]
  },
  {
   "cell_type": "code",
   "execution_count": 129,
   "metadata": {},
   "outputs": [],
   "source": [
    "df_submission_second = modifying_submission_format(df_submission=df_submission_second, predictions=predictions)[1]\n",
    "df_submission_second.to_csv('submissions/df_to_submit_second', index=False)"
   ]
  },
  {
   "cell_type": "code",
   "execution_count": 130,
   "metadata": {},
   "outputs": [
    {
     "name": "stdout",
     "output_type": "stream",
     "text": [
      "Current Time = 22:25:51\n"
     ]
    }
   ],
   "source": [
    "current_time()"
   ]
  },
  {
   "cell_type": "markdown",
   "metadata": {},
   "source": [
    "- Unfortunately we get a result of **RMSE 2.34264** when submitting the file\n",
    "- Our model improved on the training set but it obtained worse results on the test set. Probably it overfitted a bit and the result got worse\n",
    "- We could try to take a larger space with hyperopt, but this requires more computational power"
   ]
  },
  {
   "cell_type": "markdown",
   "metadata": {},
   "source": [
    "Let's do a last try using a manual hyperparameter tuning: we triple the number of estimators and we take de learning_rate and the max_depth parameters exactly as in our best model"
   ]
  },
  {
   "cell_type": "code",
   "execution_count": null,
   "metadata": {},
   "outputs": [],
   "source": [
    "current_time()\n",
    "\n",
    "parameters = {\n",
    "    'learning_rate':[0.3],\n",
    "    'n_estimators':[300],\n",
    "    'max_depth':[6]\n",
    "    \n",
    "}\n",
    "\n",
    "xgb_manual = regressor_gridCV(X_train_orig, y_train_orig, xgb.XGBRegressor(),\n",
    "                                       model_name = \"xgb_manual\", params=parameters)\n",
    "\n",
    "filename = \"models/saved_models/tuned_models/xgb_manual.sav\"\n",
    "pickle.dump(xgb_manual, open(filename, 'wb'))\n",
    "\n",
    "current_time()\n",
    "\n",
    "filename = \"models/saved_models/tuned_models/xgb_manual.sav\"\n",
    "xgb_manual = pickle.load(open(filename, 'rb'))\n",
    "\n",
    "df_submission_third = df_submission.copy()\n",
    "df_submission_third.drop('item_cnt_month', axis=1, inplace=True)\n",
    "df_submission_third = df_submission_third[['item_id', 'shop_id', 'date_block_num', 'item_cnt_day_lag_1', \n",
    "                                             'item_cnt_day_lag_3', 'item_cnt_day_lag_7',\n",
    "                                             'item_cnt_day_lag_12']]\n",
    "\n",
    "predictions = xgb_manual.predict(df_submission_third)\n",
    "\n",
    "df_submission_third = modifying_submission_format(df_submission=df_submission_third, predictions=predictions)[1]\n",
    "df_submission_third.to_csv('submissions/df_to_submit_third.csv', index=False)"
   ]
  },
  {
   "cell_type": "markdown",
   "metadata": {},
   "source": [
    "We obtain an RMSE of 2.14894"
   ]
  },
  {
   "cell_type": "code",
   "execution_count": 139,
   "metadata": {},
   "outputs": [
    {
     "name": "stdout",
     "output_type": "stream",
     "text": [
      "Current Time = 23:52:50\n"
     ]
    }
   ],
   "source": [
    "current_time()"
   ]
  },
  {
   "cell_type": "code",
   "execution_count": 140,
   "metadata": {},
   "outputs": [
    {
     "name": "stderr",
     "output_type": "stream",
     "text": [
      "/Users/alessandrobiagi/anaconda3/lib/python3.7/site-packages/sklearn/model_selection/_split.py:667: UserWarning: The least populated class in y has only 1 members, which is less than n_splits=5.\n",
      "  % (min_groups, self.n_splits)), UserWarning)\n"
     ]
    },
    {
     "name": "stdout",
     "output_type": "stream",
     "text": [
      "The best parameters of grid are:  {'learning_rate': 0.3, 'max_depth': 6, 'n_estimators': 400} \n",
      "The best estimator is:  XGBRegressor(base_score=0.5, booster=None, colsample_bylevel=1,\n",
      "             colsample_bynode=1, colsample_bytree=1, gamma=0, gpu_id=-1,\n",
      "             importance_type='gain', interaction_constraints=None,\n",
      "             learning_rate=0.3, max_delta_step=0, max_depth=6,\n",
      "             min_child_weight=1, missing=nan, monotone_constraints=None,\n",
      "             n_estimators=400, n_jobs=0, num_parallel_tree=1,\n",
      "             objective='reg:squarederror', random_state=0, reg_alpha=0,\n",
      "             reg_lambda=1, scale_pos_weight=1, subsample=1, tree_method=None,\n",
      "             validate_parameters=False, verbosity=None)\n"
     ]
    }
   ],
   "source": [
    "parameters = {\n",
    "    'learning_rate':[0.3],\n",
    "    'n_estimators':[400],\n",
    "    'max_depth':[6]\n",
    "    \n",
    "}\n",
    "\n",
    "xgb_manual_2 = regressor_gridCV(X_train_orig, y_train_orig, xgb.XGBRegressor(),\n",
    "                                       model_name = \"xgb_manual_2\", params=parameters)"
   ]
  },
  {
   "cell_type": "code",
   "execution_count": 141,
   "metadata": {},
   "outputs": [],
   "source": [
    "filename = \"models/saved_models/tuned_models/xgb_manual_2.sav\"\n",
    "pickle.dump(xgb_manual_2, open(filename, 'wb'))"
   ]
  },
  {
   "cell_type": "code",
   "execution_count": 142,
   "metadata": {},
   "outputs": [
    {
     "name": "stdout",
     "output_type": "stream",
     "text": [
      "Current Time = 00:24:48\n"
     ]
    }
   ],
   "source": [
    "current_time()"
   ]
  },
  {
   "cell_type": "code",
   "execution_count": 143,
   "metadata": {},
   "outputs": [],
   "source": [
    "filename = \"models/saved_models/tuned_models/xgb_manual_2.sav\"\n",
    "xgb_manual_2 = pickle.load(open(filename, 'rb'))\n",
    "\n",
    "df_submission_third = df_submission.copy()\n",
    "df_submission_third.drop('item_cnt_month', axis=1, inplace=True)\n",
    "df_submission_third = df_submission_third[['item_id', 'shop_id', 'date_block_num', 'item_cnt_day_lag_1', \n",
    "                                             'item_cnt_day_lag_3', 'item_cnt_day_lag_7',\n",
    "                                             'item_cnt_day_lag_12']]\n",
    "\n",
    "predictions = xgb_manual_2.predict(df_submission_third)\n",
    "\n",
    "df_submission_third = modifying_submission_format(df_submission=df_submission_third, predictions=predictions)[1]\n",
    "df_submission_third.to_csv('submissions/df_to_submit_forth.csv', index=False)"
   ]
  },
  {
   "cell_type": "code",
   "execution_count": null,
   "metadata": {},
   "outputs": [],
   "source": []
  }
 ],
 "metadata": {
  "kernelspec": {
   "display_name": "Python 3",
   "language": "python",
   "name": "python3"
  },
  "language_info": {
   "codemirror_mode": {
    "name": "ipython",
    "version": 3
   },
   "file_extension": ".py",
   "mimetype": "text/x-python",
   "name": "python",
   "nbconvert_exporter": "python",
   "pygments_lexer": "ipython3",
   "version": "3.7.3"
  }
 },
 "nbformat": 4,
 "nbformat_minor": 4
}
