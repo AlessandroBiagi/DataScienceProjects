{
 "cells": [
  {
   "cell_type": "markdown",
   "metadata": {},
   "source": [
    "# Dataset Hotel Booking Demand"
   ]
  },
  {
   "cell_type": "code",
   "execution_count": 1,
   "metadata": {},
   "outputs": [],
   "source": [
    "import numpy as np\n",
    "import pandas as pd\n",
    "import matplotlib.pyplot as plt\n",
    "import matplotlib \n",
    "import seaborn as sns\n",
    "pd.set_option('display.max_rows', 100)\n",
    "import os \n",
    "plt.rcParams.update({'figure.max_open_warning': 0})\n",
    "matplotlib.use('Agg')"
   ]
  },
  {
   "cell_type": "code",
   "execution_count": 4,
   "metadata": {},
   "outputs": [],
   "source": [
    "df = pd.read_csv('hotel_bookings.csv')"
   ]
  },
  {
   "cell_type": "code",
   "execution_count": 8,
   "metadata": {},
   "outputs": [
    {
     "name": "stdout",
     "output_type": "stream",
     "text": [
      "(119390, 32)\n"
     ]
    }
   ],
   "source": [
    "print(df.shape)\n",
    "#df.info()\n",
    "#df.head()\n",
    "#print(df.describe())"
   ]
  },
  {
   "cell_type": "code",
   "execution_count": 10,
   "metadata": {},
   "outputs": [],
   "source": [
    "prova =pd.DataFrame(df['agent'].value_counts())"
   ]
  },
  {
   "cell_type": "code",
   "execution_count": 52,
   "metadata": {},
   "outputs": [],
   "source": [
    "\n",
    "def values_counts_csv(df):\n",
    "    \"\"\" \n",
    "    Given a dataframe it returns a csv for every columns where for every different values there is the number \n",
    "    of observations\n",
    "    \"\"\"\n",
    "    assert isinstance(df, pd.DataFrame)\n",
    "    if not os.path.exists('value_counts_csv'):\n",
    "        os.makedirs('value_counts_csv')\n",
    "    path = \"./value_counts_csv\"\n",
    "    for col in df.columns:\n",
    "        df_new = pd.DataFrame(df[col].value_counts(dropna = False, ascending = False))\n",
    "        df_new['Percentage'] =  df_new.iloc[:,0]/sum( df_new.iloc[:,0])\n",
    "        df_new.reset_index(inplace = True)\n",
    "        df_new.rename(columns={ df_new.columns[1]: \"Count\" }, inplace = True)\n",
    "        df_new.rename(columns={ df_new.columns[0]: col }, inplace = True)\n",
    "        df_new.to_csv(path + \"/\" +col+ \".csv\", index = False)\n",
    "        \n",
    "        "
   ]
  },
  {
   "cell_type": "code",
   "execution_count": 70,
   "metadata": {},
   "outputs": [],
   "source": [
    "def count_nulls(df):\n",
    "    \"\"\" Function to get the null values of the dataframe\"\"\"\n",
    "    assert isinstance(df, pd.DataFrame)\n",
    "    if not os.path.exists('value_counts_csv/nulls'):\n",
    "        os.makedirs('value_counts_csv/nulls')\n",
    "    df_new = pd.DataFrame(df.isna().sum())\n",
    "    df_new[\"Percentage\"]=  df_new.iloc[:,0]/ df.shape[0]\n",
    "    df_new.reset_index(inplace = True)\n",
    "    df_new.rename(columns={ df_new.columns[0]: \"Column\" }, inplace = True)\n",
    "    df_new.rename(columns={ df_new.columns[1]: \"Count\" }, inplace = True)\n",
    "    df_new.to_csv('./value_counts_csv/nulls/nulls.csv', index = False)"
   ]
  },
  {
   "cell_type": "code",
   "execution_count": 2,
   "metadata": {},
   "outputs": [],
   "source": [
    "def distributions(df):\n",
    "    \"\"\" Function to get the distribution of the columns\"\"\"\n",
    "    assert isinstance(df, pd.DataFrame)\n",
    "    if not os.path.exists('plots/distribution'):\n",
    "        os.makedirs('plots/distribution')\n",
    "    for col in df.columns:\n",
    "        if df[col].dtype == np.object:\n",
    "            plt.figure(col)\n",
    "            plt.hist(df[col].dropna())\n",
    "            plt.savefig('plots/distribution/' + col)\n",
    "            plt.close(col)\n",
    "        else:\n",
    "            f, ax = plt.subplots(1,2, figsize=(20,10))\n",
    "            plt.sca(ax[0])\n",
    "            plt.hist(df[col].dropna())\n",
    "            plt.sca(ax[1])\n",
    "            df.boxplot(column=col)\n",
    "            f.savefig('plots/distribution/' + col)\n",
    "            plt.close(f)"
   ]
  },
  {
   "cell_type": "code",
   "execution_count": 5,
   "metadata": {},
   "outputs": [],
   "source": [
    "distributions(df)\n"
   ]
  }
 ],
 "metadata": {
  "kernelspec": {
   "display_name": "Python 3",
   "language": "python",
   "name": "python3"
  },
  "language_info": {
   "codemirror_mode": {
    "name": "ipython",
    "version": 3
   },
   "file_extension": ".py",
   "mimetype": "text/x-python",
   "name": "python",
   "nbconvert_exporter": "python",
   "pygments_lexer": "ipython3",
   "version": "3.7.4"
  }
 },
 "nbformat": 4,
 "nbformat_minor": 4
}
