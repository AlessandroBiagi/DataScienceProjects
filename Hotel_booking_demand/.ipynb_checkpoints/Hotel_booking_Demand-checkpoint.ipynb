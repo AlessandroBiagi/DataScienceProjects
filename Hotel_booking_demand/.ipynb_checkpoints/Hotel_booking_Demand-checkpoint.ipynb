{
 "cells": [
  {
   "cell_type": "markdown",
   "metadata": {},
   "source": [
    "# **Analysis Hotel Booking Demand**"
   ]
  },
  {
   "cell_type": "code",
   "execution_count": 1,
   "metadata": {},
   "outputs": [],
   "source": [
    "from custom_functions import *"
   ]
  },
  {
   "cell_type": "code",
   "execution_count": 2,
   "metadata": {},
   "outputs": [],
   "source": [
    "#pip install boruta"
   ]
  },
  {
   "cell_type": "code",
   "execution_count": 3,
   "metadata": {},
   "outputs": [],
   "source": [
    "from boruta import BorutaPy"
   ]
  },
  {
   "cell_type": "code",
   "execution_count": 4,
   "metadata": {},
   "outputs": [],
   "source": [
    "# conda install -c conda-forge xgboost\n",
    "# pip3 install xgboost"
   ]
  },
  {
   "cell_type": "code",
   "execution_count": 5,
   "metadata": {},
   "outputs": [],
   "source": [
    "df_original = pd.read_csv('hotel_bookings.csv')"
   ]
  },
  {
   "cell_type": "markdown",
   "metadata": {},
   "source": [
    "# Exploratory Data Analysis I (EDA I)"
   ]
  },
  {
   "cell_type": "code",
   "execution_count": 6,
   "metadata": {},
   "outputs": [],
   "source": [
    "value_counts_csv(df_original)\n",
    "count_nulls(df_original)\n",
    "hist_boxplot(df_original)"
   ]
  },
  {
   "cell_type": "code",
   "execution_count": 7,
   "metadata": {},
   "outputs": [
    {
     "data": {
      "text/plain": [
       "(119390, 32)"
      ]
     },
     "execution_count": 7,
     "metadata": {},
     "output_type": "execute_result"
    }
   ],
   "source": [
    "# Number of rows and columns\n",
    "df_original.shape"
   ]
  },
  {
   "cell_type": "code",
   "execution_count": 8,
   "metadata": {},
   "outputs": [],
   "source": [
    "def min_max(column):\n",
    "    upper = column.max()\n",
    "    lower = column.min()\n",
    "    y = (column - lower)/(upper-lower)\n",
    "    return y"
   ]
  },
  {
   "cell_type": "markdown",
   "metadata": {},
   "source": [
    "## - First Remarks and ideas for each column"
   ]
  },
  {
   "cell_type": "markdown",
   "metadata": {},
   "source": [
    "- <span style='color:Orange'> **hotel** </span>: 2 classes, 66% City Hotel, 33% Resort Hotel\n",
    "- <span style='color:Orange'> **is_canceled** </span> (target_label): 2 values, 0 (62%) or 1 (38%). It is quite unbalanced\n",
    "- <span style='color:Orange'> **lead_time** </span>: many values, grouping by new categories? Skewed distributions towards the 0 value\n",
    "- <span style='color:Orange'> **arrival_date_year** </span>: 3 years, 2015, 2016 and 2017\n",
    "- <span style='color:Orange'> **arrival_date_month** </span>: many arrivals in June and July, it makes sense\n",
    "- <span style='color:Orange'> **arrival_date_week_number** </span>: probably we can combine it with arrival_date_month. It has a quite normal distribution\n",
    "- <span style='color:Orange'> **arrival_date_day_of_month** </span>: considering we have week_number and month_number we can eliminate this label\n",
    "- <span style='color:Orange'> **stays_in_weekend_nights** </span>: skewed distribution towards 0, we could eliminate some big values\n",
    "- <span style='color:Orange'> **stays_in_week_nights** </span>: same thought of previous label\n",
    "- <span style='color:Orange'> **adults** </span>: 2 is 75% and 1 is 19%, there are some values with 0\n",
    "- <span style='color:Orange'> **children** </span>: 93% has 0 children, we can think of eliminate this label or consider to create only a binary class, 4 <span style='color:Yellow'> **null** </span> values\n",
    "- <span style='color:Orange'> **babies** </span>: 99% has 0 babies, same thought of children\n",
    "- <span style='color:Orange'> **meal** </span>: 3 relevant classes, BB 77%, HB 12% and SC 8%\n",
    "- <span style='color:Orange'> **country** </span>: 6 relevant classes, PRT 41%, GBR 10%, FRA 9%, ESP 7%, DEU 6%, ITA 3%, 0.4% of <span style='color:Yellow'> **null** </span> values\n",
    "- <span style='color:Orange'> **market_segment** </span>: 5 relevant classes, Online TA 47%, Offline TA/TO 20%, Groups 17%, Direct 10% and Corporate 4.4%\n",
    "- <span style='color:Orange'> **distribution_channel** </span>: 3 relevant classes TA/TO 82%, Direct 12% and Corporate 5%\n",
    "- <span style='color:Orange'> **is_repeated_guest** </span>: the clients are quite new, 0 is 97% and 1 is 3%\n",
    "- <span style='color:Orange'> **previous_cancellations** </span>: two relevant classes, 0 is about 95% and 1 is about 5%. We could transform this into a binary label\n",
    "- <span style='color:Orange'> **previous_bookings_not_canceled** </span>: it is not relevant since we have previous cancellations.\n",
    "- <span style='color:Orange'> **reserved_room_type** </span>: 4 relevant classes, A is 72%, D is 16%, E is 5%, F is 2.4 %\n",
    "- <span style='color:Orange'> **assigned_room_type** </span>: 3 relevant classes, A is 62%, B 21% and E 6%. It could be interesting to know when the customer knows the **assigned_room_type**. If they knew this online some time before, it could be a reason for cancellation\n",
    "- <span style='color:Orange'> **booking_changes** </span>: distribution is skewed towards 0, 3 relevant classes, 0 is 85%, 1 is 10% and 2 is 3%. More changes imply a high probable cancellation?\n",
    "- <span style='color:Orange'> **deposit_type** </span>: only 3 classes, No deposit 87%, Non Refund 12% and Refundable 1%. We could Merge Refundable with No deposit? Non refund implies no cancellation?\n",
    "- <span style='color:Orange'> **agent** </span>: too many values, it seems to be without important information, 13% <span style='color:Yellow'> **nulls** </span>. We can cancel this label\n",
    "- <span style='color:Orange'> **company** </span>: 94% of rows are <span style='color:Yellow'> **null** </span>\n",
    "- <span style='color:Orange'> **days_in_waiting_list** </span>: there are many values but 97% of rows is 0. Binary label?\n",
    "- <span style='color:Orange'> **customer_type** </span>: only 4 classes, Transient is 75%, Transient-Party 21%, Contract is about 3.5% and Group is about 0.5%\n",
    "- <span style='color:Orange'> **adr** </span>: there are some annoying outliers, we need to group the values somehow\n",
    "- <span style='color:Orange'> **required_car_parking_spaces** </span>: only two relevant classes, 0 is about 94% and 1 is about 6%. Trasnform it in a binary label\n",
    "- <span style='color:Orange'> **total_of_special_requests** </span>: only 3 relevant classes, 0 is 59%, 1 is 28% and 2 is 10%. Maybe we could group the information\n",
    "- <span style='color:Orange'> **reservation_status** </span>: this is a posteriori information, we should eliminate it\n",
    "- <span style='color:Orange'> **reservation_status_date** </span>: non-important information, eliminate this"
   ]
  },
  {
   "cell_type": "markdown",
   "metadata": {},
   "source": [
    "# Feature Engineering I"
   ]
  },
  {
   "cell_type": "markdown",
   "metadata": {},
   "source": [
    "### - Grouping, Treating outliers and null values"
   ]
  },
  {
   "cell_type": "code",
   "execution_count": 9,
   "metadata": {},
   "outputs": [
    {
     "data": {
      "text/html": [
       "<div>\n",
       "<style scoped>\n",
       "    .dataframe tbody tr th:only-of-type {\n",
       "        vertical-align: middle;\n",
       "    }\n",
       "\n",
       "    .dataframe tbody tr th {\n",
       "        vertical-align: top;\n",
       "    }\n",
       "\n",
       "    .dataframe thead th {\n",
       "        text-align: right;\n",
       "    }\n",
       "</style>\n",
       "<table border=\"1\" class=\"dataframe\">\n",
       "  <thead>\n",
       "    <tr style=\"text-align: right;\">\n",
       "      <th>distribution_channel</th>\n",
       "      <th>Corporate</th>\n",
       "      <th>Direct</th>\n",
       "      <th>GDS</th>\n",
       "      <th>TA/TO</th>\n",
       "      <th>Undefined</th>\n",
       "    </tr>\n",
       "    <tr>\n",
       "      <th>market_segment</th>\n",
       "      <th></th>\n",
       "      <th></th>\n",
       "      <th></th>\n",
       "      <th></th>\n",
       "      <th></th>\n",
       "    </tr>\n",
       "  </thead>\n",
       "  <tbody>\n",
       "    <tr>\n",
       "      <th>Aviation</th>\n",
       "      <td>227.0</td>\n",
       "      <td>NaN</td>\n",
       "      <td>NaN</td>\n",
       "      <td>10.0</td>\n",
       "      <td>NaN</td>\n",
       "    </tr>\n",
       "    <tr>\n",
       "      <th>Complementary</th>\n",
       "      <td>89.0</td>\n",
       "      <td>576.0</td>\n",
       "      <td>NaN</td>\n",
       "      <td>78.0</td>\n",
       "      <td>NaN</td>\n",
       "    </tr>\n",
       "    <tr>\n",
       "      <th>Corporate</th>\n",
       "      <td>4788.0</td>\n",
       "      <td>172.0</td>\n",
       "      <td>NaN</td>\n",
       "      <td>335.0</td>\n",
       "      <td>NaN</td>\n",
       "    </tr>\n",
       "    <tr>\n",
       "      <th>Direct</th>\n",
       "      <td>90.0</td>\n",
       "      <td>12276.0</td>\n",
       "      <td>1.0</td>\n",
       "      <td>237.0</td>\n",
       "      <td>2.0</td>\n",
       "    </tr>\n",
       "    <tr>\n",
       "      <th>Groups</th>\n",
       "      <td>1228.0</td>\n",
       "      <td>1472.0</td>\n",
       "      <td>NaN</td>\n",
       "      <td>17111.0</td>\n",
       "      <td>NaN</td>\n",
       "    </tr>\n",
       "    <tr>\n",
       "      <th>Offline TA/TO</th>\n",
       "      <td>212.0</td>\n",
       "      <td>16.0</td>\n",
       "      <td>45.0</td>\n",
       "      <td>23946.0</td>\n",
       "      <td>NaN</td>\n",
       "    </tr>\n",
       "    <tr>\n",
       "      <th>Online TA</th>\n",
       "      <td>43.0</td>\n",
       "      <td>133.0</td>\n",
       "      <td>147.0</td>\n",
       "      <td>56153.0</td>\n",
       "      <td>1.0</td>\n",
       "    </tr>\n",
       "    <tr>\n",
       "      <th>Undefined</th>\n",
       "      <td>NaN</td>\n",
       "      <td>NaN</td>\n",
       "      <td>NaN</td>\n",
       "      <td>NaN</td>\n",
       "      <td>2.0</td>\n",
       "    </tr>\n",
       "  </tbody>\n",
       "</table>\n",
       "</div>"
      ],
      "text/plain": [
       "distribution_channel  Corporate   Direct    GDS    TA/TO  Undefined\n",
       "market_segment                                                     \n",
       "Aviation                  227.0      NaN    NaN     10.0        NaN\n",
       "Complementary              89.0    576.0    NaN     78.0        NaN\n",
       "Corporate                4788.0    172.0    NaN    335.0        NaN\n",
       "Direct                     90.0  12276.0    1.0    237.0        2.0\n",
       "Groups                   1228.0   1472.0    NaN  17111.0        NaN\n",
       "Offline TA/TO             212.0     16.0   45.0  23946.0        NaN\n",
       "Online TA                  43.0    133.0  147.0  56153.0        1.0\n",
       "Undefined                   NaN      NaN    NaN      NaN        2.0"
      ]
     },
     "execution_count": 9,
     "metadata": {},
     "output_type": "execute_result"
    }
   ],
   "source": [
    "df = df_original.copy()\n",
    "\n",
    "# lead_time column\n",
    "df['lead_time'] = np.where(df['lead_time']>365, 365, df['lead_time'])\n",
    "\n",
    "# arrival_date_month\n",
    "df.drop('arrival_date_month', axis = 1, inplace = True)\n",
    "\n",
    "# arrival_date_week_number\n",
    "# Grouping considering first half of the month and second half\n",
    "df['arrival_date_week_number'] = (df['arrival_date_week_number']-1) // 2\n",
    "\n",
    "# arrival_date_day_of_month\n",
    "df.drop('arrival_date_day_of_month', axis = 1, inplace = True)\n",
    "\n",
    "# stays_in_weekend_nights\n",
    "df['stays_in_weekend_nights'] = np.where(df['stays_in_weekend_nights']>2, 3, df['stays_in_weekend_nights'])\n",
    "\n",
    "# stays_in_week_nights\n",
    "df['stays_in_week_nights'] = np.where(df['stays_in_week_nights']>5, 6, df['stays_in_week_nights'])\n",
    "\n",
    "# adults\n",
    "df['adults'] = np.where(df['adults']>3, 3, df['adults'])\n",
    "df['adults'].replace(0, df['adults'].median(), inplace = True)\n",
    "\n",
    "# children\n",
    "df['children'] = np.where(df['children']>0, 1, df['children'])\n",
    "df['children'].replace(np.nan, 0, inplace = True)\n",
    "\n",
    "# babies\n",
    "df.drop('babies', axis = 1, inplace = True)\n",
    "\n",
    "# meal\n",
    "# We merge Undefined with SC (no service)\n",
    "# and full breakfast with half breakfast\n",
    "df['meal'].replace({'Undefined': 'SC', 'FB':'HB'}, inplace = True)\n",
    "\n",
    "# country\n",
    "countries = pd.read_csv('value_counts_csv/country.csv')\n",
    "top_country = list(countries['country'].head(6))\n",
    "df['country'] = np.where(df['country'].isin(top_country), df['country'], 'Others')\n",
    "\n",
    "# market_segment and distribution_channel\n",
    "# Further EDA for studying the relation between \n",
    "# market_segment and distribution_channel, they seem similar\n",
    "df.groupby(['market_segment', 'distribution_channel']).size().unstack()"
   ]
  },
  {
   "cell_type": "markdown",
   "metadata": {},
   "source": [
    "- <span style='color:Orange'> **Market segment** </span> seems to be a specialization of <span style='color:Orange'> **distribution channel** </span>. We decide to keep the former and drop the latter"
   ]
  },
  {
   "cell_type": "code",
   "execution_count": 10,
   "metadata": {},
   "outputs": [],
   "source": [
    "df.drop('distribution_channel', axis = 1, inplace = True)\n",
    "\n",
    "market_segments = pd.read_csv('value_counts_csv/market_segment.csv')\n",
    "top_segments = list(market_segments['market_segment'].head(4))\n",
    "df['market_segment'] = np.where(df['market_segment'].isin(top_segments), df['market_segment'], 'Others')\n",
    "\n",
    "# previous_cancellations\n",
    "df['previous_cancellations'] = np.where(df['previous_cancellations']>1, 1, 0)\n",
    "\n",
    "# previous_bookings_not_canceled\n",
    "df.drop('previous_bookings_not_canceled', axis = 1, inplace = True)\n",
    "\n",
    "# reserved_room_type\n",
    "room_types = pd.read_csv('value_counts_csv/reserved_room_type.csv')\n",
    "top_room = list(room_types['reserved_room_type'].head(4))\n",
    "df['reserved_room_type'] = np.where(df['reserved_room_type'].isin(top_room), df['reserved_room_type'], 'Others')"
   ]
  },
  {
   "cell_type": "markdown",
   "metadata": {},
   "source": [
    "- We interpret the assigned_room_type label as assigned a posteriori. Therefore we decide to drop it"
   ]
  },
  {
   "cell_type": "code",
   "execution_count": 11,
   "metadata": {},
   "outputs": [],
   "source": [
    "# assigned_room_type\n",
    "df.drop('assigned_room_type', axis = 1, inplace = True)\n",
    "\n",
    "# booking_changes\n",
    "df['booking_changes'] = np.where(df['booking_changes']>2, 2, df['booking_changes'])\n",
    "\n",
    "# deposit_type\n",
    "df['deposit_type'].replace('Refundable', 'No Deposit', inplace = True)\n",
    "\n",
    "# agent\n",
    "df.drop('agent', axis = 1, inplace = True)\n",
    "\n",
    "# company\n",
    "df.drop('company', axis = 1, inplace = True)\n",
    "\n",
    "# days_in_waiting_list\n",
    "df['days_in_waiting_list'] = np.where(df['days_in_waiting_list']>0, 1, 0)"
   ]
  },
  {
   "cell_type": "markdown",
   "metadata": {},
   "source": [
    "- We are confused about the interpretation of the <font color='orange'>**adr**</font> label and we decide not to consider it. We are not sure if it includes some a posteriori information. We can come back to it in further phase if some new interpreation arises."
   ]
  },
  {
   "cell_type": "code",
   "execution_count": 12,
   "metadata": {},
   "outputs": [],
   "source": [
    "# required_car_parking_spaces\n",
    "df['required_car_parking_spaces'] = np.where(df['required_car_parking_spaces']>0, 1, 0)\n",
    "\n",
    "# total_of_special_requests\n",
    "df['total_of_special_requests'] = np.where(df['total_of_special_requests']>1, 2, df['total_of_special_requests'])\n",
    "\n",
    "# reservation_status and reservation_status_date\n",
    "df.drop(['reservation_status', 'reservation_status_date'], axis = 1, inplace = True)"
   ]
  },
  {
   "cell_type": "code",
   "execution_count": 13,
   "metadata": {},
   "outputs": [
    {
     "data": {
      "text/plain": [
       "(119390, 22)"
      ]
     },
     "execution_count": 13,
     "metadata": {},
     "output_type": "execute_result"
    }
   ],
   "source": [
    "# We check how many columns we have\n",
    "# after the droppings\n",
    "df.shape"
   ]
  },
  {
   "cell_type": "markdown",
   "metadata": {},
   "source": [
    "# EDA II"
   ]
  },
  {
   "cell_type": "markdown",
   "metadata": {},
   "source": [
    "### - Correlations and Associations Study"
   ]
  },
  {
   "cell_type": "raw",
   "metadata": {},
   "source": [
    "numerical vs numerical: Pearson and Spearman [-1,1]\n",
    "categorical vs numerical: eta correlation (anova test) [0,1]\n",
    "categorical vs categorical: cramer's v (chi-squared test) [0,1]\n",
    "check if our metrics are symmetric: correlation and cramer yes"
   ]
  },
  {
   "cell_type": "code",
   "execution_count": null,
   "metadata": {},
   "outputs": [],
   "source": [
    "from pandas.api.types import is_numeric_dtype, is_string_dtype\n",
    "from scipy.stats import chi2_contingency"
   ]
  },
  {
   "cell_type": "code",
   "execution_count": null,
   "metadata": {},
   "outputs": [],
   "source": [
    "from statsmodels.formula.api import ols\n",
    "from statsmodels.stats.anova import anova_lm"
   ]
  },
  {
   "cell_type": "code",
   "execution_count": null,
   "metadata": {},
   "outputs": [],
   "source": [
    "#anova_model = ols('lead_time ~ C(hotel)', df).fit()\n",
    "#anova_results = anova_lm(anova_model)\n",
    "#print(anova_results)"
   ]
  },
  {
   "cell_type": "code",
   "execution_count": null,
   "metadata": {},
   "outputs": [],
   "source": [
    "#name_col_2 = 'lead_time'\n",
    "#name_col_1 = 'hotel'"
   ]
  },
  {
   "cell_type": "code",
   "execution_count": null,
   "metadata": {},
   "outputs": [],
   "source": [
    "#anova_model = ols(name_col_2+str(' ~ C(')+str(name_col_1)+str(')'), df).fit()\n",
    "#anova_results = anova_lm(anova_model)\n",
    "#print(anova_results)"
   ]
  },
  {
   "cell_type": "code",
   "execution_count": null,
   "metadata": {},
   "outputs": [],
   "source": [
    "import numpy as np"
   ]
  },
  {
   "cell_type": "code",
   "execution_count": null,
   "metadata": {},
   "outputs": [],
   "source": [
    "def correlation_matrix(df, method_numeric='pearson'):\n",
    "    \n",
    "    \"\"\"\n",
    "    Comment here\n",
    "    \n",
    "    \"\"\"\n",
    "    l = df.shape[1]\n",
    "    matrix = np.zeros(shape=(l,l))\n",
    "    matrix_mask = np.zeros(shape=(l,l))\n",
    "\n",
    "    for j in range(l):\n",
    "        col_1 = df.iloc[:,j]\n",
    "        name_col_1 = df.columns[j]\n",
    "        \n",
    "        for i in range(j,l):\n",
    "            col_2 = df.iloc[:,i]\n",
    "            name_col_2 = df.columns[i]\n",
    "            \n",
    "            if is_numeric_dtype(col_1) and is_numeric_dtype(col_2):\n",
    "                correlation = col_1.corr(col_2)\n",
    "                matrix[j,i] = matrix[i,j] = correlation\n",
    "                matrix_mask[j,i] = matrix_mask[i,j] = 1\n",
    "                \n",
    "            elif is_string_dtype(col_1) and is_string_dtype(col_2):\n",
    "                frequency_table = pd.crosstab(col_1, col_2)\n",
    "                \n",
    "                chi2 = chi2_contingency(frequency_table)[0]\n",
    "                \n",
    "                total_frequencies = df.shape[0]\n",
    "                phi2 = chi2/total_frequencies\n",
    "                r, k = frequency_table.shape\n",
    "                cramer = np.sqrt(phi2/min((r-1),(k-1)))\n",
    "                matrix[i,j] = matrix[j,i] = cramer\n",
    "                matrix_mask[j,i] = matrix_mask[i,j] = 2\n",
    "             \n",
    "            elif is_string_dtype(col_1) and is_numeric_dtype(col_2):\n",
    "                anova_model = ols(name_col_2 + str(' ~ C(') + name_col_1 + str(')'), df).fit()\n",
    "                anova_results = anova_lm(anova_model)\n",
    "                eta2 = anova_results['sum_sq'][0]/(anova_results['sum_sq'][0]+anova_results['sum_sq'][1])\n",
    "                matrix[i,j] = matrix[j,i] = eta2\n",
    "                matrix_mask[j,i] = matrix_mask[i,j] = 3\n",
    "            \n",
    "            elif is_numeric_dtype(col_1) and is_string_dtype(col_2):\n",
    "                anova_model = ols(name_col_1 + str(' ~ C(') + name_col_2 + str(')'), df).fit()\n",
    "                anova_results = anova_lm(anova_model)\n",
    "                eta2 = anova_results['sum_sq'][0]/(anova_results['sum_sq'][0]+anova_results['sum_sq'][1])\n",
    "                matrix[i,j] = matrix[j,i] = eta2\n",
    "                matrix_mask[j,i] = matrix_mask[i,j] = 3\n",
    "            \n",
    "            else: \n",
    "                matrix[i,j] = matrix[j,i] = np.nan\n",
    "                \n",
    "                \n",
    "    return((matrix, matrix_mask))\n",
    "            \n",
    "        \n",
    "    "
   ]
  },
  {
   "cell_type": "code",
   "execution_count": null,
   "metadata": {},
   "outputs": [],
   "source": [
    "matrices = correlation_matrix(df)"
   ]
  },
  {
   "cell_type": "code",
   "execution_count": null,
   "metadata": {},
   "outputs": [],
   "source": [
    "matrix_corr = matrices[0]"
   ]
  },
  {
   "cell_type": "code",
   "execution_count": null,
   "metadata": {},
   "outputs": [],
   "source": [
    "matrix_mask = matrices[1]"
   ]
  },
  {
   "cell_type": "code",
   "execution_count": null,
   "metadata": {},
   "outputs": [],
   "source": [
    "matrix_corr = np.around(matrix_corr, 2)\n",
    "\n",
    "pd_matrix = pd.DataFrame(matrix_corr)\n",
    "pd_matrix.columns = df.columns\n",
    "pd_matrix.set_index(df.columns, inplace=True)\n",
    "\n",
    "from mpl_toolkits.axes_grid1.axes_divider import make_axes_locatable\n",
    "from mpl_toolkits.axes_grid1.colorbar import colorbar\n",
    "\n",
    "mask_num = np.where(matrix_mask == 1, False, True)\n",
    "mask_cat = np.where(matrix_mask == 2, False, True)\n",
    "mask_mixed = np.where(matrix_mask == 3, False, True)\n",
    "\n",
    "cm_blue = sns.light_palette(\"blue\", as_cmap=False)\n",
    "cm_red = sns.light_palette(\"red\", as_cmap=False)\n",
    "cm_grey = sns.diverging_palette(h_neg=1, h_pos=1, s=1, as_cmap=False)\n",
    "\n",
    "plt.figure(figsize = (18,6))\n",
    "plt.title('Correlation & Association Table')\n",
    "\n",
    "sns.heatmap(pd_matrix, annot=True, mask=mask_mixed, cmap=cm_blue, vmax=1, vmin=0, linewidths =.7, cbar_kws={'label': \"num vs categorical (Eta correlation)\"})\n",
    "sns.heatmap(pd_matrix, annot=True, mask=mask_cat, cmap=cm_red, vmax=1, vmin=0, linewidths =.7, cbar_kws={'label': \"categorical vs categorical (Cramer's V)\"})\n",
    "sns.heatmap(pd_matrix, annot=True, mask=mask_num, cmap=cm_grey, vmax=1, vmin=-1, linewidths =.7, cbar_kws={'label': \"num vs num (Pearson correlation)\"})"
   ]
  },
  {
   "cell_type": "markdown",
   "metadata": {},
   "source": [
    "- We do not see any high or interesting values in the table (we were especially interested in absolute values greater or equal than 0.75). Therefore, we do not delete any column in this step"
   ]
  },
  {
   "cell_type": "markdown",
   "metadata": {},
   "source": [
    "# Feature Selection"
   ]
  },
  {
   "cell_type": "code",
   "execution_count": 21,
   "metadata": {},
   "outputs": [
    {
     "data": {
      "text/plain": [
       "is_canceled                        0.233210\n",
       "lead_time                      10088.569539\n",
       "arrival_date_year                  0.501792\n",
       "arrival_date_week_number          46.378141\n",
       "stays_in_weekend_nights            0.820429\n",
       "stays_in_week_nights               2.333256\n",
       "adults                             0.225897\n",
       "children                           0.067257\n",
       "is_repeated_guest                  0.030973\n",
       "previous_cancellations             0.003630\n",
       "booking_changes                    0.248070\n",
       "days_in_waiting_list               0.029952\n",
       "adr                             2616.796773\n",
       "required_car_parking_spaces        0.058315\n",
       "total_of_special_requests          0.514533\n",
       "hotel_new                          0.004352\n",
       "meal_new                           0.000045\n",
       "country_new                        0.028043\n",
       "market_segment_new                 0.016667\n",
       "reserved_room_type_new             0.001230\n",
       "deposit_type_new                   0.054189\n",
       "customer_type_new                  0.004300\n",
       "dtype: float64"
      ]
     },
     "execution_count": 21,
     "metadata": {},
     "output_type": "execute_result"
    }
   ],
   "source": [
    "X_train_orig.var()"
   ]
  },
  {
   "cell_type": "code",
   "execution_count": 22,
   "metadata": {},
   "outputs": [],
   "source": [
    "#from sklearn.feature_selection import VarianceThreshold\n",
    "#X = [[0, 0, 1], [0, 1, 0], [1, 0, 0], [0, 1, 1], [0, 1, 0], [0, 1, 1]]\n",
    "#sel = VarianceThreshold(threshold=(.8 * (1 - .8)))\n",
    "#sel.fit_transform(X)"
   ]
  },
  {
   "cell_type": "code",
   "execution_count": 23,
   "metadata": {},
   "outputs": [
    {
     "name": "stdout",
     "output_type": "stream",
     "text": [
      "Fitting estimator with 21 features.\n",
      "Optimal number of features : 20\n"
     ]
    }
   ],
   "source": [
    "from sklearn.feature_selection import RFECV\n",
    "from sklearn.model_selection import StratifiedKFold\n",
    "import xgboost as xgb\n",
    "from sklearn.ensemble import RandomForestClassifier\n",
    "\n",
    "rfc_model = RandomForestClassifier()\n",
    "#xgb_model = xgb.XGBClassifier()\n",
    "\n",
    "z = X_train_orig.copy()\n",
    "y = z['is_canceled']\n",
    "X = z.drop('is_canceled', axis = 1)\n",
    "\n",
    "# step tells you how many feature to remove at every step\n",
    "# StratifiedKFold preserves the percentage of every class\n",
    "#n_jobs is for parallel processing, -1 means all\n",
    "rfecv = RFECV(estimator=rfc_model, step=1, cv=StratifiedKFold(2), \n",
    "              scoring='accuracy', n_jobs = -1, verbose = 1)\n",
    "\n",
    "rfecv.fit(X, y)\n",
    "\n",
    "print(\"Optimal number of features : %d\" % rfecv.n_features_)"
   ]
  },
  {
   "cell_type": "code",
   "execution_count": 24,
   "metadata": {},
   "outputs": [
    {
     "name": "stdout",
     "output_type": "stream",
     "text": [
      "Optimal number of features : 20\n",
      "Best features : Index(['lead_time', 'arrival_date_year', 'arrival_date_week_number',\n",
      "       'stays_in_weekend_nights', 'stays_in_week_nights', 'adults', 'children',\n",
      "       'is_repeated_guest', 'booking_changes', 'days_in_waiting_list', 'adr',\n",
      "       'required_car_parking_spaces', 'total_of_special_requests', 'hotel_new',\n",
      "       'meal_new', 'country_new', 'market_segment_new',\n",
      "       'reserved_room_type_new', 'deposit_type_new', 'customer_type_new'],\n",
      "      dtype='object')\n",
      "Original features : Index(['lead_time', 'arrival_date_year', 'arrival_date_week_number',\n",
      "       'stays_in_weekend_nights', 'stays_in_week_nights', 'adults', 'children',\n",
      "       'is_repeated_guest', 'previous_cancellations', 'booking_changes',\n",
      "       'days_in_waiting_list', 'adr', 'required_car_parking_spaces',\n",
      "       'total_of_special_requests', 'hotel_new', 'meal_new', 'country_new',\n",
      "       'market_segment_new', 'reserved_room_type_new', 'deposit_type_new',\n",
      "       'customer_type_new'],\n",
      "      dtype='object')\n"
     ]
    },
    {
     "data": {
      "image/png": "[encoded data removed]",
      "text/plain": [
       "<Figure size 432x288 with 1 Axes>"
      ]
     },
     "metadata": {
      "needs_background": "light"
     },
     "output_type": "display_data"
    }
   ],
   "source": [
    "print('Optimal number of features :', rfecv.n_features_)\n",
    "print('Best features :', X.columns[rfecv.support_])\n",
    "print('Original features :', X.columns)\n",
    "plt.figure()\n",
    "plt.xlabel(\"Number of features selected\")\n",
    "plt.ylabel(\"Cross validation score \\n of number of selected features\")\n",
    "plt.plot(range(1, len(rfecv.grid_scores_) + 1), rfecv.grid_scores_)\n",
    "plt.show()"
   ]
  },
  {
   "cell_type": "code",
   "execution_count": 25,
   "metadata": {},
   "outputs": [
    {
     "name": "stdout",
     "output_type": "stream",
     "text": [
      "[0.67163288 0.75151813 0.73249435 0.7718716  0.79303124 0.80016124\n",
      " 0.80736452 0.82073457 0.84087863 0.8419675  0.84282603 0.84357986\n",
      " 0.84794581 0.85163121 0.85465701 0.86022699 0.86083424 0.86017464\n",
      " 0.86039451 0.86092847 0.86052014] [1 1 1 1 1 1 1 1 2 1 1 1 1 1 1 1 1 1 1 1 1] Index(['lead_time', 'arrival_date_year', 'arrival_date_week_number',\n",
      "       'stays_in_weekend_nights', 'stays_in_week_nights', 'adults', 'children',\n",
      "       'is_repeated_guest', 'previous_cancellations', 'booking_changes',\n",
      "       'days_in_waiting_list', 'adr', 'required_car_parking_spaces',\n",
      "       'total_of_special_requests', 'hotel_new', 'meal_new', 'country_new',\n",
      "       'market_segment_new', 'reserved_room_type_new', 'deposit_type_new',\n",
      "       'customer_type_new'],\n",
      "      dtype='object')\n",
      "Empty DataFrame\n",
      "Columns: []\n",
      "Index: [1, 1, 1, 1, 1, 1, 1, 1, 2, 1, 1, 1, 1, 1, 1, 1, 1, 1, 1, 1, 1]\n"
     ]
    }
   ],
   "source": [
    "print(rfecv.grid_scores_, rfecv.ranking_, X.columns)\n",
    "importance = pd.DataFrame(index=rfecv.ranking_)\n",
    "print(importance)"
   ]
  },
  {
   "cell_type": "code",
   "execution_count": 26,
   "metadata": {},
   "outputs": [
    {
     "data": {
      "text/plain": [
       "array([0.15594913, 0.02782592, 0.06999432, 0.02742402, 0.04258296,\n",
       "       0.01568406, 0.00603101, 0.00288128, 0.02339389, 0.00225117,\n",
       "       0.09984409, 0.02548653, 0.05279772, 0.02281211, 0.02415206,\n",
       "       0.11885426, 0.07815425, 0.02816972, 0.13170891, 0.04400259])"
      ]
     },
     "execution_count": 26,
     "metadata": {},
     "output_type": "execute_result"
    }
   ],
   "source": [
    "rfecv.estimator_.feature_importances_"
   ]
  },
  {
   "cell_type": "code",
   "execution_count": 27,
   "metadata": {},
   "outputs": [
    {
     "name": "stdout",
     "output_type": "stream",
     "text": [
      "[0.67163288 0.75151813 0.73249435 0.7718716  0.79303124 0.80016124\n",
      " 0.80736452 0.82073457 0.84087863 0.8419675  0.84282603 0.84357986\n",
      " 0.84794581 0.85163121 0.85465701 0.86022699 0.86083424 0.86017464\n",
      " 0.86039451 0.86092847 0.86052014]\n",
      "[1 1 1 1 1 1 1 1 2 1 1 1 1 1 1 1 1 1 1 1 1]\n",
      "20\n",
      "Index(['lead_time', 'arrival_date_year', 'arrival_date_week_number',\n",
      "       'stays_in_weekend_nights', 'stays_in_week_nights', 'adults', 'children',\n",
      "       'is_repeated_guest', 'booking_changes', 'days_in_waiting_list', 'adr',\n",
      "       'required_car_parking_spaces', 'total_of_special_requests', 'hotel_new',\n",
      "       'meal_new', 'country_new', 'market_segment_new',\n",
      "       'reserved_room_type_new', 'deposit_type_new', 'customer_type_new'],\n",
      "      dtype='object')\n"
     ]
    },
    {
     "data": {
      "text/plain": [
       "array([0.15594913, 0.02782592, 0.06999432, 0.02742402, 0.04258296,\n",
       "       0.01568406, 0.00603101, 0.00288128, 0.02339389, 0.00225117,\n",
       "       0.09984409, 0.02548653, 0.05279772, 0.02281211, 0.02415206,\n",
       "       0.11885426, 0.07815425, 0.02816972, 0.13170891, 0.04400259])"
      ]
     },
     "execution_count": 27,
     "metadata": {},
     "output_type": "execute_result"
    }
   ],
   "source": [
    "print(rfecv.grid_scores_)\n",
    "print(rfecv.ranking_)\n",
    "print(rfecv.n_features_)\n",
    "print(X.columns[rfecv.support_])\n",
    "rfecv.estimator_.feature_importances_"
   ]
  },
  {
   "cell_type": "code",
   "execution_count": 28,
   "metadata": {},
   "outputs": [],
   "source": [
    "num_feature = rfecv.n_features_\n",
    "tab_general = pd.DataFrame ({ 'rank': rfecv.ranking_ , 'variables': X.columns.tolist()})\n",
    "tab_rank = tab_general.copy()\n",
    "tab_importances = tab_general.copy()\n",
    "\n",
    "tab_rank = pd.DataFrame(tab_general.groupby('rank')['variables'].apply(list))\n",
    "tab_rank['score']= rfecv.grid_scores_[num_feature-1 : len(rfecv.grid_scores_)]\n",
    "\n",
    "\n",
    "tab_importances = tab_importances[tab_importances['rank']==1].drop('rank', axis = 1)\n",
    "tab_importances['importances'] = rfecv.estimator_.feature_importances_\n",
    "tab_importances.sort_values(by = 'importances', ascending = False, inplace = True)\n",
    "tab_importances.reset_index(drop=True, inplace=True)\n",
    "\n",
    "#tab_rank['score'] = rfecv.grid_scores_[]\n",
    "#tab_rank = rfecv.grid_scores_[num_feature-1 : len(rfecv.grid_scores_)].tolist()\n",
    "        \n",
    "    "
   ]
  },
  {
   "cell_type": "code",
   "execution_count": null,
   "metadata": {},
   "outputs": [],
   "source": [
    "#def correlation_ratio(categories, measurements):\n",
    "        #fcat, _ = pd.factorize(categories)\n",
    "        #cat_num = np.max(fcat)+1\n",
    "        #y_avg_array = np.zeros(cat_num)\n",
    "        #n_array = np.zeros(cat_num)\n",
    "        \n",
    "        #for i in range(0,cat_num):\n",
    "            #cat_measures = measurements[np.argwhere(fcat == i).flatten()]\n",
    "            #n_array[i] = len(cat_measures)\n",
    "            #y_avg_array[i] = np.average(cat_measures)\n",
    "            \n",
    "        #y_total_avg = np.sum(np.multiply(y_avg_array,n_array))/np.sum(n_array)\n",
    "        #numerator = np.sum(np.multiply(n_array,np.power(np.subtract(y_avg_array,y_total_avg),2)))\n",
    "        #denominator = np.sum(np.power(np.subtract(measurements,y_total_avg),2))\n",
    "        \n",
    "        #if numerator == 0:\n",
    "            #eta = 0.0\n",
    "        #else:\n",
    "            #eta = numerator/denominator\n",
    "        #return eta"
   ]
  },
  {
   "cell_type": "code",
   "execution_count": null,
   "metadata": {},
   "outputs": [],
   "source": [
    "#def cramers_v(x, y):\n",
    "    #confusion_matrix = pd.crosstab(x,y)\n",
    "    #chi2 = ss.chi2_contingency(confusion_matrix)[0]\n",
    "    #n = confusion_matrix.sum().sum()\n",
    "    #phi2 = chi2/n\n",
    "    #r,k = confusion_matrix.shape\n",
    "    #phi2corr = max(0, phi2-((k-1)*(r-1))/(n-1))\n",
    "    #rcorr = r-((r-1)**2)/(n-1)\n",
    "    #kcorr = k-((k-1)**2)/(n-1)\n",
    "    #return np.sqrt(phi2corr/min((kcorr-1),(rcorr-1)))"
   ]
  },
  {
   "cell_type": "code",
   "execution_count": null,
   "metadata": {},
   "outputs": [],
   "source": []
  },
  {
   "cell_type": "code",
   "execution_count": null,
   "metadata": {},
   "outputs": [],
   "source": [
    "# load X and y\n",
    "# NOTE BorutaPy accepts numpy arrays only, hence the .values attribute\n",
    "#X = pd.read_csv('examples/test_X.csv', index_col=0).values\n",
    "#y = pd.read_csv('examples/test_y.csv', header=None, index_col=0).values\n",
    "#y = y.ravel()\n",
    "\n",
    "# define random forest classifier, with utilising all cores and\n",
    "# sampling in proportion to y labels\n",
    "#rf = RandomForestClassifier(n_jobs=-1, class_weight='balanced', max_depth=5)\n",
    "\n",
    "# define Boruta feature selection method\n",
    "#feat_selector = BorutaPy(rf, n_estimators='auto', verbose=2, random_state=1)\n",
    "\n",
    "# find all relevant features - 5 features should be selected\n",
    "#feat_selector.fit(X, y)\n",
    "\n",
    "# check selected features - first 5 features are selected\n",
    "#feat_selector.support_\n",
    "\n",
    "# check ranking of features\n",
    "#feat_selector.ranking_\n",
    "\n",
    "# call transform() on X to filter it down to selected features\n",
    "#X_filtered = feat_selector.transform(X)"
   ]
  },
  {
   "cell_type": "markdown",
   "metadata": {},
   "source": [
    "- It is evident from our tab_importances that deposit_type is the most relevant feature. It has the greatest importance score by far (0.50), while the second highest score is 0.069\n",
    "- At the same time the scores of the model does not change a lot while we eliminate the least relevant features. However, to avoid taking too much complexity in the model we decide to keep only the features suggested by RFECV"
   ]
  },
  {
   "cell_type": "code",
   "execution_count": 29,
   "metadata": {},
   "outputs": [],
   "source": [
    "tab_rank[tab_rank.index == 1]['variables']\n",
    "important_features_train = [x for x in tab_rank[tab_rank.index == 1]['variables']][0]\n",
    "X_train_orig = X_train_orig[[x for x in important_features_train]]\n",
    "#X_train_orig = X_train_orig[]\n",
    "\n",
    "important_features_test = [x.replace(\"_new\", \"\") for x in important_features_train]\n",
    "X_test_orig = X_test_orig[[x for x in important_features_test]]"
   ]
  },
  {
   "cell_type": "code",
   "execution_count": null,
   "metadata": {},
   "outputs": [],
   "source": []
  },
  {
   "cell_type": "markdown",
   "metadata": {},
   "source": [
    "### - Handling Categorical features"
   ]
  },
  {
   "cell_type": "markdown",
   "metadata": {},
   "source": [
    "- We are going to treat the 7 categorical features that we have: <span style='color:Orange'> **hotel** </span>, <span style='color:Orange'> **meal** </span>, <span style='color:Orange'> **country** </span>, <span style='color:Orange'> **market_segment** </span>, <span style='color:Orange'> **reserved_room_type** </span>, <span style='color:Orange'> **deposit_type** </span> and <span style='color:Orange'> **customer_type** </span> . For the moment we consider them as **ordinal categorical features**"
   ]
  },
  {
   "cell_type": "code",
   "execution_count": null,
   "metadata": {},
   "outputs": [],
   "source": [
    "#def cat_dummies(df):\n",
    "   # assert isinstance(df, pd.DataFrame)\n",
    "    \n",
    "    #cat_cols = df.columns[df.dtypes==object].tolist()\n",
    "    #df = pd.get_dummies(df, prefix = cat_cols, columns = cat_cols)\n",
    "    #return(df)\n",
    "\n",
    "#df = cat_dummies(df)\n",
    "#df = pd.get_dummies(df)\n",
    "\n",
    "# We check how many columns we have\n",
    "# after get_dummies\n",
    "#df.shape"
   ]
  },
  {
   "cell_type": "markdown",
   "metadata": {},
   "source": [
    "- We are in a binary classification: we can encode the categorical features using Mean encoding with CV loops for regularization"
   ]
  },
  {
   "cell_type": "code",
   "execution_count": null,
   "metadata": {},
   "outputs": [],
   "source": [
    "#y_tr = df_tr['target'].values #target variable\n",
    "#skf = StratifiedKFold(y_tr, 5, shuffle=True, random_state=123)\n",
    "\n",
    "#for tr_ind, val_ind in skf:\n",
    "    #X_tr, X_val = df_tr.iloc[tr_ind], df_tr.iloc[val_ind]\n",
    "    \n",
    "    #for col in cols: #iterate through the columns we want to encode\n",
    "        #means = X_val[col].map(X_tr.groupby(col).target.mean())\n",
    "        #X_val[col+'_mean_target'] = means\n",
    "    #train_new.iloc[val_ind] = X_val\n",
    "\n",
    "#prior = df_tr['target'].mean() #global_mean\n",
    "#train_new.fillna(prior, inplace=True) #fill NANs with global mean"
   ]
  },
  {
   "cell_type": "code",
   "execution_count": 15,
   "metadata": {},
   "outputs": [],
   "source": [
    "from sklearn.model_selection import train_test_split\n",
    "from sklearn.model_selection import StratifiedKFold\n",
    "\n",
    "cat_cols = df.columns[df.dtypes==object].tolist()\n",
    "\n",
    "X = df.copy()\n",
    "y = df['is_canceled'].values\n",
    "\n",
    "# Splitting into train and test\n",
    "# it returns dataframes with proper indices\n",
    "# observe that X_train_orig will contain a copy of y\n",
    "X_train_orig, X_test_orig, y_train_orig, y_test_orig = train_test_split(X, y, test_size=0.2, stratify=y, \n",
    "                                                    shuffle=True, random_state=345)"
   ]
  },
  {
   "cell_type": "code",
   "execution_count": 16,
   "metadata": {},
   "outputs": [
    {
     "name": "stdout",
     "output_type": "stream",
     "text": [
      "[    3     4     5 ... 95508 95509 95511] [    0     1     2 ... 95497 95502 95510]\n",
      "[    0     1     2 ... 95508 95509 95510] [   21    28    43 ... 95504 95507 95511]\n",
      "[    0     1     2 ... 95507 95510 95511] [    3     5    13 ... 95505 95508 95509]\n",
      "[    0     1     2 ... 95509 95510 95511] [    4     6     9 ... 95500 95501 95506]\n",
      "[    0     1     2 ... 95509 95510 95511] [    7     8    10 ... 95491 95493 95503]\n"
     ]
    }
   ],
   "source": [
    "pd.options.mode.chained_assignment = None # default='warn'\n",
    "\n",
    "cat_cols = df.columns[df.dtypes == object].tolist() # colums that I want to change\n",
    "global_train_mean = X_train_orig['is_canceled'].mean()\n",
    "\n",
    "skf = StratifiedKFold(n_splits = 5, shuffle = True, random_state = 123)\n",
    "\n",
    "for tr_ind, val_ind in skf.split(X_train_orig, y_train_orig):\n",
    "    print(tr_ind, val_ind)      #tr_ind and val_ind are positions/number of rows\n",
    "    X_tr, X_val = X_train_orig.iloc[tr_ind], X_train_orig.iloc[val_ind]\n",
    "   \n",
    "    for col in cat_cols:\n",
    "        means = X_val[col].map(X_tr.groupby(col)['is_canceled'].mean())\n",
    "        X_train_orig.loc[X_train_orig.index[val_ind], col+'_new'] = means        \n",
    "        "
   ]
  },
  {
   "cell_type": "code",
   "execution_count": 17,
   "metadata": {},
   "outputs": [],
   "source": [
    "for col in cat_cols:\n",
    "    X_train_orig[col+'_new'].fillna(global_train_mean, inplace = True)\n",
    "    X_test_orig[col] = X_test_orig[col].map(X_train_orig.groupby(col)[col+'_new'].mean())\n",
    "    X_test_orig[col].fillna(global_train_mean, inplace=True)"
   ]
  },
  {
   "cell_type": "code",
   "execution_count": 18,
   "metadata": {},
   "outputs": [],
   "source": [
    "X_train_orig.drop(cat_cols, axis = 1, inplace=True)"
   ]
  },
  {
   "cell_type": "code",
   "execution_count": 19,
   "metadata": {},
   "outputs": [
    {
     "data": {
      "text/plain": [
       "list"
      ]
     },
     "execution_count": 19,
     "metadata": {},
     "output_type": "execute_result"
    }
   ],
   "source": [
    "type(cat_cols)"
   ]
  },
  {
   "cell_type": "code",
   "execution_count": 20,
   "metadata": {},
   "outputs": [
    {
     "data": {
      "text/html": [
       "<div>\n",
       "<style scoped>\n",
       "    .dataframe tbody tr th:only-of-type {\n",
       "        vertical-align: middle;\n",
       "    }\n",
       "\n",
       "    .dataframe tbody tr th {\n",
       "        vertical-align: top;\n",
       "    }\n",
       "\n",
       "    .dataframe thead th {\n",
       "        text-align: right;\n",
       "    }\n",
       "</style>\n",
       "<table border=\"1\" class=\"dataframe\">\n",
       "  <thead>\n",
       "    <tr style=\"text-align: right;\">\n",
       "      <th></th>\n",
       "      <th>is_canceled</th>\n",
       "      <th>lead_time</th>\n",
       "      <th>arrival_date_year</th>\n",
       "      <th>arrival_date_week_number</th>\n",
       "      <th>stays_in_weekend_nights</th>\n",
       "      <th>stays_in_week_nights</th>\n",
       "      <th>adults</th>\n",
       "      <th>children</th>\n",
       "      <th>is_repeated_guest</th>\n",
       "      <th>previous_cancellations</th>\n",
       "      <th>...</th>\n",
       "      <th>adr</th>\n",
       "      <th>required_car_parking_spaces</th>\n",
       "      <th>total_of_special_requests</th>\n",
       "      <th>hotel_new</th>\n",
       "      <th>meal_new</th>\n",
       "      <th>country_new</th>\n",
       "      <th>market_segment_new</th>\n",
       "      <th>reserved_room_type_new</th>\n",
       "      <th>deposit_type_new</th>\n",
       "      <th>customer_type_new</th>\n",
       "    </tr>\n",
       "  </thead>\n",
       "  <tbody>\n",
       "    <tr>\n",
       "      <th>62485</th>\n",
       "      <td>1</td>\n",
       "      <td>38</td>\n",
       "      <td>2017</td>\n",
       "      <td>0</td>\n",
       "      <td>0</td>\n",
       "      <td>1</td>\n",
       "      <td>1</td>\n",
       "      <td>0.0</td>\n",
       "      <td>0</td>\n",
       "      <td>0</td>\n",
       "      <td>...</td>\n",
       "      <td>75.0</td>\n",
       "      <td>0</td>\n",
       "      <td>0</td>\n",
       "      <td>0.417524</td>\n",
       "      <td>0.374165</td>\n",
       "      <td>0.567757</td>\n",
       "      <td>0.181527</td>\n",
       "      <td>0.391599</td>\n",
       "      <td>0.993067</td>\n",
       "      <td>0.407412</td>\n",
       "    </tr>\n",
       "    <tr>\n",
       "      <th>37661</th>\n",
       "      <td>0</td>\n",
       "      <td>2</td>\n",
       "      <td>2017</td>\n",
       "      <td>12</td>\n",
       "      <td>0</td>\n",
       "      <td>1</td>\n",
       "      <td>2</td>\n",
       "      <td>0.0</td>\n",
       "      <td>0</td>\n",
       "      <td>0</td>\n",
       "      <td>...</td>\n",
       "      <td>126.0</td>\n",
       "      <td>0</td>\n",
       "      <td>0</td>\n",
       "      <td>0.277347</td>\n",
       "      <td>0.374165</td>\n",
       "      <td>0.567757</td>\n",
       "      <td>0.367190</td>\n",
       "      <td>0.391599</td>\n",
       "      <td>0.283334</td>\n",
       "      <td>0.407412</td>\n",
       "    </tr>\n",
       "    <tr>\n",
       "      <th>73484</th>\n",
       "      <td>1</td>\n",
       "      <td>0</td>\n",
       "      <td>2017</td>\n",
       "      <td>16</td>\n",
       "      <td>0</td>\n",
       "      <td>1</td>\n",
       "      <td>2</td>\n",
       "      <td>0.0</td>\n",
       "      <td>0</td>\n",
       "      <td>0</td>\n",
       "      <td>...</td>\n",
       "      <td>12.0</td>\n",
       "      <td>0</td>\n",
       "      <td>0</td>\n",
       "      <td>0.417524</td>\n",
       "      <td>0.374165</td>\n",
       "      <td>0.567757</td>\n",
       "      <td>0.155833</td>\n",
       "      <td>0.391599</td>\n",
       "      <td>0.283334</td>\n",
       "      <td>0.407412</td>\n",
       "    </tr>\n",
       "    <tr>\n",
       "      <th>18055</th>\n",
       "      <td>0</td>\n",
       "      <td>153</td>\n",
       "      <td>2015</td>\n",
       "      <td>21</td>\n",
       "      <td>0</td>\n",
       "      <td>3</td>\n",
       "      <td>2</td>\n",
       "      <td>0.0</td>\n",
       "      <td>0</td>\n",
       "      <td>0</td>\n",
       "      <td>...</td>\n",
       "      <td>42.0</td>\n",
       "      <td>1</td>\n",
       "      <td>0</td>\n",
       "      <td>0.278336</td>\n",
       "      <td>0.373717</td>\n",
       "      <td>0.568027</td>\n",
       "      <td>0.608356</td>\n",
       "      <td>0.391020</td>\n",
       "      <td>0.283994</td>\n",
       "      <td>0.407435</td>\n",
       "    </tr>\n",
       "    <tr>\n",
       "      <th>60914</th>\n",
       "      <td>1</td>\n",
       "      <td>50</td>\n",
       "      <td>2016</td>\n",
       "      <td>23</td>\n",
       "      <td>1</td>\n",
       "      <td>2</td>\n",
       "      <td>3</td>\n",
       "      <td>0.0</td>\n",
       "      <td>0</td>\n",
       "      <td>0</td>\n",
       "      <td>...</td>\n",
       "      <td>126.0</td>\n",
       "      <td>0</td>\n",
       "      <td>0</td>\n",
       "      <td>0.417800</td>\n",
       "      <td>0.374110</td>\n",
       "      <td>0.346589</td>\n",
       "      <td>0.367794</td>\n",
       "      <td>0.317436</td>\n",
       "      <td>0.283359</td>\n",
       "      <td>0.408034</td>\n",
       "    </tr>\n",
       "    <tr>\n",
       "      <th>...</th>\n",
       "      <td>...</td>\n",
       "      <td>...</td>\n",
       "      <td>...</td>\n",
       "      <td>...</td>\n",
       "      <td>...</td>\n",
       "      <td>...</td>\n",
       "      <td>...</td>\n",
       "      <td>...</td>\n",
       "      <td>...</td>\n",
       "      <td>...</td>\n",
       "      <td>...</td>\n",
       "      <td>...</td>\n",
       "      <td>...</td>\n",
       "      <td>...</td>\n",
       "      <td>...</td>\n",
       "      <td>...</td>\n",
       "      <td>...</td>\n",
       "      <td>...</td>\n",
       "      <td>...</td>\n",
       "      <td>...</td>\n",
       "      <td>...</td>\n",
       "    </tr>\n",
       "    <tr>\n",
       "      <th>38273</th>\n",
       "      <td>0</td>\n",
       "      <td>335</td>\n",
       "      <td>2017</td>\n",
       "      <td>13</td>\n",
       "      <td>2</td>\n",
       "      <td>6</td>\n",
       "      <td>2</td>\n",
       "      <td>0.0</td>\n",
       "      <td>0</td>\n",
       "      <td>0</td>\n",
       "      <td>...</td>\n",
       "      <td>154.5</td>\n",
       "      <td>0</td>\n",
       "      <td>0</td>\n",
       "      <td>0.278424</td>\n",
       "      <td>0.360398</td>\n",
       "      <td>0.198564</td>\n",
       "      <td>0.344185</td>\n",
       "      <td>0.317436</td>\n",
       "      <td>0.283148</td>\n",
       "      <td>0.308302</td>\n",
       "    </tr>\n",
       "    <tr>\n",
       "      <th>16644</th>\n",
       "      <td>0</td>\n",
       "      <td>154</td>\n",
       "      <td>2015</td>\n",
       "      <td>17</td>\n",
       "      <td>0</td>\n",
       "      <td>3</td>\n",
       "      <td>2</td>\n",
       "      <td>0.0</td>\n",
       "      <td>0</td>\n",
       "      <td>0</td>\n",
       "      <td>...</td>\n",
       "      <td>88.2</td>\n",
       "      <td>0</td>\n",
       "      <td>0</td>\n",
       "      <td>0.278336</td>\n",
       "      <td>0.373717</td>\n",
       "      <td>0.349388</td>\n",
       "      <td>0.182721</td>\n",
       "      <td>0.391020</td>\n",
       "      <td>0.283994</td>\n",
       "      <td>0.255220</td>\n",
       "    </tr>\n",
       "    <tr>\n",
       "      <th>86352</th>\n",
       "      <td>0</td>\n",
       "      <td>30</td>\n",
       "      <td>2016</td>\n",
       "      <td>6</td>\n",
       "      <td>0</td>\n",
       "      <td>2</td>\n",
       "      <td>2</td>\n",
       "      <td>0.0</td>\n",
       "      <td>0</td>\n",
       "      <td>0</td>\n",
       "      <td>...</td>\n",
       "      <td>85.5</td>\n",
       "      <td>0</td>\n",
       "      <td>0</td>\n",
       "      <td>0.416737</td>\n",
       "      <td>0.373717</td>\n",
       "      <td>0.266949</td>\n",
       "      <td>0.343596</td>\n",
       "      <td>0.391020</td>\n",
       "      <td>0.283994</td>\n",
       "      <td>0.407435</td>\n",
       "    </tr>\n",
       "    <tr>\n",
       "      <th>81251</th>\n",
       "      <td>0</td>\n",
       "      <td>47</td>\n",
       "      <td>2015</td>\n",
       "      <td>24</td>\n",
       "      <td>2</td>\n",
       "      <td>1</td>\n",
       "      <td>2</td>\n",
       "      <td>0.0</td>\n",
       "      <td>0</td>\n",
       "      <td>0</td>\n",
       "      <td>...</td>\n",
       "      <td>62.0</td>\n",
       "      <td>0</td>\n",
       "      <td>0</td>\n",
       "      <td>0.417524</td>\n",
       "      <td>0.374165</td>\n",
       "      <td>0.251084</td>\n",
       "      <td>0.610543</td>\n",
       "      <td>0.391599</td>\n",
       "      <td>0.283334</td>\n",
       "      <td>0.254085</td>\n",
       "    </tr>\n",
       "    <tr>\n",
       "      <th>90062</th>\n",
       "      <td>0</td>\n",
       "      <td>33</td>\n",
       "      <td>2016</td>\n",
       "      <td>11</td>\n",
       "      <td>2</td>\n",
       "      <td>1</td>\n",
       "      <td>2</td>\n",
       "      <td>0.0</td>\n",
       "      <td>0</td>\n",
       "      <td>0</td>\n",
       "      <td>...</td>\n",
       "      <td>85.5</td>\n",
       "      <td>0</td>\n",
       "      <td>0</td>\n",
       "      <td>0.417012</td>\n",
       "      <td>0.373893</td>\n",
       "      <td>0.569984</td>\n",
       "      <td>0.344185</td>\n",
       "      <td>0.390533</td>\n",
       "      <td>0.283148</td>\n",
       "      <td>0.406672</td>\n",
       "    </tr>\n",
       "  </tbody>\n",
       "</table>\n",
       "<p>95512 rows × 22 columns</p>\n",
       "</div>"
      ],
      "text/plain": [
       "       is_canceled  lead_time  arrival_date_year  arrival_date_week_number  \\\n",
       "62485            1         38               2017                         0   \n",
       "37661            0          2               2017                        12   \n",
       "73484            1          0               2017                        16   \n",
       "18055            0        153               2015                        21   \n",
       "60914            1         50               2016                        23   \n",
       "...            ...        ...                ...                       ...   \n",
       "38273            0        335               2017                        13   \n",
       "16644            0        154               2015                        17   \n",
       "86352            0         30               2016                         6   \n",
       "81251            0         47               2015                        24   \n",
       "90062            0         33               2016                        11   \n",
       "\n",
       "       stays_in_weekend_nights  stays_in_week_nights  adults  children  \\\n",
       "62485                        0                     1       1       0.0   \n",
       "37661                        0                     1       2       0.0   \n",
       "73484                        0                     1       2       0.0   \n",
       "18055                        0                     3       2       0.0   \n",
       "60914                        1                     2       3       0.0   \n",
       "...                        ...                   ...     ...       ...   \n",
       "38273                        2                     6       2       0.0   \n",
       "16644                        0                     3       2       0.0   \n",
       "86352                        0                     2       2       0.0   \n",
       "81251                        2                     1       2       0.0   \n",
       "90062                        2                     1       2       0.0   \n",
       "\n",
       "       is_repeated_guest  previous_cancellations  ...    adr  \\\n",
       "62485                  0                       0  ...   75.0   \n",
       "37661                  0                       0  ...  126.0   \n",
       "73484                  0                       0  ...   12.0   \n",
       "18055                  0                       0  ...   42.0   \n",
       "60914                  0                       0  ...  126.0   \n",
       "...                  ...                     ...  ...    ...   \n",
       "38273                  0                       0  ...  154.5   \n",
       "16644                  0                       0  ...   88.2   \n",
       "86352                  0                       0  ...   85.5   \n",
       "81251                  0                       0  ...   62.0   \n",
       "90062                  0                       0  ...   85.5   \n",
       "\n",
       "       required_car_parking_spaces  total_of_special_requests  hotel_new  \\\n",
       "62485                            0                          0   0.417524   \n",
       "37661                            0                          0   0.277347   \n",
       "73484                            0                          0   0.417524   \n",
       "18055                            1                          0   0.278336   \n",
       "60914                            0                          0   0.417800   \n",
       "...                            ...                        ...        ...   \n",
       "38273                            0                          0   0.278424   \n",
       "16644                            0                          0   0.278336   \n",
       "86352                            0                          0   0.416737   \n",
       "81251                            0                          0   0.417524   \n",
       "90062                            0                          0   0.417012   \n",
       "\n",
       "       meal_new  country_new  market_segment_new  reserved_room_type_new  \\\n",
       "62485  0.374165     0.567757            0.181527                0.391599   \n",
       "37661  0.374165     0.567757            0.367190                0.391599   \n",
       "73484  0.374165     0.567757            0.155833                0.391599   \n",
       "18055  0.373717     0.568027            0.608356                0.391020   \n",
       "60914  0.374110     0.346589            0.367794                0.317436   \n",
       "...         ...          ...                 ...                     ...   \n",
       "38273  0.360398     0.198564            0.344185                0.317436   \n",
       "16644  0.373717     0.349388            0.182721                0.391020   \n",
       "86352  0.373717     0.266949            0.343596                0.391020   \n",
       "81251  0.374165     0.251084            0.610543                0.391599   \n",
       "90062  0.373893     0.569984            0.344185                0.390533   \n",
       "\n",
       "       deposit_type_new  customer_type_new  \n",
       "62485          0.993067           0.407412  \n",
       "37661          0.283334           0.407412  \n",
       "73484          0.283334           0.407412  \n",
       "18055          0.283994           0.407435  \n",
       "60914          0.283359           0.408034  \n",
       "...                 ...                ...  \n",
       "38273          0.283148           0.308302  \n",
       "16644          0.283994           0.255220  \n",
       "86352          0.283994           0.407435  \n",
       "81251          0.283334           0.254085  \n",
       "90062          0.283148           0.406672  \n",
       "\n",
       "[95512 rows x 22 columns]"
      ]
     },
     "execution_count": 20,
     "metadata": {},
     "output_type": "execute_result"
    }
   ],
   "source": [
    "X_train_orig"
   ]
  },
  {
   "cell_type": "markdown",
   "metadata": {},
   "source": [
    "### - Feature scaling"
   ]
  },
  {
   "cell_type": "code",
   "execution_count": 33,
   "metadata": {},
   "outputs": [],
   "source": [
    "# min-max transformation\n",
    "# to mantain same distribution\n",
    "from sklearn.preprocessing import MinMaxScaler\n",
    "\n",
    "min_max = MinMaxScaler()\n",
    "X_train_scaled = X_train_orig.copy()\n",
    "X_test_scaled = X_test_orig.copy()\n",
    "\n",
    "X_train_scaled[X_train_scaled.columns] = min_max.fit_transform(X_train_orig[X_train_orig.columns])\n",
    "X_test_scaled[X_test_scaled.columns] = min_max.transform(X_test_orig[X_test_orig.columns])\n"
   ]
  },
  {
   "cell_type": "markdown",
   "metadata": {},
   "source": [
    "# MODELLING"
   ]
  },
  {
   "cell_type": "code",
   "execution_count": null,
   "metadata": {},
   "outputs": [],
   "source": [
    "#python setup.py install--user"
   ]
  },
  {
   "cell_type": "code",
   "execution_count": null,
   "metadata": {},
   "outputs": [],
   "source": [
    "#df_model = df.copy()\n",
    "#df_model = df_model.select_dtypes(exclude=['object'])\n",
    "#df_model = pd.get_dummies(df_model)"
   ]
  },
  {
   "cell_type": "code",
   "execution_count": null,
   "metadata": {},
   "outputs": [],
   "source": [
    "#df_model.shape\n",
    "#df.shape"
   ]
  },
  {
   "cell_type": "code",
   "execution_count": null,
   "metadata": {},
   "outputs": [],
   "source": [
    "#X = df_model.drop('is_canceled', axis = 1)\n",
    "#y = df_model['is_canceled']\n",
    "\n",
    "#X_train, X_test, Y_train, Y_test = train_test_split(X, y, test_size=0.2)"
   ]
  },
  {
   "cell_type": "code",
   "execution_count": null,
   "metadata": {},
   "outputs": [],
   "source": [
    "#y.value_counts()"
   ]
  },
  {
   "cell_type": "code",
   "execution_count": 43,
   "metadata": {},
   "outputs": [],
   "source": [
    "#Import libraries:\n",
    "import xgboost as xgb\n",
    "from sklearn.linear_model import LogisticRegression\n",
    "from sklearn.model_selection import train_test_split, GridSearchCV\n",
    "from sklearn.metrics import precision_score, recall_score, accuracy_score, roc_auc_score"
   ]
  },
  {
   "cell_type": "code",
   "execution_count": 44,
   "metadata": {},
   "outputs": [],
   "source": [
    "xgb_clf = xgb.XGBClassifier()\n",
    "logit = LogisticRegression(solver='liblinear')"
   ]
  },
  {
   "cell_type": "code",
   "execution_count": 45,
   "metadata": {},
   "outputs": [],
   "source": [
    "X_train_scaled.columns = X_train_scaled.columns.str.replace(\"_new\", \"\")"
   ]
  },
  {
   "cell_type": "code",
   "execution_count": 46,
   "metadata": {},
   "outputs": [
    {
     "name": "stdout",
     "output_type": "stream",
     "text": [
      "The best parameters of grid are:  {} \n",
      "The best estimator is:  XGBClassifier(base_score=0.5, booster=None, colsample_bylevel=1,\n",
      "              colsample_bynode=1, colsample_bytree=1, gamma=0, gpu_id=-1,\n",
      "              importance_type='gain', interaction_constraints=None,\n",
      "              learning_rate=0.300000012, max_delta_step=0, max_depth=6,\n",
      "              min_child_weight=1, missing=nan, monotone_constraints=None,\n",
      "              n_estimators=100, n_jobs=0, num_parallel_tree=1,\n",
      "              objective='binary:logistic', random_state=0, reg_alpha=0,\n",
      "              reg_lambda=1, scale_pos_weight=1, subsample=1, tree_method=None,\n",
      "              validate_parameters=False, verbosity=None)\n",
      "Precision = 0.8541553879868942\n",
      "Recall = 0.8437196035689638\n",
      "Accuracy = 0.8604992042884664\n"
     ]
    }
   ],
   "source": [
    "xg_model_default = classifier_gridCV(X_train_scaled, y_train_orig, xgb.XGBClassifier(), X_test_scaled, y_test_orig, cv=5, \n",
    "                  model_name = \"xg_boost\")"
   ]
  },
  {
   "cell_type": "code",
   "execution_count": null,
   "metadata": {},
   "outputs": [],
   "source": []
  },
  {
   "cell_type": "code",
   "execution_count": 47,
   "metadata": {},
   "outputs": [
    {
     "name": "stdout",
     "output_type": "stream",
     "text": [
      "The best parameters of grid are:  {} \n",
      "The best estimator is:  LogisticRegression(C=1.0, class_weight=None, dual=False, fit_intercept=True,\n",
      "                   intercept_scaling=1, l1_ratio=None, max_iter=100,\n",
      "                   multi_class='auto', n_jobs=None, penalty='l2',\n",
      "                   random_state=None, solver='liblinear', tol=0.0001, verbose=0,\n",
      "                   warm_start=False)\n",
      "Precision = 0.7904453540478279\n",
      "Recall = 0.7457350640349287\n",
      "Accuracy = 0.7887176480442248\n"
     ]
    }
   ],
   "source": [
    "logistic_model_default=classifier_gridCV(X_train_scaled, y_train_orig, logit, X_test_scaled, y_test_orig, cv=5, \n",
    "                  model_name = \"logistic_regression\")"
   ]
  },
  {
   "cell_type": "code",
   "execution_count": null,
   "metadata": {},
   "outputs": [],
   "source": []
  },
  {
   "cell_type": "code",
   "execution_count": 48,
   "metadata": {},
   "outputs": [],
   "source": [
    "#from sklearn.metrics import roc_curve\n",
    "#from yellowbrick.classifier import ClassBalance, ROCAUC, ClassificationReport, ClassPredictionError\n"
   ]
  },
  {
   "cell_type": "code",
   "execution_count": 49,
   "metadata": {},
   "outputs": [
    {
     "data": {
      "image/png": "[encoded data removed]",
      "text/plain": [
       "<Figure size 432x288 with 1 Axes>"
      ]
     },
     "metadata": {
      "needs_background": "light"
     },
     "output_type": "display_data"
    },
    {
     "name": "stdout",
     "output_type": "stream",
     "text": [
      "AUC: 0.5875739925771744\n"
     ]
    }
   ],
   "source": [
    "from sklearn import metrics\n",
    "import numpy as np\n",
    "import matplotlib.pyplot as plt\n",
    "\n",
    "y_pr = logistic_model_default.decision_function(X_test_orig)\n",
    "roc_auc_score(y_test_orig, y_pr)\n",
    "fpr, tpr, thresholds = metrics.roc_curve(y_test_orig, y_pr, pos_label=1)\n",
    "\n",
    "# Print ROC curve\n",
    "plt.plot(fpr,tpr)\n",
    "plt.show()\n",
    "\n",
    "# Print AUC\n",
    "auc = np.trapz(tpr,fpr)\n",
    "print('AUC:', auc)\n",
    "#skplt.metrics.plot_roc_curve(y_test, y_pr)\n",
    "#plt.show()"
   ]
  },
  {
   "cell_type": "code",
   "execution_count": 50,
   "metadata": {},
   "outputs": [
    {
     "data": {
      "image/png": "[encoded data removed]",
      "text/plain": [
       "<Figure size 432x288 with 1 Axes>"
      ]
     },
     "metadata": {
      "needs_background": "light"
     },
     "output_type": "display_data"
    },
    {
     "name": "stdout",
     "output_type": "stream",
     "text": [
      "AUC: 0.7626453496297217\n"
     ]
    }
   ],
   "source": [
    "from sklearn import metrics\n",
    "import numpy as np\n",
    "import matplotlib.pyplot as plt\n",
    "\n",
    "y_pr = xg_model_default.predict_proba(X_test_orig)[:,1]\n",
    "roc_auc_score(y_test_orig, y_pr)\n",
    "fpr, tpr, thresholds = metrics.roc_curve(y_test_orig, y_pr, pos_label=1)\n",
    "\n",
    "# Print ROC curve\n",
    "plt.plot(fpr,tpr)\n",
    "plt.show()\n",
    "\n",
    "# Print AUC\n",
    "auc = np.trapz(tpr,fpr)\n",
    "print('AUC:', auc)\n",
    "#skplt.metrics.plot_roc_curve(y_test, y_pr)\n",
    "#plt.show()"
   ]
  },
  {
   "cell_type": "code",
   "execution_count": 51,
   "metadata": {},
   "outputs": [
    {
     "data": {
      "text/plain": [
       "array([0, 1])"
      ]
     },
     "execution_count": 51,
     "metadata": {},
     "output_type": "execute_result"
    }
   ],
   "source": [
    "#order of the classes\n",
    "xg_model_default.classes_"
   ]
  },
  {
   "cell_type": "code",
   "execution_count": 52,
   "metadata": {},
   "outputs": [
    {
     "data": {
      "text/plain": [
       "[Text(0, 0.5, '0'), Text(0, 1.5, '1')]"
      ]
     },
     "execution_count": 52,
     "metadata": {},
     "output_type": "execute_result"
    },
    {
     "data": {
      "image/png": "[encoded data removed]",
      "text/plain": [
       "<Figure size 432x288 with 2 Axes>"
      ]
     },
     "metadata": {
      "needs_background": "light"
     },
     "output_type": "display_data"
    }
   ],
   "source": [
    "pred = logistic_model_default.predict(X_test_orig)\n",
    "cm=metrics.confusion_matrix(y_test_orig, pred)\n",
    "classes = logistic_model_default.classes_\n",
    "ax= plt.subplot()\n",
    "sns.heatmap(cm, annot=True, ax = ax, fmt='d'); #annot=True to annotate cells\n",
    "\n",
    "# labels, title and ticks\n",
    "ax.set_xlabel('Predicted labels');ax.set_ylabel('True labels'); \n",
    "ax.set_title('Confusion Matrix'); \n",
    "ax.xaxis.set_ticklabels(classes); ax.yaxis.set_ticklabels(classes)"
   ]
  },
  {
   "cell_type": "code",
   "execution_count": 53,
   "metadata": {},
   "outputs": [
    {
     "data": {
      "text/plain": [
       "[Text(0, 0.5, '0'), Text(0, 1.5, '1')]"
      ]
     },
     "execution_count": 53,
     "metadata": {},
     "output_type": "execute_result"
    },
    {
     "data": {
      "image/png": "[encoded data removed]",
      "text/plain": [
       "<Figure size 432x288 with 2 Axes>"
      ]
     },
     "metadata": {
      "needs_background": "light"
     },
     "output_type": "display_data"
    }
   ],
   "source": [
    "pred = xg_model_default.predict(X_test_orig)\n",
    "cm=metrics.confusion_matrix(y_test_orig, pred)\n",
    "classes = xg_model_default.classes_\n",
    "ax= plt.subplot()\n",
    "sns.heatmap(cm, annot=True, ax = ax, fmt='d'); #annot=True to annotate cells\n",
    "\n",
    "# labels, title and ticks\n",
    "ax.set_xlabel('Predicted labels');ax.set_ylabel('True labels'); \n",
    "ax.set_title('Confusion Matrix'); \n",
    "ax.xaxis.set_ticklabels(classes); ax.yaxis.set_ticklabels(classes)"
   ]
  },
  {
   "cell_type": "code",
   "execution_count": 54,
   "metadata": {},
   "outputs": [],
   "source": [
    "#pip install yellowbrick"
   ]
  },
  {
   "cell_type": "code",
   "execution_count": 55,
   "metadata": {},
   "outputs": [],
   "source": [
    "from sklearn.metrics import cohen_kappa_score"
   ]
  },
  {
   "cell_type": "code",
   "execution_count": 56,
   "metadata": {},
   "outputs": [],
   "source": [
    "pred = xg_model_default.predict(X_test_orig)\n",
    "cohen_score = cohen_kappa_score(y_test_orig, pred)"
   ]
  },
  {
   "cell_type": "code",
   "execution_count": 57,
   "metadata": {},
   "outputs": [
    {
     "data": {
      "text/plain": [
       "0.3575570213158791"
      ]
     },
     "execution_count": 57,
     "metadata": {},
     "output_type": "execute_result"
    }
   ],
   "source": [
    "cohen_score"
   ]
  },
  {
   "cell_type": "code",
   "execution_count": null,
   "metadata": {},
   "outputs": [],
   "source": [
    "#xgb_clf = xgb.XGBClassifier()\n",
    "\n",
    "#parameters = {\n",
    "    # \"eta\"    : [0.20, 0.30] ,\n",
    "     #\"max_depth\"        : [ 3, 6],\n",
    "     #\"gamma\"            : [ 0.1, 0.2]\n",
    "     #}\n",
    "\n",
    "#grid = GridSearchCV(xgb_clf,\n",
    "                    #parameters,\n",
    "                    #scoring=\"neg_log_loss\",\n",
    "                    #cv=3)\n",
    "\n",
    "#model = grid.fit(X_train, Y_train)\n",
    "#predictions = model.predict(X_test)\n",
    "\n",
    "#model.dump_model('dump.raw.txt')"
   ]
  },
  {
   "cell_type": "code",
   "execution_count": null,
   "metadata": {},
   "outputs": [],
   "source": [
    "#preds = model.predict(X_test)\n",
    "#print(preds)"
   ]
  },
  {
   "cell_type": "code",
   "execution_count": null,
   "metadata": {},
   "outputs": [],
   "source": [
    "#model.best_estimator_"
   ]
  },
  {
   "cell_type": "code",
   "execution_count": null,
   "metadata": {},
   "outputs": [],
   "source": [
    "#model.best_params_\n",
    "#model.best_estimator_\n",
    "#cvres = model.cv_results_\n",
    "\n",
    "#for mean_score, params in zip(cvres[\"mean_test_score\"], cvres[\"params\"]):\n",
    "    #print(mean_score, params)"
   ]
  },
  {
   "cell_type": "code",
   "execution_count": null,
   "metadata": {},
   "outputs": [],
   "source": [
    "#xgb_model = xgb.XGBClassifier()\n",
    "\n",
    "#brute force scan for all parameters, here are the tricks\n",
    "#usually max_depth is 6,7,8\n",
    "#learning rate is around 0.05, but small changes may make big diff\n",
    "#tuning min_child_weight subsample colsample_bytree can have \n",
    "#much fun of fighting against overfit \n",
    "#n_estimators is how many round of boosting\n",
    "#finally, ensemble xgboost with multiple seeds may reduce variance\n",
    "#parameters = {'nthread':[4], #when use hyperthread, xgboost may become slower\n",
    "              #'objective':['binary:logistic'],\n",
    "              #'learning_rate': [0.05], #so called `eta` value\n",
    "              #'max_depth': [6],\n",
    "              #'min_child_weight': [11],\n",
    "              #'silent': [1],\n",
    "              #'subsample': [0.8],\n",
    "              #'colsample_bytree': [0.7],\n",
    "              #'n_estimators': [5], #number of trees, change it to 1000 for better results\n",
    "              #'missing':[-999],\n",
    "              #'seed': [1337]}\n",
    "\n",
    "\n",
    "#clf = GridSearchCV(xgb_model, parameters, n_jobs=5, \n",
    "                   #cv=StratifiedKFold(train['QuoteConversion_Flag'], n_folds=5, shuffle=True), \n",
    "                   #scoring='roc_auc',\n",
    "                   #verbose=2, refit=True)\n",
    "\n",
    "#clf.fit(train[features], train[\"QuoteConversion_Flag\"])\n",
    "\n",
    "#trust your CV!\n",
    "#best_parameters, score, _ = max(clf.grid_scores_, key=lambda x: x[1])\n",
    "#print('Raw AUC score:', score)\n",
    "#for param_name in sorted(best_parameters.keys()):\n",
    "    #print(\"%s: %r\" % (param_name, best_parameters[param_name]))\n",
    "\n",
    "#test_probs = clf.predict_proba(test[features])[:,1]\n",
    "\n",
    "#sample = pd.read_csv('../input/sample_submission.csv')\n",
    "#sample.QuoteConversion_Flag = test_probs\n",
    "#sample.to_csv(\"xgboost_best_parameter_submission.csv\", index=False)"
   ]
  },
  {
   "cell_type": "code",
   "execution_count": null,
   "metadata": {},
   "outputs": [],
   "source": [
    "\n",
    "    "
   ]
  },
  {
   "cell_type": "code",
   "execution_count": null,
   "metadata": {},
   "outputs": [],
   "source": [
    "#classifier_gridCV(X_train, y_train, xgb.XGBClassifier(), X_test, Y_test, \n",
    "                  #model_name = \"xg_boost_2\")"
   ]
  },
  {
   "cell_type": "markdown",
   "metadata": {},
   "source": [
    "# Hyperparameters Tuning"
   ]
  },
  {
   "cell_type": "code",
   "execution_count": 30,
   "metadata": {},
   "outputs": [],
   "source": [
    "from hyperopt import fmin, tpe, hp, Trials"
   ]
  },
  {
   "cell_type": "code",
   "execution_count": null,
   "metadata": {},
   "outputs": [],
   "source": [
    "import hyperopt"
   ]
  },
  {
   "cell_type": "code",
   "execution_count": 42,
   "metadata": {},
   "outputs": [
    {
     "name": "stdout",
     "output_type": "stream",
     "text": [
      "0.8675349798640747                                    \n",
      "0.8559971780749178                                                               \n",
      "0.8672104470794146                                                               \n",
      "0.8690007746827476                                                               \n",
      "0.8578503712684455                                                               \n",
      "0.8633365581499337                                                              \n",
      "0.8695556914945536                                                              \n",
      "0.8676187582655988                                                               \n",
      "0.864216057622326                                                                \n",
      "0.8600280939581108                                                               \n",
      "0.8582691624280396                                                                \n",
      "0.8635250020042176                                                                \n",
      "0.851934871599334                                                                 \n",
      "0.8537566204879352                                                                \n",
      "0.8681317623088975                                                                \n",
      "100%|██████████| 15/15 [14:15<00:00, 57.06s/trial, best loss: 0.13044430850544642]\n"
     ]
    }
   ],
   "source": [
    "space = {\n",
    "    'max_depth': hp.uniform ('max_depth', 5, 20),\n",
    "    'learning_rate': hp.uniform('learning_rate', 0.01, 1),\n",
    "    'n_estimators': hp.uniform('n_estimators', 30, 75)\n",
    "    #'min_child_weight': hp.uniform('min_child_weight', 1, 5)\n",
    "}\n",
    "\n",
    "def objective(params):\n",
    "    params = {\n",
    "        'max_depth': [int(params['max_depth'])],\n",
    "        'learning_rate': [params['learning_rate']],\n",
    "        'n_estimators': [int(params['n_estimators'])]\n",
    "        #'min_child_weight': [params['min_child_weight']]\n",
    "    }\n",
    "    grid = GridSearchCV(xgb.XGBClassifier(), params, scoring= 'accuracy', cv= 5, n_jobs=-1)\n",
    "    model = grid.fit(X_train_scaled, y_train_orig)\n",
    "    mean_score = model.cv_results_[\"mean_test_score\"][0]\n",
    "    print(mean_score)\n",
    "    #print(type(mean_score))\n",
    "    loss = 1- mean_score\n",
    "    #print( params)\n",
    "    return loss\n",
    "\n",
    "trials = Trials()\n",
    "\n",
    "best_result = fmin(\n",
    "             fn = objective,\n",
    "             space = space,\n",
    "             trials = trials,\n",
    "             max_evals = 15,\n",
    "             rstate = np.random.RandomState(42),\n",
    "             algo = tpe.suggest)\n",
    "\n"
   ]
  },
  {
   "cell_type": "code",
   "execution_count": null,
   "metadata": {},
   "outputs": [],
   "source": [
    "space = {\n",
    "   'max_depth' : hp.uniform ('max_depth', 2, 10),\n",
    "   #'min_samples_leaf' : hp.uniform('min_samples_leaf', 2, 8,2),\n",
    "   'learning_rate' : hp.uniform('learning_rate', 0.01, 1 ),\n",
    "}\n",
    "\n",
    "def objective(params):\n",
    "    params2 = {\n",
    "       'max_depth' : [int(params['max_depth'])],\n",
    "        #'min_samples_leaf' : int(params['min_samples_leaf']),\n",
    "       'learning_rate' : [params['learning_rate']]\n",
    "    }\n",
    "    grid = GridSearchCV(xgb.XGBClassifier(), params2, scoring= 'accuracy', cv= 5)\n",
    "    model = grid.fit(X_train_scaled, y_train_orig)\n",
    "    mean_score = model.cv_results_[\"mean_test_score\"][0]\n",
    "    print(mean_score)\n",
    "    print(type(mean_score))\n",
    "    loss = 1- mean_score\n",
    "    print( params)\n",
    "    return loss\n",
    "\n",
    "trials = Trials()\n",
    "\n",
    "best_result = fmin(\n",
    "             fn = objective,\n",
    "             space = space,\n",
    "             trials = trials,\n",
    "             max_evals = 10,\n",
    "             rstate = np.random.RandomState(42),\n",
    "             algo = tpe.suggest)"
   ]
  },
  {
   "cell_type": "code",
   "execution_count": 58,
   "metadata": {},
   "outputs": [
    {
     "name": "stdout",
     "output_type": "stream",
     "text": [
      "{'learning_rate': [0.07836082746486815], 'max_depth': [17.489480484724396], 'n_estimators': [50.46154734996175]}\n",
      "{'learning_rate': [0.9335393188593554], 'max_depth': [15.915886147659874], 'n_estimators': [48.45467814839912]}\n",
      "{'learning_rate': [0.31037600878533317], 'max_depth': [18.24972916071293], 'n_estimators': [67.68247599989779]}\n",
      "{'learning_rate': [0.11381056696717652], 'max_depth': [18.780837825040653], 'n_estimators': [50.01746305355183]}\n",
      "{'learning_rate': [0.6020666067370066], 'max_depth': [7.57807342094841], 'n_estimators': [66.55781947608133]}\n",
      "{'learning_rate': [0.5313540347564154], 'max_depth': [11.570437796613849], 'n_estimators': [65.97990487232278]}\n",
      "{'learning_rate': [0.17197110685216474], 'max_depth': [19.090546064041575], 'n_estimators': [63.03126080935057]}\n",
      "{'learning_rate': [0.36543270260218985], 'max_depth': [16.630465682418233], 'n_estimators': [57.76857113260423]}\n",
      "{'learning_rate': [0.5015020365607494], 'max_depth': [18.800138396559746], 'n_estimators': [54.453138046064055]}\n",
      "{'learning_rate': [0.8729354091785827], 'max_depth': [15.509321669320489], 'n_estimators': [72.99650938394677]}\n",
      "{'learning_rate': [0.7438699169243469], 'max_depth': [17.26745029495627], 'n_estimators': [30.163363826463446]}\n",
      "{'learning_rate': [0.49164866038879346], 'max_depth': [10.37722283860046], 'n_estimators': [69.56111492391204]}\n",
      "{'learning_rate': [0.9606067099423882], 'max_depth': [9.608872458331092], 'n_estimators': [69.66652879348234]}\n",
      "{'learning_rate': [0.8516342181981227], 'max_depth': [5.197745534567807], 'n_estimators': [53.71994134859732]}\n",
      "{'learning_rate': [0.24560393144893894], 'max_depth': [18.814725925488656], 'n_estimators': [58.666531414085696]}\n"
     ]
    }
   ],
   "source": [
    "for t in trials.trials:\n",
    "    print(t['misc']['vals'])"
   ]
  },
  {
   "cell_type": "code",
   "execution_count": 59,
   "metadata": {},
   "outputs": [
    {
     "data": {
      "text/plain": [
       "<matplotlib.collections.PathCollection at 0x1a285a62b0>"
      ]
     },
     "execution_count": 59,
     "metadata": {},
     "output_type": "execute_result"
    },
    {
     "data": {
      "image/png": "[encoded data removed]",
      "text/plain": [
       "<Figure size 432x288 with 1 Axes>"
      ]
     },
     "metadata": {
      "needs_background": "light"
     },
     "output_type": "display_data"
    }
   ],
   "source": [
    "import matplotlib.pyplot as plt\n",
    "\n",
    "learning_rates = [t['misc']['vals']['learning_rate'] for t in trials.trials]\n",
    "loss = [t['result']['loss'] for t in trials.trials]\n",
    "plt.xlabel('Learning rate')\n",
    "plt.ylabel('Loss')\n",
    "plt.title('loss by learning_rate')\n",
    "\n",
    "plt.scatter(learning_rates, loss)"
   ]
  },
  {
   "cell_type": "code",
   "execution_count": 61,
   "metadata": {},
   "outputs": [
    {
     "name": "stdout",
     "output_type": "stream",
     "text": [
      "{'state': 2, 'tid': 0, 'spec': None, 'result': {'loss': 0.13246502013592532, 'status': 'ok'}, 'misc': {'tid': 0, 'cmd': ('domain_attachment', 'FMinIter_Domain'), 'workdir': None, 'idxs': {'learning_rate': [0], 'max_depth': [0], 'n_estimators': [0]}, 'vals': {'learning_rate': [0.07836082746486815], 'max_depth': [17.489480484724396], 'n_estimators': [50.46154734996175]}}, 'exp_key': None, 'owner': None, 'version': 0, 'book_time': datetime.datetime(2020, 4, 18, 16, 47, 57, 931000), 'refresh_time': datetime.datetime(2020, 4, 18, 16, 49, 2, 656000)}\n",
      "{'state': 2, 'tid': 1, 'spec': None, 'result': {'loss': 0.14400282192508218, 'status': 'ok'}, 'misc': {'tid': 1, 'cmd': ('domain_attachment', 'FMinIter_Domain'), 'workdir': None, 'idxs': {'learning_rate': [1], 'max_depth': [1], 'n_estimators': [1]}, 'vals': {'learning_rate': [0.9335393188593554], 'max_depth': [15.915886147659874], 'n_estimators': [48.45467814839912]}}, 'exp_key': None, 'owner': None, 'version': 0, 'book_time': datetime.datetime(2020, 4, 18, 16, 49, 2, 659000), 'refresh_time': datetime.datetime(2020, 4, 18, 16, 49, 54, 261000)}\n",
      "{'state': 2, 'tid': 2, 'spec': None, 'result': {'loss': 0.13278955292058536, 'status': 'ok'}, 'misc': {'tid': 2, 'cmd': ('domain_attachment', 'FMinIter_Domain'), 'workdir': None, 'idxs': {'learning_rate': [2], 'max_depth': [2], 'n_estimators': [2]}, 'vals': {'learning_rate': [0.31037600878533317], 'max_depth': [18.24972916071293], 'n_estimators': [67.68247599989779]}}, 'exp_key': None, 'owner': None, 'version': 0, 'book_time': datetime.datetime(2020, 4, 18, 16, 49, 54, 264000), 'refresh_time': datetime.datetime(2020, 4, 18, 16, 51, 20, 889000)}\n",
      "{'state': 2, 'tid': 3, 'spec': None, 'result': {'loss': 0.1309992253172524, 'status': 'ok'}, 'misc': {'tid': 3, 'cmd': ('domain_attachment', 'FMinIter_Domain'), 'workdir': None, 'idxs': {'learning_rate': [3], 'max_depth': [3], 'n_estimators': [3]}, 'vals': {'learning_rate': [0.11381056696717652], 'max_depth': [18.780837825040653], 'n_estimators': [50.01746305355183]}}, 'exp_key': None, 'owner': None, 'version': 0, 'book_time': datetime.datetime(2020, 4, 18, 16, 51, 20, 894000), 'refresh_time': datetime.datetime(2020, 4, 18, 16, 52, 27, 126000)}\n",
      "{'state': 2, 'tid': 4, 'spec': None, 'result': {'loss': 0.14214962873155446, 'status': 'ok'}, 'misc': {'tid': 4, 'cmd': ('domain_attachment', 'FMinIter_Domain'), 'workdir': None, 'idxs': {'learning_rate': [4], 'max_depth': [4], 'n_estimators': [4]}, 'vals': {'learning_rate': [0.6020666067370066], 'max_depth': [7.57807342094841], 'n_estimators': [66.55781947608133]}}, 'exp_key': None, 'owner': None, 'version': 0, 'book_time': datetime.datetime(2020, 4, 18, 16, 52, 27, 130000), 'refresh_time': datetime.datetime(2020, 4, 18, 16, 52, 56, 401000)}\n",
      "{'state': 2, 'tid': 5, 'spec': None, 'result': {'loss': 0.1366634418500663, 'status': 'ok'}, 'misc': {'tid': 5, 'cmd': ('domain_attachment', 'FMinIter_Domain'), 'workdir': None, 'idxs': {'learning_rate': [5], 'max_depth': [5], 'n_estimators': [5]}, 'vals': {'learning_rate': [0.5313540347564154], 'max_depth': [11.570437796613849], 'n_estimators': [65.97990487232278]}}, 'exp_key': None, 'owner': None, 'version': 0, 'book_time': datetime.datetime(2020, 4, 18, 16, 52, 56, 406000), 'refresh_time': datetime.datetime(2020, 4, 18, 16, 53, 44, 79000)}\n",
      "{'state': 2, 'tid': 6, 'spec': None, 'result': {'loss': 0.13044430850544642, 'status': 'ok'}, 'misc': {'tid': 6, 'cmd': ('domain_attachment', 'FMinIter_Domain'), 'workdir': None, 'idxs': {'learning_rate': [6], 'max_depth': [6], 'n_estimators': [6]}, 'vals': {'learning_rate': [0.17197110685216474], 'max_depth': [19.090546064041575], 'n_estimators': [63.03126080935057]}}, 'exp_key': None, 'owner': None, 'version': 0, 'book_time': datetime.datetime(2020, 4, 18, 16, 53, 44, 83000), 'refresh_time': datetime.datetime(2020, 4, 18, 16, 55, 11, 44000)}\n",
      "{'state': 2, 'tid': 7, 'spec': None, 'result': {'loss': 0.13238124173440124, 'status': 'ok'}, 'misc': {'tid': 7, 'cmd': ('domain_attachment', 'FMinIter_Domain'), 'workdir': None, 'idxs': {'learning_rate': [7], 'max_depth': [7], 'n_estimators': [7]}, 'vals': {'learning_rate': [0.36543270260218985], 'max_depth': [16.630465682418233], 'n_estimators': [57.76857113260423]}}, 'exp_key': None, 'owner': None, 'version': 0, 'book_time': datetime.datetime(2020, 4, 18, 16, 55, 11, 48000), 'refresh_time': datetime.datetime(2020, 4, 18, 16, 56, 15, 751000)}\n",
      "{'state': 2, 'tid': 8, 'spec': None, 'result': {'loss': 0.135783942377674, 'status': 'ok'}, 'misc': {'tid': 8, 'cmd': ('domain_attachment', 'FMinIter_Domain'), 'workdir': None, 'idxs': {'learning_rate': [8], 'max_depth': [8], 'n_estimators': [8]}, 'vals': {'learning_rate': [0.5015020365607494], 'max_depth': [18.800138396559746], 'n_estimators': [54.453138046064055]}}, 'exp_key': None, 'owner': None, 'version': 0, 'book_time': datetime.datetime(2020, 4, 18, 16, 56, 15, 754000), 'refresh_time': datetime.datetime(2020, 4, 18, 16, 57, 25, 9000)}\n",
      "{'state': 2, 'tid': 9, 'spec': None, 'result': {'loss': 0.13997190604188925, 'status': 'ok'}, 'misc': {'tid': 9, 'cmd': ('domain_attachment', 'FMinIter_Domain'), 'workdir': None, 'idxs': {'learning_rate': [9], 'max_depth': [9], 'n_estimators': [9]}, 'vals': {'learning_rate': [0.8729354091785827], 'max_depth': [15.509321669320489], 'n_estimators': [72.99650938394677]}}, 'exp_key': None, 'owner': None, 'version': 0, 'book_time': datetime.datetime(2020, 4, 18, 16, 57, 25, 12000), 'refresh_time': datetime.datetime(2020, 4, 18, 16, 58, 39, 536000)}\n",
      "{'state': 2, 'tid': 10, 'spec': None, 'result': {'loss': 0.14173083757196037, 'status': 'ok'}, 'misc': {'tid': 10, 'cmd': ('domain_attachment', 'FMinIter_Domain'), 'workdir': None, 'idxs': {'learning_rate': [10], 'max_depth': [10], 'n_estimators': [10]}, 'vals': {'learning_rate': [0.7438699169243469], 'max_depth': [17.26745029495627], 'n_estimators': [30.163363826463446]}}, 'exp_key': None, 'owner': None, 'version': 0, 'book_time': datetime.datetime(2020, 4, 18, 16, 58, 39, 540000), 'refresh_time': datetime.datetime(2020, 4, 18, 16, 59, 16, 305000)}\n",
      "{'state': 2, 'tid': 11, 'spec': None, 'result': {'loss': 0.13647499799578244, 'status': 'ok'}, 'misc': {'tid': 11, 'cmd': ('domain_attachment', 'FMinIter_Domain'), 'workdir': None, 'idxs': {'learning_rate': [11], 'max_depth': [11], 'n_estimators': [11]}, 'vals': {'learning_rate': [0.49164866038879346], 'max_depth': [10.37722283860046], 'n_estimators': [69.56111492391204]}}, 'exp_key': None, 'owner': None, 'version': 0, 'book_time': datetime.datetime(2020, 4, 18, 16, 59, 16, 307000), 'refresh_time': datetime.datetime(2020, 4, 18, 17, 0, 1, 571000)}\n",
      "{'state': 2, 'tid': 12, 'spec': None, 'result': {'loss': 0.148065128400666, 'status': 'ok'}, 'misc': {'tid': 12, 'cmd': ('domain_attachment', 'FMinIter_Domain'), 'workdir': None, 'idxs': {'learning_rate': [12], 'max_depth': [12], 'n_estimators': [12]}, 'vals': {'learning_rate': [0.9606067099423882], 'max_depth': [9.608872458331092], 'n_estimators': [69.66652879348234]}}, 'exp_key': None, 'owner': None, 'version': 0, 'book_time': datetime.datetime(2020, 4, 18, 17, 0, 1, 576000), 'refresh_time': datetime.datetime(2020, 4, 18, 17, 0, 42, 25000)}\n",
      "{'state': 2, 'tid': 13, 'spec': None, 'result': {'loss': 0.1462433795120648, 'status': 'ok'}, 'misc': {'tid': 13, 'cmd': ('domain_attachment', 'FMinIter_Domain'), 'workdir': None, 'idxs': {'learning_rate': [13], 'max_depth': [13], 'n_estimators': [13]}, 'vals': {'learning_rate': [0.8516342181981227], 'max_depth': [5.197745534567807], 'n_estimators': [53.71994134859732]}}, 'exp_key': None, 'owner': None, 'version': 0, 'book_time': datetime.datetime(2020, 4, 18, 17, 0, 42, 29000), 'refresh_time': datetime.datetime(2020, 4, 18, 17, 0, 58, 708000)}\n",
      "{'state': 2, 'tid': 14, 'spec': None, 'result': {'loss': 0.13186823769110245, 'status': 'ok'}, 'misc': {'tid': 14, 'cmd': ('domain_attachment', 'FMinIter_Domain'), 'workdir': None, 'idxs': {'learning_rate': [14], 'max_depth': [14], 'n_estimators': [14]}, 'vals': {'learning_rate': [0.24560393144893894], 'max_depth': [18.814725925488656], 'n_estimators': [58.666531414085696]}}, 'exp_key': None, 'owner': None, 'version': 0, 'book_time': datetime.datetime(2020, 4, 18, 17, 0, 58, 712000), 'refresh_time': datetime.datetime(2020, 4, 18, 17, 2, 13, 888000)}\n"
     ]
    }
   ],
   "source": [
    "for t in trials.trials:\n",
    "    print(t)"
   ]
  },
  {
   "cell_type": "code",
   "execution_count": 62,
   "metadata": {},
   "outputs": [
    {
     "data": {
      "text/plain": [
       "<matplotlib.collections.PathCollection at 0x1a271015c0>"
      ]
     },
     "execution_count": 62,
     "metadata": {},
     "output_type": "execute_result"
    },
    {
     "data": {
      "image/png": "[encoded data removed]",
      "text/plain": [
       "<Figure size 432x288 with 1 Axes>"
      ]
     },
     "metadata": {
      "needs_background": "light"
     },
     "output_type": "display_data"
    }
   ],
   "source": [
    "import matplotlib.pyplot as plt\n",
    "\n",
    "trees = [t['misc']['vals']['n_estimators'] for t in trials.trials]\n",
    "loss = [t['result']['loss'] for t in trials.trials]\n",
    "plt.xlabel('Trees')\n",
    "plt.ylabel('Loss')\n",
    "plt.title('loss by n. of trees')\n",
    "\n",
    "plt.scatter(trees, loss)"
   ]
  },
  {
   "cell_type": "code",
   "execution_count": null,
   "metadata": {},
   "outputs": [],
   "source": []
  }
 ],
 "metadata": {
  "kernelspec": {
   "display_name": "Python 3",
   "language": "python",
   "name": "python3"
  },
  "language_info": {
   "codemirror_mode": {
    "name": "ipython",
    "version": 3
   },
   "file_extension": ".py",
   "mimetype": "text/x-python",
   "name": "python",
   "nbconvert_exporter": "python",
   "pygments_lexer": "ipython3",
   "version": "3.7.3"
  }
 },
 "nbformat": 4,
 "nbformat_minor": 4
}
