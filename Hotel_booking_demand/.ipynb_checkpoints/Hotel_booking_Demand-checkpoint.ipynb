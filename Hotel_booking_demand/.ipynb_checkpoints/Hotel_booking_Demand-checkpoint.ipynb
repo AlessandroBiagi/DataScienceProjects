{
 "cells": [
  {
   "cell_type": "markdown",
   "metadata": {},
   "source": [
    "# **Analysis Hotel Booking Demand**"
   ]
  },
  {
   "cell_type": "markdown",
   "metadata": {},
   "source": [
    "### Importing libraries and dataset"
   ]
  },
  {
   "cell_type": "code",
   "execution_count": 1,
   "metadata": {},
   "outputs": [],
   "source": [
    "# We import some custom functions\n",
    "from custom_functions import *\n",
    "\n",
    "# We import classical libraries\n",
    "import xgboost as xgb\n",
    "from sklearn.ensemble import RandomForestClassifier\n",
    "from sklearn.linear_model import LogisticRegression\n",
    "from sklearn.feature_selection import RFECV\n",
    "from sklearn.model_selection import StratifiedKFold, train_test_split\n",
    "from sklearn.preprocessing import MinMaxScaler\n",
    "from sklearn.metrics import roc_auc_score, cohen_kappa_score\n",
    "from hyperopt import fmin, tpe, hp, Trials\n",
    "import pickle"
   ]
  },
  {
   "cell_type": "code",
   "execution_count": 2,
   "metadata": {},
   "outputs": [],
   "source": [
    "df_original = pd.read_csv('hotel_bookings.csv')"
   ]
  },
  {
   "cell_type": "markdown",
   "metadata": {},
   "source": [
    "# Exploratory Data Analysis I (EDA I)"
   ]
  },
  {
   "cell_type": "code",
   "execution_count": 3,
   "metadata": {},
   "outputs": [],
   "source": [
    "value_counts_csv(df_original)\n",
    "count_nulls(df_original)\n",
    "hist_boxplot(df_original)"
   ]
  },
  {
   "cell_type": "code",
   "execution_count": 4,
   "metadata": {},
   "outputs": [
    {
     "data": {
      "text/plain": [
       "(119390, 32)"
      ]
     },
     "execution_count": 4,
     "metadata": {},
     "output_type": "execute_result"
    }
   ],
   "source": [
    "# Number of rows and columns\n",
    "df_original.shape"
   ]
  },
  {
   "cell_type": "markdown",
   "metadata": {},
   "source": [
    "## - First Remarks and ideas for each column"
   ]
  },
  {
   "cell_type": "markdown",
   "metadata": {},
   "source": [
    "- <span style='color:Orange'> **hotel** </span>: 2 classes, 66% City Hotel, 33% Resort Hotel\n",
    "- <span style='color:Orange'> **is_canceled** </span> (target_label): 2 values, 0 (62%) or 1 (38%). It is quite unbalanced\n",
    "- <span style='color:Orange'> **lead_time** </span>: many values, grouping by new categories? Skewed distributions towards the 0 value\n",
    "- <span style='color:Orange'> **arrival_date_year** </span>: 3 years, 2015, 2016 and 2017\n",
    "- <span style='color:Orange'> **arrival_date_month** </span>: many arrivals in June and July, it makes sense\n",
    "- <span style='color:Orange'> **arrival_date_week_number** </span>: probably we can combine it with arrival_date_month. It has a quite normal distribution\n",
    "- <span style='color:Orange'> **arrival_date_day_of_month** </span>: considering we have week_number and month_number we can eliminate this label\n",
    "- <span style='color:Orange'> **stays_in_weekend_nights** </span>: skewed distribution towards 0, we could eliminate some big values\n",
    "- <span style='color:Orange'> **stays_in_week_nights** </span>: same thought of previous label\n",
    "- <span style='color:Orange'> **adults** </span>: 2 is 75% and 1 is 19%, there are some values with 0\n",
    "- <span style='color:Orange'> **children** </span>: 93% has 0 children, we can think of eliminate this label or consider to create only a binary class, 4 <span style='color:Yellow'> **null** </span> values\n",
    "- <span style='color:Orange'> **babies** </span>: 99% has 0 babies, same thought of children\n",
    "- <span style='color:Orange'> **meal** </span>: 3 relevant classes, BB 77%, HB 12% and SC 8%\n",
    "- <span style='color:Orange'> **country** </span>: 6 relevant classes, PRT 41%, GBR 10%, FRA 9%, ESP 7%, DEU 6%, ITA 3%, 0.4% of <span style='color:Yellow'> **null** </span> values\n",
    "- <span style='color:Orange'> **market_segment** </span>: 5 relevant classes, Online TA 47%, Offline TA/TO 20%, Groups 17%, Direct 10% and Corporate 4.4%\n",
    "- <span style='color:Orange'> **distribution_channel** </span>: 3 relevant classes TA/TO 82%, Direct 12% and Corporate 5%\n",
    "- <span style='color:Orange'> **is_repeated_guest** </span>: the clients are quite new, 0 is 97% and 1 is 3%\n",
    "- <span style='color:Orange'> **previous_cancellations** </span>: two relevant classes, 0 is about 95% and 1 is about 5%. We could transform this into a binary label\n",
    "- <span style='color:Orange'> **previous_bookings_not_canceled** </span>: it is not relevant since we have previous cancellations.\n",
    "- <span style='color:Orange'> **reserved_room_type** </span>: 4 relevant classes, A is 72%, D is 16%, E is 5%, F is 2.4 %\n",
    "- <span style='color:Orange'> **assigned_room_type** </span>: 3 relevant classes, A is 62%, B 21% and E 6%. It could be interesting to know when the customer knows the **assigned_room_type**. If they knew this online some time before, it could be a reason for cancellation\n",
    "- <span style='color:Orange'> **booking_changes** </span>: distribution is skewed towards 0, 3 relevant classes, 0 is 85%, 1 is 10% and 2 is 3%. More changes imply a high probable cancellation?\n",
    "- <span style='color:Orange'> **deposit_type** </span>: only 3 classes, No deposit 87%, Non Refund 12% and Refundable 1%. We could Merge Refundable with No deposit? Non refund implies no cancellation?\n",
    "- <span style='color:Orange'> **agent** </span>: too many values, it seems to be without important information, 13% <span style='color:Yellow'> **nulls** </span>. We can cancel this label\n",
    "- <span style='color:Orange'> **company** </span>: 94% of rows are <span style='color:Yellow'> **null** </span>\n",
    "- <span style='color:Orange'> **days_in_waiting_list** </span>: there are many values but 97% of rows is 0. Binary label?\n",
    "- <span style='color:Orange'> **customer_type** </span>: only 4 classes, Transient is 75%, Transient-Party 21%, Contract is about 3.5% and Group is about 0.5%\n",
    "- <span style='color:Orange'> **adr** </span>: there are some annoying outliers, we need to group the values somehow\n",
    "- <span style='color:Orange'> **required_car_parking_spaces** </span>: only two relevant classes, 0 is about 94% and 1 is about 6%. Trasnform it in a binary label\n",
    "- <span style='color:Orange'> **total_of_special_requests** </span>: only 3 relevant classes, 0 is 59%, 1 is 28% and 2 is 10%. Maybe we could group the information\n",
    "- <span style='color:Orange'> **reservation_status** </span>: this is a posteriori information, we should eliminate it\n",
    "- <span style='color:Orange'> **reservation_status_date** </span>: non-important information, eliminate this"
   ]
  },
  {
   "cell_type": "markdown",
   "metadata": {},
   "source": [
    "# Feature Engineering I"
   ]
  },
  {
   "cell_type": "markdown",
   "metadata": {},
   "source": [
    "### - Grouping, Treating outliers and null values"
   ]
  },
  {
   "cell_type": "code",
   "execution_count": 5,
   "metadata": {},
   "outputs": [
    {
     "data": {
      "text/html": [
       "<div>\n",
       "<style scoped>\n",
       "    .dataframe tbody tr th:only-of-type {\n",
       "        vertical-align: middle;\n",
       "    }\n",
       "\n",
       "    .dataframe tbody tr th {\n",
       "        vertical-align: top;\n",
       "    }\n",
       "\n",
       "    .dataframe thead th {\n",
       "        text-align: right;\n",
       "    }\n",
       "</style>\n",
       "<table border=\"1\" class=\"dataframe\">\n",
       "  <thead>\n",
       "    <tr style=\"text-align: right;\">\n",
       "      <th>distribution_channel</th>\n",
       "      <th>Corporate</th>\n",
       "      <th>Direct</th>\n",
       "      <th>GDS</th>\n",
       "      <th>TA/TO</th>\n",
       "      <th>Undefined</th>\n",
       "    </tr>\n",
       "    <tr>\n",
       "      <th>market_segment</th>\n",
       "      <th></th>\n",
       "      <th></th>\n",
       "      <th></th>\n",
       "      <th></th>\n",
       "      <th></th>\n",
       "    </tr>\n",
       "  </thead>\n",
       "  <tbody>\n",
       "    <tr>\n",
       "      <th>Aviation</th>\n",
       "      <td>227.0</td>\n",
       "      <td>NaN</td>\n",
       "      <td>NaN</td>\n",
       "      <td>10.0</td>\n",
       "      <td>NaN</td>\n",
       "    </tr>\n",
       "    <tr>\n",
       "      <th>Complementary</th>\n",
       "      <td>89.0</td>\n",
       "      <td>576.0</td>\n",
       "      <td>NaN</td>\n",
       "      <td>78.0</td>\n",
       "      <td>NaN</td>\n",
       "    </tr>\n",
       "    <tr>\n",
       "      <th>Corporate</th>\n",
       "      <td>4788.0</td>\n",
       "      <td>172.0</td>\n",
       "      <td>NaN</td>\n",
       "      <td>335.0</td>\n",
       "      <td>NaN</td>\n",
       "    </tr>\n",
       "    <tr>\n",
       "      <th>Direct</th>\n",
       "      <td>90.0</td>\n",
       "      <td>12276.0</td>\n",
       "      <td>1.0</td>\n",
       "      <td>237.0</td>\n",
       "      <td>2.0</td>\n",
       "    </tr>\n",
       "    <tr>\n",
       "      <th>Groups</th>\n",
       "      <td>1228.0</td>\n",
       "      <td>1472.0</td>\n",
       "      <td>NaN</td>\n",
       "      <td>17111.0</td>\n",
       "      <td>NaN</td>\n",
       "    </tr>\n",
       "    <tr>\n",
       "      <th>Offline TA/TO</th>\n",
       "      <td>212.0</td>\n",
       "      <td>16.0</td>\n",
       "      <td>45.0</td>\n",
       "      <td>23946.0</td>\n",
       "      <td>NaN</td>\n",
       "    </tr>\n",
       "    <tr>\n",
       "      <th>Online TA</th>\n",
       "      <td>43.0</td>\n",
       "      <td>133.0</td>\n",
       "      <td>147.0</td>\n",
       "      <td>56153.0</td>\n",
       "      <td>1.0</td>\n",
       "    </tr>\n",
       "    <tr>\n",
       "      <th>Undefined</th>\n",
       "      <td>NaN</td>\n",
       "      <td>NaN</td>\n",
       "      <td>NaN</td>\n",
       "      <td>NaN</td>\n",
       "      <td>2.0</td>\n",
       "    </tr>\n",
       "  </tbody>\n",
       "</table>\n",
       "</div>"
      ],
      "text/plain": [
       "distribution_channel  Corporate   Direct    GDS    TA/TO  Undefined\n",
       "market_segment                                                     \n",
       "Aviation                  227.0      NaN    NaN     10.0        NaN\n",
       "Complementary              89.0    576.0    NaN     78.0        NaN\n",
       "Corporate                4788.0    172.0    NaN    335.0        NaN\n",
       "Direct                     90.0  12276.0    1.0    237.0        2.0\n",
       "Groups                   1228.0   1472.0    NaN  17111.0        NaN\n",
       "Offline TA/TO             212.0     16.0   45.0  23946.0        NaN\n",
       "Online TA                  43.0    133.0  147.0  56153.0        1.0\n",
       "Undefined                   NaN      NaN    NaN      NaN        2.0"
      ]
     },
     "execution_count": 5,
     "metadata": {},
     "output_type": "execute_result"
    }
   ],
   "source": [
    "df = df_original.copy()\n",
    "\n",
    "# lead_time column\n",
    "df['lead_time'] = np.where(df['lead_time']>365, 365, df['lead_time'])\n",
    "\n",
    "# arrival_date_month\n",
    "df.drop('arrival_date_month', axis = 1, inplace = True)\n",
    "\n",
    "# arrival_date_week_number\n",
    "# Grouping considering first half of the month and second half\n",
    "df['arrival_date_week_number'] = (df['arrival_date_week_number']-1) // 2\n",
    "\n",
    "# arrival_date_day_of_month\n",
    "df.drop('arrival_date_day_of_month', axis = 1, inplace = True)\n",
    "\n",
    "# stays_in_weekend_nights\n",
    "df['stays_in_weekend_nights'] = np.where(df['stays_in_weekend_nights']>2, 3, df['stays_in_weekend_nights'])\n",
    "\n",
    "# stays_in_week_nights\n",
    "df['stays_in_week_nights'] = np.where(df['stays_in_week_nights']>5, 6, df['stays_in_week_nights'])\n",
    "\n",
    "# adults\n",
    "df['adults'] = np.where(df['adults']>3, 3, df['adults'])\n",
    "df['adults'].replace(0, df['adults'].median(), inplace = True)\n",
    "\n",
    "# children\n",
    "df['children'] = np.where(df['children']>0, 1, df['children'])\n",
    "df['children'].replace(np.nan, 0, inplace = True)\n",
    "\n",
    "# babies\n",
    "df.drop('babies', axis = 1, inplace = True)\n",
    "\n",
    "# meal\n",
    "# We merge Undefined with SC (no service)\n",
    "# and full breakfast with half breakfast\n",
    "df['meal'].replace({'Undefined': 'SC', 'FB':'HB'}, inplace = True)\n",
    "\n",
    "# country\n",
    "countries = pd.read_csv('value_counts_csv/country.csv')\n",
    "top_country = list(countries['country'].head(6))\n",
    "df['country'] = np.where(df['country'].isin(top_country), df['country'], 'Others')\n",
    "\n",
    "# market_segment and distribution_channel\n",
    "# Further EDA for studying the relation between \n",
    "# market_segment and distribution_channel, they seem similar\n",
    "df.groupby(['market_segment', 'distribution_channel']).size().unstack()"
   ]
  },
  {
   "cell_type": "markdown",
   "metadata": {},
   "source": [
    "- <span style='color:Orange'> **Market segment** </span> seems to be a specialization of <span style='color:Orange'> **distribution channel** </span>. We decide to keep the former and drop the latter"
   ]
  },
  {
   "cell_type": "code",
   "execution_count": 6,
   "metadata": {},
   "outputs": [],
   "source": [
    "df.drop('distribution_channel', axis = 1, inplace = True)\n",
    "\n",
    "market_segments = pd.read_csv('value_counts_csv/market_segment.csv')\n",
    "top_segments = list(market_segments['market_segment'].head(4))\n",
    "df['market_segment'] = np.where(df['market_segment'].isin(top_segments), df['market_segment'], 'Others')\n",
    "\n",
    "# previous_cancellations\n",
    "df['previous_cancellations'] = np.where(df['previous_cancellations']>1, 1, 0)\n",
    "\n",
    "# previous_bookings_not_canceled\n",
    "df.drop('previous_bookings_not_canceled', axis = 1, inplace = True)\n",
    "\n",
    "# reserved_room_type\n",
    "room_types = pd.read_csv('value_counts_csv/reserved_room_type.csv')\n",
    "top_room = list(room_types['reserved_room_type'].head(4))\n",
    "df['reserved_room_type'] = np.where(df['reserved_room_type'].isin(top_room), df['reserved_room_type'], 'Others')"
   ]
  },
  {
   "cell_type": "markdown",
   "metadata": {},
   "source": [
    "- We interpret the assigned_room_type label as assigned a posteriori. Therefore we decide to drop it"
   ]
  },
  {
   "cell_type": "code",
   "execution_count": 7,
   "metadata": {},
   "outputs": [],
   "source": [
    "# assigned_room_type\n",
    "df.drop('assigned_room_type', axis = 1, inplace = True)\n",
    "\n",
    "# booking_changes\n",
    "df['booking_changes'] = np.where(df['booking_changes']>2, 2, df['booking_changes'])\n",
    "\n",
    "# deposit_type\n",
    "df['deposit_type'].replace('Refundable', 'No Deposit', inplace = True)\n",
    "\n",
    "# agent\n",
    "df.drop('agent', axis = 1, inplace = True)\n",
    "\n",
    "# company\n",
    "df.drop('company', axis = 1, inplace = True)\n",
    "\n",
    "# days_in_waiting_list\n",
    "df['days_in_waiting_list'] = np.where(df['days_in_waiting_list']>0, 1, 0)"
   ]
  },
  {
   "cell_type": "markdown",
   "metadata": {},
   "source": [
    "- We are confused about the interpretation of the <font color='orange'>**adr**</font> label and we decide not to consider it. We are not sure if it includes some a posteriori information. We can come back to it in further phase if some new interpreation arises."
   ]
  },
  {
   "cell_type": "code",
   "execution_count": 8,
   "metadata": {},
   "outputs": [],
   "source": [
    "# required_car_parking_spaces\n",
    "df['required_car_parking_spaces'] = np.where(df['required_car_parking_spaces']>0, 1, 0)\n",
    "\n",
    "# total_of_special_requests\n",
    "df['total_of_special_requests'] = np.where(df['total_of_special_requests']>1, 2, df['total_of_special_requests'])\n",
    "\n",
    "# reservation_status and reservation_status_date\n",
    "df.drop(['reservation_status', 'reservation_status_date'], axis = 1, inplace = True)"
   ]
  },
  {
   "cell_type": "code",
   "execution_count": 9,
   "metadata": {},
   "outputs": [
    {
     "data": {
      "text/plain": [
       "(119390, 22)"
      ]
     },
     "execution_count": 9,
     "metadata": {},
     "output_type": "execute_result"
    }
   ],
   "source": [
    "# We check how many columns we have\n",
    "# after the droppings\n",
    "df.shape"
   ]
  },
  {
   "cell_type": "markdown",
   "metadata": {},
   "source": [
    "# EDA II"
   ]
  },
  {
   "cell_type": "markdown",
   "metadata": {},
   "source": [
    "### - Correlations and Associations Study"
   ]
  },
  {
   "cell_type": "markdown",
   "metadata": {},
   "source": [
    "In total, we have three types of correlations and associations to consider:\n",
    " - numerical vs numerical: we use the Pearson correlation (range [-1,1])\n",
    " - categorical vs numerical: we use the Eta correlation (it is related to the Anova test, its range is [0,1])\n",
    " - categorical vs categorical: we use the Cramer's V association (related to the chi-squared test, its range is [0,1])"
   ]
  },
  {
   "cell_type": "code",
   "execution_count": 10,
   "metadata": {},
   "outputs": [],
   "source": [
    "matrices = correlation_matrix(df)\n",
    "matrix_corr = matrices[0]\n",
    "matrix_mask = matrices[1]"
   ]
  },
  {
   "cell_type": "code",
   "execution_count": 11,
   "metadata": {},
   "outputs": [
    {
     "data": {
      "text/plain": [
       "<matplotlib.axes._subplots.AxesSubplot at 0x1a2a29fd68>"
      ]
     },
     "execution_count": 11,
     "metadata": {},
     "output_type": "execute_result"
    },
    {
     "data": {
      "image/png": "[encoded data removed]",
      "text/plain": [
       "<Figure size 1296x432 with 4 Axes>"
      ]
     },
     "metadata": {
      "needs_background": "light"
     },
     "output_type": "display_data"
    }
   ],
   "source": [
    "matrix_corr = np.around(matrix_corr, 2)\n",
    "\n",
    "pd_matrix = pd.DataFrame(matrix_corr)\n",
    "pd_matrix.columns = df.columns\n",
    "pd_matrix.set_index(df.columns, inplace=True)\n",
    "\n",
    "mask_num = np.where(matrix_mask == 1, False, True)\n",
    "mask_cat = np.where(matrix_mask == 2, False, True)\n",
    "mask_mixed = np.where(matrix_mask == 3, False, True)\n",
    "\n",
    "cm_blue = sns.light_palette(\"blue\", as_cmap=False)\n",
    "cm_red = sns.light_palette(\"red\", as_cmap=False)\n",
    "cm_grey = sns.diverging_palette(h_neg=1, h_pos=1, s=1, as_cmap=False)\n",
    "\n",
    "plt.figure(figsize = (18,6))\n",
    "plt.title('Correlation & Association Table')\n",
    "\n",
    "sns.heatmap(pd_matrix, annot=True, mask=mask_mixed, cmap=cm_blue, vmax=1, vmin=0, linewidths =.7, cbar_kws={'label': \"num vs categorical (Eta correlation)\"})\n",
    "sns.heatmap(pd_matrix, annot=True, mask=mask_cat, cmap=cm_red, vmax=1, vmin=0, linewidths =.7, cbar_kws={'label': \"categorical vs categorical (Cramer's V)\"})\n",
    "sns.heatmap(pd_matrix, annot=True, mask=mask_num, cmap=cm_grey, vmax=1, vmin=-1, linewidths =.7, cbar_kws={'label': \"num vs num (Pearson correlation)\"})"
   ]
  },
  {
   "cell_type": "markdown",
   "metadata": {},
   "source": [
    "- We do not see any high or interesting values in the table (we were especially interested in absolute values greater or equal than 0.75). Therefore, we do not delete any column in this step"
   ]
  },
  {
   "cell_type": "markdown",
   "metadata": {},
   "source": [
    "### - Handling Categorical features: Mean Encoding"
   ]
  },
  {
   "cell_type": "markdown",
   "metadata": {},
   "source": [
    "- We are going to treat the 7 categorical features that we have: <span style='color:Orange'> **hotel** </span>, <span style='color:Orange'> **meal** </span>, <span style='color:Orange'> **country** </span>, <span style='color:Orange'> **market_segment** </span>, <span style='color:Orange'> **reserved_room_type** </span>, <span style='color:Orange'> **deposit_type** </span> and <span style='color:Orange'> **customer_type** </span> . For the moment we consider them as **ordinal categorical features**"
   ]
  },
  {
   "cell_type": "markdown",
   "metadata": {},
   "source": [
    "- We are in a binary classification: we can encode the categorical features using **mean encoding with CV loops for regularization**"
   ]
  },
  {
   "cell_type": "code",
   "execution_count": 12,
   "metadata": {},
   "outputs": [],
   "source": [
    "cat_cols = df.columns[df.dtypes==object].tolist()\n",
    "\n",
    "X = df.copy()\n",
    "y = df['is_canceled'].values\n",
    "\n",
    "# Splitting into train and test\n",
    "# It returns dataframes with proper indices\n",
    "# Observe that X_train_orig will contain a copy of y\n",
    "X_train_orig, X_test_orig, y_train_orig, y_test_orig = train_test_split(X, y, test_size=0.2, stratify=y, \n",
    "                                                    shuffle=True, random_state=345)"
   ]
  },
  {
   "cell_type": "code",
   "execution_count": 13,
   "metadata": {},
   "outputs": [
    {
     "name": "stdout",
     "output_type": "stream",
     "text": [
      "[    3     4     5 ... 95508 95509 95511] [    0     1     2 ... 95497 95502 95510]\n",
      "[    0     1     2 ... 95508 95509 95510] [   21    28    43 ... 95504 95507 95511]\n",
      "[    0     1     2 ... 95507 95510 95511] [    3     5    13 ... 95505 95508 95509]\n",
      "[    0     1     2 ... 95509 95510 95511] [    4     6     9 ... 95500 95501 95506]\n",
      "[    0     1     2 ... 95509 95510 95511] [    7     8    10 ... 95491 95493 95503]\n"
     ]
    }
   ],
   "source": [
    "# Just to avoid an annoying warning\n",
    "pd.options.mode.chained_assignment = None \n",
    "\n",
    "cat_cols = df.columns[df.dtypes == object].tolist() #colums that we want to encode\n",
    "global_train_mean = X_train_orig['is_canceled'].mean()\n",
    "\n",
    "skf = StratifiedKFold(n_splits = 5, shuffle = True, random_state = 123)\n",
    "\n",
    "for tr_ind, val_ind in skf.split(X_train_orig, y_train_orig):\n",
    "    print(tr_ind, val_ind)      #tr_ind and val_ind are the positions of the rows\n",
    "    X_tr, X_val = X_train_orig.iloc[tr_ind], X_train_orig.iloc[val_ind]\n",
    "   \n",
    "    for col in cat_cols:\n",
    "        means = X_val[col].map(X_tr.groupby(col)['is_canceled'].mean())\n",
    "        X_train_orig.loc[X_train_orig.index[val_ind], col+'_new'] = means "
   ]
  },
  {
   "cell_type": "code",
   "execution_count": 14,
   "metadata": {},
   "outputs": [],
   "source": [
    "for col in cat_cols:\n",
    "    X_train_orig[col+'_new'].fillna(global_train_mean, inplace = True)\n",
    "    X_test_orig[col] = X_test_orig[col].map(X_train_orig.groupby(col)[col+'_new'].mean())\n",
    "    X_test_orig[col].fillna(global_train_mean, inplace=True)"
   ]
  },
  {
   "cell_type": "code",
   "execution_count": 15,
   "metadata": {},
   "outputs": [],
   "source": [
    "X_train_orig.drop(cat_cols, axis = 1, inplace=True)"
   ]
  },
  {
   "cell_type": "markdown",
   "metadata": {},
   "source": [
    "# Feature Importances and Selection"
   ]
  },
  {
   "cell_type": "markdown",
   "metadata": {},
   "source": [
    "We are goint to use a **Recursive Features Elimination** (with Random Forest) to study the importances of our features"
   ]
  },
  {
   "cell_type": "code",
   "execution_count": 16,
   "metadata": {},
   "outputs": [
    {
     "data": {
      "text/plain": [
       "is_canceled                        0.233210\n",
       "lead_time                      10088.569539\n",
       "arrival_date_year                  0.501792\n",
       "arrival_date_week_number          46.378141\n",
       "stays_in_weekend_nights            0.820429\n",
       "stays_in_week_nights               2.333256\n",
       "adults                             0.225897\n",
       "children                           0.067257\n",
       "is_repeated_guest                  0.030973\n",
       "previous_cancellations             0.003630\n",
       "booking_changes                    0.248070\n",
       "days_in_waiting_list               0.029952\n",
       "adr                             2616.796773\n",
       "required_car_parking_spaces        0.058315\n",
       "total_of_special_requests          0.514533\n",
       "hotel_new                          0.004352\n",
       "meal_new                           0.000045\n",
       "country_new                        0.028043\n",
       "market_segment_new                 0.016667\n",
       "reserved_room_type_new             0.001230\n",
       "deposit_type_new                   0.054189\n",
       "customer_type_new                  0.004300\n",
       "dtype: float64"
      ]
     },
     "execution_count": 16,
     "metadata": {},
     "output_type": "execute_result"
    }
   ],
   "source": [
    "X_train_orig.var()"
   ]
  },
  {
   "cell_type": "code",
   "execution_count": 17,
   "metadata": {},
   "outputs": [
    {
     "name": "stdout",
     "output_type": "stream",
     "text": [
      "Fitting estimator with 21 features.\n",
      "Fitting estimator with 20 features.\n",
      "Fitting estimator with 19 features.\n"
     ]
    },
    {
     "data": {
      "text/plain": [
       "RFECV(cv=StratifiedKFold(n_splits=5, random_state=123, shuffle=True),\n",
       "      estimator=RandomForestClassifier(bootstrap=True, ccp_alpha=0.0,\n",
       "                                       class_weight=None, criterion='gini',\n",
       "                                       max_depth=None, max_features='auto',\n",
       "                                       max_leaf_nodes=None, max_samples=None,\n",
       "                                       min_impurity_decrease=0.0,\n",
       "                                       min_impurity_split=None,\n",
       "                                       min_samples_leaf=1, min_samples_split=2,\n",
       "                                       min_weight_fraction_leaf=0.0,\n",
       "                                       n_estimators=100, n_jobs=None,\n",
       "                                       oob_score=False, random_state=None,\n",
       "                                       verbose=0, warm_start=False),\n",
       "      min_features_to_select=1, n_jobs=-1, scoring='accuracy', step=1,\n",
       "      verbose=1)"
      ]
     },
     "execution_count": 17,
     "metadata": {},
     "output_type": "execute_result"
    }
   ],
   "source": [
    "rfc_model = RandomForestClassifier()\n",
    "\n",
    "z = X_train_orig.copy()\n",
    "y = z['is_canceled']\n",
    "X = z.drop('is_canceled', axis = 1)\n",
    "\n",
    "rfecv = RFECV(estimator=rfc_model, step=1, cv=StratifiedKFold(5, shuffle=True, random_state=123), \n",
    "              scoring='accuracy', n_jobs = -1, verbose = 1)\n",
    "\n",
    "rfecv.fit(X, y)"
   ]
  },
  {
   "cell_type": "code",
   "execution_count": 18,
   "metadata": {},
   "outputs": [
    {
     "name": "stdout",
     "output_type": "stream",
     "text": [
      "Optimal number of features : 18\n",
      "Best features : Index(['lead_time', 'arrival_date_year', 'arrival_date_week_number',\n",
      "       'stays_in_weekend_nights', 'stays_in_week_nights', 'adults', 'children',\n",
      "       'booking_changes', 'adr', 'required_car_parking_spaces',\n",
      "       'total_of_special_requests', 'hotel_new', 'meal_new', 'country_new',\n",
      "       'market_segment_new', 'reserved_room_type_new', 'deposit_type_new',\n",
      "       'customer_type_new'],\n",
      "      dtype='object')\n",
      "Original features : Index(['lead_time', 'arrival_date_year', 'arrival_date_week_number',\n",
      "       'stays_in_weekend_nights', 'stays_in_week_nights', 'adults', 'children',\n",
      "       'is_repeated_guest', 'previous_cancellations', 'booking_changes',\n",
      "       'days_in_waiting_list', 'adr', 'required_car_parking_spaces',\n",
      "       'total_of_special_requests', 'hotel_new', 'meal_new', 'country_new',\n",
      "       'market_segment_new', 'reserved_room_type_new', 'deposit_type_new',\n",
      "       'customer_type_new'],\n",
      "      dtype='object')\n"
     ]
    },
    {
     "data": {
      "image/png": "[encoded data removed]",
      "text/plain": [
       "<Figure size 432x288 with 1 Axes>"
      ]
     },
     "metadata": {
      "needs_background": "light"
     },
     "output_type": "display_data"
    }
   ],
   "source": [
    "print(\"Optimal number of features : %d\" % rfecv.n_features_)\n",
    "print('Best features :', X.columns[rfecv.support_])\n",
    "print('Original features :', X.columns)\n",
    "plt.figure()\n",
    "plt.xlabel(\"Number of features selected\")\n",
    "plt.ylabel(\"Cross validation score \\n of number of selected features\")\n",
    "plt.plot(range(1, len(rfecv.grid_scores_) + 1), rfecv.grid_scores_)\n",
    "plt.show()"
   ]
  },
  {
   "cell_type": "code",
   "execution_count": 19,
   "metadata": {},
   "outputs": [
    {
     "name": "stdout",
     "output_type": "stream",
     "text": [
      "[0.67515076 0.76095149 0.7413414  0.79401545 0.80943759 0.81631633\n",
      " 0.82189675 0.84685698 0.85210235 0.85362046 0.85499204 0.85948362\n",
      " 0.86285492 0.86578654 0.86682302 0.8708644  0.87110521 0.87132508\n",
      " 0.87064454 0.87046654 0.87045606]\n",
      "[1 1 1 1 1 1 1 2 4 1 3 1 1 1 1 1 1 1 1 1 1]\n",
      "18\n",
      "Index(['lead_time', 'arrival_date_year', 'arrival_date_week_number',\n",
      "       'stays_in_weekend_nights', 'stays_in_week_nights', 'adults', 'children',\n",
      "       'booking_changes', 'adr', 'required_car_parking_spaces',\n",
      "       'total_of_special_requests', 'hotel_new', 'meal_new', 'country_new',\n",
      "       'market_segment_new', 'reserved_room_type_new', 'deposit_type_new',\n",
      "       'customer_type_new'],\n",
      "      dtype='object')\n"
     ]
    },
    {
     "data": {
      "text/plain": [
       "array([0.15165332, 0.02666553, 0.0697553 , 0.02694259, 0.04051995,\n",
       "       0.01532705, 0.00597921, 0.02320981, 0.10180727, 0.02423559,\n",
       "       0.05290918, 0.02248179, 0.02450092, 0.11863377, 0.07746717,\n",
       "       0.02850327, 0.1476181 , 0.04179018])"
      ]
     },
     "execution_count": 19,
     "metadata": {},
     "output_type": "execute_result"
    }
   ],
   "source": [
    "print(rfecv.grid_scores_)\n",
    "print(rfecv.ranking_)\n",
    "print(rfecv.n_features_)\n",
    "print(X.columns[rfecv.support_])\n",
    "rfecv.estimator_.feature_importances_"
   ]
  },
  {
   "cell_type": "code",
   "execution_count": 22,
   "metadata": {},
   "outputs": [
    {
     "data": {
      "text/html": [
       "<div>\n",
       "<style scoped>\n",
       "    .dataframe tbody tr th:only-of-type {\n",
       "        vertical-align: middle;\n",
       "    }\n",
       "\n",
       "    .dataframe tbody tr th {\n",
       "        vertical-align: top;\n",
       "    }\n",
       "\n",
       "    .dataframe thead th {\n",
       "        text-align: right;\n",
       "    }\n",
       "</style>\n",
       "<table border=\"1\" class=\"dataframe\">\n",
       "  <thead>\n",
       "    <tr style=\"text-align: right;\">\n",
       "      <th></th>\n",
       "      <th>variables</th>\n",
       "      <th>importances</th>\n",
       "    </tr>\n",
       "  </thead>\n",
       "  <tbody>\n",
       "    <tr>\n",
       "      <th>0</th>\n",
       "      <td>lead_time</td>\n",
       "      <td>0.151653</td>\n",
       "    </tr>\n",
       "    <tr>\n",
       "      <th>1</th>\n",
       "      <td>deposit_type_new</td>\n",
       "      <td>0.147618</td>\n",
       "    </tr>\n",
       "    <tr>\n",
       "      <th>2</th>\n",
       "      <td>country_new</td>\n",
       "      <td>0.118634</td>\n",
       "    </tr>\n",
       "    <tr>\n",
       "      <th>3</th>\n",
       "      <td>adr</td>\n",
       "      <td>0.101807</td>\n",
       "    </tr>\n",
       "    <tr>\n",
       "      <th>4</th>\n",
       "      <td>market_segment_new</td>\n",
       "      <td>0.077467</td>\n",
       "    </tr>\n",
       "    <tr>\n",
       "      <th>5</th>\n",
       "      <td>arrival_date_week_number</td>\n",
       "      <td>0.069755</td>\n",
       "    </tr>\n",
       "    <tr>\n",
       "      <th>6</th>\n",
       "      <td>total_of_special_requests</td>\n",
       "      <td>0.052909</td>\n",
       "    </tr>\n",
       "    <tr>\n",
       "      <th>7</th>\n",
       "      <td>customer_type_new</td>\n",
       "      <td>0.041790</td>\n",
       "    </tr>\n",
       "    <tr>\n",
       "      <th>8</th>\n",
       "      <td>stays_in_week_nights</td>\n",
       "      <td>0.040520</td>\n",
       "    </tr>\n",
       "    <tr>\n",
       "      <th>9</th>\n",
       "      <td>reserved_room_type_new</td>\n",
       "      <td>0.028503</td>\n",
       "    </tr>\n",
       "    <tr>\n",
       "      <th>10</th>\n",
       "      <td>stays_in_weekend_nights</td>\n",
       "      <td>0.026943</td>\n",
       "    </tr>\n",
       "    <tr>\n",
       "      <th>11</th>\n",
       "      <td>arrival_date_year</td>\n",
       "      <td>0.026666</td>\n",
       "    </tr>\n",
       "    <tr>\n",
       "      <th>12</th>\n",
       "      <td>meal_new</td>\n",
       "      <td>0.024501</td>\n",
       "    </tr>\n",
       "    <tr>\n",
       "      <th>13</th>\n",
       "      <td>required_car_parking_spaces</td>\n",
       "      <td>0.024236</td>\n",
       "    </tr>\n",
       "    <tr>\n",
       "      <th>14</th>\n",
       "      <td>booking_changes</td>\n",
       "      <td>0.023210</td>\n",
       "    </tr>\n",
       "    <tr>\n",
       "      <th>15</th>\n",
       "      <td>hotel_new</td>\n",
       "      <td>0.022482</td>\n",
       "    </tr>\n",
       "    <tr>\n",
       "      <th>16</th>\n",
       "      <td>adults</td>\n",
       "      <td>0.015327</td>\n",
       "    </tr>\n",
       "    <tr>\n",
       "      <th>17</th>\n",
       "      <td>children</td>\n",
       "      <td>0.005979</td>\n",
       "    </tr>\n",
       "  </tbody>\n",
       "</table>\n",
       "</div>"
      ],
      "text/plain": [
       "                      variables  importances\n",
       "0                     lead_time     0.151653\n",
       "1              deposit_type_new     0.147618\n",
       "2                   country_new     0.118634\n",
       "3                           adr     0.101807\n",
       "4            market_segment_new     0.077467\n",
       "5      arrival_date_week_number     0.069755\n",
       "6     total_of_special_requests     0.052909\n",
       "7             customer_type_new     0.041790\n",
       "8          stays_in_week_nights     0.040520\n",
       "9        reserved_room_type_new     0.028503\n",
       "10      stays_in_weekend_nights     0.026943\n",
       "11            arrival_date_year     0.026666\n",
       "12                     meal_new     0.024501\n",
       "13  required_car_parking_spaces     0.024236\n",
       "14              booking_changes     0.023210\n",
       "15                    hotel_new     0.022482\n",
       "16                       adults     0.015327\n",
       "17                     children     0.005979"
      ]
     },
     "execution_count": 22,
     "metadata": {},
     "output_type": "execute_result"
    }
   ],
   "source": [
    "num_feature = rfecv.n_features_\n",
    "tab_general = pd.DataFrame ({ 'rank': rfecv.ranking_ , 'variables': X.columns.tolist()})\n",
    "tab_rank = tab_general.copy()\n",
    "tab_importances = tab_general.copy()\n",
    "\n",
    "tab_rank = pd.DataFrame(tab_general.groupby('rank')['variables'].apply(list))\n",
    "tab_rank['score']= rfecv.grid_scores_[num_feature-1 : len(rfecv.grid_scores_)]\n",
    "\n",
    "\n",
    "tab_importances = tab_importances[tab_importances['rank']==1].drop('rank', axis = 1)\n",
    "tab_importances['importances'] = rfecv.estimator_.feature_importances_\n",
    "tab_importances.sort_values(by = 'importances', ascending = False, inplace = True)\n",
    "tab_importances.reset_index(drop=True, inplace=True)\n",
    "tab_importances"
   ]
  },
  {
   "cell_type": "markdown",
   "metadata": {},
   "source": [
    "- It is evident from our **tab_importances** that deposit_type is the most relevant feature. It has the greatest importance score by far (0.50), while the second highest score is 0.069\n",
    "- At the same time the scores of the model does not change a lot while we eliminate the least relevant features. However, to avoid taking too much complexity in the model we decide to keep only the features suggested by RFECV"
   ]
  },
  {
   "cell_type": "code",
   "execution_count": 23,
   "metadata": {},
   "outputs": [],
   "source": [
    "tab_rank[tab_rank.index == 1]['variables']\n",
    "important_features_train = [x for x in tab_rank[tab_rank.index == 1]['variables']][0]\n",
    "X_train_orig = X_train_orig[[x for x in important_features_train]]\n",
    "\n",
    "important_features_test = [x.replace(\"_new\", \"\") for x in important_features_train]\n",
    "X_test_orig = X_test_orig[[x for x in important_features_test]]"
   ]
  },
  {
   "cell_type": "markdown",
   "metadata": {},
   "source": [
    "### - Feature scaling"
   ]
  },
  {
   "cell_type": "code",
   "execution_count": 24,
   "metadata": {},
   "outputs": [],
   "source": [
    "# min-max transformation\n",
    "# to mantain same distribution\n",
    "min_max = MinMaxScaler()\n",
    "X_train_scaled = X_train_orig.copy()\n",
    "X_test_scaled = X_test_orig.copy()\n",
    "\n",
    "X_train_scaled[X_train_scaled.columns] = min_max.fit_transform(X_train_orig[X_train_orig.columns])\n",
    "X_test_scaled[X_test_scaled.columns] = min_max.transform(X_test_orig[X_test_orig.columns])\n"
   ]
  },
  {
   "cell_type": "markdown",
   "metadata": {},
   "source": [
    "# MODELLING"
   ]
  },
  {
   "cell_type": "markdown",
   "metadata": {},
   "source": [
    "- We create two models using **XGBoost** and **Logistic Regression**. At the very beginning we use the default hyperparameters just to get a general idea. After that, we will perform a hyperparameters tuning"
   ]
  },
  {
   "cell_type": "code",
   "execution_count": 25,
   "metadata": {},
   "outputs": [],
   "source": [
    "# We set the two algorithms\n",
    "xgb_clf = xgb.XGBClassifier()\n",
    "logit = LogisticRegression(solver='liblinear')"
   ]
  },
  {
   "cell_type": "code",
   "execution_count": 26,
   "metadata": {},
   "outputs": [],
   "source": [
    "# We get rid of then \"_new\" string in the scaled DataFrame\n",
    "X_train_scaled.columns = X_train_scaled.columns.str.replace(\"_new\", \"\")"
   ]
  },
  {
   "cell_type": "markdown",
   "metadata": {},
   "source": [
    "## - XGBoost"
   ]
  },
  {
   "cell_type": "code",
   "execution_count": null,
   "metadata": {},
   "outputs": [],
   "source": [
    "xgb_model_default = classifier_gridCV(X_train_scaled, y_train_orig, xgb.XGBClassifier(),\n",
    "                                     X_test_scaled, y_test_orig, model_name = \"xg_boost\")\n"
   ]
  },
  {
   "cell_type": "code",
   "execution_count": null,
   "metadata": {},
   "outputs": [],
   "source": [
    "# Looking at the confusion matrix on the test\n",
    "pred_xgb = xgb_model_default.predict(X_test_scaled)\n",
    "cm_xgb=metrics.confusion_matrix(y_test_orig, pred_xgb)\n",
    "classes_xgb = xgb_model_default.classes_\n",
    "\n",
    "ax = plt.subplot()\n",
    "sns.heatmap(cm_xgb, annot=True, ax = ax, fmt='d')\n",
    "\n",
    "# Labels and title\n",
    "ax.set_xlabel('Predicted labels')\n",
    "ax.set_ylabel('True labels')\n",
    "ax.set_title('Confusion Matrix')"
   ]
  },
  {
   "cell_type": "code",
   "execution_count": null,
   "metadata": {},
   "outputs": [],
   "source": [
    "# Looking at the Cohen score on the test\n",
    "cohen_score_xgb = cohen_kappa_score(y_test_orig, pred_xgb)\n",
    "cohen_score_xgb"
   ]
  },
  {
   "cell_type": "markdown",
   "metadata": {},
   "source": [
    "- The Cohen score is quite good: is clearly above 0.5 but it does not reach 0.8"
   ]
  },
  {
   "cell_type": "markdown",
   "metadata": {},
   "source": [
    "## - Logistic Regression"
   ]
  },
  {
   "cell_type": "code",
   "execution_count": null,
   "metadata": {},
   "outputs": [],
   "source": [
    "logistic_model_default = classifier_gridCV(X_train_scaled, y_train_orig, logit,\n",
    "                                         X_test_scaled, y_test_orig, model_name = \"logistic_regression\")\n"
   ]
  },
  {
   "cell_type": "code",
   "execution_count": null,
   "metadata": {},
   "outputs": [],
   "source": [
    "# Looking at the confusion matrix on the test\n",
    "pred_logistic = logistic_model_default.predict(X_test_scaled)\n",
    "cm_logistic=metrics.confusion_matrix(y_test_orig, pred_logistic)\n",
    "classes_logistic = logistic_model_default.classes_\n",
    "\n",
    "ax = plt.subplot()\n",
    "sns.heatmap(cm_logistic, annot=True, ax = ax, fmt='d'); #annot=True to annotate cells\n",
    "\n",
    "# Labels and title\n",
    "ax.set_xlabel('Predicted labels')\n",
    "ax.set_ylabel('True labels')\n",
    "ax.set_title('Confusion Matrix')"
   ]
  },
  {
   "cell_type": "code",
   "execution_count": null,
   "metadata": {},
   "outputs": [],
   "source": [
    "# Looking at the Cohen score on the test\n",
    "cohen_score_logistic = cohen_kappa_score(y_test_orig, pred_logistic)\n",
    "cohen_score_logistic"
   ]
  },
  {
   "cell_type": "markdown",
   "metadata": {},
   "source": [
    "- The Cohen score is not satisfactory for us: it is about 0.5"
   ]
  },
  {
   "cell_type": "markdown",
   "metadata": {},
   "source": [
    "## XGBoost vs Logistic Regression: ROC Curve"
   ]
  },
  {
   "cell_type": "markdown",
   "metadata": {},
   "source": [
    "We try to compare the two models using the ROC Curve"
   ]
  },
  {
   "cell_type": "code",
   "execution_count": null,
   "metadata": {},
   "outputs": [],
   "source": [
    "probabilities_xgb = xgb_model_default.predict_proba(X_test_scaled)[:,1]\n",
    "probabilities_logistic = logistic_model_default.predict_proba(X_test_scaled)[:,1]\n",
    "\n",
    "fpr_xgb, tpr_xgb, thresholds_xgb = metrics.roc_curve(y_test_orig, probabilities_xgb, pos_label=1)\n",
    "fpr_logistic, tpr_logistic, thresholds_logistic = metrics.roc_curve(y_test_orig, probabilities_logistic, pos_label=1)\n",
    "\n",
    "# Print ROC curve\n",
    "plt.plot(fpr_xgb, tpr_xgb, label=\"XGBoost\")\n",
    "plt.plot(fpr_logistic, tpr_logistic, label=\"Logistic Regression\")\n",
    "plt.legend()\n",
    "plt.show()\n",
    "\n",
    "# Print AUC\n",
    "auc_xgb = np.trapz(tpr_xgb, fpr_xgb)\n",
    "print('The AUC for xgboost is:', auc_xgb)\n",
    "\n",
    "auc_logistic = np.trapz(tpr_logistic, fpr_logistic)\n",
    "print('The AUC for the logistic regression is:', auc_logistic)\n"
   ]
  },
  {
   "cell_type": "markdown",
   "metadata": {},
   "source": [
    " - Both the AUC scores are very good, especially the one for xgboost\n",
    " - Considering all the metrics, we consider the xgboost model much more robust and reliable. For these reasons and given our computational resources, **we decid to perform the hyperparameter tuning only on the XGBoost algorithm** "
   ]
  },
  {
   "cell_type": "markdown",
   "metadata": {},
   "source": [
    "# XGBoost: Hyperparameters Tuning"
   ]
  },
  {
   "cell_type": "markdown",
   "metadata": {},
   "source": [
    "## Coarse to fine approach (using Hyperopt)"
   ]
  },
  {
   "cell_type": "markdown",
   "metadata": {},
   "source": [
    "The approach that we are going to use is the following:\n",
    "- We supply a distribution space (uniform) for each hyperparameter that we want to tune\n",
    "- We use an optimizer (TPE) to minimize the loss (i.e. 1-accuracy)\n",
    "- Analyzing the results, we will find the best perforiming regions for the hyperparameters\n",
    "- Finally, we perform a GridSearchCV on the most interesting regions"
   ]
  },
  {
   "cell_type": "markdown",
   "metadata": {},
   "source": [
    "**Note**: for computational reasons, we take at most 75 estimators"
   ]
  },
  {
   "cell_type": "code",
   "execution_count": null,
   "metadata": {},
   "outputs": [],
   "source": [
    "space = {\n",
    "    'max_depth': hp.uniform ('max_depth', 5, 20),\n",
    "    'learning_rate': hp.uniform('learning_rate', 0.01, 1),\n",
    "    'n_estimators': hp.uniform('n_estimators', 30, 75)\n",
    "}\n",
    "\n",
    "def objective(params):\n",
    "    params = {\n",
    "        'max_depth': [int(params['max_depth'])],\n",
    "        'learning_rate': [params['learning_rate']],\n",
    "        'n_estimators': [int(params['n_estimators'])]\n",
    "    }\n",
    "    grid = GridSearchCV(xgb.XGBClassifier(), params, scoring='accuracy', \n",
    "                        cv=StratifiedKFold(n_splits=5, shuffle=True, \n",
    "                                            random_state=42), \n",
    "                        n_jobs=-1)\n",
    "    model = grid.fit(X_train_scaled, y_train_orig)\n",
    "    mean_score = model.cv_results_[\"mean_test_score\"][0]\n",
    "    loss = 1- mean_score\n",
    "    return loss\n",
    "\n",
    "trials = Trials()\n",
    "\n",
    "best_result = fmin(\n",
    "             fn = objective,\n",
    "             space = space,\n",
    "             trials = trials,\n",
    "             max_evals = 50,\n",
    "             rstate = np.random.RandomState(42),\n",
    "             algo = tpe.suggest)\n",
    "\n"
   ]
  },
  {
   "cell_type": "code",
   "execution_count": null,
   "metadata": {},
   "outputs": [],
   "source": [
    "learning_rates = [t['misc']['vals']['learning_rate'] for t in trials.trials]\n",
    "loss = [t['result']['loss'] for t in trials.trials]\n",
    "plt.xlabel('Learning rate')\n",
    "plt.ylabel('Loss')\n",
    "plt.title('loss by learning_rate')\n",
    "\n",
    "plt.scatter(learning_rates, loss)"
   ]
  },
  {
   "cell_type": "code",
   "execution_count": null,
   "metadata": {},
   "outputs": [],
   "source": [
    "trees = [t['misc']['vals']['n_estimators'] for t in trials.trials]\n",
    "loss = [t['result']['loss'] for t in trials.trials]\n",
    "plt.xlabel('Trees')\n",
    "plt.ylabel('Loss')\n",
    "plt.title('loss by n. of trees')\n",
    "\n",
    "plt.scatter(trees, loss)"
   ]
  },
  {
   "cell_type": "code",
   "execution_count": null,
   "metadata": {},
   "outputs": [],
   "source": [
    "depth = [t['misc']['vals']['max_depth'] for t in trials.trials]\n",
    "loss = [t['result']['loss'] for t in trials.trials]\n",
    "plt.xlabel('Max Depth')\n",
    "plt.ylabel('Loss')\n",
    "plt.title('loss by Max Depth')\n",
    "\n",
    "plt.scatter(depth, loss)"
   ]
  },
  {
   "cell_type": "code",
   "execution_count": null,
   "metadata": {},
   "outputs": [],
   "source": [
    "best_parameters_hp = pd.DataFrame({'max_depth':depth, 'n_estimators':trees, \n",
    "                                   'learning_rate':learning_rates, 'loss':loss}).sort_values(by='loss', ascending= True)"
   ]
  },
  {
   "cell_type": "code",
   "execution_count": null,
   "metadata": {},
   "outputs": [],
   "source": [
    "print(best_parameters_hp.iloc[0])"
   ]
  },
  {
   "cell_type": "markdown",
   "metadata": {},
   "source": [
    "Having just 50 points, the patterns are not so clear. However, looking at the charts, it is not so difficult to deduce the following properties:\n",
    "- the learning rate should be in the interval [0.1, 0.2]\n",
    "- the max_depth should be greater or equal than 13\n",
    "- the n_estimators should be greater than 70, since the variance since smaller there"
   ]
  },
  {
   "cell_type": "markdown",
   "metadata": {},
   "source": [
    "### GridSearchCV with the most promising parameters"
   ]
  },
  {
   "cell_type": "code",
   "execution_count": null,
   "metadata": {},
   "outputs": [],
   "source": [
    "parameters = {\n",
    "    'learning_rate':[0.1, 0.13, 0.15, 0.17, 0.2],\n",
    "    'n_estimators':[70, 75, 80, 85, 90],\n",
    "    'max_depth':[13, 14, 15, 16, 17]\n",
    "    \n",
    "}"
   ]
  },
  {
   "cell_type": "code",
   "execution_count": null,
   "metadata": {},
   "outputs": [],
   "source": [
    "xgb_model_tuned = classifier_gridCV(X_train_scaled, y_train_orig, xgb.XGBClassifier(),\n",
    "                                     X_test_scaled, y_test_orig, params=parameters,\n",
    "                                    model_name = \"xg_boost_tuned\")"
   ]
  },
  {
   "cell_type": "markdown",
   "metadata": {},
   "source": [
    "- We improved the accuracy by 0.7%. It seems our strategy took us on the right path. We check the Cohen score and the ROC curve too"
   ]
  },
  {
   "cell_type": "code",
   "execution_count": null,
   "metadata": {},
   "outputs": [],
   "source": [
    "# Looking at the confusion matrix on the test\n",
    "pred_xgb_tuned = xgb_model_tuned.predict(X_test_scaled)\n",
    "cm_xgb_tuned=metrics.confusion_matrix(y_test_orig, pred_xgb_tuned)\n",
    "classes_logistic = xgb_model_tuned.classes_\n",
    "\n",
    "ax = plt.subplot()\n",
    "sns.heatmap(cm_xgb_tuned, annot=True, ax = ax, fmt='d'); #annot=True to annotate cells\n",
    "\n",
    "# labels, title and ticks\n",
    "ax.set_xlabel('Predicted labels')\n",
    "ax.set_ylabel('True labels')\n",
    "ax.set_title('Confusion Matrix')"
   ]
  },
  {
   "cell_type": "code",
   "execution_count": null,
   "metadata": {},
   "outputs": [],
   "source": [
    "# Looking at the cohen score on the test\n",
    "cohen_score_xgb_tuned = cohen_kappa_score(y_test_orig, pred_xgb_tuned)\n",
    "cohen_score_xgb_tuned"
   ]
  },
  {
   "cell_type": "code",
   "execution_count": null,
   "metadata": {},
   "outputs": [],
   "source": [
    "probabilities_xgb_tuned = xgb_model_tuned.predict_proba(X_test_scaled)[:,1]\n",
    "fpr_xgb_tuned, tpr_xgb_tuned, thresholds_xgb_tuned = metrics.roc_curve(y_test_orig, probabilities_xgb_tuned,\n",
    "                                                                       pos_label=1)\n",
    "\n",
    "\n",
    "# Print ROC curve\n",
    "plt.plot(fpr_xgb_tuned, tpr_xgb_tuned)\n",
    "plt.show()\n",
    "\n",
    "# Print AUC\n",
    "auc_xgb_tuned = np.trapz(tpr_xgb_tuned, fpr_xgb_tuned)\n",
    "print('The AUC is:', auc_xgb_tuned)\n"
   ]
  },
  {
   "cell_type": "markdown",
   "metadata": {},
   "source": [
    "- Both the metrics improved, so in general we can claim that our hyperparameter strategy worked "
   ]
  },
  {
   "cell_type": "code",
   "execution_count": null,
   "metadata": {},
   "outputs": [],
   "source": [
    "filename = \"xgboost_tuned.sav\"\n",
    "pickle.dump(xgb_model_tuned, open(filename, 'wb'))"
   ]
  },
  {
   "cell_type": "code",
   "execution_count": null,
   "metadata": {},
   "outputs": [],
   "source": [
    "#load the model from disk\n",
    "xgb_model_tuned_2 = pickle.load(open(filename, 'rb'))"
   ]
  },
  {
   "cell_type": "code",
   "execution_count": null,
   "metadata": {},
   "outputs": [],
   "source": [
    "xgb_model_tuned_2"
   ]
  },
  {
   "cell_type": "code",
   "execution_count": null,
   "metadata": {},
   "outputs": [],
   "source": [
    "xgb_model_tuned_2.best_params_"
   ]
  },
  {
   "cell_type": "markdown",
   "metadata": {},
   "source": [
    "# THE END"
   ]
  }
 ],
 "metadata": {
  "kernelspec": {
   "display_name": "Python 3",
   "language": "python",
   "name": "python3"
  },
  "language_info": {
   "codemirror_mode": {
    "name": "ipython",
    "version": 3
   },
   "file_extension": ".py",
   "mimetype": "text/x-python",
   "name": "python",
   "nbconvert_exporter": "python",
   "pygments_lexer": "ipython3",
   "version": "3.7.3"
  }
 },
 "nbformat": 4,
 "nbformat_minor": 4
}
