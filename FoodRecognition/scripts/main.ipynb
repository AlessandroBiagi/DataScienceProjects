{
 "cells": [
  {
   "cell_type": "code",
   "execution_count": 4,
   "metadata": {},
   "outputs": [],
   "source": [
    "import tensorflow as tf"
   ]
  },
  {
   "cell_type": "code",
   "execution_count": 7,
   "metadata": {},
   "outputs": [],
   "source": [
    "from keras.preprocessing.image import ImageDataGenerator"
   ]
  },
  {
   "cell_type": "code",
   "execution_count": 58,
   "metadata": {},
   "outputs": [],
   "source": [
    "import os, shutil"
   ]
  },
  {
   "cell_type": "code",
   "execution_count": 9,
   "metadata": {},
   "outputs": [
    {
     "name": "stdout",
     "output_type": "stream",
     "text": [
      "/Users/alessandrobiagi/Desktop/Kaggle_Datasets/Kaggle_Bradipi/FoodRecognition/scripts\n"
     ]
    }
   ],
   "source": [
    "print(os.getcwd())"
   ]
  },
  {
   "cell_type": "code",
   "execution_count": 22,
   "metadata": {},
   "outputs": [],
   "source": [
    "def creating_dataset_directories(type_dir, category):\n",
    "    new_cat_dir = os.path.join(type_dir, category)\n",
    "    os.mkdir(new_cat_dir)\n"
   ]
  },
  {
   "cell_type": "code",
   "execution_count": 11,
   "metadata": {},
   "outputs": [],
   "source": [
    "# Directory where you'll store your dataset\n",
    "base_dir = '../src/food-101/'\n",
    "\n",
    "# Directories for the training, validation, and test splits\n",
    "train_dir = os.path.join(base_dir, 'train')\n",
    "os.mkdir(train_dir)\n",
    "\n",
    "validation_dir = os.path.join(base_dir, 'validation')\n",
    "os.mkdir(validation_dir)\n",
    "\n",
    "test_dir = os.path.join(base_dir, 'test')\n",
    "os.mkdir(test_dir)"
   ]
  },
  {
   "cell_type": "code",
   "execution_count": 24,
   "metadata": {},
   "outputs": [],
   "source": [
    "categories = ['sashimi', 'spaghetti_bol']\n",
    "type_dirs = [train_dir, validation_dir, test_dir]\n",
    "\n",
    "for category in categories:\n",
    "    for type_dir in type_dirs:\n",
    "        creating_dataset_directories(type_dir=type_dir,\n",
    "                                     category=category)"
   ]
  },
  {
   "cell_type": "code",
   "execution_count": 69,
   "metadata": {},
   "outputs": [],
   "source": [
    "sashimi_dir = base_dir + 'images/sashimi'\n",
    "spaghetti_bol_dir = base_dir + 'images/spaghetti_bolognese'\n",
    "\n",
    "sashimi_names = os.listdir(sashimi_dir)\n",
    "sashimi_full_names = [os.path.join(sashimi_dir, x) for x in sashimi_names]\n",
    "\n",
    "spaghetti_bol_names = os.listdir(spaghetti_bol_dir)\n",
    "spaghetti_bol_full_names = [os.path.join(spaghetti_bol_dir, x) for x in spaghetti_bol_names]\n"
   ]
  },
  {
   "cell_type": "code",
   "execution_count": 38,
   "metadata": {},
   "outputs": [
    {
     "name": "stdout",
     "output_type": "stream",
     "text": [
      "1000\n",
      "1000\n"
     ]
    }
   ],
   "source": [
    "print(len(sashimi_names))\n",
    "print(len(spaghetti_bol_names))"
   ]
  },
  {
   "cell_type": "code",
   "execution_count": 42,
   "metadata": {},
   "outputs": [],
   "source": [
    "sashimi_train_names = sashimi_full_names[0:700]\n",
    "sashimi_val_names = sashimi_full_names[700:850]\n",
    "sashimi_test_names = sashimi_full_names[850:100]"
   ]
  },
  {
   "cell_type": "code",
   "execution_count": 70,
   "metadata": {},
   "outputs": [],
   "source": [
    "spaghetti_bol_train_names = spaghetti_bol_full_names[0:700]\n",
    "spaghetti_bol_val_names = spaghetti_bol_full_names[700:850]\n",
    "spaghetti_bol_test_names = spaghetti_bol_full_names[850:1000]"
   ]
  },
  {
   "cell_type": "code",
   "execution_count": 64,
   "metadata": {},
   "outputs": [],
   "source": [
    "def creating_datasets(dataset_names, dst_dir, type_dir, category):\n",
    "    for x in dataset_names:\n",
    "        img_name = x.split(\"/\")[-1]\n",
    "        dst_dir_type = os.path.join(dst_dir, type_dir)\n",
    "        dst_dir_full = os.path.join(dst_dir_type, category)\n",
    "        dst = os.path.join(dst_dir_full, img_name)\n",
    "        shutil.copy(x, dst)"
   ]
  },
  {
   "cell_type": "code",
   "execution_count": 76,
   "metadata": {},
   "outputs": [],
   "source": [
    "base_dst_dir_dataset = '../src/food-101'\n",
    "sashimi_names_list = [sashimi_train_names, sashimi_val_names, sashimi_test_names]\n",
    "spaghetti_bol_list = [spaghetti_bol_train_names, spaghetti_bol_val_names, spaghetti_bol_test_names]\n",
    "type_dataset = ['train', 'validation', 'test']\n",
    "categories_dataset = ['sashimi', 'spaghetti_bol']"
   ]
  },
  {
   "cell_type": "code",
   "execution_count": null,
   "metadata": {},
   "outputs": [],
   "source": [
    "for category in categories_dataset:\n",
    "    if category == 'sashimi':\n",
    "        dataset_names_list = sashimi_names_list\n",
    "    elif category == 'spaghetti_bol':\n",
    "        dataset_names_list = spaghetti_bol_list\n",
    "    fo"
   ]
  },
  {
   "cell_type": "code",
   "execution_count": 68,
   "metadata": {},
   "outputs": [],
   "source": [
    "creating_datasets(dataset_names=sashimi_train_names,\n",
    "                 dst_dir='../src/food-101/',\n",
    "                 type_dir='train',\n",
    "                 category='sashimi')"
   ]
  },
  {
   "cell_type": "code",
   "execution_count": null,
   "metadata": {},
   "outputs": [],
   "source": [
    "creating_datasets(dataset_names=sashimi_val_names,\n",
    "                 dst_dir='../src/food-101/',\n",
    "                 type_dir='validation',\n",
    "                 category='sashimi')"
   ]
  },
  {
   "cell_type": "code",
   "execution_count": null,
   "metadata": {},
   "outputs": [],
   "source": [
    "creating_datasets(dataset_names=sashimi_test_names,\n",
    "                 dst_dir='../src/food-101/',\n",
    "                 type_dir='test',\n",
    "                 category='sashimi')"
   ]
  },
  {
   "cell_type": "code",
   "execution_count": 71,
   "metadata": {},
   "outputs": [],
   "source": [
    "creating_datasets(dataset_names=spaghetti_bol_train_names,\n",
    "                 dst_dir='../src/food-101/',\n",
    "                 type_dir='train',\n",
    "                 category='spaghetti_bol')"
   ]
  },
  {
   "cell_type": "code",
   "execution_count": 73,
   "metadata": {},
   "outputs": [],
   "source": [
    "creating_datasets(dataset_names=spaghetti_bol_val_names,\n",
    "                 dst_dir='../src/food-101/',\n",
    "                 type_dir='validation',\n",
    "                 category='spaghetti_bol')"
   ]
  },
  {
   "cell_type": "code",
   "execution_count": 74,
   "metadata": {},
   "outputs": [],
   "source": [
    "creating_datasets(dataset_names=spaghetti_bol_test_names,\n",
    "                 dst_dir='../src/food-101/',\n",
    "                 type_dir='test',\n",
    "                 category='spaghetti_bol')"
   ]
  },
  {
   "cell_type": "code",
   "execution_count": 77,
   "metadata": {},
   "outputs": [],
   "source": [
    "train_datagen = ImageDataGenerator(rescale=1./255)\n",
    "test_datagen = ImageDataGenerator(rescale=1./255)"
   ]
  },
  {
   "cell_type": "code",
   "execution_count": 78,
   "metadata": {},
   "outputs": [
    {
     "data": {
      "text/plain": [
       "'../src/food-101/train'"
      ]
     },
     "execution_count": 78,
     "metadata": {},
     "output_type": "execute_result"
    }
   ],
   "source": [
    "train_dir"
   ]
  },
  {
   "cell_type": "code",
   "execution_count": 85,
   "metadata": {},
   "outputs": [
    {
     "name": "stdout",
     "output_type": "stream",
     "text": [
      "Found 1400 images belonging to 2 classes.\n"
     ]
    }
   ],
   "source": [
    "train_generator = train_datagen.flow_from_directory(\n",
    "                                train_dir,\n",
    "                                target_size=(150, 150), # resize all images to 150 x 150\n",
    "                                batch_size=20,\n",
    "                                class_mode='binary')"
   ]
  },
  {
   "cell_type": "code",
   "execution_count": 86,
   "metadata": {},
   "outputs": [
    {
     "name": "stdout",
     "output_type": "stream",
     "text": [
      "Found 300 images belonging to 2 classes.\n"
     ]
    }
   ],
   "source": [
    "validation_generator = test_datagen.flow_from_directory(\n",
    "                                validation_dir,\n",
    "                                target_size=(150, 150),\n",
    "                                batch_size=20,\n",
    "                                class_mode='binary')"
   ]
  },
  {
   "cell_type": "code",
   "execution_count": null,
   "metadata": {},
   "outputs": [],
   "source": []
  },
  {
   "cell_type": "code",
   "execution_count": null,
   "metadata": {},
   "outputs": [],
   "source": [
    "history = model.fit_generator(\n",
    "                train_generator,\n",
    "                steps_per_epoch=70,\n",
    "                epochs=30,\n",
    "                validation_data=validation_generator,\n",
    "                validation_steps=15)"
   ]
  }
 ],
 "metadata": {
  "kernelspec": {
   "display_name": "Python 3",
   "language": "python",
   "name": "python3"
  },
  "language_info": {
   "codemirror_mode": {
    "name": "ipython",
    "version": 3
   },
   "file_extension": ".py",
   "mimetype": "text/x-python",
   "name": "python",
   "nbconvert_exporter": "python",
   "pygments_lexer": "ipython3",
   "version": "3.7.3"
  }
 },
 "nbformat": 4,
 "nbformat_minor": 4
}
