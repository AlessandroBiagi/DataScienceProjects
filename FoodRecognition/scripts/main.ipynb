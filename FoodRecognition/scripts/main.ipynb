{
 "cells": [
  {
   "cell_type": "code",
   "execution_count": 33,
   "metadata": {},
   "outputs": [],
   "source": [
    "import tensorflow as tf"
   ]
  },
  {
   "cell_type": "code",
   "execution_count": 34,
   "metadata": {},
   "outputs": [],
   "source": [
    "from keras.preprocessing.image import ImageDataGenerator"
   ]
  },
  {
   "cell_type": "code",
   "execution_count": 35,
   "metadata": {},
   "outputs": [],
   "source": [
    "import os, shutil"
   ]
  },
  {
   "cell_type": "code",
   "execution_count": 36,
   "metadata": {},
   "outputs": [
    {
     "name": "stdout",
     "output_type": "stream",
     "text": [
      "/Users/alessandrobiagi/Desktop/Kaggle_Datasets/Kaggle_Bradipi/FoodRecognition/scripts\n"
     ]
    }
   ],
   "source": [
    "print(os.getcwd())"
   ]
  },
  {
   "cell_type": "code",
   "execution_count": 37,
   "metadata": {},
   "outputs": [],
   "source": [
    "def creating_dataset_directories(type_dir, category):\n",
    "    new_cat_dir = os.path.join(type_dir, category)\n",
    "    if not new_cat_dir:\n",
    "        os.mkdir(new_cat_dir)\n"
   ]
  },
  {
   "cell_type": "code",
   "execution_count": 38,
   "metadata": {},
   "outputs": [],
   "source": [
    "# Directory where you'll store your dataset\n",
    "base_dir = '../src/food-101/'\n",
    "\n",
    "# Directories for the training, validation, and test splits\n",
    "train_dir = os.path.join(base_dir, 'train')\n",
    "if not train_dir:\n",
    "    os.mkdir(train_dir)\n",
    "\n",
    "validation_dir = os.path.join(base_dir, 'validation')\n",
    "if not validation_dir:\n",
    "    os.mkdir(validation_dir)\n",
    "\n",
    "test_dir = os.path.join(base_dir, 'test')\n",
    "if not test_dir:\n",
    "    os.mkdir(test_dir)"
   ]
  },
  {
   "cell_type": "code",
   "execution_count": 39,
   "metadata": {},
   "outputs": [],
   "source": [
    "categories = ['sashimi', 'spaghetti_bol']\n",
    "type_dirs = [train_dir, validation_dir, test_dir]\n",
    "\n",
    "for category in categories:\n",
    "    for type_dir in type_dirs:\n",
    "        creating_dataset_directories(type_dir=type_dir,\n",
    "                                     category=category)"
   ]
  },
  {
   "cell_type": "code",
   "execution_count": 40,
   "metadata": {},
   "outputs": [],
   "source": [
    "sashimi_dir = base_dir + 'images/sashimi'\n",
    "spaghetti_bol_dir = base_dir + 'images/spaghetti_bolognese'\n",
    "\n",
    "sashimi_names = os.listdir(sashimi_dir)\n",
    "sashimi_full_names = [os.path.join(sashimi_dir, x) for x in sashimi_names]\n",
    "\n",
    "spaghetti_bol_names = os.listdir(spaghetti_bol_dir)\n",
    "spaghetti_bol_full_names = [os.path.join(spaghetti_bol_dir, x) for x in spaghetti_bol_names]\n"
   ]
  },
  {
   "cell_type": "code",
   "execution_count": 41,
   "metadata": {},
   "outputs": [
    {
     "name": "stdout",
     "output_type": "stream",
     "text": [
      "1000\n",
      "1000\n"
     ]
    }
   ],
   "source": [
    "print(len(sashimi_names))\n",
    "print(len(spaghetti_bol_names))"
   ]
  },
  {
   "cell_type": "code",
   "execution_count": 42,
   "metadata": {},
   "outputs": [],
   "source": [
    "sashimi_train_names = sashimi_full_names[0:700]\n",
    "sashimi_val_names = sashimi_full_names[700:850]\n",
    "sashimi_test_names = sashimi_full_names[850:100]"
   ]
  },
  {
   "cell_type": "code",
   "execution_count": 43,
   "metadata": {},
   "outputs": [],
   "source": [
    "spaghetti_bol_train_names = spaghetti_bol_full_names[0:700]\n",
    "spaghetti_bol_val_names = spaghetti_bol_full_names[700:850]\n",
    "spaghetti_bol_test_names = spaghetti_bol_full_names[850:1000]"
   ]
  },
  {
   "cell_type": "code",
   "execution_count": 44,
   "metadata": {},
   "outputs": [],
   "source": [
    "def creating_datasets(dataset_names, dst_dir, type_dir, category):\n",
    "    for x in dataset_names:\n",
    "        img_name = x.split(\"/\")[-1]\n",
    "        dst_dir_type = os.path.join(dst_dir, type_dir)\n",
    "        dst_dir_full = os.path.join(dst_dir_type, category)\n",
    "        dst = os.path.join(dst_dir_full, img_name)\n",
    "        shutil.copy(x, dst)"
   ]
  },
  {
   "cell_type": "code",
   "execution_count": 45,
   "metadata": {},
   "outputs": [],
   "source": [
    "base_dst_dir_dataset = '../src/food-101'\n",
    "sashimi_names_list = [sashimi_train_names, sashimi_val_names, sashimi_test_names]\n",
    "spaghetti_bol_list = [spaghetti_bol_train_names, spaghetti_bol_val_names, spaghetti_bol_test_names]\n",
    "type_dataset = ['train', 'validation', 'test']\n",
    "categories_dataset = ['sashimi', 'spaghetti_bol']"
   ]
  },
  {
   "cell_type": "code",
   "execution_count": 48,
   "metadata": {},
   "outputs": [],
   "source": [
    "for category in categories_dataset:\n",
    "    if category == 'sashimi':\n",
    "        dataset_names_list = sashimi_names_list\n",
    "    elif category == 'spaghetti_bol':\n",
    "        dataset_names_list = spaghetti_bol_list"
   ]
  },
  {
   "cell_type": "code",
   "execution_count": 49,
   "metadata": {},
   "outputs": [],
   "source": [
    "creating_datasets(dataset_names=sashimi_train_names,\n",
    "                 dst_dir='../src/food-101/',\n",
    "                 type_dir='train',\n",
    "                 category='sashimi')"
   ]
  },
  {
   "cell_type": "code",
   "execution_count": 50,
   "metadata": {},
   "outputs": [],
   "source": [
    "creating_datasets(dataset_names=sashimi_val_names,\n",
    "                 dst_dir='../src/food-101/',\n",
    "                 type_dir='validation',\n",
    "                 category='sashimi')"
   ]
  },
  {
   "cell_type": "code",
   "execution_count": 51,
   "metadata": {},
   "outputs": [],
   "source": [
    "creating_datasets(dataset_names=sashimi_test_names,\n",
    "                 dst_dir='../src/food-101/',\n",
    "                 type_dir='test',\n",
    "                 category='sashimi')"
   ]
  },
  {
   "cell_type": "code",
   "execution_count": 52,
   "metadata": {},
   "outputs": [],
   "source": [
    "creating_datasets(dataset_names=spaghetti_bol_train_names,\n",
    "                 dst_dir='../src/food-101/',\n",
    "                 type_dir='train',\n",
    "                 category='spaghetti_bol')"
   ]
  },
  {
   "cell_type": "code",
   "execution_count": 53,
   "metadata": {},
   "outputs": [],
   "source": [
    "creating_datasets(dataset_names=spaghetti_bol_val_names,\n",
    "                 dst_dir='../src/food-101/',\n",
    "                 type_dir='validation',\n",
    "                 category='spaghetti_bol')"
   ]
  },
  {
   "cell_type": "code",
   "execution_count": 54,
   "metadata": {},
   "outputs": [],
   "source": [
    "creating_datasets(dataset_names=spaghetti_bol_test_names,\n",
    "                 dst_dir='../src/food-101/',\n",
    "                 type_dir='test',\n",
    "                 category='spaghetti_bol')"
   ]
  },
  {
   "cell_type": "code",
   "execution_count": 55,
   "metadata": {},
   "outputs": [],
   "source": [
    "train_datagen = ImageDataGenerator(rescale=1./255)\n",
    "test_datagen = ImageDataGenerator(rescale=1./255)"
   ]
  },
  {
   "cell_type": "code",
   "execution_count": 56,
   "metadata": {},
   "outputs": [
    {
     "data": {
      "text/plain": [
       "'../src/food-101/train'"
      ]
     },
     "execution_count": 56,
     "metadata": {},
     "output_type": "execute_result"
    }
   ],
   "source": [
    "train_dir"
   ]
  },
  {
   "cell_type": "code",
   "execution_count": 57,
   "metadata": {},
   "outputs": [
    {
     "name": "stdout",
     "output_type": "stream",
     "text": [
      "Found 1400 images belonging to 2 classes.\n"
     ]
    }
   ],
   "source": [
    "train_generator = train_datagen.flow_from_directory(\n",
    "                                train_dir,\n",
    "                                target_size=(150, 150), # resize all images to 150 x 150\n",
    "                                batch_size=20,\n",
    "                                class_mode='binary')"
   ]
  },
  {
   "cell_type": "code",
   "execution_count": 58,
   "metadata": {},
   "outputs": [
    {
     "name": "stdout",
     "output_type": "stream",
     "text": [
      "Found 300 images belonging to 2 classes.\n"
     ]
    }
   ],
   "source": [
    "validation_generator = test_datagen.flow_from_directory(\n",
    "                                validation_dir,\n",
    "                                target_size=(150, 150),\n",
    "                                batch_size=20,\n",
    "                                class_mode='binary')"
   ]
  },
  {
   "cell_type": "code",
   "execution_count": 59,
   "metadata": {},
   "outputs": [],
   "source": [
    "from keras import layers\n",
    "from keras import models\n",
    "\n",
    "# Features extractor\n",
    "model = models.Sequential()\n",
    "model.add(layers.Conv2D(32, (3, 3), activation='relu',\n",
    "                       input_shape=(150, 150, 3)))\n",
    "model.add(layers.MaxPooling2D((2, 2)))\n",
    "model.add(layers.Conv2D(64, (3, 3), activation='relu'))\n",
    "model.add(layers.MaxPooling2D((2, 2)))\n",
    "model.add(layers.Conv2D(128, (3, 3), activation='relu'))\n",
    "model.add(layers.MaxPooling2D((2, 2)))\n",
    "model.add(layers.Conv2D(128, (3, 3), activation='relu'))\n",
    "model.add(layers.MaxPooling2D((2, 2)))"
   ]
  },
  {
   "cell_type": "code",
   "execution_count": 60,
   "metadata": {},
   "outputs": [],
   "source": [
    "# Classifier\n",
    "model.add(layers.Flatten())\n",
    "model.add(layers.Dense(512, activation='relu'))\n",
    "model.add(layers.Dense(1, activation='sigmoid'))"
   ]
  },
  {
   "cell_type": "code",
   "execution_count": 61,
   "metadata": {},
   "outputs": [
    {
     "name": "stdout",
     "output_type": "stream",
     "text": [
      "Model: \"sequential_7\"\n",
      "_________________________________________________________________\n",
      "Layer (type)                 Output Shape              Param #   \n",
      "=================================================================\n",
      "conv2d_13 (Conv2D)           (None, 148, 148, 32)      896       \n",
      "_________________________________________________________________\n",
      "max_pooling2d_9 (MaxPooling2 (None, 74, 74, 32)        0         \n",
      "_________________________________________________________________\n",
      "conv2d_14 (Conv2D)           (None, 72, 72, 64)        18496     \n",
      "_________________________________________________________________\n",
      "max_pooling2d_10 (MaxPooling (None, 36, 36, 64)        0         \n",
      "_________________________________________________________________\n",
      "conv2d_15 (Conv2D)           (None, 34, 34, 128)       73856     \n",
      "_________________________________________________________________\n",
      "max_pooling2d_11 (MaxPooling (None, 17, 17, 128)       0         \n",
      "_________________________________________________________________\n",
      "conv2d_16 (Conv2D)           (None, 15, 15, 128)       147584    \n",
      "_________________________________________________________________\n",
      "max_pooling2d_12 (MaxPooling (None, 7, 7, 128)         0         \n",
      "_________________________________________________________________\n",
      "flatten_1 (Flatten)          (None, 6272)              0         \n",
      "_________________________________________________________________\n",
      "dense_2 (Dense)              (None, 512)               3211776   \n",
      "_________________________________________________________________\n",
      "dense_3 (Dense)              (None, 1)                 513       \n",
      "=================================================================\n",
      "Total params: 3,453,121\n",
      "Trainable params: 3,453,121\n",
      "Non-trainable params: 0\n",
      "_________________________________________________________________\n"
     ]
    }
   ],
   "source": [
    "model.summary()"
   ]
  },
  {
   "cell_type": "code",
   "execution_count": 62,
   "metadata": {},
   "outputs": [],
   "source": [
    "from keras import optimizers\n",
    "\n",
    "model.compile(loss='binary_crossentropy',\n",
    "             optimizer=optimizers.RMSprop(lr=1e-4),\n",
    "             metrics=['acc'])"
   ]
  },
  {
   "cell_type": "code",
   "execution_count": 63,
   "metadata": {},
   "outputs": [
    {
     "name": "stderr",
     "output_type": "stream",
     "text": [
      "/Users/alessandrobiagi/anaconda3/lib/python3.7/site-packages/tensorflow/python/keras/engine/training.py:1844: UserWarning: `Model.fit_generator` is deprecated and will be removed in a future version. Please use `Model.fit`, which supports generators.\n",
      "  warnings.warn('`Model.fit_generator` is deprecated and '\n"
     ]
    },
    {
     "name": "stdout",
     "output_type": "stream",
     "text": [
      "Epoch 1/30\n",
      "70/70 [==============================] - 31s 433ms/step - loss: 0.6319 - acc: 0.6344 - val_loss: 0.4521 - val_acc: 0.7900\n",
      "Epoch 2/30\n",
      "70/70 [==============================] - 31s 438ms/step - loss: 0.4275 - acc: 0.8052 - val_loss: 0.3705 - val_acc: 0.8533\n",
      "Epoch 3/30\n",
      "70/70 [==============================] - 31s 438ms/step - loss: 0.3141 - acc: 0.8736 - val_loss: 0.2717 - val_acc: 0.8900\n",
      "Epoch 4/30\n",
      "70/70 [==============================] - 31s 438ms/step - loss: 0.2681 - acc: 0.8880 - val_loss: 0.2800 - val_acc: 0.8900\n",
      "Epoch 5/30\n",
      "70/70 [==============================] - 31s 435ms/step - loss: 0.2327 - acc: 0.9037 - val_loss: 0.2197 - val_acc: 0.9133\n",
      "Epoch 6/30\n",
      "70/70 [==============================] - 32s 464ms/step - loss: 0.2230 - acc: 0.9058 - val_loss: 0.2551 - val_acc: 0.8967\n",
      "Epoch 7/30\n",
      "70/70 [==============================] - 33s 469ms/step - loss: 0.2326 - acc: 0.9178 - val_loss: 0.2145 - val_acc: 0.9167\n",
      "Epoch 8/30\n",
      "70/70 [==============================] - 32s 451ms/step - loss: 0.1697 - acc: 0.9349 - val_loss: 0.2038 - val_acc: 0.9267\n",
      "Epoch 9/30\n",
      "70/70 [==============================] - 31s 443ms/step - loss: 0.1658 - acc: 0.9354 - val_loss: 0.2007 - val_acc: 0.9300\n",
      "Epoch 10/30\n",
      "70/70 [==============================] - 31s 447ms/step - loss: 0.1441 - acc: 0.9385 - val_loss: 0.2183 - val_acc: 0.9233\n",
      "Epoch 11/30\n",
      "70/70 [==============================] - 31s 444ms/step - loss: 0.1453 - acc: 0.9423 - val_loss: 0.2771 - val_acc: 0.8967\n",
      "Epoch 12/30\n",
      "70/70 [==============================] - 31s 449ms/step - loss: 0.1404 - acc: 0.9467 - val_loss: 0.2602 - val_acc: 0.8833\n",
      "Epoch 13/30\n",
      "70/70 [==============================] - 32s 463ms/step - loss: 0.1341 - acc: 0.9576 - val_loss: 0.4285 - val_acc: 0.8633\n",
      "Epoch 14/30\n",
      "70/70 [==============================] - 33s 465ms/step - loss: 0.1404 - acc: 0.9438 - val_loss: 0.2546 - val_acc: 0.9167\n",
      "Epoch 15/30\n",
      "70/70 [==============================] - 32s 462ms/step - loss: 0.1052 - acc: 0.9646 - val_loss: 0.2014 - val_acc: 0.9300\n",
      "Epoch 16/30\n",
      "70/70 [==============================] - 32s 461ms/step - loss: 0.1014 - acc: 0.9715 - val_loss: 0.2762 - val_acc: 0.9100\n",
      "Epoch 17/30\n",
      "70/70 [==============================] - 34s 480ms/step - loss: 0.0821 - acc: 0.9754 - val_loss: 0.1809 - val_acc: 0.9300\n",
      "Epoch 18/30\n",
      "70/70 [==============================] - 32s 460ms/step - loss: 0.0735 - acc: 0.9822 - val_loss: 0.1896 - val_acc: 0.9167\n",
      "Epoch 19/30\n",
      "70/70 [==============================] - 33s 470ms/step - loss: 0.0664 - acc: 0.9793 - val_loss: 0.2039 - val_acc: 0.9200\n",
      "Epoch 20/30\n",
      "70/70 [==============================] - 33s 471ms/step - loss: 0.0643 - acc: 0.9746 - val_loss: 0.1980 - val_acc: 0.9233\n",
      "Epoch 21/30\n",
      "70/70 [==============================] - 34s 485ms/step - loss: 0.0449 - acc: 0.9900 - val_loss: 0.2036 - val_acc: 0.9200\n",
      "Epoch 22/30\n",
      "70/70 [==============================] - 31s 442ms/step - loss: 0.0523 - acc: 0.9869 - val_loss: 0.2705 - val_acc: 0.9100\n",
      "Epoch 23/30\n",
      "70/70 [==============================] - 31s 443ms/step - loss: 0.0615 - acc: 0.9745 - val_loss: 0.2080 - val_acc: 0.9467\n",
      "Epoch 24/30\n",
      "70/70 [==============================] - 31s 444ms/step - loss: 0.0359 - acc: 0.9926 - val_loss: 0.2064 - val_acc: 0.9400\n",
      "Epoch 25/30\n",
      "70/70 [==============================] - 31s 444ms/step - loss: 0.0267 - acc: 0.9946 - val_loss: 0.2393 - val_acc: 0.9267\n",
      "Epoch 26/30\n",
      "70/70 [==============================] - 30s 432ms/step - loss: 0.0461 - acc: 0.9852 - val_loss: 0.2308 - val_acc: 0.9267\n",
      "Epoch 27/30\n",
      "70/70 [==============================] - 30s 431ms/step - loss: 0.0279 - acc: 0.9914 - val_loss: 0.4548 - val_acc: 0.8867\n",
      "Epoch 28/30\n",
      "70/70 [==============================] - 30s 430ms/step - loss: 0.0522 - acc: 0.9769 - val_loss: 0.3573 - val_acc: 0.9033\n",
      "Epoch 29/30\n",
      "70/70 [==============================] - 30s 433ms/step - loss: 0.0243 - acc: 0.9934 - val_loss: 0.2192 - val_acc: 0.9433\n",
      "Epoch 30/30\n",
      "70/70 [==============================] - 31s 439ms/step - loss: 0.0135 - acc: 0.9971 - val_loss: 0.5808 - val_acc: 0.8767\n"
     ]
    }
   ],
   "source": [
    "history = model.fit_generator(\n",
    "                train_generator,\n",
    "                steps_per_epoch=70,\n",
    "                epochs=30,\n",
    "                validation_data=validation_generator,\n",
    "                validation_steps=15)"
   ]
  },
  {
   "cell_type": "code",
   "execution_count": 64,
   "metadata": {},
   "outputs": [],
   "source": [
    "model.save('../models/conv_net_20201228_1.h5')"
   ]
  },
  {
   "cell_type": "code",
   "execution_count": 67,
   "metadata": {},
   "outputs": [
    {
     "data": {
      "text/plain": [
       "{'loss': [0.5732683539390564,\n",
       "  0.401833176612854,\n",
       "  0.31424033641815186,\n",
       "  0.2526271641254425,\n",
       "  0.21427729725837708,\n",
       "  0.21375614404678345,\n",
       "  0.2059619426727295,\n",
       "  0.1875188946723938,\n",
       "  0.16028593480587006,\n",
       "  0.1614397168159485,\n",
       "  0.14478081464767456,\n",
       "  0.13128234446048737,\n",
       "  0.13172204792499542,\n",
       "  0.12265979498624802,\n",
       "  0.10888516902923584,\n",
       "  0.1039871871471405,\n",
       "  0.09312955290079117,\n",
       "  0.08908472955226898,\n",
       "  0.07202228903770447,\n",
       "  0.07798997312784195,\n",
       "  0.0498427152633667,\n",
       "  0.04982469975948334,\n",
       "  0.05827052891254425,\n",
       "  0.04058379679918289,\n",
       "  0.03943557292222977,\n",
       "  0.046411819756031036,\n",
       "  0.03021511621773243,\n",
       "  0.02880350686609745,\n",
       "  0.04199346527457237,\n",
       "  0.01756606437265873],\n",
       " 'acc': [0.6985714435577393,\n",
       "  0.8199999928474426,\n",
       "  0.8692857027053833,\n",
       "  0.8999999761581421,\n",
       "  0.9157142639160156,\n",
       "  0.9221428632736206,\n",
       "  0.925000011920929,\n",
       "  0.9257143139839172,\n",
       "  0.9399999976158142,\n",
       "  0.9364285469055176,\n",
       "  0.941428542137146,\n",
       "  0.949999988079071,\n",
       "  0.9571428298950195,\n",
       "  0.9549999833106995,\n",
       "  0.9642857313156128,\n",
       "  0.9635714292526245,\n",
       "  0.9671428799629211,\n",
       "  0.9700000286102295,\n",
       "  0.9728571176528931,\n",
       "  0.9721428751945496,\n",
       "  0.9864285588264465,\n",
       "  0.9835714101791382,\n",
       "  0.9778571724891663,\n",
       "  0.9878571629524231,\n",
       "  0.9892857074737549,\n",
       "  0.9857142567634583,\n",
       "  0.9900000095367432,\n",
       "  0.9900000095367432,\n",
       "  0.9864285588264465,\n",
       "  0.9942857027053833],\n",
       " 'val_loss': [0.4521472156047821,\n",
       "  0.3704789876937866,\n",
       "  0.27172425389289856,\n",
       "  0.28004613518714905,\n",
       "  0.21970494091510773,\n",
       "  0.25508996844291687,\n",
       "  0.2145259529352188,\n",
       "  0.20376582443714142,\n",
       "  0.20067530870437622,\n",
       "  0.21826650202274323,\n",
       "  0.2771081328392029,\n",
       "  0.2601972818374634,\n",
       "  0.4284580945968628,\n",
       "  0.25462082028388977,\n",
       "  0.2013905644416809,\n",
       "  0.2761642336845398,\n",
       "  0.18088650703430176,\n",
       "  0.18958780169487,\n",
       "  0.20393341779708862,\n",
       "  0.19795268774032593,\n",
       "  0.20360620319843292,\n",
       "  0.2705337405204773,\n",
       "  0.20801889896392822,\n",
       "  0.20641179382801056,\n",
       "  0.23927566409111023,\n",
       "  0.23079882562160492,\n",
       "  0.45478036999702454,\n",
       "  0.35732683539390564,\n",
       "  0.21922877430915833,\n",
       "  0.5808449983596802],\n",
       " 'val_acc': [0.7900000214576721,\n",
       "  0.8533333539962769,\n",
       "  0.8899999856948853,\n",
       "  0.8899999856948853,\n",
       "  0.9133333563804626,\n",
       "  0.8966666460037231,\n",
       "  0.9166666865348816,\n",
       "  0.9266666769981384,\n",
       "  0.9300000071525574,\n",
       "  0.9233333468437195,\n",
       "  0.8966666460037231,\n",
       "  0.8833333253860474,\n",
       "  0.8633333444595337,\n",
       "  0.9166666865348816,\n",
       "  0.9300000071525574,\n",
       "  0.9100000262260437,\n",
       "  0.9300000071525574,\n",
       "  0.9166666865348816,\n",
       "  0.9200000166893005,\n",
       "  0.9233333468437195,\n",
       "  0.9200000166893005,\n",
       "  0.9100000262260437,\n",
       "  0.9466666579246521,\n",
       "  0.9399999976158142,\n",
       "  0.9266666769981384,\n",
       "  0.9266666769981384,\n",
       "  0.8866666555404663,\n",
       "  0.903333306312561,\n",
       "  0.9433333277702332,\n",
       "  0.8766666650772095]}"
      ]
     },
     "execution_count": 67,
     "metadata": {},
     "output_type": "execute_result"
    }
   ],
   "source": [
    "history.history"
   ]
  },
  {
   "cell_type": "code",
   "execution_count": 66,
   "metadata": {},
   "outputs": [
    {
     "data": {
      "image/png": "[encoded data removed]",
      "text/plain": [
       "<Figure size 432x288 with 1 Axes>"
      ]
     },
     "metadata": {
      "needs_background": "light"
     },
     "output_type": "display_data"
    },
    {
     "data": {
      "image/png": "[encoded data removed]",
      "text/plain": [
       "<Figure size 432x288 with 1 Axes>"
      ]
     },
     "metadata": {
      "needs_background": "light"
     },
     "output_type": "display_data"
    }
   ],
   "source": [
    "import matplotlib.pyplot as plt\n",
    "\n",
    "acc = history.history['acc']\n",
    "val_acc = history.history['val_acc']\n",
    "loss = history.history['loss']\n",
    "val_loss = history.history['val_loss']\n",
    "\n",
    "epochs = range(1, len(acc) + 1)\n",
    "\n",
    "plt.plot(epochs, acc, 'bo', label='Training acc')\n",
    "plt.plot(epochs, val_acc, 'b', label='Validation acc')\n",
    "plt.title('Training and validation accuracy')\n",
    "plt.legend()\n",
    "\n",
    "plt.figure()\n",
    "\n",
    "plt.plot(epochs, loss, 'bo', label='Training loss')\n",
    "plt.plot(epochs, val_loss, 'b', label='Validation loss')\n",
    "plt.title('Training and validation loss')\n",
    "plt.legend()\n",
    "\n",
    "plt.show()"
   ]
  },
  {
   "cell_type": "code",
   "execution_count": null,
   "metadata": {},
   "outputs": [],
   "source": []
  }
 ],
 "metadata": {
  "kernelspec": {
   "display_name": "Python 3",
   "language": "python",
   "name": "python3"
  },
  "language_info": {
   "codemirror_mode": {
    "name": "ipython",
    "version": 3
   },
   "file_extension": ".py",
   "mimetype": "text/x-python",
   "name": "python",
   "nbconvert_exporter": "python",
   "pygments_lexer": "ipython3",
   "version": "3.7.3"
  }
 },
 "nbformat": 4,
 "nbformat_minor": 4
}
